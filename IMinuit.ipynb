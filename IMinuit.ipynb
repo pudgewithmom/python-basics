{
  "cells": [
    {
      "cell_type": "markdown",
      "metadata": {
        "id": "view-in-github",
        "colab_type": "text"
      },
      "source": [
        "<a href=\"https://colab.research.google.com/github/pudgewithmom/python-basics/blob/main/IMinuit.ipynb\" target=\"_parent\"><img src=\"https://colab.research.google.com/assets/colab-badge.svg\" alt=\"Open In Colab\"/></a>"
      ]
    },
    {
      "cell_type": "markdown",
      "metadata": {
        "id": "xABoU7CxypUr"
      },
      "source": [
        "# IMinuit\n",
        "\n",
        "Minuit - программа численной минимизации функций многих переменных, широко применяемая в физике элементарных частиц. Есть два питонских интерфейса, PyMinuit и IMinuit (он особенно удобен в ipython).\n",
        "\n",
        "* iminuit — это интерфейс Python для пакета MINUIT2 C++ ( стандартный инструмент в CERN ) .\n",
        "* Сводит к минимуму многовариантную функцию с дополнительными ограничениями поля\n",
        "* Анализ неопределенностей : вычисляет ковариационную матрицу или контур правдоподобия профиля."
      ]
    },
    {
      "cell_type": "code",
      "source": [
        "!pip install iminuit"
      ],
      "metadata": {
        "colab": {
          "base_uri": "https://localhost:8080/"
        },
        "id": "KUdZa_xNzP8L",
        "outputId": "d2612156-bc46-4e71-e522-a08f5e23208f"
      },
      "execution_count": 2,
      "outputs": [
        {
          "output_type": "stream",
          "name": "stdout",
          "text": [
            "Looking in indexes: https://pypi.org/simple, https://us-python.pkg.dev/colab-wheels/public/simple/\n",
            "Collecting iminuit\n",
            "  Downloading iminuit-2.17.0-cp38-cp38-manylinux_2_12_x86_64.manylinux2010_x86_64.whl (348 kB)\n",
            "\u001b[K     |████████████████████████████████| 348 kB 5.3 MB/s \n",
            "\u001b[?25hRequirement already satisfied: numpy in /usr/local/lib/python3.8/dist-packages (from iminuit) (1.21.6)\n",
            "Installing collected packages: iminuit\n",
            "Successfully installed iminuit-2.17.0\n"
          ]
        }
      ]
    },
    {
      "cell_type": "code",
      "execution_count": 3,
      "metadata": {
        "colab": {
          "base_uri": "https://localhost:8080/"
        },
        "id": "seWH1c5-ypUu",
        "outputId": "cb2e3d57-8f2c-4bad-c1c9-772ae9f8c9f0"
      },
      "outputs": [
        {
          "output_type": "stream",
          "name": "stdout",
          "text": [
            "Populating the interactive namespace from numpy and matplotlib\n"
          ]
        }
      ],
      "source": [
        "from iminuit import Minuit\n",
        "import numpy as np\n",
        "from matplotlib import pyplot as plt\n",
        "%pylab inline"
      ]
    },
    {
      "cell_type": "markdown",
      "metadata": {
        "id": "Ma7J3V0yypUw"
      },
      "source": [
        "## Простой пример\n",
        "\n",
        "Определим квадратичную функцию от двух параметров."
      ]
    },
    {
      "cell_type": "code",
      "execution_count": null,
      "metadata": {
        "collapsed": true,
        "id": "pVC-VNV5ypUw"
      },
      "outputs": [],
      "source": [
        "def f(a,b):\n",
        "    return 10*a**2+10*b**2-16*a*b+12*a-24*b"
      ]
    },
    {
      "cell_type": "code",
      "source": [
        "from iminuit import Minuit, describe\n",
        "describe(f)"
      ],
      "metadata": {
        "colab": {
          "base_uri": "https://localhost:8080/"
        },
        "id": "x_AdZ_PB1KUZ",
        "outputId": "6252e0ea-c2b4-4ed9-de88-8f0690dcd8f3"
      },
      "execution_count": null,
      "outputs": [
        {
          "output_type": "execute_result",
          "data": {
            "text/plain": [
              "['a', 'b']"
            ]
          },
          "metadata": {},
          "execution_count": 32
        }
      ]
    },
    {
      "cell_type": "markdown",
      "metadata": {
        "id": "hn6g18hdypUx"
      },
      "source": [
        "Создадим объект класса `Minuit`. `a` и `b` - грубые догадки, около чего надо искать минимум; `error_a` и `error_b` - оценки точности этих догадок (в начале минимизации программа будет делать шаги порядка этих величин, потом они будут уменьшаться). Пределы изменения задавать не обязательно. Валичина `errordef` показывает, насколько функция должна быть выше своего минимума, чтобы это считалось отклонением на одну сигму; поскольку минимизируемая функция - это, как правило, $\\chi^2$, значение 1 по умолчанию вполне годится."
      ]
    },
    {
      "cell_type": "code",
      "execution_count": null,
      "metadata": {
        "id": "Mr8S0FF_ypUx"
      },
      "outputs": [],
      "source": [
        "from iminuit import Minuit\n",
        "\n",
        "m=Minuit(f, a=5, b=5)\n",
        "# set step size with error_<name>=... keyword\n",
        "#m=Minuit(f, a=5, b=5, error_a=0.1, error_b=0.1)\n",
        "#m=Minuit(f,a=0,error_a=1,limit_a=(-10, 10), b=0,error_b=1,limit_b=(-10, 10))"
      ]
    },
    {
      "cell_type": "markdown",
      "metadata": {
        "id": "nMKb72hwypUx"
      },
      "source": [
        "Наиболее популярный метод минимизации - `migrad`."
      ]
    },
    {
      "cell_type": "code",
      "execution_count": null,
      "metadata": {
        "colab": {
          "base_uri": "https://localhost:8080/",
          "height": 279
        },
        "id": "S_qUyY3iypUx",
        "outputId": "6e7d0b00-cdf5-476e-c2bd-a53881e76aac"
      },
      "outputs": [
        {
          "output_type": "execute_result",
          "data": {
            "text/plain": [
              "┌─────────────────────────────────────────────────────────────────────────┐\n",
              "│                                Migrad                                   │\n",
              "├──────────────────────────────────┬──────────────────────────────────────┤\n",
              "│ FCN = -18                        │              Nfcn = 31               │\n",
              "│ EDM = 1.25e-20 (Goal: 0.0002)    │                                      │\n",
              "├──────────────────────────────────┼──────────────────────────────────────┤\n",
              "│          Valid Minimum           │        No Parameters at limit        │\n",
              "├──────────────────────────────────┼──────────────────────────────────────┤\n",
              "│ Below EDM threshold (goal x 10)  │           Below call limit           │\n",
              "├───────────────┬──────────────────┼───────────┬─────────────┬────────────┤\n",
              "│  Covariance   │     Hesse ok     │ Accurate  │  Pos. def.  │ Not forced │\n",
              "└───────────────┴──────────────────┴───────────┴─────────────┴────────────┘\n",
              "┌───┬──────┬───────────┬───────────┬────────────┬────────────┬─────────┬─────────┬───────┐\n",
              "│   │ Name │   Value   │ Hesse Err │ Minos Err- │ Minos Err+ │ Limit-  │ Limit+  │ Fixed │\n",
              "├───┼──────┼───────────┼───────────┼────────────┼────────────┼─────────┼─────────┼───────┤\n",
              "│ 0 │ a    │    1.0    │    0.5    │            │            │         │         │       │\n",
              "│ 1 │ b    │    2.0    │    0.5    │            │            │         │         │       │\n",
              "└───┴──────┴───────────┴───────────┴────────────┴────────────┴─────────┴─────────┴───────┘\n",
              "┌───┬─────────────┐\n",
              "│   │     a     b │\n",
              "├───┼─────────────┤\n",
              "│ a │ 0.278 0.222 │\n",
              "│ b │ 0.222 0.278 │\n",
              "└───┴─────────────┘"
            ],
            "text/html": [
              "<table>\n",
              "    <tr>\n",
              "        <th colspan=\"5\" style=\"text-align:center\" title=\"Minimizer\"> Migrad </th>\n",
              "    </tr>\n",
              "    <tr>\n",
              "        <td colspan=\"2\" style=\"text-align:left\" title=\"Minimum value of function\"> FCN = -18 </td>\n",
              "        <td colspan=\"3\" style=\"text-align:center\" title=\"Total number of function and (optional) gradient evaluations\"> Nfcn = 31 </td>\n",
              "    </tr>\n",
              "    <tr>\n",
              "        <td colspan=\"2\" style=\"text-align:left\" title=\"Estimated distance to minimum and goal\"> EDM = 1.25e-20 (Goal: 0.0002) </td>\n",
              "        <td colspan=\"3\" style=\"text-align:center\" title=\"Total run time of algorithms\">  </td>\n",
              "    </tr>\n",
              "    <tr>\n",
              "        <td colspan=\"2\" style=\"text-align:center;background-color:#92CCA6;color:black\"> Valid Minimum </td>\n",
              "        <td colspan=\"3\" style=\"text-align:center;background-color:#92CCA6;color:black\"> No Parameters at limit </td>\n",
              "    </tr>\n",
              "    <tr>\n",
              "        <td colspan=\"2\" style=\"text-align:center;background-color:#92CCA6;color:black\"> Below EDM threshold (goal x 10) </td>\n",
              "        <td colspan=\"3\" style=\"text-align:center;background-color:#92CCA6;color:black\"> Below call limit </td>\n",
              "    </tr>\n",
              "    <tr>\n",
              "        <td style=\"text-align:center;background-color:#92CCA6;color:black\"> Covariance </td>\n",
              "        <td style=\"text-align:center;background-color:#92CCA6;color:black\"> Hesse ok </td>\n",
              "        <td style=\"text-align:center;background-color:#92CCA6;color:black\" title=\"Is covariance matrix accurate?\"> Accurate </td>\n",
              "        <td style=\"text-align:center;background-color:#92CCA6;color:black\" title=\"Is covariance matrix positive definite?\"> Pos. def. </td>\n",
              "        <td style=\"text-align:center;background-color:#92CCA6;color:black\" title=\"Was positive definiteness enforced by Minuit?\"> Not forced </td>\n",
              "    </tr>\n",
              "</table><table>\n",
              "    <tr>\n",
              "        <td></td>\n",
              "        <th title=\"Variable name\"> Name </th>\n",
              "        <th title=\"Value of parameter\"> Value </th>\n",
              "        <th title=\"Hesse error\"> Hesse Error </th>\n",
              "        <th title=\"Minos lower error\"> Minos Error- </th>\n",
              "        <th title=\"Minos upper error\"> Minos Error+ </th>\n",
              "        <th title=\"Lower limit of the parameter\"> Limit- </th>\n",
              "        <th title=\"Upper limit of the parameter\"> Limit+ </th>\n",
              "        <th title=\"Is the parameter fixed in the fit\"> Fixed </th>\n",
              "    </tr>\n",
              "    <tr>\n",
              "        <th> 0 </th>\n",
              "        <td> a </td>\n",
              "        <td> 1.0 </td>\n",
              "        <td> 0.5 </td>\n",
              "        <td>  </td>\n",
              "        <td>  </td>\n",
              "        <td>  </td>\n",
              "        <td>  </td>\n",
              "        <td>  </td>\n",
              "    </tr>\n",
              "    <tr>\n",
              "        <th> 1 </th>\n",
              "        <td> b </td>\n",
              "        <td> 2.0 </td>\n",
              "        <td> 0.5 </td>\n",
              "        <td>  </td>\n",
              "        <td>  </td>\n",
              "        <td>  </td>\n",
              "        <td>  </td>\n",
              "        <td>  </td>\n",
              "    </tr>\n",
              "</table><table>\n",
              "    <tr>\n",
              "        <td></td>\n",
              "        <th> a </th>\n",
              "        <th> b </th>\n",
              "    </tr>\n",
              "    <tr>\n",
              "        <th> a </th>\n",
              "        <td> 0.278 </td>\n",
              "        <td style=\"background-color:rgb(250,130,130);color:black\"> 0.222 <strong>(0.800)</strong> </td>\n",
              "    </tr>\n",
              "    <tr>\n",
              "        <th> b </th>\n",
              "        <td style=\"background-color:rgb(250,130,130);color:black\"> 0.222 <strong>(0.800)</strong> </td>\n",
              "        <td> 0.278 </td>\n",
              "    </tr>\n",
              "</table>"
            ]
          },
          "metadata": {},
          "execution_count": 34
        }
      ],
      "source": [
        "m.migrad()"
      ]
    },
    {
      "cell_type": "markdown",
      "metadata": {
        "id": "8z3wazbDypUy"
      },
      "source": [
        "Значения параметров."
      ]
    },
    {
      "cell_type": "code",
      "execution_count": null,
      "metadata": {
        "colab": {
          "base_uri": "https://localhost:8080/"
        },
        "id": "gdSI3T4HypUy",
        "outputId": "260b7f62-81ff-405e-f9a5-5910601be156"
      },
      "outputs": [
        {
          "output_type": "execute_result",
          "data": {
            "text/plain": [
              "<ValueView a=1.0000000000433014 b=2.0000000000541194>"
            ]
          },
          "metadata": {},
          "execution_count": 35
        }
      ],
      "source": [
        "m.values"
      ]
    },
    {
      "cell_type": "markdown",
      "metadata": {
        "id": "G6rbMkp0ypUy"
      },
      "source": [
        "Значение функции в точке минимума."
      ]
    },
    {
      "cell_type": "code",
      "execution_count": null,
      "metadata": {
        "colab": {
          "base_uri": "https://localhost:8080/"
        },
        "id": "7vqSMpoUypUy",
        "outputId": "6ae29a64-a309-4a7f-dae3-b05e4d65a6ce"
      },
      "outputs": [
        {
          "output_type": "execute_result",
          "data": {
            "text/plain": [
              "-17.999999999999996"
            ]
          },
          "metadata": {},
          "execution_count": 36
        }
      ],
      "source": [
        "m.fval"
      ]
    },
    {
      "cell_type": "markdown",
      "metadata": {
        "id": "Dqhc6ZSdypUz"
      },
      "source": [
        "Ошибки параметров."
      ]
    },
    {
      "cell_type": "code",
      "execution_count": null,
      "metadata": {
        "colab": {
          "base_uri": "https://localhost:8080/"
        },
        "id": "Lmv_fpVdypUz",
        "outputId": "a927e374-8603-4efc-e08c-dbc0691cdf32"
      },
      "outputs": [
        {
          "output_type": "execute_result",
          "data": {
            "text/plain": [
              "<ErrorView a=0.5270462767576469 b=0.5270462771827125>"
            ]
          },
          "metadata": {},
          "execution_count": 37
        }
      ],
      "source": [
        "m.errors"
      ]
    },
    {
      "cell_type": "code",
      "source": [
        "# calling hesse explicitly\n",
        "#явный вызов Гессе\n",
        "m.hesse()"
      ],
      "metadata": {
        "colab": {
          "base_uri": "https://localhost:8080/",
          "height": 279
        },
        "id": "Sz9rOx9E4DsI",
        "outputId": "1c2f8820-2dc4-49a9-ca46-9eed726dffd1"
      },
      "execution_count": null,
      "outputs": [
        {
          "output_type": "execute_result",
          "data": {
            "text/plain": [
              "┌─────────────────────────────────────────────────────────────────────────┐\n",
              "│                                Migrad                                   │\n",
              "├──────────────────────────────────┬──────────────────────────────────────┤\n",
              "│ FCN = -18                        │              Nfcn = 51               │\n",
              "│ EDM = 1.09e-20 (Goal: 0.0002)    │                                      │\n",
              "├──────────────────────────────────┼──────────────────────────────────────┤\n",
              "│          Valid Minimum           │        No Parameters at limit        │\n",
              "├──────────────────────────────────┼──────────────────────────────────────┤\n",
              "│ Below EDM threshold (goal x 10)  │           Below call limit           │\n",
              "├───────────────┬──────────────────┼───────────┬─────────────┬────────────┤\n",
              "│  Covariance   │     Hesse ok     │ Accurate  │  Pos. def.  │ Not forced │\n",
              "└───────────────┴──────────────────┴───────────┴─────────────┴────────────┘\n",
              "┌───┬──────┬───────────┬───────────┬────────────┬────────────┬─────────┬─────────┬───────┐\n",
              "│   │ Name │   Value   │ Hesse Err │ Minos Err- │ Minos Err+ │ Limit-  │ Limit+  │ Fixed │\n",
              "├───┼──────┼───────────┼───────────┼────────────┼────────────┼─────────┼─────────┼───────┤\n",
              "│ 0 │ a    │    1.0    │    0.5    │            │            │         │         │       │\n",
              "│ 1 │ b    │    2.0    │    0.5    │            │            │         │         │       │\n",
              "└───┴──────┴───────────┴───────────┴────────────┴────────────┴─────────┴─────────┴───────┘\n",
              "┌───┬─────────────┐\n",
              "│   │     a     b │\n",
              "├───┼─────────────┤\n",
              "│ a │ 0.278 0.222 │\n",
              "│ b │ 0.222 0.278 │\n",
              "└───┴─────────────┘"
            ],
            "text/html": [
              "<table>\n",
              "    <tr>\n",
              "        <th colspan=\"5\" style=\"text-align:center\" title=\"Minimizer\"> Migrad </th>\n",
              "    </tr>\n",
              "    <tr>\n",
              "        <td colspan=\"2\" style=\"text-align:left\" title=\"Minimum value of function\"> FCN = -18 </td>\n",
              "        <td colspan=\"3\" style=\"text-align:center\" title=\"Total number of function and (optional) gradient evaluations\"> Nfcn = 51 </td>\n",
              "    </tr>\n",
              "    <tr>\n",
              "        <td colspan=\"2\" style=\"text-align:left\" title=\"Estimated distance to minimum and goal\"> EDM = 1.09e-20 (Goal: 0.0002) </td>\n",
              "        <td colspan=\"3\" style=\"text-align:center\" title=\"Total run time of algorithms\">  </td>\n",
              "    </tr>\n",
              "    <tr>\n",
              "        <td colspan=\"2\" style=\"text-align:center;background-color:#92CCA6;color:black\"> Valid Minimum </td>\n",
              "        <td colspan=\"3\" style=\"text-align:center;background-color:#92CCA6;color:black\"> No Parameters at limit </td>\n",
              "    </tr>\n",
              "    <tr>\n",
              "        <td colspan=\"2\" style=\"text-align:center;background-color:#92CCA6;color:black\"> Below EDM threshold (goal x 10) </td>\n",
              "        <td colspan=\"3\" style=\"text-align:center;background-color:#92CCA6;color:black\"> Below call limit </td>\n",
              "    </tr>\n",
              "    <tr>\n",
              "        <td style=\"text-align:center;background-color:#92CCA6;color:black\"> Covariance </td>\n",
              "        <td style=\"text-align:center;background-color:#92CCA6;color:black\"> Hesse ok </td>\n",
              "        <td style=\"text-align:center;background-color:#92CCA6;color:black\" title=\"Is covariance matrix accurate?\"> Accurate </td>\n",
              "        <td style=\"text-align:center;background-color:#92CCA6;color:black\" title=\"Is covariance matrix positive definite?\"> Pos. def. </td>\n",
              "        <td style=\"text-align:center;background-color:#92CCA6;color:black\" title=\"Was positive definiteness enforced by Minuit?\"> Not forced </td>\n",
              "    </tr>\n",
              "</table><table>\n",
              "    <tr>\n",
              "        <td></td>\n",
              "        <th title=\"Variable name\"> Name </th>\n",
              "        <th title=\"Value of parameter\"> Value </th>\n",
              "        <th title=\"Hesse error\"> Hesse Error </th>\n",
              "        <th title=\"Minos lower error\"> Minos Error- </th>\n",
              "        <th title=\"Minos upper error\"> Minos Error+ </th>\n",
              "        <th title=\"Lower limit of the parameter\"> Limit- </th>\n",
              "        <th title=\"Upper limit of the parameter\"> Limit+ </th>\n",
              "        <th title=\"Is the parameter fixed in the fit\"> Fixed </th>\n",
              "    </tr>\n",
              "    <tr>\n",
              "        <th> 0 </th>\n",
              "        <td> a </td>\n",
              "        <td> 1.0 </td>\n",
              "        <td> 0.5 </td>\n",
              "        <td>  </td>\n",
              "        <td>  </td>\n",
              "        <td>  </td>\n",
              "        <td>  </td>\n",
              "        <td>  </td>\n",
              "    </tr>\n",
              "    <tr>\n",
              "        <th> 1 </th>\n",
              "        <td> b </td>\n",
              "        <td> 2.0 </td>\n",
              "        <td> 0.5 </td>\n",
              "        <td>  </td>\n",
              "        <td>  </td>\n",
              "        <td>  </td>\n",
              "        <td>  </td>\n",
              "        <td>  </td>\n",
              "    </tr>\n",
              "</table><table>\n",
              "    <tr>\n",
              "        <td></td>\n",
              "        <th> a </th>\n",
              "        <th> b </th>\n",
              "    </tr>\n",
              "    <tr>\n",
              "        <th> a </th>\n",
              "        <td> 0.278 </td>\n",
              "        <td style=\"background-color:rgb(250,130,130);color:black\"> 0.222 <strong>(0.800)</strong> </td>\n",
              "    </tr>\n",
              "    <tr>\n",
              "        <th> b </th>\n",
              "        <td style=\"background-color:rgb(250,130,130);color:black\"> 0.222 <strong>(0.800)</strong> </td>\n",
              "        <td> 0.278 </td>\n",
              "    </tr>\n",
              "</table>"
            ]
          },
          "metadata": {},
          "execution_count": 42
        }
      ]
    },
    {
      "cell_type": "markdown",
      "metadata": {
        "id": "_3TbOvgcypUz"
      },
      "source": [
        "Если, скажем, $a$ - наш окончательный физический результат, то мы напишем в статье $a=1\\pm0.5$. На самом деле у нас есть больше информации, поскольку ошибки $a$ и $b$ сильно скоррелированы. Матрица корреляции ошибок:"
      ]
    },
    {
      "cell_type": "code",
      "execution_count": null,
      "metadata": {
        "colab": {
          "base_uri": "https://localhost:8080/",
          "height": 435
        },
        "id": "akvHLyR5ypUz",
        "outputId": "fd6190d9-1c22-47cb-f71c-4cc4c89ad750"
      },
      "outputs": [
        {
          "output_type": "stream",
          "name": "stderr",
          "text": [
            "100% (3 of 3) |##########################| Elapsed Time: 0:00:00 Time:  0:00:00\n"
          ]
        },
        {
          "output_type": "execute_result",
          "data": {
            "text/plain": [
              "(<Figure size 432x288 with 4 Axes>,\n",
              " array([[<matplotlib.axes._subplots.AxesSubplot object at 0x7f2735e50350>,\n",
              "         <matplotlib.axes._subplots.AxesSubplot object at 0x7f272e3a7d50>],\n",
              "        [<matplotlib.axes._subplots.AxesSubplot object at 0x7f272e3623d0>,\n",
              "         <matplotlib.axes._subplots.AxesSubplot object at 0x7f272e31f910>]],\n",
              "       dtype=object))"
            ]
          },
          "metadata": {},
          "execution_count": 43
        },
        {
          "output_type": "display_data",
          "data": {
            "text/plain": [
              "<Figure size 432x288 with 4 Axes>"
            ],
            "image/png": "[encoded data removed]"
          },
          "metadata": {
            "needs_background": "light"
          }
        }
      ],
      "source": [
        "m.draw_mnmatrix()\n"
      ]
    },
    {
      "cell_type": "markdown",
      "metadata": {
        "id": "N2YVjV2bypUz"
      },
      "source": [
        "Минимизация квадратичной формы сводится к решению системы линейных уравнений, а матрица корреляции ошибок - обратная матрица этой системы. В таком простом случае не имеет смысла использовать инструмент минимизации произвольных функций, такой, как Minuit."
      ]
    },
    {
      "cell_type": "code",
      "execution_count": null,
      "metadata": {
        "colab": {
          "base_uri": "https://localhost:8080/"
        },
        "id": "MX5qhrCPypU0",
        "outputId": "f91100ef-e31d-4580-9e18-8094204eb1f6"
      },
      "outputs": [
        {
          "output_type": "execute_result",
          "data": {
            "text/plain": [
              "array([[0.27777778, 0.22222222],\n",
              "       [0.22222222, 0.27777778]])"
            ]
          },
          "metadata": {},
          "execution_count": 44
        }
      ],
      "source": [
        "M=array([[10.,-8.],[-8.,10.]])\n",
        "M=inv(M)\n",
        "M"
      ]
    },
    {
      "cell_type": "code",
      "execution_count": null,
      "metadata": {
        "colab": {
          "base_uri": "https://localhost:8080/"
        },
        "id": "ouCBZBUEypU0",
        "outputId": "90885ef0-5445-4791-8cea-693f9de270ae"
      },
      "outputs": [
        {
          "output_type": "execute_result",
          "data": {
            "text/plain": [
              "array([[1.],\n",
              "       [2.]])"
            ]
          },
          "metadata": {},
          "execution_count": 45
        }
      ],
      "source": [
        "M@array([[-6],[12]])"
      ]
    },
    {
      "cell_type": "markdown",
      "metadata": {
        "id": "kcNjQA_WypU1"
      },
      "source": [
        "Нарисуем контуры, соответствующие отклонению на 1, 2 и 3 сигмы от оптимальной точки."
      ]
    },
    {
      "cell_type": "code",
      "execution_count": null,
      "metadata": {
        "colab": {
          "base_uri": "https://localhost:8080/",
          "height": 165
        },
        "id": "l4wd_y3DypU1",
        "outputId": "6b5682e5-a8ae-445e-911f-b42bc26c2152"
      },
      "outputs": [
        {
          "output_type": "error",
          "ename": "TypeError",
          "evalue": "ignored",
          "traceback": [
            "\u001b[0;31m---------------------------------------------------------------------------\u001b[0m",
            "\u001b[0;31mTypeError\u001b[0m                                 Traceback (most recent call last)",
            "\u001b[0;32m<ipython-input-46-d3f6c120f48c>\u001b[0m in \u001b[0;36m<module>\u001b[0;34m\u001b[0m\n\u001b[0;32m----> 1\u001b[0;31m \u001b[0mm\u001b[0m\u001b[0;34m.\u001b[0m\u001b[0mdraw_mncontour\u001b[0m\u001b[0;34m(\u001b[0m\u001b[0;34m'a'\u001b[0m\u001b[0;34m,\u001b[0m\u001b[0;34m'b'\u001b[0m\u001b[0;34m,\u001b[0m\u001b[0mnsigma\u001b[0m\u001b[0;34m=\u001b[0m\u001b[0;36m3\u001b[0m\u001b[0;34m)\u001b[0m\u001b[0;34m\u001b[0m\u001b[0;34m\u001b[0m\u001b[0m\n\u001b[0m",
            "\u001b[0;31mTypeError\u001b[0m: draw_mncontour() got an unexpected keyword argument 'nsigma'"
          ]
        }
      ],
      "source": [
        "m.draw_mncontour('a','b',nsigma=3)"
      ]
    },
    {
      "cell_type": "markdown",
      "metadata": {
        "id": "SSVIyVeTypU1"
      },
      "source": [
        "То же в виде цветов."
      ]
    },
    {
      "cell_type": "code",
      "execution_count": null,
      "metadata": {
        "colab": {
          "base_uri": "https://localhost:8080/",
          "height": 200
        },
        "id": "QzFmt_lRypU1",
        "outputId": "528f068e-a958-496b-ecb4-289810ace4b2"
      },
      "outputs": [
        {
          "output_type": "error",
          "ename": "AttributeError",
          "evalue": "ignored",
          "traceback": [
            "\u001b[0;31m---------------------------------------------------------------------------\u001b[0m",
            "\u001b[0;31mAttributeError\u001b[0m                            Traceback (most recent call last)",
            "\u001b[0;32m<ipython-input-47-e0b51d94977e>\u001b[0m in \u001b[0;36m<module>\u001b[0;34m\u001b[0m\n\u001b[0;32m----> 1\u001b[0;31m \u001b[0ma\u001b[0m\u001b[0;34m,\u001b[0m\u001b[0mb\u001b[0m\u001b[0;34m,\u001b[0m\u001b[0mg\u001b[0m\u001b[0;34m,\u001b[0m\u001b[0mr\u001b[0m\u001b[0;34m=\u001b[0m\u001b[0mm\u001b[0m\u001b[0;34m.\u001b[0m\u001b[0mmncontour_grid\u001b[0m\u001b[0;34m(\u001b[0m\u001b[0;34m'a'\u001b[0m\u001b[0;34m,\u001b[0m\u001b[0;34m'b'\u001b[0m\u001b[0;34m,\u001b[0m\u001b[0mnsigma\u001b[0m\u001b[0;34m=\u001b[0m\u001b[0;36m3\u001b[0m\u001b[0;34m)\u001b[0m\u001b[0;34m\u001b[0m\u001b[0;34m\u001b[0m\u001b[0m\n\u001b[0m\u001b[1;32m      2\u001b[0m \u001b[0mpcolormesh\u001b[0m\u001b[0;34m(\u001b[0m\u001b[0ma\u001b[0m\u001b[0;34m,\u001b[0m\u001b[0mb\u001b[0m\u001b[0;34m,\u001b[0m\u001b[0mg\u001b[0m\u001b[0;34m)\u001b[0m\u001b[0;34m\u001b[0m\u001b[0;34m\u001b[0m\u001b[0m\n\u001b[1;32m      3\u001b[0m \u001b[0mcolorbar\u001b[0m\u001b[0;34m(\u001b[0m\u001b[0;34m)\u001b[0m\u001b[0;34m\u001b[0m\u001b[0;34m\u001b[0m\u001b[0m\n",
            "\u001b[0;31mAttributeError\u001b[0m: 'Minuit' object has no attribute 'mncontour_grid'"
          ]
        }
      ],
      "source": [
        "a,b,g,r=m.mncontour_grid('a','b',nsigma=3)\n",
        "pcolormesh(a,b,g)\n",
        "colorbar()"
      ]
    },
    {
      "cell_type": "markdown",
      "metadata": {
        "id": "09gBhhFXypU2"
      },
      "source": [
        "## Дайте мне 3 параметра, и я профитирую слона. С 4 параметрами он будет махать хоботом.\n",
        "\n",
        "Пусть у нас есть экспериментальные данные, и мы хотим профитировать их прямой."
      ]
    },
    {
      "cell_type": "code",
      "execution_count": null,
      "metadata": {
        "collapsed": true,
        "id": "xN5lJ92KypU2"
      },
      "outputs": [],
      "source": [
        "def fit(a,b,x):\n",
        "    return a*x+b"
      ]
    },
    {
      "cell_type": "markdown",
      "metadata": {
        "id": "GU1L552DypU2"
      },
      "source": [
        "Данные не настоящие, а сгенерированные. Все имеют ошибки 0.1."
      ]
    },
    {
      "cell_type": "code",
      "execution_count": null,
      "metadata": {
        "collapsed": true,
        "id": "mjI2QTwxypU2"
      },
      "outputs": [],
      "source": [
        "x=linspace(0,1,11)\n",
        "dy=0.1*ones(11)\n",
        "y=x+dy*normal(size=11)"
      ]
    },
    {
      "cell_type": "markdown",
      "metadata": {
        "id": "830mFSUFypU2"
      },
      "source": [
        "Функция $\\chi^2$."
      ]
    },
    {
      "cell_type": "code",
      "execution_count": null,
      "metadata": {
        "collapsed": true,
        "id": "txqsg-fOypU2"
      },
      "outputs": [],
      "source": [
        "def chi2(a,b):\n",
        "    global x,y,dy\n",
        "    return (((y-fit(a,b,x))/dy)**2).sum()"
      ]
    },
    {
      "cell_type": "markdown",
      "metadata": {
        "id": "5d7_ykivypU3"
      },
      "source": [
        "Минимизируем."
      ]
    },
    {
      "cell_type": "code",
      "execution_count": null,
      "metadata": {
        "id": "R-O8NI8sypU3"
      },
      "outputs": [],
      "source": [
        "m=Minuit(chi2,a=0,b=0,error_a=1,error_b=1)"
      ]
    },
    {
      "cell_type": "code",
      "execution_count": null,
      "metadata": {
        "id": "6d2keEj8ypU3"
      },
      "outputs": [],
      "source": [
        "m.migrad()"
      ]
    },
    {
      "cell_type": "code",
      "execution_count": null,
      "metadata": {
        "id": "K6oDPSbtypU3"
      },
      "outputs": [],
      "source": [
        "m.values"
      ]
    },
    {
      "cell_type": "code",
      "execution_count": null,
      "metadata": {
        "id": "mgZNDbsWypU3"
      },
      "outputs": [],
      "source": [
        "m.fval"
      ]
    },
    {
      "cell_type": "code",
      "execution_count": null,
      "metadata": {
        "id": "88ObCnxqypU4"
      },
      "outputs": [],
      "source": [
        "m.matrix()"
      ]
    },
    {
      "cell_type": "code",
      "execution_count": null,
      "metadata": {
        "id": "GsxEkbl0ypU4"
      },
      "outputs": [],
      "source": [
        "m.draw_mncontour('a','b',nsigma=3)"
      ]
    },
    {
      "cell_type": "code",
      "execution_count": null,
      "metadata": {
        "id": "vFrg8oTtypU4"
      },
      "outputs": [],
      "source": [
        "a,b,g,r=m.mncontour_grid('a','b',nsigma=3)\n",
        "pcolormesh(a,b,g)\n",
        "colorbar()"
      ]
    },
    {
      "cell_type": "markdown",
      "metadata": {
        "id": "_NGS0Th7ypU4"
      },
      "source": [
        "Нарисуем на одном графике экспериментальные точки, наш фит (сплошная линия) и истинную теоретическую кривую (пунктир)."
      ]
    },
    {
      "cell_type": "code",
      "execution_count": null,
      "metadata": {
        "id": "gshbvaywypU5"
      },
      "outputs": [],
      "source": [
        "errorbar(x,y,dy,fmt='ro')\n",
        "xt=linspace(0,1,101)\n",
        "plot(xt,fit(m.values['a'],m.values['b'],xt),'b-')\n",
        "plot(xt,fit(1,0,xt),'g--')"
      ]
    },
    {
      "cell_type": "markdown",
      "metadata": {
        "id": "hgPUfjM0ypU5"
      },
      "source": [
        "Когда фитирующая функция есть линейная комбинация каких-то фиксированных функций с неизвестными коэффициентами, минимизация $\\chi^2$ сводится к решению системы линейных уравнений. Нет надобности использовать Minuit.\n",
        "\n",
        "## Резонанс без фона\n",
        "\n",
        "Пусть теперь наша фитирующая функция - Брейт-Вигнеровский резонанс (без фона), с двумя параметрами - положением и шириной (лучше бы ввести третий - высоту, но я не стал этого делать для простоты). Теперь $\\chi^2$ - сложная нелинейная функция параметров."
      ]
    },
    {
      "cell_type": "code",
      "execution_count": null,
      "metadata": {
        "collapsed": true,
        "id": "6u7Be0GXypU5"
      },
      "outputs": [],
      "source": [
        "def fit(x0,Gamma,x):\n",
        "    return 1/((x-x0)**2+Gamma**2)"
      ]
    },
    {
      "cell_type": "markdown",
      "metadata": {
        "id": "QPI5P7nTypU5"
      },
      "source": [
        "Вот наши экспериментальные данные (с ошибками 0.1)."
      ]
    },
    {
      "cell_type": "code",
      "execution_count": null,
      "metadata": {
        "collapsed": true,
        "id": "3_1_5ISNypU5"
      },
      "outputs": [],
      "source": [
        "x=linspace(-3,3,21)\n",
        "dy=0.1*ones(21)\n",
        "y=fit(0,1,x)+dy*normal(size=21)"
      ]
    },
    {
      "cell_type": "markdown",
      "metadata": {
        "id": "y4RngFXRypU6"
      },
      "source": [
        "Минимизируем $\\chi^2$."
      ]
    },
    {
      "cell_type": "code",
      "execution_count": null,
      "metadata": {
        "collapsed": true,
        "id": "aCAsBy6AypU6"
      },
      "outputs": [],
      "source": [
        "def chi2(x0,Gamma):\n",
        "    global x,y,dy\n",
        "    return (((y-fit(x0,Gamma,x))/dy)**2).sum()"
      ]
    },
    {
      "cell_type": "code",
      "execution_count": null,
      "metadata": {
        "id": "1-7Yv5CqypU6"
      },
      "outputs": [],
      "source": [
        "m=Minuit(chi2,x0=0,error_x0=1,Gamma=1,error_Gamma=1)"
      ]
    },
    {
      "cell_type": "code",
      "execution_count": null,
      "metadata": {
        "colab": {
          "base_uri": "https://localhost:8080/",
          "height": 279
        },
        "id": "TZbjiLzBypU6",
        "outputId": "3330c4a1-78d3-465c-80f1-5e74a1bed40b"
      },
      "outputs": [
        {
          "output_type": "execute_result",
          "data": {
            "text/plain": [
              "┌─────────────────────────────────────────────────────────────────────────┐\n",
              "│                                Migrad                                   │\n",
              "├──────────────────────────────────┬──────────────────────────────────────┤\n",
              "│ FCN = -18                        │              Nfcn = 825              │\n",
              "│ EDM = 1.01e-20 (Goal: 0.0002)    │                                      │\n",
              "├──────────────────────────────────┼──────────────────────────────────────┤\n",
              "│          Valid Minimum           │        No Parameters at limit        │\n",
              "├──────────────────────────────────┼──────────────────────────────────────┤\n",
              "│ Below EDM threshold (goal x 10)  │           Below call limit           │\n",
              "├───────────────┬──────────────────┼───────────┬─────────────┬────────────┤\n",
              "│  Covariance   │     Hesse ok     │ Accurate  │  Pos. def.  │ Not forced │\n",
              "└───────────────┴──────────────────┴───────────┴─────────────┴────────────┘\n",
              "┌───┬──────┬───────────┬───────────┬────────────┬────────────┬─────────┬─────────┬───────┐\n",
              "│   │ Name │   Value   │ Hesse Err │ Minos Err- │ Minos Err+ │ Limit-  │ Limit+  │ Fixed │\n",
              "├───┼──────┼───────────┼───────────┼────────────┼────────────┼─────────┼─────────┼───────┤\n",
              "│ 0 │ a    │    1.0    │    0.5    │            │            │         │         │       │\n",
              "│ 1 │ b    │    2.0    │    0.5    │            │            │         │         │       │\n",
              "└───┴──────┴───────────┴───────────┴────────────┴────────────┴─────────┴─────────┴───────┘\n",
              "┌───┬─────────────┐\n",
              "│   │     a     b │\n",
              "├───┼─────────────┤\n",
              "│ a │ 0.278 0.222 │\n",
              "│ b │ 0.222 0.278 │\n",
              "└───┴─────────────┘"
            ],
            "text/html": [
              "<table>\n",
              "    <tr>\n",
              "        <th colspan=\"5\" style=\"text-align:center\" title=\"Minimizer\"> Migrad </th>\n",
              "    </tr>\n",
              "    <tr>\n",
              "        <td colspan=\"2\" style=\"text-align:left\" title=\"Minimum value of function\"> FCN = -18 </td>\n",
              "        <td colspan=\"3\" style=\"text-align:center\" title=\"Total number of function and (optional) gradient evaluations\"> Nfcn = 825 </td>\n",
              "    </tr>\n",
              "    <tr>\n",
              "        <td colspan=\"2\" style=\"text-align:left\" title=\"Estimated distance to minimum and goal\"> EDM = 1.01e-20 (Goal: 0.0002) </td>\n",
              "        <td colspan=\"3\" style=\"text-align:center\" title=\"Total run time of algorithms\">  </td>\n",
              "    </tr>\n",
              "    <tr>\n",
              "        <td colspan=\"2\" style=\"text-align:center;background-color:#92CCA6;color:black\"> Valid Minimum </td>\n",
              "        <td colspan=\"3\" style=\"text-align:center;background-color:#92CCA6;color:black\"> No Parameters at limit </td>\n",
              "    </tr>\n",
              "    <tr>\n",
              "        <td colspan=\"2\" style=\"text-align:center;background-color:#92CCA6;color:black\"> Below EDM threshold (goal x 10) </td>\n",
              "        <td colspan=\"3\" style=\"text-align:center;background-color:#92CCA6;color:black\"> Below call limit </td>\n",
              "    </tr>\n",
              "    <tr>\n",
              "        <td style=\"text-align:center;background-color:#92CCA6;color:black\"> Covariance </td>\n",
              "        <td style=\"text-align:center;background-color:#92CCA6;color:black\"> Hesse ok </td>\n",
              "        <td style=\"text-align:center;background-color:#92CCA6;color:black\" title=\"Is covariance matrix accurate?\"> Accurate </td>\n",
              "        <td style=\"text-align:center;background-color:#92CCA6;color:black\" title=\"Is covariance matrix positive definite?\"> Pos. def. </td>\n",
              "        <td style=\"text-align:center;background-color:#92CCA6;color:black\" title=\"Was positive definiteness enforced by Minuit?\"> Not forced </td>\n",
              "    </tr>\n",
              "</table><table>\n",
              "    <tr>\n",
              "        <td></td>\n",
              "        <th title=\"Variable name\"> Name </th>\n",
              "        <th title=\"Value of parameter\"> Value </th>\n",
              "        <th title=\"Hesse error\"> Hesse Error </th>\n",
              "        <th title=\"Minos lower error\"> Minos Error- </th>\n",
              "        <th title=\"Minos upper error\"> Minos Error+ </th>\n",
              "        <th title=\"Lower limit of the parameter\"> Limit- </th>\n",
              "        <th title=\"Upper limit of the parameter\"> Limit+ </th>\n",
              "        <th title=\"Is the parameter fixed in the fit\"> Fixed </th>\n",
              "    </tr>\n",
              "    <tr>\n",
              "        <th> 0 </th>\n",
              "        <td> a </td>\n",
              "        <td> 1.0 </td>\n",
              "        <td> 0.5 </td>\n",
              "        <td>  </td>\n",
              "        <td>  </td>\n",
              "        <td>  </td>\n",
              "        <td>  </td>\n",
              "        <td>  </td>\n",
              "    </tr>\n",
              "    <tr>\n",
              "        <th> 1 </th>\n",
              "        <td> b </td>\n",
              "        <td> 2.0 </td>\n",
              "        <td> 0.5 </td>\n",
              "        <td>  </td>\n",
              "        <td>  </td>\n",
              "        <td>  </td>\n",
              "        <td>  </td>\n",
              "        <td>  </td>\n",
              "    </tr>\n",
              "</table><table>\n",
              "    <tr>\n",
              "        <td></td>\n",
              "        <th> a </th>\n",
              "        <th> b </th>\n",
              "    </tr>\n",
              "    <tr>\n",
              "        <th> a </th>\n",
              "        <td> 0.278 </td>\n",
              "        <td style=\"background-color:rgb(250,130,130);color:black\"> 0.222 <strong>(0.800)</strong> </td>\n",
              "    </tr>\n",
              "    <tr>\n",
              "        <th> b </th>\n",
              "        <td style=\"background-color:rgb(250,130,130);color:black\"> 0.222 <strong>(0.800)</strong> </td>\n",
              "        <td> 0.278 </td>\n",
              "    </tr>\n",
              "</table>"
            ]
          },
          "metadata": {},
          "execution_count": 51
        }
      ],
      "source": [
        "m.migrad()"
      ]
    },
    {
      "cell_type": "code",
      "execution_count": null,
      "metadata": {
        "colab": {
          "base_uri": "https://localhost:8080/"
        },
        "id": "Z8BmaViwypU6",
        "outputId": "940b419a-4177-4d98-9379-e6b0afaab298"
      },
      "outputs": [
        {
          "output_type": "execute_result",
          "data": {
            "text/plain": [
              "<ValueView a=1.0000000000433014 b=2.0000000000541194>"
            ]
          },
          "metadata": {},
          "execution_count": 52
        }
      ],
      "source": [
        "m.values"
      ]
    },
    {
      "cell_type": "code",
      "execution_count": null,
      "metadata": {
        "colab": {
          "base_uri": "https://localhost:8080/"
        },
        "id": "xQXYuzDDypU7",
        "outputId": "7f643957-c511-4015-8dee-85de16be170f"
      },
      "outputs": [
        {
          "output_type": "execute_result",
          "data": {
            "text/plain": [
              "-17.999999999999996"
            ]
          },
          "metadata": {},
          "execution_count": 53
        }
      ],
      "source": [
        "m.fval"
      ]
    },
    {
      "cell_type": "code",
      "execution_count": null,
      "metadata": {
        "colab": {
          "base_uri": "https://localhost:8080/"
        },
        "id": "InREteWSypU7",
        "outputId": "5f920da3-a4a4-4953-bb15-a85394d7eb44"
      },
      "outputs": [
        {
          "output_type": "execute_result",
          "data": {
            "text/plain": [
              "<ErrorView a=0.5270464487103346 b=0.5270465632194063>"
            ]
          },
          "metadata": {},
          "execution_count": 54
        }
      ],
      "source": [
        "m.errors"
      ]
    },
    {
      "cell_type": "code",
      "execution_count": null,
      "metadata": {
        "colab": {
          "base_uri": "https://localhost:8080/",
          "height": 165
        },
        "id": "hnPcmXxzypU7",
        "outputId": "135d50a9-785c-4585-e653-793e5f019872"
      },
      "outputs": [
        {
          "output_type": "error",
          "ename": "AttributeError",
          "evalue": "ignored",
          "traceback": [
            "\u001b[0;31m---------------------------------------------------------------------------\u001b[0m",
            "\u001b[0;31mAttributeError\u001b[0m                            Traceback (most recent call last)",
            "\u001b[0;32m<ipython-input-55-6baa14325619>\u001b[0m in \u001b[0;36m<module>\u001b[0;34m\u001b[0m\n\u001b[0;32m----> 1\u001b[0;31m \u001b[0mm\u001b[0m\u001b[0;34m.\u001b[0m\u001b[0mmatrix\u001b[0m\u001b[0;34m(\u001b[0m\u001b[0;34m)\u001b[0m\u001b[0;34m\u001b[0m\u001b[0;34m\u001b[0m\u001b[0m\n\u001b[0m",
            "\u001b[0;31mAttributeError\u001b[0m: 'Minuit' object has no attribute 'matrix'"
          ]
        }
      ],
      "source": [
        "m.matrix()"
      ]
    },
    {
      "cell_type": "code",
      "execution_count": null,
      "metadata": {
        "colab": {
          "base_uri": "https://localhost:8080/",
          "height": 165
        },
        "id": "-XdtKJrcypU7",
        "outputId": "2093a972-58b3-4a5f-a8de-423f929ce9f3"
      },
      "outputs": [
        {
          "output_type": "error",
          "ename": "TypeError",
          "evalue": "ignored",
          "traceback": [
            "\u001b[0;31m---------------------------------------------------------------------------\u001b[0m",
            "\u001b[0;31mTypeError\u001b[0m                                 Traceback (most recent call last)",
            "\u001b[0;32m<ipython-input-57-ecdd8a92335d>\u001b[0m in \u001b[0;36m<module>\u001b[0;34m\u001b[0m\n\u001b[0;32m----> 1\u001b[0;31m \u001b[0mm\u001b[0m\u001b[0;34m.\u001b[0m\u001b[0mdraw_mncontour\u001b[0m\u001b[0;34m(\u001b[0m\u001b[0;34m'x0'\u001b[0m\u001b[0;34m,\u001b[0m\u001b[0;34m'Gamma'\u001b[0m\u001b[0;34m,\u001b[0m\u001b[0mnsigma\u001b[0m\u001b[0;34m=\u001b[0m\u001b[0;36m3\u001b[0m\u001b[0;34m)\u001b[0m\u001b[0;34m\u001b[0m\u001b[0;34m\u001b[0m\u001b[0m\n\u001b[0m",
            "\u001b[0;31mTypeError\u001b[0m: draw_mncontour() got an unexpected keyword argument 'nsigma'"
          ]
        }
      ],
      "source": [
        "m.draw_mncontour('x0','Gamma',nsigma=3)"
      ]
    },
    {
      "cell_type": "code",
      "execution_count": null,
      "metadata": {
        "colab": {
          "base_uri": "https://localhost:8080/",
          "height": 200
        },
        "id": "p6LuBnIGypU7",
        "outputId": "87627724-8462-4890-cd26-fd3b6b9180ca"
      },
      "outputs": [
        {
          "output_type": "error",
          "ename": "AttributeError",
          "evalue": "ignored",
          "traceback": [
            "\u001b[0;31m---------------------------------------------------------------------------\u001b[0m",
            "\u001b[0;31mAttributeError\u001b[0m                            Traceback (most recent call last)",
            "\u001b[0;32m<ipython-input-56-631082e5e6e8>\u001b[0m in \u001b[0;36m<module>\u001b[0;34m\u001b[0m\n\u001b[0;32m----> 1\u001b[0;31m \u001b[0mx0\u001b[0m\u001b[0;34m,\u001b[0m\u001b[0mGamma\u001b[0m\u001b[0;34m,\u001b[0m\u001b[0mg\u001b[0m\u001b[0;34m,\u001b[0m\u001b[0mr\u001b[0m\u001b[0;34m=\u001b[0m\u001b[0mm\u001b[0m\u001b[0;34m.\u001b[0m\u001b[0mmncontour_grid\u001b[0m\u001b[0;34m(\u001b[0m\u001b[0;34m'x0'\u001b[0m\u001b[0;34m,\u001b[0m\u001b[0;34m'Gamma'\u001b[0m\u001b[0;34m,\u001b[0m\u001b[0mnsigma\u001b[0m\u001b[0;34m=\u001b[0m\u001b[0;36m3\u001b[0m\u001b[0;34m)\u001b[0m\u001b[0;34m\u001b[0m\u001b[0;34m\u001b[0m\u001b[0m\n\u001b[0m\u001b[1;32m      2\u001b[0m \u001b[0mpcolormesh\u001b[0m\u001b[0;34m(\u001b[0m\u001b[0mx0\u001b[0m\u001b[0;34m,\u001b[0m\u001b[0mGamma\u001b[0m\u001b[0;34m,\u001b[0m\u001b[0mg\u001b[0m\u001b[0;34m)\u001b[0m\u001b[0;34m\u001b[0m\u001b[0;34m\u001b[0m\u001b[0m\n\u001b[1;32m      3\u001b[0m \u001b[0mcolorbar\u001b[0m\u001b[0;34m(\u001b[0m\u001b[0;34m)\u001b[0m\u001b[0;34m\u001b[0m\u001b[0;34m\u001b[0m\u001b[0m\n",
            "\u001b[0;31mAttributeError\u001b[0m: 'Minuit' object has no attribute 'mncontour_grid'"
          ]
        }
      ],
      "source": [
        "x0,Gamma,g,r=m.mncontour_grid('x0','Gamma',nsigma=3)\n",
        "pcolormesh(x0,Gamma,g)\n",
        "colorbar()"
      ]
    },
    {
      "cell_type": "markdown",
      "metadata": {
        "id": "m6nEuIbTypU7"
      },
      "source": [
        "Теперь контуры постоянной высоты $\\chi^2$ - уже не симметричные эллипсы с центром в оптимальной точке, а какие-то сложные кривые. Ошибки положения и ширины резонанса довольно-таки независимы.\n",
        "\n",
        "Нарисуем на одном графике экспериментальные точки, наш фит (сплошная линия) и истинную теоретическую кривую (пунктир)."
      ]
    },
    {
      "cell_type": "code",
      "execution_count": null,
      "metadata": {
        "id": "FggDXxIQypU8"
      },
      "outputs": [],
      "source": [
        "errorbar(x,y,dy,fmt='ro')\n",
        "xt=linspace(-3.5,3.5,101)\n",
        "plot(xt,fit(m.values['x0'],m.values['Gamma'],xt),'b-')\n",
        "plot(xt,fit(0,1,xt),'g--')"
      ]
    },
    {
      "cell_type": "markdown",
      "source": [
        "* Линейная модель имеет 2 параметра (x,y)"
      ],
      "metadata": {
        "id": "FaL7SO-PHGUl"
      }
    },
    {
      "cell_type": "markdown",
      "source": [
        "# Основы"
      ],
      "metadata": {
        "id": "Ym0qE1MaLS_a"
      }
    },
    {
      "cell_type": "code",
      "source": [
        "# basic setup of the notebook\n",
        "from matplotlib import pyplot as plt\n",
        "import numpy as np\n",
        "\n",
        "# everything in iminuit is done through the Minuit object, so we import it\n",
        "from iminuit import Minuit\n",
        "\n",
        "# we also need a cost function to fit and import the LeastSquares function\n",
        "from iminuit.cost import LeastSquares\n",
        "\n",
        "# display iminuit version\n",
        "import iminuit\n",
        "print(\"iminuit version:\", iminuit.__version__)"
      ],
      "metadata": {
        "colab": {
          "base_uri": "https://localhost:8080/"
        },
        "id": "Lncf1LpNLYdb",
        "outputId": "cbd2e51a-b0a9-4ebb-8d96-52c664b90091"
      },
      "execution_count": 31,
      "outputs": [
        {
          "output_type": "stream",
          "name": "stdout",
          "text": [
            "iminuit version: 2.17.0\n"
          ]
        }
      ]
    },
    {
      "cell_type": "markdown",
      "source": [
        "## Быстрый старт"
      ],
      "metadata": {
        "id": "dJewz__FLWH2"
      }
    },
    {
      "cell_type": "markdown",
      "source": [
        "В этом первом разделе мы рассмотрим простой случай, когда линия должна быть подогнана к рассеяннымданные. Строка имеет два параметра. Мы проходим полную настройку, показывая все основные шаги, чтобы вы могли быстро приступить к работе. В следующих разделах мы рассмотрим шаги более подробно."
      ],
      "metadata": {
        "id": "vdAlzWvgLexJ"
      }
    },
    {
      "cell_type": "code",
      "source": [
        "# our line model, unicode parameter names are supported :)\n",
        "def line(x, α, β):\n",
        "    return α + x * β\n",
        "\n",
        "\n",
        "# generate random toy data with random offsets in y\n",
        "np.random.seed(1)\n",
        "data_x = np.linspace(0, 1, 10)\n",
        "data_yerr = 0.1  # could also be an array\n",
        "data_y = line(data_x, 1, 2) + data_yerr * np.random.randn(len(data_x))\n",
        "\n",
        "# draw toy data\n",
        "plt.errorbar(data_x, data_y, data_yerr, fmt=\"o\");"
      ],
      "metadata": {
        "colab": {
          "base_uri": "https://localhost:8080/",
          "height": 265
        },
        "id": "LbzIhJ1JLh2q",
        "outputId": "44930e44-82c1-420c-9749-2a87c73b64ae"
      },
      "execution_count": 32,
      "outputs": [
        {
          "output_type": "display_data",
          "data": {
            "text/plain": [
              "<Figure size 432x288 with 1 Axes>"
            ],
            "image/png": "[encoded data removed]"
          },
          "metadata": {
            "needs_background": "light"
          }
        }
      ]
    },
    {
      "cell_type": "markdown",
      "source": [
        "Чтобы восстановить параметры α и β линейной модели из этих данных, нам нужно минимизировать подходящую функцию стоимости. Функция стоимости должна быть дважды дифференцируемой и иметь минимум при оптимальных параметрах. Здесь мы используем метод наименьших квадратов, функция стоимости которого вычисляет сумму квадратов остатков между моделью и данными. Задача iminuit — найти минимум этой функции. Давай сделаем это:"
      ],
      "metadata": {
        "id": "A46ELdisLnYw"
      }
    },
    {
      "cell_type": "code",
      "source": [
        "# iminuit contains a LeastSquares class to conveniently generate a least-squares cost function.\n",
        "# We will revisit how to write this by hand in a later section.\n",
        "least_squares = LeastSquares(data_x, data_y, data_yerr, line)\n",
        "\n",
        "m = Minuit(least_squares, α=0, β=0)  # starting values for α and β\n",
        "\n",
        "m.migrad()  # finds minimum of least_squares function\n",
        "m.hesse()   # accurately computes uncertainties\n",
        "\n",
        "# draw data and fitted line\n",
        "plt.errorbar(data_x, data_y, data_yerr, fmt=\"o\", label=\"data\")\n",
        "plt.plot(data_x, line(data_x, *m.values), label=\"fit\")\n",
        "\n",
        "# display legend with some fit info\n",
        "fit_info = [\n",
        "    f\"$\\\\chi^2$ / $n_\\\\mathrm{{dof}}$ = {m.fval:.1f} / {len(data_x) - m.nfit}\",\n",
        "]\n",
        "for p, v, e in zip(m.parameters, m.values, m.errors):\n",
        "    fit_info.append(f\"{p} = ${v:.3f} \\\\pm {e:.3f}$\")\n",
        "\n",
        "plt.legend(title=\"\\n\".join(fit_info));"
      ],
      "metadata": {
        "colab": {
          "base_uri": "https://localhost:8080/",
          "height": 265
        },
        "id": "3cTU_EPRLoSa",
        "outputId": "16c27f57-aeb6-4e19-eb61-3bec3a1fa684"
      },
      "execution_count": 33,
      "outputs": [
        {
          "output_type": "display_data",
          "data": {
            "text/plain": [
              "<Figure size 432x288 with 1 Axes>"
            ],
            "image/png": "[encoded data removed]"
          },
          "metadata": {
            "needs_background": "light"
          }
        }
      ]
    },
    {
      "cell_type": "markdown",
      "source": [
        "И это все для базовой посадки.\n",
        "\n",
        "Далее мы шаг за шагом углубимся в детали; как инициализируется объект Minuit, как запускать алгоритмы и как получать результаты.\n",
        "\n",
        "iminuit был разработан, чтобы упростить включение таких функций, как least_squares(...), где параметры являются отдельными аргументами функции. Minuit поддерживает альтернативную сигнатуру функции, которая более удобна при изучении моделей с еще не определенным числом параметров, таких как многочлен. Здесь параметры передаются в виде массива numpy. Далее мы обсудим оба, но сосредоточимся на первом."
      ],
      "metadata": {
        "id": "q1JwGFp2LswZ"
      }
    },
    {
      "cell_type": "markdown",
      "source": [
        "## Инициализировать объект Minuit"
      ],
      "metadata": {
        "id": "yFwPm6V5L1u5"
      }
    },
    {
      "cell_type": "markdown",
      "source": [
        "Чтобы минимизировать функцию, нужно создать экземпляр класса Minuit и передать функцию и начальное значение для каждого параметра. Это еще не начало минимизации, это произойдет позже.\n",
        "\n",
        "Объект Minuitиспользует самоанализ для автоматического получения количества и имен параметров функции, чтобы их можно было инициализировать с помощью ключевых слов."
      ],
      "metadata": {
        "id": "vfyAiyXYL6wX"
      }
    },
    {
      "cell_type": "code",
      "source": [
        "m = Minuit(least_squares, α=0, β=0)"
      ],
      "metadata": {
        "id": "Gx3ePuFmL2rS"
      },
      "execution_count": 34,
      "outputs": []
    },
    {
      "cell_type": "markdown",
      "source": [
        "Если мы забудем параметр или напечатаем его неправильно, Minuit выдаст ошибку."
      ],
      "metadata": {
        "id": "VlG1USp4L-C5"
      }
    },
    {
      "cell_type": "code",
      "source": [
        "try:\n",
        "    Minuit(least_squares)\n",
        "except:\n",
        "    import traceback\n",
        "    traceback.print_exc()"
      ],
      "metadata": {
        "colab": {
          "base_uri": "https://localhost:8080/"
        },
        "id": "WmO_jLpIL__X",
        "outputId": "3b7b6805-90f8-4406-eb58-ed4531c255a2"
      },
      "execution_count": 35,
      "outputs": [
        {
          "output_type": "stream",
          "name": "stderr",
          "text": [
            "Traceback (most recent call last):\n",
            "  File \"<ipython-input-35-2975dab14c6b>\", line 2, in <module>\n",
            "    Minuit(least_squares)\n",
            "  File \"/usr/local/lib/python3.8/dist-packages/iminuit/minuit.py\", line 605, in __init__\n",
            "    raise RuntimeError(\n",
            "RuntimeError: starting value(s) are required for α β\n"
          ]
        }
      ]
    },
    {
      "cell_type": "code",
      "source": [
        "try:\n",
        "    Minuit(least_squares, a=0, b=0)\n",
        "except:\n",
        "    import traceback\n",
        "    traceback.print_exc()"
      ],
      "metadata": {
        "colab": {
          "base_uri": "https://localhost:8080/"
        },
        "id": "pVU2QcflMCay",
        "outputId": "73404250-3c8a-4cf8-b922-1b6fba727550"
      },
      "execution_count": 36,
      "outputs": [
        {
          "output_type": "stream",
          "name": "stderr",
          "text": [
            "Traceback (most recent call last):\n",
            "  File \"<ipython-input-36-a5081bb50cd5>\", line 2, in <module>\n",
            "    Minuit(least_squares, a=0, b=0)\n",
            "  File \"/usr/local/lib/python3.8/dist-packages/iminuit/minuit.py\", line 625, in __init__\n",
            "    self._init_state = _make_init_state(self._pos2var, start, kwds)\n",
            "  File \"/usr/local/lib/python3.8/dist-packages/iminuit/minuit.py\", line 2452, in _make_init_state\n",
            "    raise RuntimeError(\n",
            "RuntimeError: a is not one of the parameters [α β]\n"
          ]
        }
      ]
    },
    {
      "cell_type": "markdown",
      "source": [
        "### Начальные значения параметров"
      ],
      "metadata": {
        "id": "fFefmbylMFDQ"
      }
    },
    {
      "cell_type": "markdown",
      "source": [
        "Основной алгоритм Minuit Migrad — локальный минимизатор. Он ищет локальный минимум, выполняя сочетание шагов Ньютона и градиентных спусков от начальной точки. Если ваша функция имеет несколько минимумов, найденный минимум будет зависеть от начальной точки. Даже если он имеет только один минимум, иминуит будет сходиться к нему быстрее, если вы начнете вблизи минимума.\n",
        "\n",
        "Вы можете установить начальную точку, используя имена параметров в качестве ключевых слов,` <name> = <value>`"
      ],
      "metadata": {
        "id": "xpwgxGbpML-v"
      }
    },
    {
      "cell_type": "code",
      "source": [
        "Minuit(least_squares, α=5, β=5)  # pass starting values for α and β"
      ],
      "metadata": {
        "colab": {
          "base_uri": "https://localhost:8080/",
          "height": 81
        },
        "id": "x21UD9I-MJxa",
        "outputId": "076682f5-013c-48b7-ed82-fc481909e59f"
      },
      "execution_count": 37,
      "outputs": [
        {
          "output_type": "execute_result",
          "data": {
            "text/plain": [
              "┌───┬──────┬───────────┬───────────┬────────────┬────────────┬─────────┬─────────┬───────┐\n",
              "│   │ Name │   Value   │ Hesse Err │ Minos Err- │ Minos Err+ │ Limit-  │ Limit+  │ Fixed │\n",
              "├───┼──────┼───────────┼───────────┼────────────┼────────────┼─────────┼─────────┼───────┤\n",
              "│ 0 │ α    │   5.00    │   0.05    │            │            │         │         │       │\n",
              "│ 1 │ β    │   5.00    │   0.05    │            │            │         │         │       │\n",
              "└───┴──────┴───────────┴───────────┴────────────┴────────────┴─────────┴─────────┴───────┘"
            ],
            "text/html": [
              "<table>\n",
              "    <tr>\n",
              "        <td></td>\n",
              "        <th title=\"Variable name\"> Name </th>\n",
              "        <th title=\"Value of parameter\"> Value </th>\n",
              "        <th title=\"Hesse error\"> Hesse Error </th>\n",
              "        <th title=\"Minos lower error\"> Minos Error- </th>\n",
              "        <th title=\"Minos upper error\"> Minos Error+ </th>\n",
              "        <th title=\"Lower limit of the parameter\"> Limit- </th>\n",
              "        <th title=\"Upper limit of the parameter\"> Limit+ </th>\n",
              "        <th title=\"Is the parameter fixed in the fit\"> Fixed </th>\n",
              "    </tr>\n",
              "    <tr>\n",
              "        <th> 0 </th>\n",
              "        <td> α </td>\n",
              "        <td> 5.00 </td>\n",
              "        <td> 0.05 </td>\n",
              "        <td>  </td>\n",
              "        <td>  </td>\n",
              "        <td>  </td>\n",
              "        <td>  </td>\n",
              "        <td>  </td>\n",
              "    </tr>\n",
              "    <tr>\n",
              "        <th> 1 </th>\n",
              "        <td> β </td>\n",
              "        <td> 5.00 </td>\n",
              "        <td> 0.05 </td>\n",
              "        <td>  </td>\n",
              "        <td>  </td>\n",
              "        <td>  </td>\n",
              "        <td>  </td>\n",
              "        <td>  </td>\n",
              "    </tr>\n",
              "</table>"
            ]
          },
          "metadata": {},
          "execution_count": 37
        }
      ]
    },
    {
      "cell_type": "code",
      "source": [
        "Minuit(least_squares, 5, 5)"
      ],
      "metadata": {
        "colab": {
          "base_uri": "https://localhost:8080/",
          "height": 81
        },
        "id": "wDVuEIa9MUEb",
        "outputId": "d1ba46af-aa85-43c1-9a5b-12abb05603ba"
      },
      "execution_count": 38,
      "outputs": [
        {
          "output_type": "execute_result",
          "data": {
            "text/plain": [
              "┌───┬──────┬───────────┬───────────┬────────────┬────────────┬─────────┬─────────┬───────┐\n",
              "│   │ Name │   Value   │ Hesse Err │ Minos Err- │ Minos Err+ │ Limit-  │ Limit+  │ Fixed │\n",
              "├───┼──────┼───────────┼───────────┼────────────┼────────────┼─────────┼─────────┼───────┤\n",
              "│ 0 │ α    │   5.00    │   0.05    │            │            │         │         │       │\n",
              "│ 1 │ β    │   5.00    │   0.05    │            │            │         │         │       │\n",
              "└───┴──────┴───────────┴───────────┴────────────┴────────────┴─────────┴─────────┴───────┘"
            ],
            "text/html": [
              "<table>\n",
              "    <tr>\n",
              "        <td></td>\n",
              "        <th title=\"Variable name\"> Name </th>\n",
              "        <th title=\"Value of parameter\"> Value </th>\n",
              "        <th title=\"Hesse error\"> Hesse Error </th>\n",
              "        <th title=\"Minos lower error\"> Minos Error- </th>\n",
              "        <th title=\"Minos upper error\"> Minos Error+ </th>\n",
              "        <th title=\"Lower limit of the parameter\"> Limit- </th>\n",
              "        <th title=\"Upper limit of the parameter\"> Limit+ </th>\n",
              "        <th title=\"Is the parameter fixed in the fit\"> Fixed </th>\n",
              "    </tr>\n",
              "    <tr>\n",
              "        <th> 0 </th>\n",
              "        <td> α </td>\n",
              "        <td> 5.00 </td>\n",
              "        <td> 0.05 </td>\n",
              "        <td>  </td>\n",
              "        <td>  </td>\n",
              "        <td>  </td>\n",
              "        <td>  </td>\n",
              "        <td>  </td>\n",
              "    </tr>\n",
              "    <tr>\n",
              "        <th> 1 </th>\n",
              "        <td> β </td>\n",
              "        <td> 5.00 </td>\n",
              "        <td> 0.05 </td>\n",
              "        <td>  </td>\n",
              "        <td>  </td>\n",
              "        <td>  </td>\n",
              "        <td>  </td>\n",
              "        <td>  </td>\n",
              "    </tr>\n",
              "</table>"
            ]
          },
          "metadata": {},
          "execution_count": 38
        }
      ]
    },
    {
      "cell_type": "markdown",
      "source": [
        "Вы также можете использовать iminiuit с функциями, которые принимают массивы numpy. В этом есть плюсы и минусы.\n",
        "\n",
        "**Плюсы**\n",
        "\n",
        "* Легко изменить количество подогнанных параметров\n",
        "\n",
        "* Иногда более простое тело функции, которое легче читать\n",
        "\n",
        "* Технически это более эффективно, но вряд ли это будет заметно\n",
        "\n",
        "**Минусы**\n",
        "\n",
        "* iminuit не может определить имена для каждого параметра\n",
        "\n",
        "* Чтобы продемонстрировать, используйте версию линейной модели, которая принимает параметры в виде массива numpy."
      ],
      "metadata": {
        "id": "SJOr6uyEMXWq"
      }
    },
    {
      "cell_type": "code",
      "source": [
        "def line_np(x, par):\n",
        "    return np.polyval(par, x)  # for len(par) == 2, this is a line"
      ],
      "metadata": {
        "id": "U3Md4uX4MeoO"
      },
      "execution_count": 39,
      "outputs": []
    },
    {
      "cell_type": "markdown",
      "source": [
        "Вызов `line_npс` большим или меньшим количеством аргументов прост и будет использовать полином соответствующего порядка для предсказания поведения данных.\n",
        "\n",
        "Встроенные функции стоимости поддерживают такую ​​модель. Чтобы он был правильно обнаружен, вам нужно передать начальные значения в виде одной последовательности чисел."
      ],
      "metadata": {
        "id": "tAo2G65cMg-4"
      }
    },
    {
      "cell_type": "code",
      "source": [
        "least_squares_np = LeastSquares(data_x, data_y, data_yerr, line_np)\n",
        "\n",
        "Minuit(least_squares_np, (5, 5))  # pass starting values as a sequence"
      ],
      "metadata": {
        "colab": {
          "base_uri": "https://localhost:8080/",
          "height": 81
        },
        "id": "gmH4UDMBMlRq",
        "outputId": "d79826ce-5538-441b-b826-7df1a381cd00"
      },
      "execution_count": 40,
      "outputs": [
        {
          "output_type": "execute_result",
          "data": {
            "text/plain": [
              "┌───┬──────┬───────────┬───────────┬────────────┬────────────┬─────────┬─────────┬───────┐\n",
              "│   │ Name │   Value   │ Hesse Err │ Minos Err- │ Minos Err+ │ Limit-  │ Limit+  │ Fixed │\n",
              "├───┼──────┼───────────┼───────────┼────────────┼────────────┼─────────┼─────────┼───────┤\n",
              "│ 0 │ x0   │   5.00    │   0.05    │            │            │         │         │       │\n",
              "│ 1 │ x1   │   5.00    │   0.05    │            │            │         │         │       │\n",
              "└───┴──────┴───────────┴───────────┴────────────┴────────────┴─────────┴─────────┴───────┘"
            ],
            "text/html": [
              "<table>\n",
              "    <tr>\n",
              "        <td></td>\n",
              "        <th title=\"Variable name\"> Name </th>\n",
              "        <th title=\"Value of parameter\"> Value </th>\n",
              "        <th title=\"Hesse error\"> Hesse Error </th>\n",
              "        <th title=\"Minos lower error\"> Minos Error- </th>\n",
              "        <th title=\"Minos upper error\"> Minos Error+ </th>\n",
              "        <th title=\"Lower limit of the parameter\"> Limit- </th>\n",
              "        <th title=\"Upper limit of the parameter\"> Limit+ </th>\n",
              "        <th title=\"Is the parameter fixed in the fit\"> Fixed </th>\n",
              "    </tr>\n",
              "    <tr>\n",
              "        <th> 0 </th>\n",
              "        <td> x0 </td>\n",
              "        <td> 5.00 </td>\n",
              "        <td> 0.05 </td>\n",
              "        <td>  </td>\n",
              "        <td>  </td>\n",
              "        <td>  </td>\n",
              "        <td>  </td>\n",
              "        <td>  </td>\n",
              "    </tr>\n",
              "    <tr>\n",
              "        <th> 1 </th>\n",
              "        <td> x1 </td>\n",
              "        <td> 5.00 </td>\n",
              "        <td> 0.05 </td>\n",
              "        <td>  </td>\n",
              "        <td>  </td>\n",
              "        <td>  </td>\n",
              "        <td>  </td>\n",
              "        <td>  </td>\n",
              "    </tr>\n",
              "</table>"
            ]
          },
          "metadata": {},
          "execution_count": 40
        }
      ]
    },
    {
      "cell_type": "markdown",
      "source": [
        "### Проверка текущих параметров"
      ],
      "metadata": {
        "id": "aEuqT0vbM3--"
      }
    },
    {
      "cell_type": "markdown",
      "source": [
        "Вы можете проверить текущие значения параметров и настройки с помощью метода Minuit.paramsв любое время. Он возвращает специальный список Paramобъектов, который красиво печатается в Jupyter и в терминале."
      ],
      "metadata": {
        "id": "H5AmdMC3M5RZ"
      }
    },
    {
      "cell_type": "code",
      "source": [
        "m.params"
      ],
      "metadata": {
        "colab": {
          "base_uri": "https://localhost:8080/",
          "height": 81
        },
        "id": "3uU4odi7M7VZ",
        "outputId": "65231a1b-d08c-436f-a6ca-3b1c09389bc3"
      },
      "execution_count": 41,
      "outputs": [
        {
          "output_type": "execute_result",
          "data": {
            "text/plain": [
              "┌───┬──────┬───────────┬───────────┬────────────┬────────────┬─────────┬─────────┬───────┐\n",
              "│   │ Name │   Value   │ Hesse Err │ Minos Err- │ Minos Err+ │ Limit-  │ Limit+  │ Fixed │\n",
              "├───┼──────┼───────────┼───────────┼────────────┼────────────┼─────────┼─────────┼───────┤\n",
              "│ 0 │ α    │    0.0    │    0.1    │            │            │         │         │       │\n",
              "│ 1 │ β    │    0.0    │    0.1    │            │            │         │         │       │\n",
              "└───┴──────┴───────────┴───────────┴────────────┴────────────┴─────────┴─────────┴───────┘"
            ],
            "text/html": [
              "<table>\n",
              "    <tr>\n",
              "        <td></td>\n",
              "        <th title=\"Variable name\"> Name </th>\n",
              "        <th title=\"Value of parameter\"> Value </th>\n",
              "        <th title=\"Hesse error\"> Hesse Error </th>\n",
              "        <th title=\"Minos lower error\"> Minos Error- </th>\n",
              "        <th title=\"Minos upper error\"> Minos Error+ </th>\n",
              "        <th title=\"Lower limit of the parameter\"> Limit- </th>\n",
              "        <th title=\"Upper limit of the parameter\"> Limit+ </th>\n",
              "        <th title=\"Is the parameter fixed in the fit\"> Fixed </th>\n",
              "    </tr>\n",
              "    <tr>\n",
              "        <th> 0 </th>\n",
              "        <td> α </td>\n",
              "        <td> 0.0 </td>\n",
              "        <td> 0.1 </td>\n",
              "        <td>  </td>\n",
              "        <td>  </td>\n",
              "        <td>  </td>\n",
              "        <td>  </td>\n",
              "        <td>  </td>\n",
              "    </tr>\n",
              "    <tr>\n",
              "        <th> 1 </th>\n",
              "        <td> β </td>\n",
              "        <td> 0.0 </td>\n",
              "        <td> 0.1 </td>\n",
              "        <td>  </td>\n",
              "        <td>  </td>\n",
              "        <td>  </td>\n",
              "        <td>  </td>\n",
              "        <td>  </td>\n",
              "    </tr>\n",
              "</table>"
            ]
          },
          "metadata": {},
          "execution_count": 41
        }
      ]
    },
    {
      "cell_type": "markdown",
      "source": [
        "В результате получается красивая таблица с числами, округленными в соответствии с правилами группы данных о частицах . Таблица будет обновлена ​​после того, как вы запустите фактическую минимизацию. Чтобы посмотреть начальные условия позже, используйте Minuit.init_params. Мы вернемся к значению ошибок Гессе и Миноса позже.\n",
        "\n",
        "Minuit.paramsвозвращает похожий на кортеж контейнер Paramобъектов, которые являются объектами данных с атрибутами, которые можно запрашивать. Используйте repr()для получения подробного представления объекта данных."
      ],
      "metadata": {
        "id": "AXwO8o8OM-s0"
      }
    },
    {
      "cell_type": "code",
      "source": [
        "for p in m.params:\n",
        "    print(repr(p), \"\\n\")"
      ],
      "metadata": {
        "colab": {
          "base_uri": "https://localhost:8080/"
        },
        "id": "Uoy2FoaSM_Wl",
        "outputId": "844d8352-2f00-4d72-c4e7-dd52da194f53"
      },
      "execution_count": 42,
      "outputs": [
        {
          "output_type": "stream",
          "name": "stdout",
          "text": [
            "Param(number=0, name='α', value=0.0, error=0.1, merror=None, is_const=False, is_fixed=False, lower_limit=None, upper_limit=None) \n",
            "\n",
            "Param(number=1, name='β', value=0.0, error=0.1, merror=None, is_const=False, is_fixed=False, lower_limit=None, upper_limit=None) \n",
            "\n"
          ]
        }
      ]
    },
    {
      "cell_type": "markdown",
      "source": [
        "### Параметры с ограничениями"
      ],
      "metadata": {
        "id": "YRDngdqvNES_"
      }
    },
    {
      "cell_type": "markdown",
      "source": [
        "iminuit позволяет вам устанавливать пределы параметров. Часто параметр математически или физически ограничен определенным диапазоном. Например, если ваша функция содержит sqrt(x), тодолжен быть неотрицательным,. Вы можете установить верхние, нижние или двусторонние пределы для каждого параметра отдельно с помощью limitsсвойства.\n",
        "\n",
        "нижний предел: используйте илиMinuit.limits[<name>] = (<value>, None)(<value>, float(\"infinity\"))\n",
        "\n",
        "верхний предел: используйте илиMinuit.limits[<name>] = (None, <value>)(-float(\"infinity\"), <value>)\n",
        "\n",
        "двусторонний лимит: использоватьMinuit.limits[<name>] = (<min_value>, <max_value>)\n",
        "\n",
        "снять ограничения: использовать илиMinuit.limits[<name>] = None(-float(\"infinity\"), float(\"infinity\")\n",
        "\n",
        "Вы также можете установить ограничения сразу для нескольких параметров с помощью последовательности. Наложить ограниченияа такжев нашем примере мы используем:"
      ],
      "metadata": {
        "id": "rrOE0t9LNFwO"
      }
    },
    {
      "cell_type": "code",
      "source": [
        "m.limits = [(0, None), (0, 10)]\n",
        "m.params"
      ],
      "metadata": {
        "colab": {
          "base_uri": "https://localhost:8080/",
          "height": 81
        },
        "id": "oy8k2QAVNILJ",
        "outputId": "ea411e99-1931-4543-b9a8-537deafcc3b8"
      },
      "execution_count": 43,
      "outputs": [
        {
          "output_type": "execute_result",
          "data": {
            "text/plain": [
              "┌───┬──────┬───────────┬───────────┬────────────┬────────────┬─────────┬─────────┬───────┐\n",
              "│   │ Name │   Value   │ Hesse Err │ Minos Err- │ Minos Err+ │ Limit-  │ Limit+  │ Fixed │\n",
              "├───┼──────┼───────────┼───────────┼────────────┼────────────┼─────────┼─────────┼───────┤\n",
              "│ 0 │ α    │    0.0    │    0.1    │            │            │    0    │         │       │\n",
              "│ 1 │ β    │    0.0    │    0.1    │            │            │    0    │   10    │       │\n",
              "└───┴──────┴───────────┴───────────┴────────────┴────────────┴─────────┴─────────┴───────┘"
            ],
            "text/html": [
              "<table>\n",
              "    <tr>\n",
              "        <td></td>\n",
              "        <th title=\"Variable name\"> Name </th>\n",
              "        <th title=\"Value of parameter\"> Value </th>\n",
              "        <th title=\"Hesse error\"> Hesse Error </th>\n",
              "        <th title=\"Minos lower error\"> Minos Error- </th>\n",
              "        <th title=\"Minos upper error\"> Minos Error+ </th>\n",
              "        <th title=\"Lower limit of the parameter\"> Limit- </th>\n",
              "        <th title=\"Upper limit of the parameter\"> Limit+ </th>\n",
              "        <th title=\"Is the parameter fixed in the fit\"> Fixed </th>\n",
              "    </tr>\n",
              "    <tr>\n",
              "        <th> 0 </th>\n",
              "        <td> α </td>\n",
              "        <td> 0.0 </td>\n",
              "        <td> 0.1 </td>\n",
              "        <td>  </td>\n",
              "        <td>  </td>\n",
              "        <td> 0 </td>\n",
              "        <td>  </td>\n",
              "        <td>  </td>\n",
              "    </tr>\n",
              "    <tr>\n",
              "        <th> 1 </th>\n",
              "        <td> β </td>\n",
              "        <td> 0.0 </td>\n",
              "        <td> 0.1 </td>\n",
              "        <td>  </td>\n",
              "        <td>  </td>\n",
              "        <td> 0 </td>\n",
              "        <td> 10 </td>\n",
              "        <td>  </td>\n",
              "    </tr>\n",
              "</table>"
            ]
          },
          "metadata": {},
          "execution_count": 43
        }
      ]
    },
    {
      "cell_type": "markdown",
      "source": [
        "### Фиксация и освобождение параметров"
      ],
      "metadata": {
        "id": "uujMKJDlNQKz"
      }
    },
    {
      "cell_type": "markdown",
      "source": [
        "Иногда у вас есть параметр, которому вы хотите временно присвоить фиксированное значение. Возможно, у вас есть предположение о его значении, и вы хотите посмотреть, как другие параметры адаптируются, когда этот параметр фиксируется на этом значении.\n",
        "\n",
        "Или у вас есть сложная функция со многими параметрами, которые не все влияют на функцию в одном и том же масштабе. Затем вы можете вручную помочь минимизатору быстрее найти минимум, сначала зафиксировав менее важные параметры в соответствии с первоначальными предположениями и подобрав только важные параметры. Как только в этих условиях будет найден минимум, вы можете освободить фиксированные параметры и оптимизировать все параметры вместе. Minuit запоминает последнее состояние минимизации и начинает оттуда. Время минимизации примерно зависит от квадрата числа параметров. Итеративная минимизация по подпространствам параметров может сократить это время.\n",
        "\n",
        "Чтобы исправить отдельный параметр, вы используете ключевое слово . В нашем примере мы фиксируемMinuit.fixed[<name>] = True, вот так:"
      ],
      "metadata": {
        "id": "he06pAsgNUEC"
      }
    },
    {
      "cell_type": "code",
      "source": [
        "m.fixed[\"α\"] = True\n",
        "m.params"
      ],
      "metadata": {
        "colab": {
          "base_uri": "https://localhost:8080/",
          "height": 81
        },
        "id": "WVU54PC0NRRY",
        "outputId": "ef6ca2a2-8fee-4ff4-af6f-89e6c6376f9b"
      },
      "execution_count": 44,
      "outputs": [
        {
          "output_type": "execute_result",
          "data": {
            "text/plain": [
              "┌───┬──────┬───────────┬───────────┬────────────┬────────────┬─────────┬─────────┬───────┐\n",
              "│   │ Name │   Value   │ Hesse Err │ Minos Err- │ Minos Err+ │ Limit-  │ Limit+  │ Fixed │\n",
              "├───┼──────┼───────────┼───────────┼────────────┼────────────┼─────────┼─────────┼───────┤\n",
              "│ 0 │ α    │    0.0    │    0.1    │            │            │    0    │         │  yes  │\n",
              "│ 1 │ β    │    0.0    │    0.1    │            │            │    0    │   10    │       │\n",
              "└───┴──────┴───────────┴───────────┴────────────┴────────────┴─────────┴─────────┴───────┘"
            ],
            "text/html": [
              "<table>\n",
              "    <tr>\n",
              "        <td></td>\n",
              "        <th title=\"Variable name\"> Name </th>\n",
              "        <th title=\"Value of parameter\"> Value </th>\n",
              "        <th title=\"Hesse error\"> Hesse Error </th>\n",
              "        <th title=\"Minos lower error\"> Minos Error- </th>\n",
              "        <th title=\"Minos upper error\"> Minos Error+ </th>\n",
              "        <th title=\"Lower limit of the parameter\"> Limit- </th>\n",
              "        <th title=\"Upper limit of the parameter\"> Limit+ </th>\n",
              "        <th title=\"Is the parameter fixed in the fit\"> Fixed </th>\n",
              "    </tr>\n",
              "    <tr>\n",
              "        <th> 0 </th>\n",
              "        <td> α </td>\n",
              "        <td> 0.0 </td>\n",
              "        <td> 0.1 </td>\n",
              "        <td>  </td>\n",
              "        <td>  </td>\n",
              "        <td> 0 </td>\n",
              "        <td>  </td>\n",
              "        <td> yes </td>\n",
              "    </tr>\n",
              "    <tr>\n",
              "        <th> 1 </th>\n",
              "        <td> β </td>\n",
              "        <td> 0.0 </td>\n",
              "        <td> 0.1 </td>\n",
              "        <td>  </td>\n",
              "        <td>  </td>\n",
              "        <td> 0 </td>\n",
              "        <td> 10 </td>\n",
              "        <td>  </td>\n",
              "    </tr>\n",
              "</table>"
            ]
          },
          "metadata": {},
          "execution_count": 44
        }
      ]
    },
    {
      "cell_type": "code",
      "source": [
        "# migrad will not vary α, only β\n",
        "m.migrad()"
      ],
      "metadata": {
        "colab": {
          "base_uri": "https://localhost:8080/",
          "height": 273
        },
        "id": "aXvvoepZNYLU",
        "outputId": "ee672e61-6084-49c8-cd86-a4b785924cc6"
      },
      "execution_count": 45,
      "outputs": [
        {
          "output_type": "execute_result",
          "data": {
            "text/plain": [
              "┌─────────────────────────────────────────────────────────────────────────┐\n",
              "│                                Migrad                                   │\n",
              "├──────────────────────────────────┬──────────────────────────────────────┤\n",
              "│ FCN = 307.8 (chi2/ndof = 34.2)   │              Nfcn = 41               │\n",
              "│ EDM = 2.53e-07 (Goal: 0.0002)    │                                      │\n",
              "├──────────────────────────────────┼──────────────────────────────────────┤\n",
              "│          Valid Minimum           │        No Parameters at limit        │\n",
              "├──────────────────────────────────┼──────────────────────────────────────┤\n",
              "│ Below EDM threshold (goal x 10)  │           Below call limit           │\n",
              "├───────────────┬──────────────────┼───────────┬─────────────┬────────────┤\n",
              "│  Covariance   │     Hesse ok     │ Accurate  │  Pos. def.  │ Not forced │\n",
              "└───────────────┴──────────────────┴───────────┴─────────────┴────────────┘\n",
              "┌───┬──────┬───────────┬───────────┬────────────┬────────────┬─────────┬─────────┬───────┐\n",
              "│   │ Name │   Value   │ Hesse Err │ Minos Err- │ Minos Err+ │ Limit-  │ Limit+  │ Fixed │\n",
              "├───┼──────┼───────────┼───────────┼────────────┼────────────┼─────────┼─────────┼───────┤\n",
              "│ 0 │ α    │    0.0    │    0.1    │            │            │    0    │         │  yes  │\n",
              "│ 1 │ β    │   3.40    │   0.05    │            │            │    0    │   10    │       │\n",
              "└───┴──────┴───────────┴───────────┴────────────┴────────────┴─────────┴─────────┴───────┘\n",
              "┌───┬─────────────────┐\n",
              "│   │       α       β │\n",
              "├───┼─────────────────┤\n",
              "│ α │       0       0 │\n",
              "│ β │       0 0.00284 │\n",
              "└───┴─────────────────┘"
            ],
            "text/html": [
              "<table>\n",
              "    <tr>\n",
              "        <th colspan=\"5\" style=\"text-align:center\" title=\"Minimizer\"> Migrad </th>\n",
              "    </tr>\n",
              "    <tr>\n",
              "        <td colspan=\"2\" style=\"text-align:left\" title=\"Minimum value of function\"> FCN = 307.8 (chi2/ndof = 34.2) </td>\n",
              "        <td colspan=\"3\" style=\"text-align:center\" title=\"Total number of function and (optional) gradient evaluations\"> Nfcn = 41 </td>\n",
              "    </tr>\n",
              "    <tr>\n",
              "        <td colspan=\"2\" style=\"text-align:left\" title=\"Estimated distance to minimum and goal\"> EDM = 2.53e-07 (Goal: 0.0002) </td>\n",
              "        <td colspan=\"3\" style=\"text-align:center\" title=\"Total run time of algorithms\">  </td>\n",
              "    </tr>\n",
              "    <tr>\n",
              "        <td colspan=\"2\" style=\"text-align:center;background-color:#92CCA6;color:black\"> Valid Minimum </td>\n",
              "        <td colspan=\"3\" style=\"text-align:center;background-color:#92CCA6;color:black\"> No Parameters at limit </td>\n",
              "    </tr>\n",
              "    <tr>\n",
              "        <td colspan=\"2\" style=\"text-align:center;background-color:#92CCA6;color:black\"> Below EDM threshold (goal x 10) </td>\n",
              "        <td colspan=\"3\" style=\"text-align:center;background-color:#92CCA6;color:black\"> Below call limit </td>\n",
              "    </tr>\n",
              "    <tr>\n",
              "        <td style=\"text-align:center;background-color:#92CCA6;color:black\"> Covariance </td>\n",
              "        <td style=\"text-align:center;background-color:#92CCA6;color:black\"> Hesse ok </td>\n",
              "        <td style=\"text-align:center;background-color:#92CCA6;color:black\" title=\"Is covariance matrix accurate?\"> Accurate </td>\n",
              "        <td style=\"text-align:center;background-color:#92CCA6;color:black\" title=\"Is covariance matrix positive definite?\"> Pos. def. </td>\n",
              "        <td style=\"text-align:center;background-color:#92CCA6;color:black\" title=\"Was positive definiteness enforced by Minuit?\"> Not forced </td>\n",
              "    </tr>\n",
              "</table><table>\n",
              "    <tr>\n",
              "        <td></td>\n",
              "        <th title=\"Variable name\"> Name </th>\n",
              "        <th title=\"Value of parameter\"> Value </th>\n",
              "        <th title=\"Hesse error\"> Hesse Error </th>\n",
              "        <th title=\"Minos lower error\"> Minos Error- </th>\n",
              "        <th title=\"Minos upper error\"> Minos Error+ </th>\n",
              "        <th title=\"Lower limit of the parameter\"> Limit- </th>\n",
              "        <th title=\"Upper limit of the parameter\"> Limit+ </th>\n",
              "        <th title=\"Is the parameter fixed in the fit\"> Fixed </th>\n",
              "    </tr>\n",
              "    <tr>\n",
              "        <th> 0 </th>\n",
              "        <td> α </td>\n",
              "        <td> 0.0 </td>\n",
              "        <td> 0.1 </td>\n",
              "        <td>  </td>\n",
              "        <td>  </td>\n",
              "        <td> 0 </td>\n",
              "        <td>  </td>\n",
              "        <td> yes </td>\n",
              "    </tr>\n",
              "    <tr>\n",
              "        <th> 1 </th>\n",
              "        <td> β </td>\n",
              "        <td> 3.40 </td>\n",
              "        <td> 0.05 </td>\n",
              "        <td>  </td>\n",
              "        <td>  </td>\n",
              "        <td> 0 </td>\n",
              "        <td> 10 </td>\n",
              "        <td>  </td>\n",
              "    </tr>\n",
              "</table><table>\n",
              "    <tr>\n",
              "        <td></td>\n",
              "        <th> α </th>\n",
              "        <th> β </th>\n",
              "    </tr>\n",
              "    <tr>\n",
              "        <th> α </th>\n",
              "        <td> 0 </td>\n",
              "        <td style=\"background-color:rgb(250,250,250);color:black\"> 0 </td>\n",
              "    </tr>\n",
              "    <tr>\n",
              "        <th> β </th>\n",
              "        <td style=\"background-color:rgb(250,250,250);color:black\"> 0 </td>\n",
              "        <td> 0.00284 </td>\n",
              "    </tr>\n",
              "</table>"
            ]
          },
          "metadata": {},
          "execution_count": 45
        }
      ]
    },
    {
      "cell_type": "code",
      "source": [
        "# now we release α and fix β and minimize again, can also use parameter index\n",
        "m.fixed[0] = False\n",
        "m.fixed[1] = True\n",
        "m.migrad()"
      ],
      "metadata": {
        "colab": {
          "base_uri": "https://localhost:8080/",
          "height": 273
        },
        "id": "OSs5Hf6LNadm",
        "outputId": "a77d1af3-0423-4ebd-eab3-58b95935d7ed"
      },
      "execution_count": 46,
      "outputs": [
        {
          "output_type": "execute_result",
          "data": {
            "text/plain": [
              "┌─────────────────────────────────────────────────────────────────────────┐\n",
              "│                                Migrad                                   │\n",
              "├──────────────────────────────────┬──────────────────────────────────────┤\n",
              "│ FCN = 222.8 (chi2/ndof = 24.8)   │              Nfcn = 77               │\n",
              "│ EDM = 5.24e-09 (Goal: 0.0002)    │                                      │\n",
              "├──────────────────────────────────┼──────────────────────────────────────┤\n",
              "│          Valid Minimum           │        No Parameters at limit        │\n",
              "├──────────────────────────────────┼──────────────────────────────────────┤\n",
              "│ Below EDM threshold (goal x 10)  │           Below call limit           │\n",
              "├───────────────┬──────────────────┼───────────┬─────────────┬────────────┤\n",
              "│  Covariance   │     Hesse ok     │ Accurate  │  Pos. def.  │ Not forced │\n",
              "└───────────────┴──────────────────┴───────────┴─────────────┴────────────┘\n",
              "┌───┬──────┬───────────┬───────────┬────────────┬────────────┬─────────┬─────────┬───────┐\n",
              "│   │ Name │   Value   │ Hesse Err │ Minos Err- │ Minos Err+ │ Limit-  │ Limit+  │ Fixed │\n",
              "├───┼──────┼───────────┼───────────┼────────────┼────────────┼─────────┼─────────┼───────┤\n",
              "│ 0 │ α    │   0.292   │   0.032   │            │            │    0    │         │       │\n",
              "│ 1 │ β    │   3.40    │   0.05    │            │            │    0    │   10    │  yes  │\n",
              "└───┴──────┴───────────┴───────────┴────────────┴────────────┴─────────┴─────────┴───────┘\n",
              "┌───┬─────────────┐\n",
              "│   │     α     β │\n",
              "├───┼─────────────┤\n",
              "│ α │ 0.001     0 │\n",
              "│ β │     0     0 │\n",
              "└───┴─────────────┘"
            ],
            "text/html": [
              "<table>\n",
              "    <tr>\n",
              "        <th colspan=\"5\" style=\"text-align:center\" title=\"Minimizer\"> Migrad </th>\n",
              "    </tr>\n",
              "    <tr>\n",
              "        <td colspan=\"2\" style=\"text-align:left\" title=\"Minimum value of function\"> FCN = 222.8 (chi2/ndof = 24.8) </td>\n",
              "        <td colspan=\"3\" style=\"text-align:center\" title=\"Total number of function and (optional) gradient evaluations\"> Nfcn = 77 </td>\n",
              "    </tr>\n",
              "    <tr>\n",
              "        <td colspan=\"2\" style=\"text-align:left\" title=\"Estimated distance to minimum and goal\"> EDM = 5.24e-09 (Goal: 0.0002) </td>\n",
              "        <td colspan=\"3\" style=\"text-align:center\" title=\"Total run time of algorithms\">  </td>\n",
              "    </tr>\n",
              "    <tr>\n",
              "        <td colspan=\"2\" style=\"text-align:center;background-color:#92CCA6;color:black\"> Valid Minimum </td>\n",
              "        <td colspan=\"3\" style=\"text-align:center;background-color:#92CCA6;color:black\"> No Parameters at limit </td>\n",
              "    </tr>\n",
              "    <tr>\n",
              "        <td colspan=\"2\" style=\"text-align:center;background-color:#92CCA6;color:black\"> Below EDM threshold (goal x 10) </td>\n",
              "        <td colspan=\"3\" style=\"text-align:center;background-color:#92CCA6;color:black\"> Below call limit </td>\n",
              "    </tr>\n",
              "    <tr>\n",
              "        <td style=\"text-align:center;background-color:#92CCA6;color:black\"> Covariance </td>\n",
              "        <td style=\"text-align:center;background-color:#92CCA6;color:black\"> Hesse ok </td>\n",
              "        <td style=\"text-align:center;background-color:#92CCA6;color:black\" title=\"Is covariance matrix accurate?\"> Accurate </td>\n",
              "        <td style=\"text-align:center;background-color:#92CCA6;color:black\" title=\"Is covariance matrix positive definite?\"> Pos. def. </td>\n",
              "        <td style=\"text-align:center;background-color:#92CCA6;color:black\" title=\"Was positive definiteness enforced by Minuit?\"> Not forced </td>\n",
              "    </tr>\n",
              "</table><table>\n",
              "    <tr>\n",
              "        <td></td>\n",
              "        <th title=\"Variable name\"> Name </th>\n",
              "        <th title=\"Value of parameter\"> Value </th>\n",
              "        <th title=\"Hesse error\"> Hesse Error </th>\n",
              "        <th title=\"Minos lower error\"> Minos Error- </th>\n",
              "        <th title=\"Minos upper error\"> Minos Error+ </th>\n",
              "        <th title=\"Lower limit of the parameter\"> Limit- </th>\n",
              "        <th title=\"Upper limit of the parameter\"> Limit+ </th>\n",
              "        <th title=\"Is the parameter fixed in the fit\"> Fixed </th>\n",
              "    </tr>\n",
              "    <tr>\n",
              "        <th> 0 </th>\n",
              "        <td> α </td>\n",
              "        <td> 0.292 </td>\n",
              "        <td> 0.032 </td>\n",
              "        <td>  </td>\n",
              "        <td>  </td>\n",
              "        <td> 0 </td>\n",
              "        <td>  </td>\n",
              "        <td>  </td>\n",
              "    </tr>\n",
              "    <tr>\n",
              "        <th> 1 </th>\n",
              "        <td> β </td>\n",
              "        <td> 3.40 </td>\n",
              "        <td> 0.05 </td>\n",
              "        <td>  </td>\n",
              "        <td>  </td>\n",
              "        <td> 0 </td>\n",
              "        <td> 10 </td>\n",
              "        <td> yes </td>\n",
              "    </tr>\n",
              "</table><table>\n",
              "    <tr>\n",
              "        <td></td>\n",
              "        <th> α </th>\n",
              "        <th> β </th>\n",
              "    </tr>\n",
              "    <tr>\n",
              "        <th> α </th>\n",
              "        <td> 0.001 </td>\n",
              "        <td style=\"background-color:rgb(250,250,250);color:black\"> 0 </td>\n",
              "    </tr>\n",
              "    <tr>\n",
              "        <th> β </th>\n",
              "        <td style=\"background-color:rgb(250,250,250);color:black\"> 0 </td>\n",
              "        <td> 0 </td>\n",
              "    </tr>\n",
              "</table>"
            ]
          },
          "metadata": {},
          "execution_count": 46
        }
      ]
    },
    {
      "cell_type": "markdown",
      "source": [
        "Мы могли бы повторять это и медленно приближаться к минимуму, но это глупо; вместо этого мы освобождаем оба параметра и запускаем снова. Массивоподобные представления поддерживают широковещательную рассылку, что полезно для одновременного выпуска всех параметров."
      ],
      "metadata": {
        "id": "jssKPEixNdIU"
      }
    },
    {
      "cell_type": "code",
      "source": [
        "# use broadcasting to unfix all parameters\n",
        "m.fixed = False\n",
        "m.migrad()"
      ],
      "metadata": {
        "colab": {
          "base_uri": "https://localhost:8080/",
          "height": 273
        },
        "id": "a4G6o8-7NduR",
        "outputId": "cd70d457-0d23-4705-a004-85c1bed9a55d"
      },
      "execution_count": 47,
      "outputs": [
        {
          "output_type": "execute_result",
          "data": {
            "text/plain": [
              "┌─────────────────────────────────────────────────────────────────────────┐\n",
              "│                                Migrad                                   │\n",
              "├──────────────────────────────────┬──────────────────────────────────────┤\n",
              "│ FCN = 14.06 (chi2/ndof = 1.8)    │              Nfcn = 127              │\n",
              "│ EDM = 5.79e-07 (Goal: 0.0002)    │                                      │\n",
              "├──────────────────────────────────┼──────────────────────────────────────┤\n",
              "│          Valid Minimum           │        No Parameters at limit        │\n",
              "├──────────────────────────────────┼──────────────────────────────────────┤\n",
              "│ Below EDM threshold (goal x 10)  │           Below call limit           │\n",
              "├───────────────┬──────────────────┼───────────┬─────────────┬────────────┤\n",
              "│  Covariance   │     Hesse ok     │ Accurate  │  Pos. def.  │ Not forced │\n",
              "└───────────────┴──────────────────┴───────────┴─────────────┴────────────┘\n",
              "┌───┬──────┬───────────┬───────────┬────────────┬────────────┬─────────┬─────────┬───────┐\n",
              "│   │ Name │   Value   │ Hesse Err │ Minos Err- │ Minos Err+ │ Limit-  │ Limit+  │ Fixed │\n",
              "├───┼──────┼───────────┼───────────┼────────────┼────────────┼─────────┼─────────┼───────┤\n",
              "│ 0 │ α    │   1.01    │   0.06    │            │            │    0    │         │       │\n",
              "│ 1 │ β    │   1.97    │   0.10    │            │            │    0    │   10    │       │\n",
              "└───┴──────┴───────────┴───────────┴────────────┴────────────┴─────────┴─────────┴───────┘\n",
              "┌───┬───────────────────┐\n",
              "│   │        α        β │\n",
              "├───┼───────────────────┤\n",
              "│ α │  0.00345 -0.00491 │\n",
              "│ β │ -0.00491  0.00982 │\n",
              "└───┴───────────────────┘"
            ],
            "text/html": [
              "<table>\n",
              "    <tr>\n",
              "        <th colspan=\"5\" style=\"text-align:center\" title=\"Minimizer\"> Migrad </th>\n",
              "    </tr>\n",
              "    <tr>\n",
              "        <td colspan=\"2\" style=\"text-align:left\" title=\"Minimum value of function\"> FCN = 14.06 (chi2/ndof = 1.8) </td>\n",
              "        <td colspan=\"3\" style=\"text-align:center\" title=\"Total number of function and (optional) gradient evaluations\"> Nfcn = 127 </td>\n",
              "    </tr>\n",
              "    <tr>\n",
              "        <td colspan=\"2\" style=\"text-align:left\" title=\"Estimated distance to minimum and goal\"> EDM = 5.79e-07 (Goal: 0.0002) </td>\n",
              "        <td colspan=\"3\" style=\"text-align:center\" title=\"Total run time of algorithms\">  </td>\n",
              "    </tr>\n",
              "    <tr>\n",
              "        <td colspan=\"2\" style=\"text-align:center;background-color:#92CCA6;color:black\"> Valid Minimum </td>\n",
              "        <td colspan=\"3\" style=\"text-align:center;background-color:#92CCA6;color:black\"> No Parameters at limit </td>\n",
              "    </tr>\n",
              "    <tr>\n",
              "        <td colspan=\"2\" style=\"text-align:center;background-color:#92CCA6;color:black\"> Below EDM threshold (goal x 10) </td>\n",
              "        <td colspan=\"3\" style=\"text-align:center;background-color:#92CCA6;color:black\"> Below call limit </td>\n",
              "    </tr>\n",
              "    <tr>\n",
              "        <td style=\"text-align:center;background-color:#92CCA6;color:black\"> Covariance </td>\n",
              "        <td style=\"text-align:center;background-color:#92CCA6;color:black\"> Hesse ok </td>\n",
              "        <td style=\"text-align:center;background-color:#92CCA6;color:black\" title=\"Is covariance matrix accurate?\"> Accurate </td>\n",
              "        <td style=\"text-align:center;background-color:#92CCA6;color:black\" title=\"Is covariance matrix positive definite?\"> Pos. def. </td>\n",
              "        <td style=\"text-align:center;background-color:#92CCA6;color:black\" title=\"Was positive definiteness enforced by Minuit?\"> Not forced </td>\n",
              "    </tr>\n",
              "</table><table>\n",
              "    <tr>\n",
              "        <td></td>\n",
              "        <th title=\"Variable name\"> Name </th>\n",
              "        <th title=\"Value of parameter\"> Value </th>\n",
              "        <th title=\"Hesse error\"> Hesse Error </th>\n",
              "        <th title=\"Minos lower error\"> Minos Error- </th>\n",
              "        <th title=\"Minos upper error\"> Minos Error+ </th>\n",
              "        <th title=\"Lower limit of the parameter\"> Limit- </th>\n",
              "        <th title=\"Upper limit of the parameter\"> Limit+ </th>\n",
              "        <th title=\"Is the parameter fixed in the fit\"> Fixed </th>\n",
              "    </tr>\n",
              "    <tr>\n",
              "        <th> 0 </th>\n",
              "        <td> α </td>\n",
              "        <td> 1.01 </td>\n",
              "        <td> 0.06 </td>\n",
              "        <td>  </td>\n",
              "        <td>  </td>\n",
              "        <td> 0 </td>\n",
              "        <td>  </td>\n",
              "        <td>  </td>\n",
              "    </tr>\n",
              "    <tr>\n",
              "        <th> 1 </th>\n",
              "        <td> β </td>\n",
              "        <td> 1.97 </td>\n",
              "        <td> 0.10 </td>\n",
              "        <td>  </td>\n",
              "        <td>  </td>\n",
              "        <td> 0 </td>\n",
              "        <td> 10 </td>\n",
              "        <td>  </td>\n",
              "    </tr>\n",
              "</table><table>\n",
              "    <tr>\n",
              "        <td></td>\n",
              "        <th> α </th>\n",
              "        <th> β </th>\n",
              "    </tr>\n",
              "    <tr>\n",
              "        <th> α </th>\n",
              "        <td> 0.00345 </td>\n",
              "        <td style=\"background-color:rgb(140,140,250);color:black\"> -0.00491 <strong>(-0.843)</strong> </td>\n",
              "    </tr>\n",
              "    <tr>\n",
              "        <th> β </th>\n",
              "        <td style=\"background-color:rgb(140,140,250);color:black\"> -0.00491 <strong>(-0.843)</strong> </td>\n",
              "        <td> 0.00982 </td>\n",
              "    </tr>\n",
              "</table>"
            ]
          },
          "metadata": {},
          "execution_count": 47
        }
      ]
    },
    {
      "cell_type": "markdown",
      "source": [
        "### Различные начальные точки для минимизации"
      ],
      "metadata": {
        "id": "4JlUN_qhNi2i"
      }
    },
    {
      "cell_type": "markdown",
      "source": [
        "Иногда полезно вручную изменить значения некоторых фиксированных параметров и подобрать другие или перезапустить подбор с другой начальной точки. Например, если функция стоимости имеет несколько минимумов, изменение начального значения может быть использовано для поиска другого минимума."
      ],
      "metadata": {
        "id": "7xXtL6Y5NjqC"
      }
    },
    {
      "cell_type": "code",
      "source": [
        "def cost_function_with_two_minima(x):\n",
        "    return x ** 4 - x ** 2 + 1\n",
        "\n",
        "x = np.linspace(-1.5, 1.5)\n",
        "plt.plot(x, cost_function_with_two_minima(x));"
      ],
      "metadata": {
        "colab": {
          "base_uri": "https://localhost:8080/",
          "height": 265
        },
        "id": "p05UdnjXNlr_",
        "outputId": "78f916c7-c078-489d-cb98-e3e76c0cc29b"
      },
      "execution_count": 48,
      "outputs": [
        {
          "output_type": "display_data",
          "data": {
            "text/plain": [
              "<Figure size 432x288 with 1 Axes>"
            ],
            "image/png": "[encoded data removed]"
          },
          "metadata": {
            "needs_background": "light"
          }
        }
      ]
    },
    {
      "cell_type": "code",
      "source": [
        "# starting at -0.1 gives the left minimum\n",
        "m = Minuit(cost_function_with_two_minima, x=-0.1)\n",
        "m.migrad()\n",
        "print(\"starting value -0.1, minimum at\", m.values[\"x\"])\n",
        "\n",
        "# changing the starting value to 0.1 gives the right minimum\n",
        "m.values[\"x\"] = 0.1  # m.values[0] = 0.1 also works\n",
        "m.migrad()\n",
        "print(\"starting value +0.1, minimum at\", m.values[\"x\"])"
      ],
      "metadata": {
        "colab": {
          "base_uri": "https://localhost:8080/"
        },
        "id": "mFnXGQToNqom",
        "outputId": "f55e044b-f36c-40a6-eb09-1d26756349e4"
      },
      "execution_count": 49,
      "outputs": [
        {
          "output_type": "stream",
          "name": "stdout",
          "text": [
            "starting value -0.1, minimum at -0.7085906080341975\n",
            "starting value +0.1, minimum at 0.708796091342642\n"
          ]
        }
      ]
    }
  ],
  "metadata": {
    "kernelspec": {
      "display_name": "Python 3",
      "language": "python3.6",
      "name": "python3"
    },
    "language_info": {
      "codemirror_mode": {
        "name": "ipython",
        "version": 3
      },
      "file_extension": ".py",
      "mimetype": "text/x-python",
      "name": "python",
      "nbconvert_exporter": "python",
      "pygments_lexer": "ipython3",
      "version": "3.6.1"
    },
    "colab": {
      "provenance": [],
      "toc_visible": true,
      "include_colab_link": true
    }
  },
  "nbformat": 4,
  "nbformat_minor": 0
}