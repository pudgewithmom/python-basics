{
  "nbformat": 4,
  "nbformat_minor": 0,
  "metadata": {
    "colab": {
      "provenance": [],
      "collapsed_sections": []
    },
    "kernelspec": {
      "name": "python3",
      "display_name": "Python 3"
    },
    "language_info": {
      "name": "python"
    }
  },
  "cells": [
    {
      "cell_type": "code",
      "execution_count": 2,
      "metadata": {
        "id": "EXr2dwpC_dCB"
      },
      "outputs": [],
      "source": [
        "import numpy as np"
      ]
    },
    {
      "cell_type": "code",
      "source": [
        "a = np.array([0, 2, 1])\n",
        "print(a, type(a))\n",
        "b = np.array([1, 4, 5, 8],\n",
        "float)\n",
        "print(b, type(b))"
      ],
      "metadata": {
        "colab": {
          "base_uri": "https://localhost:8080/"
        },
        "id": "B42rnKbz_vED",
        "outputId": "0f74c83b-2428-4d00-939f-b8e787f3a886"
      },
      "execution_count": null,
      "outputs": [
        {
          "output_type": "stream",
          "name": "stdout",
          "text": [
            "[0 2 1] <class 'numpy.ndarray'>\n",
            "[1. 4. 5. 8.] <class 'numpy.ndarray'>\n"
          ]
        }
      ]
    },
    {
      "cell_type": "code",
      "source": [
        "b = np.array([1, 4, 5, 8],\n",
        "float)\n",
        "print(b, type(b))\n",
        "print(b[:2])\n",
        "print(b[3])\n",
        "b[0]=20\n",
        "print(b)"
      ],
      "metadata": {
        "colab": {
          "base_uri": "https://localhost:8080/"
        },
        "id": "iRFWCAsK_xcp",
        "outputId": "46ed78e9-f113-40ed-de93-91b709344824"
      },
      "execution_count": null,
      "outputs": [
        {
          "output_type": "stream",
          "name": "stdout",
          "text": [
            "[1. 4. 5. 8.] <class 'numpy.ndarray'>\n",
            "[1. 4.]\n",
            "8.0\n",
            "[20.  4.  5.  8.]\n"
          ]
        }
      ]
    },
    {
      "cell_type": "code",
      "source": [
        "a = np.array([[1, 2, 3], [4, 5, 6]],\n",
        "float)\n",
        "print(a)\n",
        "print(a[0,0])\n",
        "print(a[0,1])"
      ],
      "metadata": {
        "colab": {
          "base_uri": "https://localhost:8080/"
        },
        "id": "en_bc0fj_zsR",
        "outputId": "39aea3cd-04c4-4f7f-aafd-573d9431c370"
      },
      "execution_count": null,
      "outputs": [
        {
          "output_type": "stream",
          "name": "stdout",
          "text": [
            "[[1. 2. 3.]\n",
            " [4. 5. 6.]]\n",
            "1.0\n",
            "2.0\n"
          ]
        }
      ]
    },
    {
      "cell_type": "code",
      "source": [
        "a = np.array([[1, 2, 3], [4, 5, 6]],\n",
        "float)\n",
        "print(a)\n",
        "print(a[1,:])\n",
        "print(a[:,2])\n",
        "print(a[-1:, -2:])"
      ],
      "metadata": {
        "colab": {
          "base_uri": "https://localhost:8080/"
        },
        "id": "wDFG7KNqACXi",
        "outputId": "357d01fe-8ae4-45dc-84e5-ea6095fceaf1"
      },
      "execution_count": null,
      "outputs": [
        {
          "output_type": "stream",
          "name": "stdout",
          "text": [
            "[[1. 2. 3.]\n",
            " [4. 5. 6.]]\n",
            "[4. 5. 6.]\n",
            "[3. 6.]\n",
            "[[5. 6.]]\n"
          ]
        }
      ]
    },
    {
      "cell_type": "code",
      "source": [
        "a = np.array([[1, 2, 3], [4, 5, 6]],\n",
        "float)\n",
        "print(a)\n",
        "print(a.shape)"
      ],
      "metadata": {
        "colab": {
          "base_uri": "https://localhost:8080/"
        },
        "id": "RFCi0K7IAc9L",
        "outputId": "80c3057a-8316-4d6f-8740-9fa7aee6eaf4"
      },
      "execution_count": null,
      "outputs": [
        {
          "output_type": "stream",
          "name": "stdout",
          "text": [
            "[[1. 2. 3.]\n",
            " [4. 5. 6.]]\n",
            "(2, 3)\n"
          ]
        }
      ]
    },
    {
      "cell_type": "code",
      "source": [
        "a = np.array([[1, 2, 3], [4, 5, 6]],\n",
        "float)\n",
        "print(a)\n",
        "print(a.dtype)"
      ],
      "metadata": {
        "colab": {
          "base_uri": "https://localhost:8080/"
        },
        "id": "8k8juKyZAoKS",
        "outputId": "41e7f1e7-5817-4822-9e1b-feebe6aaa29d"
      },
      "execution_count": null,
      "outputs": [
        {
          "output_type": "stream",
          "name": "stdout",
          "text": [
            "[[1. 2. 3.]\n",
            " [4. 5. 6.]]\n",
            "float64\n"
          ]
        }
      ]
    },
    {
      "cell_type": "code",
      "source": [
        "a = np.array([[1, 2, 3], [4, 5, 6]],\n",
        "float)\n",
        "print(a)\n",
        "print(len(a))\n",
        "print(len(a[0]))"
      ],
      "metadata": {
        "colab": {
          "base_uri": "https://localhost:8080/"
        },
        "id": "NwoDfpxEAvjq",
        "outputId": "c3d0d55a-aec8-4d18-918b-a0e72bdb09ab"
      },
      "execution_count": null,
      "outputs": [
        {
          "output_type": "stream",
          "name": "stdout",
          "text": [
            "[[1. 2. 3.]\n",
            " [4. 5. 6.]]\n",
            "2\n",
            "3\n"
          ]
        }
      ]
    },
    {
      "cell_type": "code",
      "source": [
        "a = np.array([[1, 2, 3], [4, 5, 6]],\n",
        "float)\n",
        "print(a)\n",
        "print(2 in a)\n",
        "print(0 in a)"
      ],
      "metadata": {
        "colab": {
          "base_uri": "https://localhost:8080/"
        },
        "id": "Tk9eFOmpAxLi",
        "outputId": "515a283d-1c96-4568-cd44-08549a52f5db"
      },
      "execution_count": null,
      "outputs": [
        {
          "output_type": "stream",
          "name": "stdout",
          "text": [
            "[[1. 2. 3.]\n",
            " [4. 5. 6.]]\n",
            "True\n",
            "False\n"
          ]
        }
      ]
    },
    {
      "cell_type": "code",
      "source": [
        "a = np.array(range(10),\n",
        "float)\n",
        "print(a)\n",
        "a = a.reshape((5, 2))\n",
        "print(a)\n",
        "print(a.shape)"
      ],
      "metadata": {
        "colab": {
          "base_uri": "https://localhost:8080/"
        },
        "id": "5vD3o0mSA5Gr",
        "outputId": "4b202ba1-d229-4dd9-f73b-ba1d6b2db012"
      },
      "execution_count": null,
      "outputs": [
        {
          "output_type": "stream",
          "name": "stdout",
          "text": [
            "[0. 1. 2. 3. 4. 5. 6. 7. 8. 9.]\n",
            "[[0. 1.]\n",
            " [2. 3.]\n",
            " [4. 5.]\n",
            " [6. 7.]\n",
            " [8. 9.]]\n",
            "(5, 2)\n"
          ]
        }
      ]
    },
    {
      "cell_type": "code",
      "source": [
        "a = np.array([1, 2, 3],\n",
        "float)\n",
        "b = a\n",
        "c = a.copy()\n",
        "a[0] = 0\n",
        "print(a)\n",
        "print(b)\n",
        "print(c)\n",
        "a[0]=7\n",
        "print(b)\n",
        "print(b)\n",
        "print(c)"
      ],
      "metadata": {
        "colab": {
          "base_uri": "https://localhost:8080/"
        },
        "id": "cI_6eCX6BSjq",
        "outputId": "ba0cc700-3417-4543-cc8e-fb422a8e3954"
      },
      "execution_count": null,
      "outputs": [
        {
          "output_type": "stream",
          "name": "stdout",
          "text": [
            "[0. 2. 3.]\n",
            "[0. 2. 3.]\n",
            "[1. 2. 3.]\n",
            "[7. 2. 3.]\n",
            "[7. 2. 3.]\n",
            "[1. 2. 3.]\n"
          ]
        }
      ]
    },
    {
      "cell_type": "code",
      "source": [
        "a = np.array([1, 2, 3],\n",
        "float)\n",
        "print(a.tolist())\n",
        "print(list(a))"
      ],
      "metadata": {
        "colab": {
          "base_uri": "https://localhost:8080/"
        },
        "id": "v6TbFJfhB0Pr",
        "outputId": "d0f204ad-822d-4019-fda6-4370971d6e76"
      },
      "execution_count": null,
      "outputs": [
        {
          "output_type": "stream",
          "name": "stdout",
          "text": [
            "[1.0, 2.0, 3.0]\n",
            "[1.0, 2.0, 3.0]\n"
          ]
        }
      ]
    },
    {
      "cell_type": "code",
      "source": [
        "a = np.array([1, 2, 3],\n",
        "float)\n",
        "s = a.tostring()\n",
        "print(s)\n",
        "print(np.fromstring(s))"
      ],
      "metadata": {
        "colab": {
          "base_uri": "https://localhost:8080/"
        },
        "id": "0dxfHh7yB7bb",
        "outputId": "b0f38aca-9531-44c2-e0c8-1b16a2a3fa8e"
      },
      "execution_count": null,
      "outputs": [
        {
          "output_type": "stream",
          "name": "stdout",
          "text": [
            "b'\\x00\\x00\\x00\\x00\\x00\\x00\\xf0?\\x00\\x00\\x00\\x00\\x00\\x00\\x00@\\x00\\x00\\x00\\x00\\x00\\x00\\x08@'\n",
            "[1. 2. 3.]\n"
          ]
        },
        {
          "output_type": "stream",
          "name": "stderr",
          "text": [
            "/usr/local/lib/python3.7/dist-packages/ipykernel_launcher.py:3: DeprecationWarning: tostring() is deprecated. Use tobytes() instead.\n",
            "  This is separate from the ipykernel package so we can avoid doing imports until\n",
            "/usr/local/lib/python3.7/dist-packages/ipykernel_launcher.py:5: DeprecationWarning: The binary mode of fromstring is deprecated, as it behaves surprisingly on unicode inputs. Use frombuffer instead\n",
            "  \"\"\"\n"
          ]
        }
      ]
    },
    {
      "cell_type": "code",
      "source": [
        "a = np.array([1, 2, 3],\n",
        "float)\n",
        "print(a)\n",
        "a.fill(20)\n",
        "print(a)"
      ],
      "metadata": {
        "colab": {
          "base_uri": "https://localhost:8080/"
        },
        "id": "5-6QzY-yCM5E",
        "outputId": "61232f57-6c8e-4215-e421-d2ab2851cd12"
      },
      "execution_count": null,
      "outputs": [
        {
          "output_type": "stream",
          "name": "stdout",
          "text": [
            "[1. 2. 3.]\n",
            "[20. 20. 20.]\n"
          ]
        }
      ]
    },
    {
      "cell_type": "code",
      "source": [
        "a = np.array(range(6), float).reshape((2,\n",
        "3))\n",
        "print(a)\n",
        "print(\"Transpose:\")\n",
        "print(a.transpose())"
      ],
      "metadata": {
        "colab": {
          "base_uri": "https://localhost:8080/"
        },
        "id": "QsE98flGCWPa",
        "outputId": "1903dce5-2711-47cc-aea8-33ea609aab35"
      },
      "execution_count": null,
      "outputs": [
        {
          "output_type": "stream",
          "name": "stdout",
          "text": [
            "[[0. 1. 2.]\n",
            " [3. 4. 5.]]\n",
            "Transpose:\n",
            "[[0. 3.]\n",
            " [1. 4.]\n",
            " [2. 5.]]\n"
          ]
        }
      ]
    },
    {
      "cell_type": "code",
      "source": [
        "a = np.array([[1, 2, 3], [4, 5, 6]],\n",
        "float)\n",
        "print(a)\n",
        "print(\"Flatten:\")\n",
        "b=a.flatten()\n",
        "print(b)"
      ],
      "metadata": {
        "colab": {
          "base_uri": "https://localhost:8080/"
        },
        "id": "yX6_hk_4CeWA",
        "outputId": "f824dc3a-35b3-4538-ae26-47c117b2cbf4"
      },
      "execution_count": null,
      "outputs": [
        {
          "output_type": "stream",
          "name": "stdout",
          "text": [
            "[[1. 2. 3.]\n",
            " [4. 5. 6.]]\n",
            "Flatten:\n",
            "[1. 2. 3. 4. 5. 6.]\n"
          ]
        }
      ]
    },
    {
      "cell_type": "code",
      "source": [
        "a = np.array([1,2], float)\n",
        "b = np.array([3,4,5,6],\n",
        "float)\n",
        "c = np.array([7,8,9], float)\n",
        "print(\"A:\")\n",
        "print(a)\n",
        "print(\"B\")\n",
        "print(b)\n",
        "print(\"C\")\n",
        "print(c)\n",
        "print(\"Concatenate:\")\n",
        "d=np.concatenate((a, b, c))\n",
        "print(d)"
      ],
      "metadata": {
        "colab": {
          "base_uri": "https://localhost:8080/"
        },
        "id": "7KqIW9zSCpvR",
        "outputId": "6b491111-0555-4aa1-c1e1-f390ec62bba3"
      },
      "execution_count": null,
      "outputs": [
        {
          "output_type": "stream",
          "name": "stdout",
          "text": [
            "A:\n",
            "[1. 2.]\n",
            "B\n",
            "[3. 4. 5. 6.]\n",
            "C\n",
            "[7. 8. 9.]\n",
            "Concatenate:\n",
            "[1. 2. 3. 4. 5. 6. 7. 8. 9.]\n"
          ]
        }
      ]
    },
    {
      "cell_type": "code",
      "source": [
        "a = np.array([[1, 2], [3, 4]],\n",
        "float)\n",
        "b = np.array([[5, 6], [7,8]], float)\n",
        "print(\"A:\")\n",
        "print(a)\n",
        "print(\"B\")\n",
        "print(b)\n",
        "print(\"Concatenate:\")\n",
        "c=np.concatenate((a,b))\n",
        "print(c)\n",
        "print(\"Concatenate axis=0:\")\n",
        "d=np.concatenate((a,b), axis=0)\n",
        "print(d)\n",
        "print(\"Concatenate axis=1:\")\n",
        "e=np.concatenate((a,b), axis=1)\n",
        "print(e)"
      ],
      "metadata": {
        "colab": {
          "base_uri": "https://localhost:8080/"
        },
        "id": "zh52MtarDuu9",
        "outputId": "5d4901c2-c7a2-4ad2-b188-06680db83710"
      },
      "execution_count": null,
      "outputs": [
        {
          "output_type": "stream",
          "name": "stdout",
          "text": [
            "A:\n",
            "[[1. 2.]\n",
            " [3. 4.]]\n",
            "B\n",
            "[[5. 6.]\n",
            " [7. 8.]]\n",
            "Concatenate:\n",
            "[[1. 2.]\n",
            " [3. 4.]\n",
            " [5. 6.]\n",
            " [7. 8.]]\n",
            "Concatenate axis=0:\n",
            "[[1. 2.]\n",
            " [3. 4.]\n",
            " [5. 6.]\n",
            " [7. 8.]]\n",
            "Concatenate axis=1:\n",
            "[[1. 2. 5. 6.]\n",
            " [3. 4. 7. 8.]]\n"
          ]
        }
      ]
    },
    {
      "cell_type": "code",
      "source": [
        "import numpy as np\n",
        "a = np.array([[1, 2], [3, 4]],\n",
        "float)\n",
        "b = np.array([[5, 6], [7,8]], float)\n",
        "print(\"A:\")\n",
        "print(a)\n",
        "print(\"B:\")\n",
        "print(b)\n",
        "print(\"a[:,np.newaxis]:\")\n",
        "print(a[:,np.newaxis])\n",
        "print(\"a[:,np.newaxis].shape:\")\n",
        "print(a[:,np.newaxis].shape)\n",
        "print(\"[np.newaxis,:]\")\n",
        "print( b[np.newaxis,:])\n",
        "print(\"b[np.newaxis,:].shape\")\n",
        "print(b[np.newaxis,:].shape)"
      ],
      "metadata": {
        "colab": {
          "base_uri": "https://localhost:8080/"
        },
        "id": "wbMEvmtEiYJc",
        "outputId": "3266354a-3142-4f2c-954b-8f113f41c5e0"
      },
      "execution_count": null,
      "outputs": [
        {
          "output_type": "stream",
          "name": "stdout",
          "text": [
            "A:\n",
            "[[1. 2.]\n",
            " [3. 4.]]\n",
            "B:\n",
            "[[5. 6.]\n",
            " [7. 8.]]\n",
            "a[:,np.newaxis]:\n",
            "[[[1. 2.]]\n",
            "\n",
            " [[3. 4.]]]\n",
            "a[:,np.newaxis].shape:\n",
            "(2, 1, 2)\n",
            "[np.newaxis,:]\n",
            "[[[5. 6.]\n",
            "  [7. 8.]]]\n",
            "b[np.newaxis,:].shape\n",
            "(1, 2, 2)\n"
          ]
        }
      ]
    },
    {
      "cell_type": "code",
      "source": [
        "a=np.arange(5, dtype=float)\n",
        "print(a)\n",
        "print()\n",
        "b=np.arange(1, 10, 2,\n",
        "dtype=int)\n",
        "print(b)"
      ],
      "metadata": {
        "colab": {
          "base_uri": "https://localhost:8080/"
        },
        "id": "o4L41yFDjRmQ",
        "outputId": "a8c268a1-0195-47ec-9e15-2cd849fd8573"
      },
      "execution_count": null,
      "outputs": [
        {
          "output_type": "stream",
          "name": "stdout",
          "text": [
            "[0. 1. 2. 3. 4.]\n",
            "\n",
            "[1 3 5 7 9]\n"
          ]
        }
      ]
    },
    {
      "cell_type": "code",
      "source": [
        "a=np.ones((2,3),\n",
        "dtype=float)\n",
        "b=np.zeros(7, dtype=int)\n",
        "print(a)\n",
        "print(b)"
      ],
      "metadata": {
        "colab": {
          "base_uri": "https://localhost:8080/"
        },
        "id": "6H_cZy8sjUCe",
        "outputId": "8b083e29-5dd4-4ed2-abca-6c09867bed32"
      },
      "execution_count": null,
      "outputs": [
        {
          "output_type": "stream",
          "name": "stdout",
          "text": [
            "[[1. 1. 1.]\n",
            " [1. 1. 1.]]\n",
            "[0 0 0 0 0 0 0]\n"
          ]
        }
      ]
    },
    {
      "cell_type": "code",
      "source": [
        "a = np.array([[1, 2, 3], [4, 5, 6]],\n",
        "float)\n",
        "b=np.zeros_like(a)\n",
        "c= np.ones_like(a)\n",
        "print(\"A:\")\n",
        "print(a)\n",
        "print(\"B:\")\n",
        "print(b)\n",
        "print(\"C:\")\n",
        "print(c)"
      ],
      "metadata": {
        "colab": {
          "base_uri": "https://localhost:8080/"
        },
        "id": "J9PCYObvjVzW",
        "outputId": "b9baf1df-6e66-4ed0-e0fc-a085f4b5ea81"
      },
      "execution_count": null,
      "outputs": [
        {
          "output_type": "stream",
          "name": "stdout",
          "text": [
            "A:\n",
            "[[1. 2. 3.]\n",
            " [4. 5. 6.]]\n",
            "B:\n",
            "[[0. 0. 0.]\n",
            " [0. 0. 0.]]\n",
            "C:\n",
            "[[1. 1. 1.]\n",
            " [1. 1. 1.]]\n"
          ]
        }
      ]
    },
    {
      "cell_type": "code",
      "source": [
        "a=np.identity(4,\n",
        "dtype=float)\n",
        "print(a)"
      ],
      "metadata": {
        "colab": {
          "base_uri": "https://localhost:8080/"
        },
        "id": "-V-3s9lljm1W",
        "outputId": "3728aaa1-0ce4-48f7-96d0-22361e335482"
      },
      "execution_count": null,
      "outputs": [
        {
          "output_type": "stream",
          "name": "stdout",
          "text": [
            "[[1. 0. 0. 0.]\n",
            " [0. 1. 0. 0.]\n",
            " [0. 0. 1. 0.]\n",
            " [0. 0. 0. 1.]]\n"
          ]
        }
      ]
    },
    {
      "cell_type": "code",
      "source": [
        "a=np.eye(4, k=1,\n",
        "dtype=float)\n",
        "print(a)"
      ],
      "metadata": {
        "colab": {
          "base_uri": "https://localhost:8080/"
        },
        "id": "N_RTTeEpjq93",
        "outputId": "af46c282-3119-4c7b-e158-d8c05db087f5"
      },
      "execution_count": null,
      "outputs": [
        {
          "output_type": "stream",
          "name": "stdout",
          "text": [
            "[[0. 1. 0. 0.]\n",
            " [0. 0. 1. 0.]\n",
            " [0. 0. 0. 1.]\n",
            " [0. 0. 0. 0.]]\n"
          ]
        }
      ]
    },
    {
      "cell_type": "code",
      "source": [
        "a = np.array([1,2,3], float)\n",
        "b = np.array([5,2,6],\n",
        "float)\n",
        "print(\"A:\")\n",
        "print(a)\n",
        "print(\"B:\")\n",
        "print(b)\n",
        "print(\"A+B:\")\n",
        "print(a+b)\n",
        "print(\"A-B:\")\n",
        "print(a-b)\n",
        "print(\"A*B:\")\n",
        "print(a*b)\n",
        "print(\"A/B:\")\n",
        "print(a/b)\n",
        "print(\"A%B:\")\n",
        "print(a%b)\n",
        "print(\"B^A:\")\n",
        "print(b**a)"
      ],
      "metadata": {
        "colab": {
          "base_uri": "https://localhost:8080/"
        },
        "id": "1uZLrMJbjtVf",
        "outputId": "68061d92-2cdc-4940-b7be-38d7ecca27ae"
      },
      "execution_count": null,
      "outputs": [
        {
          "output_type": "stream",
          "name": "stdout",
          "text": [
            "A:\n",
            "[1. 2. 3.]\n",
            "B:\n",
            "[5. 2. 6.]\n",
            "A+B:\n",
            "[6. 4. 9.]\n",
            "A-B:\n",
            "[-4.  0. -3.]\n",
            "A*B:\n",
            "[ 5.  4. 18.]\n",
            "A/B:\n",
            "[0.2 1.  0.5]\n",
            "A%B:\n",
            "[1. 0. 3.]\n",
            "B^A:\n",
            "[  5.   4. 216.]\n"
          ]
        }
      ]
    },
    {
      "cell_type": "code",
      "source": [
        "a = np.array([[1,2], [3,4]], float)\n",
        "b = np.array([[2,0], [1,3]],\n",
        "float)\n",
        "c=a * b\n",
        "print(c)"
      ],
      "metadata": {
        "colab": {
          "base_uri": "https://localhost:8080/"
        },
        "id": "6mhfZ2CNjxom",
        "outputId": "d44a2f46-690f-4870-e1b6-03f692473a52"
      },
      "execution_count": null,
      "outputs": [
        {
          "output_type": "stream",
          "name": "stdout",
          "text": [
            "[[ 2.  0.]\n",
            " [ 3. 12.]]\n"
          ]
        }
      ]
    },
    {
      "cell_type": "code",
      "source": [
        "a = np.array([1,2,3],\n",
        "float)\n",
        "b = np.array([4,5], float)\n",
        "c=a + b\n",
        "print(c)"
      ],
      "metadata": {
        "colab": {
          "base_uri": "https://localhost:8080/",
          "height": 217
        },
        "id": "SHuctzX-jy7x",
        "outputId": "a8a5329d-0a7c-41ad-ad22-c1a625742731"
      },
      "execution_count": null,
      "outputs": [
        {
          "output_type": "error",
          "ename": "ValueError",
          "evalue": "ignored",
          "traceback": [
            "\u001b[0;31m---------------------------------------------------------------------------\u001b[0m",
            "\u001b[0;31mValueError\u001b[0m                                Traceback (most recent call last)",
            "\u001b[0;32m<ipython-input-27-da4376f3875e>\u001b[0m in \u001b[0;36m<module>\u001b[0;34m\u001b[0m\n\u001b[1;32m      2\u001b[0m float)\n\u001b[1;32m      3\u001b[0m \u001b[0mb\u001b[0m \u001b[0;34m=\u001b[0m \u001b[0mnp\u001b[0m\u001b[0;34m.\u001b[0m\u001b[0marray\u001b[0m\u001b[0;34m(\u001b[0m\u001b[0;34m[\u001b[0m\u001b[0;36m4\u001b[0m\u001b[0;34m,\u001b[0m\u001b[0;36m5\u001b[0m\u001b[0;34m]\u001b[0m\u001b[0;34m,\u001b[0m \u001b[0mfloat\u001b[0m\u001b[0;34m)\u001b[0m\u001b[0;34m\u001b[0m\u001b[0;34m\u001b[0m\u001b[0m\n\u001b[0;32m----> 4\u001b[0;31m \u001b[0mc\u001b[0m\u001b[0;34m=\u001b[0m\u001b[0ma\u001b[0m \u001b[0;34m+\u001b[0m \u001b[0mb\u001b[0m\u001b[0;34m\u001b[0m\u001b[0;34m\u001b[0m\u001b[0m\n\u001b[0m\u001b[1;32m      5\u001b[0m \u001b[0mprint\u001b[0m\u001b[0;34m(\u001b[0m\u001b[0mc\u001b[0m\u001b[0;34m)\u001b[0m\u001b[0;34m\u001b[0m\u001b[0;34m\u001b[0m\u001b[0m\n",
            "\u001b[0;31mValueError\u001b[0m: operands could not be broadcast together with shapes (3,) (2,) "
          ]
        }
      ]
    },
    {
      "cell_type": "code",
      "source": [
        "a = np.array([[1, 2], [3, 4], [5, 6]],\n",
        "float)\n",
        "\n",
        "b = np.array([-1, 3], float)\n",
        "print(\"A:\")\n",
        "print(a)\n",
        "print(\"B:\")\n",
        "print(b)\n",
        "print(\"A+B\")\n",
        "print(a+b)"
      ],
      "metadata": {
        "colab": {
          "base_uri": "https://localhost:8080/"
        },
        "id": "rASJPgoIj1Of",
        "outputId": "9f557e57-acdb-440c-c015-77d5333168cf"
      },
      "execution_count": null,
      "outputs": [
        {
          "output_type": "stream",
          "name": "stdout",
          "text": [
            "A:\n",
            "[[1. 2.]\n",
            " [3. 4.]\n",
            " [5. 6.]]\n",
            "B:\n",
            "[-1.  3.]\n",
            "A+B\n",
            "[[0. 5.]\n",
            " [2. 7.]\n",
            " [4. 9.]]\n"
          ]
        }
      ]
    },
    {
      "cell_type": "code",
      "source": [
        "a = np.zeros((2,2), float)\n",
        "b = np.array([-1., 3.], float)\n",
        "print(\"A:\")\n",
        "print(a)\n",
        "print(\"B:\")\n",
        "print(b)\n",
        "print(\"A+B:\")\n",
        "print(a+b)\n",
        "print(\"a + b[np.newaxis,:]:\")\n",
        "\n",
        "print(a + b[np.newaxis,:])\n",
        "print(\"a + b[:,np.newaxis]:\")\n",
        "print(a + b[:,np.newaxis])"
      ],
      "metadata": {
        "colab": {
          "base_uri": "https://localhost:8080/"
        },
        "id": "PEFjTv1Fj5jW",
        "outputId": "40add1df-0dbb-4b55-b1a4-1c6700cf8a0e"
      },
      "execution_count": null,
      "outputs": [
        {
          "output_type": "stream",
          "name": "stdout",
          "text": [
            "A:\n",
            "[[0. 0.]\n",
            " [0. 0.]]\n",
            "B:\n",
            "[-1.  3.]\n",
            "A+B:\n",
            "[[-1.  3.]\n",
            " [-1.  3.]]\n",
            "a + b[np.newaxis,:]:\n",
            "[[-1.  3.]\n",
            " [-1.  3.]]\n",
            "a + b[:,np.newaxis]:\n",
            "[[-1. -1.]\n",
            " [ 3.  3.]]\n"
          ]
        }
      ]
    },
    {
      "cell_type": "code",
      "source": [
        "a = np.array([1, 4, 9],\n",
        "float)\n",
        "print(\"A:\")\n",
        "print(a)\n",
        "print(\"sqrt(a):\")\n",
        "b=np.sqrt(a)\n",
        "print(b)"
      ],
      "metadata": {
        "colab": {
          "base_uri": "https://localhost:8080/"
        },
        "id": "ehvRqNIakDtH",
        "outputId": "8329a95a-541d-4415-a0fc-c01cd7953d09"
      },
      "execution_count": null,
      "outputs": [
        {
          "output_type": "stream",
          "name": "stdout",
          "text": [
            "A:\n",
            "[1. 4. 9.]\n",
            "sqrt(a):\n",
            "[1. 2. 3.]\n"
          ]
        }
      ]
    },
    {
      "cell_type": "code",
      "source": [
        "a = np.array([1.1, 1.5, 1.9],\n",
        "\n",
        "float)\n",
        "print(\"A:\")\n",
        "print(a)\n",
        "print(\"floor(a):\")\n",
        "b=np.floor(a)\n",
        "print(b)\n",
        "print(\"ceil(a):\")\n",
        "c=np.ceil(a)\n",
        "print(c)\n",
        "print(\"rint(a):\")\n",
        "d=np.rint(a)\n",
        "print(d)"
      ],
      "metadata": {
        "colab": {
          "base_uri": "https://localhost:8080/"
        },
        "id": "lVc_xTPIkHiW",
        "outputId": "61f7745f-5b1a-45ab-f137-29f5a25c1db5"
      },
      "execution_count": null,
      "outputs": [
        {
          "output_type": "stream",
          "name": "stdout",
          "text": [
            "A:\n",
            "[1.1 1.5 1.9]\n",
            "floor(a):\n",
            "[1. 1. 1.]\n",
            "ceil(a):\n",
            "[2. 2. 2.]\n",
            "rint(a):\n",
            "[1. 2. 2.]\n"
          ]
        }
      ]
    },
    {
      "cell_type": "code",
      "source": [
        "print(\"PI:\", np.pi)\n",
        "print(\"E:\", np.e)"
      ],
      "metadata": {
        "colab": {
          "base_uri": "https://localhost:8080/"
        },
        "id": "EJL8E19JkR4n",
        "outputId": "88508dca-1ecb-4559-c084-86fea784cfa2"
      },
      "execution_count": null,
      "outputs": [
        {
          "output_type": "stream",
          "name": "stdout",
          "text": [
            "PI: 3.141592653589793\n",
            "E: 2.718281828459045\n"
          ]
        }
      ]
    },
    {
      "cell_type": "code",
      "source": [
        "a = np.array([1, 4, 5],\n",
        "int)\n",
        "for x in a:\n",
        "  print(x)"
      ],
      "metadata": {
        "colab": {
          "base_uri": "https://localhost:8080/"
        },
        "id": "5dj5oyo5kWJn",
        "outputId": "4e6d604c-4b2e-4351-b775-98e74172c960"
      },
      "execution_count": null,
      "outputs": [
        {
          "output_type": "stream",
          "name": "stdout",
          "text": [
            "1\n",
            "4\n",
            "5\n"
          ]
        }
      ]
    },
    {
      "cell_type": "code",
      "source": [
        "a = np.array([[1, 2], [3, 4], [5, 6]],\n",
        "float)\n",
        "for x in a:\n",
        "  print(x)"
      ],
      "metadata": {
        "colab": {
          "base_uri": "https://localhost:8080/"
        },
        "id": "hZPrjRu1kbSe",
        "outputId": "56e536c1-e31b-4004-880a-2c2868b2efef"
      },
      "execution_count": null,
      "outputs": [
        {
          "output_type": "stream",
          "name": "stdout",
          "text": [
            "[1. 2.]\n",
            "[3. 4.]\n",
            "[5. 6.]\n"
          ]
        }
      ]
    },
    {
      "cell_type": "code",
      "source": [
        "a = np.array([[1, 2], [3, 4], [5, 6]],\n",
        "float)\n",
        "for (x, y) in a:\n",
        "  print (x * y)"
      ],
      "metadata": {
        "colab": {
          "base_uri": "https://localhost:8080/"
        },
        "id": "tMTYbRH0khFn",
        "outputId": "d558a86a-de56-4308-d6e8-7564f8f8715b"
      },
      "execution_count": null,
      "outputs": [
        {
          "output_type": "stream",
          "name": "stdout",
          "text": [
            "2.0\n",
            "12.0\n",
            "30.0\n"
          ]
        }
      ]
    },
    {
      "cell_type": "code",
      "source": [
        "a = np.array([2, 4, 3],\n",
        "float)\n",
        "S= a.sum()\n",
        "P=a.prod()\n",
        "print(' S=',S, 'P=',P)"
      ],
      "metadata": {
        "colab": {
          "base_uri": "https://localhost:8080/"
        },
        "id": "P2tNX-uvkjzH",
        "outputId": "8834dc17-250c-4d58-e428-938a43135f04"
      },
      "execution_count": null,
      "outputs": [
        {
          "output_type": "stream",
          "name": "stdout",
          "text": [
            " S= 9.0 P= 24.0\n"
          ]
        }
      ]
    },
    {
      "cell_type": "code",
      "source": [
        "a = np.array([2, 4, 3],\n",
        "float)\n",
        "S= np.sum(a)\n",
        "P=np.prod(a)\n",
        "print('S=',S, 'P=',P)"
      ],
      "metadata": {
        "colab": {
          "base_uri": "https://localhost:8080/"
        },
        "id": "5gTTzW-4kzwf",
        "outputId": "494d1d02-c495-460a-9ee8-b542eec4aeb0"
      },
      "execution_count": null,
      "outputs": [
        {
          "output_type": "stream",
          "name": "stdout",
          "text": [
            "S= 9.0 P= 24.0\n"
          ]
        }
      ]
    },
    {
      "cell_type": "code",
      "source": [
        "a = np.array([2, 1, 9], float)\n",
        "SA=a.mean()\n",
        "Var=a.var()\n",
        "Dev=a.std()\n",
        "print(\"SA=\", SA, \" Var=\", Var, \" Dev=\",\n",
        "Dev)"
      ],
      "metadata": {
        "colab": {
          "base_uri": "https://localhost:8080/"
        },
        "id": "H9mgNZ1elOAP",
        "outputId": "5fc04494-dc0f-46a0-f042-68e57c33fa0b"
      },
      "execution_count": null,
      "outputs": [
        {
          "output_type": "stream",
          "name": "stdout",
          "text": [
            "SA= 4.0  Var= 12.666666666666666  Dev= 3.559026084010437\n"
          ]
        }
      ]
    },
    {
      "cell_type": "code",
      "source": [
        "a = np.array([2, 1, 9], float)\n",
        "Min=a.min()\n",
        "Max= a.max()\n",
        "print(\"Min=\", Min, \"Max=\", Max)"
      ],
      "metadata": {
        "colab": {
          "base_uri": "https://localhost:8080/"
        },
        "id": "iTs4rrJ2lTdf",
        "outputId": "ac6242c8-9720-47f8-f00e-535f06c512bb"
      },
      "execution_count": null,
      "outputs": [
        {
          "output_type": "stream",
          "name": "stdout",
          "text": [
            "Min= 1.0 Max= 9.0\n"
          ]
        }
      ]
    },
    {
      "cell_type": "code",
      "source": [
        "a = np.array([2, 1, 9,4,6,15], float)\n",
        "Imin=a.argmin()\n",
        "Imax= a.argmax()\n",
        "\n",
        "print(\"Imin=\", Imin, \" Imax=\",Imax)"
      ],
      "metadata": {
        "colab": {
          "base_uri": "https://localhost:8080/"
        },
        "id": "u-YWLJCdlYKP",
        "outputId": "e9ff157e-073d-4ae3-9fe9-7e00118763d6"
      },
      "execution_count": null,
      "outputs": [
        {
          "output_type": "stream",
          "name": "stdout",
          "text": [
            "Imin= 1  Imax= 5\n"
          ]
        }
      ]
    },
    {
      "cell_type": "code",
      "source": [
        "a = np.array([[0, 2], [3, -1], [3, 5]],\n",
        "float)\n",
        "print(a)\n",
        "print()\n",
        "M0=a.mean(axis=0)\n",
        "M1=a.mean(axis=1)\n",
        "print(\"Mean0=\", M0)\n",
        "print(\"Mean1=\", M1)\n",
        "Min1= a.min(axis=1)\n",
        "Max0= a.max(axis=0)\n",
        "print(\"Min1=\", Min1)\n",
        "print(\"Max0=\", Max0)"
      ],
      "metadata": {
        "colab": {
          "base_uri": "https://localhost:8080/"
        },
        "id": "qqSbgXuElblH",
        "outputId": "acca3644-c313-4bf2-80b5-3e95b43489ae"
      },
      "execution_count": null,
      "outputs": [
        {
          "output_type": "stream",
          "name": "stdout",
          "text": [
            "[[ 0.  2.]\n",
            " [ 3. -1.]\n",
            " [ 3.  5.]]\n",
            "\n",
            "Mean0= [2. 2.]\n",
            "Mean1= [1. 1. 4.]\n",
            "Min1= [ 0. -1.  3.]\n",
            "Max0= [3. 5.]\n"
          ]
        }
      ]
    },
    {
      "cell_type": "code",
      "source": [
        "a = np.array([6, 2, 5, -1, 0],\n",
        "float)\n",
        "b=sorted(a)\n",
        "print(b)\n",
        "c=a.sort()\n",
        "print(c)"
      ],
      "metadata": {
        "colab": {
          "base_uri": "https://localhost:8080/"
        },
        "id": "4U7jc7Tvltvu",
        "outputId": "eec84c66-fb7b-4d66-a7ff-ea2fad7a8b71"
      },
      "execution_count": null,
      "outputs": [
        {
          "output_type": "stream",
          "name": "stdout",
          "text": [
            "[-1.0, 0.0, 2.0, 5.0, 6.0]\n",
            "None\n"
          ]
        }
      ]
    },
    {
      "cell_type": "code",
      "source": [
        "a = np.array([6, 2, 5, -1, 0],\n",
        "float)\n",
        "print(a)\n",
        "b= a.clip(0, 5)\n",
        "print(b)"
      ],
      "metadata": {
        "colab": {
          "base_uri": "https://localhost:8080/"
        },
        "id": "U6rYBJ8Ml0mB",
        "outputId": "976d3107-6e9a-4e4d-936a-8e86c0887ed0"
      },
      "execution_count": null,
      "outputs": [
        {
          "output_type": "stream",
          "name": "stdout",
          "text": [
            "[ 6.  2.  5. -1.  0.]\n",
            "[5. 2. 5. 0. 0.]\n"
          ]
        }
      ]
    },
    {
      "cell_type": "code",
      "source": [
        "a = np.array([1, 1, 4, 5, 5, 5, 7],\n",
        "float)\n",
        "print(a)\n",
        "b=np.unique(a)\n",
        "print(b)"
      ],
      "metadata": {
        "colab": {
          "base_uri": "https://localhost:8080/"
        },
        "id": "BMyLiPQLl50o",
        "outputId": "5e78b456-3bb8-42bd-c0b3-943139c941d0"
      },
      "execution_count": null,
      "outputs": [
        {
          "output_type": "stream",
          "name": "stdout",
          "text": [
            "[1. 1. 4. 5. 5. 5. 7.]\n",
            "[1. 4. 5. 7.]\n"
          ]
        }
      ]
    },
    {
      "cell_type": "code",
      "source": [
        "a = np.array([[1, 2], [3, 4]],\n",
        "float)\n",
        "print(a)\n",
        "print()\n",
        "b=a.diagonal()\n",
        "print(b)"
      ],
      "metadata": {
        "colab": {
          "base_uri": "https://localhost:8080/"
        },
        "id": "i_6rENIll7i_",
        "outputId": "5e0f2f86-f690-4817-de75-1dadced9164a"
      },
      "execution_count": null,
      "outputs": [
        {
          "output_type": "stream",
          "name": "stdout",
          "text": [
            "[[1. 2.]\n",
            " [3. 4.]]\n",
            "\n",
            "[1. 4.]\n"
          ]
        }
      ]
    },
    {
      "cell_type": "code",
      "source": [
        "a = np.array([1, 3, 0], float)\n",
        "b = np.array([0, 3, 2],\n",
        "float)\n",
        "print(\"A:\")\n",
        "print(a)\n",
        "print(\"B:\")\n",
        "print(b)\n",
        "c=a>b\n",
        "print(\"a>b:\")\n",
        "print(c)\n",
        "d=a == b\n",
        "print(\"a==b:\")\n",
        "print(d)\n",
        "e=a <= b\n",
        "print(\"a<=b:\")\n",
        "print(e)"
      ],
      "metadata": {
        "colab": {
          "base_uri": "https://localhost:8080/"
        },
        "id": "nNK4Axo4l-Aw",
        "outputId": "7e6eccb2-404f-4b07-a6f2-d9be9c129084"
      },
      "execution_count": null,
      "outputs": [
        {
          "output_type": "stream",
          "name": "stdout",
          "text": [
            "A:\n",
            "[1. 3. 0.]\n",
            "B:\n",
            "[0. 3. 2.]\n",
            "a>b:\n",
            "[ True False False]\n",
            "a==b:\n",
            "[False  True False]\n",
            "a<=b:\n",
            "[False  True  True]\n"
          ]
        }
      ]
    },
    {
      "cell_type": "code",
      "source": [
        "a = np.array([1, 3, 0],\n",
        "float)\n",
        "print(\"A:\")\n",
        "print(a)\n",
        "b=a > 2\n",
        "\n",
        "print(\"a>2:\")\n",
        "print(b)"
      ],
      "metadata": {
        "colab": {
          "base_uri": "https://localhost:8080/"
        },
        "id": "kHweh_WUmR5I",
        "outputId": "fb0a2f87-2b90-42d9-8c04-d0aa105febaa"
      },
      "execution_count": null,
      "outputs": [
        {
          "output_type": "stream",
          "name": "stdout",
          "text": [
            "A:\n",
            "[1. 3. 0.]\n",
            "a>2:\n",
            "[False  True False]\n"
          ]
        }
      ]
    },
    {
      "cell_type": "code",
      "source": [
        "a = np.array([ True, False, False],\n",
        "bool)\n",
        "print(\"A:\")\n",
        "print(a)\n",
        "print(\"Any:\")\n",
        "b=any(a)\n",
        "print(b)\n",
        "print(\"All:\")\n",
        "c=all(a)\n",
        "print(c)"
      ],
      "metadata": {
        "colab": {
          "base_uri": "https://localhost:8080/"
        },
        "id": "J4_bRPXSmZ7g",
        "outputId": "3c91822b-98fc-4151-bb2f-9eec3c98540b"
      },
      "execution_count": null,
      "outputs": [
        {
          "output_type": "stream",
          "name": "stdout",
          "text": [
            "A:\n",
            "[ True False False]\n",
            "Any:\n",
            "True\n",
            "All:\n",
            "False\n"
          ]
        }
      ]
    },
    {
      "cell_type": "code",
      "source": [
        "a = np.array([1, 3, 0], float)\n",
        "aland=np.logical_and(a > 0, a < 3)\n",
        "print(\"A:\")\n",
        "print(a)\n",
        "print(\"logical_and(a > 0, a < 3)\")\n",
        "print(aland)\n",
        "b = np.array([True, False, True], bool)\n",
        "blnot= np.logical_not(b)\n",
        "print(\"B:\")\n",
        "print(b)\n",
        "print(\"logical_not(b)\")\n",
        "print(blnot)\n",
        "\n",
        "c = np.array([False, True, False],\n",
        "bool)\n",
        "clor=np.logical_or(b, c)\n",
        "print(\"C:\")\n",
        "print(c)\n",
        "print(\"logical_or(b, c)\")\n",
        "print(clor)"
      ],
      "metadata": {
        "colab": {
          "base_uri": "https://localhost:8080/"
        },
        "id": "AvE9oyjrrg_b",
        "outputId": "4d41f4eb-fb92-4260-f04f-0241de86bf84"
      },
      "execution_count": null,
      "outputs": [
        {
          "output_type": "stream",
          "name": "stdout",
          "text": [
            "A:\n",
            "[1. 3. 0.]\n",
            "logical_and(a > 0, a < 3)\n",
            "[ True False False]\n",
            "B:\n",
            "[ True False  True]\n",
            "logical_not(b)\n",
            "[False  True False]\n",
            "C:\n",
            "[False  True False]\n",
            "logical_or(b, c)\n",
            "[ True  True  True]\n"
          ]
        }
      ]
    },
    {
      "cell_type": "code",
      "source": [
        "a = np.array([1, 3, 0], float)\n",
        "b=np.where(a != 0, 1 / a, a)\n",
        "print(\"A:\")\n",
        "print(a)\n",
        "print(\"where(a != 0, 1 / a,a):\")\n",
        "print(b)"
      ],
      "metadata": {
        "colab": {
          "base_uri": "https://localhost:8080/"
        },
        "id": "PmT3VPq4rtPl",
        "outputId": "5156f94e-8055-4442-b94a-bb29c8b2d255"
      },
      "execution_count": null,
      "outputs": [
        {
          "output_type": "stream",
          "name": "stdout",
          "text": [
            "A:\n",
            "[1. 3. 0.]\n",
            "where(a != 0, 1 / a,a):\n",
            "[1.         0.33333333 0.        ]\n"
          ]
        },
        {
          "output_type": "stream",
          "name": "stderr",
          "text": [
            "/usr/local/lib/python3.7/dist-packages/ipykernel_launcher.py:2: RuntimeWarning: divide by zero encountered in true_divide\n",
            "  \n"
          ]
        }
      ]
    },
    {
      "cell_type": "code",
      "source": [
        "a = np.array([1, 3, 0],\n",
        "float)\n",
        "b=np.where(a > 0, 3, 2)\n",
        "\n",
        "print(\"A:\")\n",
        "print(a)\n",
        "print(\"where(a > 0, 3, 2):\")\n",
        "print(b)"
      ],
      "metadata": {
        "colab": {
          "base_uri": "https://localhost:8080/"
        },
        "id": "mIM1ec65sEiC",
        "outputId": "4a633005-e686-4c45-cd77-ca574bcec30d"
      },
      "execution_count": null,
      "outputs": [
        {
          "output_type": "stream",
          "name": "stdout",
          "text": [
            "A:\n",
            "[1. 3. 0.]\n",
            "where(a > 0, 3, 2):\n",
            "[3 3 2]\n"
          ]
        }
      ]
    },
    {
      "cell_type": "code",
      "source": [
        "a=np.array([[0, 1], [3, 0]],\n",
        "float)\n",
        "b=a.nonzero()\n",
        "print(\"A:\")\n",
        "print(a)\n",
        "print(\"B:\")\n",
        "print(b)"
      ],
      "metadata": {
        "colab": {
          "base_uri": "https://localhost:8080/"
        },
        "id": "47HjCQTpsJ2z",
        "outputId": "c668e410-fcde-4d72-b530-ca291a3691b7"
      },
      "execution_count": null,
      "outputs": [
        {
          "output_type": "stream",
          "name": "stdout",
          "text": [
            "A:\n",
            "[[0. 1.]\n",
            " [3. 0.]]\n",
            "B:\n",
            "(array([0, 1]), array([1, 0]))\n"
          ]
        }
      ]
    },
    {
      "cell_type": "code",
      "source": [
        "a = np.array([1, np.NaN, np.Inf],\n",
        "float)\n",
        "print(\"A:\")\n",
        "print(a)\n",
        "b= np.isnan(a)\n",
        "print(\"isNan(a):\")\n",
        "print(b)\n",
        "c=np.isfinite(a)\n",
        "print(\"isfinite(a):\")\n",
        "\n",
        "print(c)"
      ],
      "metadata": {
        "colab": {
          "base_uri": "https://localhost:8080/"
        },
        "id": "UggckGfBsq6q",
        "outputId": "79666cc2-ffbd-4b0a-ec15-9ab8ae7d6589"
      },
      "execution_count": null,
      "outputs": [
        {
          "output_type": "stream",
          "name": "stdout",
          "text": [
            "A:\n",
            "[ 1. nan inf]\n",
            "isNan(a):\n",
            "[False  True False]\n",
            "isfinite(a):\n",
            "[ True False False]\n"
          ]
        }
      ]
    },
    {
      "cell_type": "markdown",
      "source": [
        "![image.png](data:image/png;base64,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)"
      ],
      "metadata": {
        "id": "j3nWiPQGs_gz"
      }
    },
    {
      "cell_type": "code",
      "source": [
        "x = np.linspace(-2 * np.pi, 2 * np.pi, 20)\n",
        "print(\"x:\")\n",
        "print(x)\n",
        "y=np.sin(x)**2 + np.cos(x)**2\n",
        "print(\"y:\")\n",
        "print(y)\n",
        "z=np.all((np.sin(x)**2 + np.cos(x)**2).round() ==\n",
        "1)\n",
        "print(\"z:\")\n",
        "print(z)"
      ],
      "metadata": {
        "colab": {
          "base_uri": "https://localhost:8080/"
        },
        "id": "G97__uI_tCz7",
        "outputId": "f78431e5-bd57-4931-eca7-4e13cf4be6a8"
      },
      "execution_count": null,
      "outputs": [
        {
          "output_type": "stream",
          "name": "stdout",
          "text": [
            "x:\n",
            "[-6.28318531 -5.62179738 -4.96040945 -4.29902153 -3.6376336  -2.97624567\n",
            " -2.31485774 -1.65346982 -0.99208189 -0.33069396  0.33069396  0.99208189\n",
            "  1.65346982  2.31485774  2.97624567  3.6376336   4.29902153  4.96040945\n",
            "  5.62179738  6.28318531]\n",
            "y:\n",
            "[1. 1. 1. 1. 1. 1. 1. 1. 1. 1. 1. 1. 1. 1. 1. 1. 1. 1. 1. 1.]\n",
            "z:\n",
            "True\n"
          ]
        }
      ]
    },
    {
      "cell_type": "code",
      "source": [
        "a = np.array([[6, 4], [5, 9]],\n",
        "float)\n",
        "print(\"A:\")\n",
        "print(a)\n",
        "b=a >= 6\n",
        "print(\"a >= 6:\")\n",
        "print(b)\n",
        "c= a[a >= 6]\n",
        "print(\"a[a >= 6]:\")\n",
        "print(c)"
      ],
      "metadata": {
        "colab": {
          "base_uri": "https://localhost:8080/"
        },
        "id": "4ilOMqLPtJOF",
        "outputId": "068f0f3d-c6d2-4bbd-aa2e-cc6cd3009988"
      },
      "execution_count": null,
      "outputs": [
        {
          "output_type": "stream",
          "name": "stdout",
          "text": [
            "A:\n",
            "[[6. 4.]\n",
            " [5. 9.]]\n",
            "a >= 6:\n",
            "[[ True False]\n",
            " [False  True]]\n",
            "a[a >= 6]:\n",
            "[6. 9.]\n"
          ]
        }
      ]
    },
    {
      "cell_type": "code",
      "source": [
        "a = np.array([[6, 4], [5, 9]],\n",
        "float)\n",
        "print(\"A:\")\n",
        "\n",
        "print(a)\n",
        "sel = (a >= 6)\n",
        "print(\"a[a >= 6]:\")\n",
        "print(a[sel])"
      ],
      "metadata": {
        "colab": {
          "base_uri": "https://localhost:8080/"
        },
        "id": "RsVNS2cXtsNk",
        "outputId": "2571540b-3d71-42a3-cecf-499f9e363770"
      },
      "execution_count": null,
      "outputs": [
        {
          "output_type": "stream",
          "name": "stdout",
          "text": [
            "A:\n",
            "[[6. 4.]\n",
            " [5. 9.]]\n",
            "a[a >= 6]:\n",
            "[6. 9.]\n"
          ]
        }
      ]
    },
    {
      "cell_type": "code",
      "source": [
        "a = np.array([[6, 4], [5, 9]], float)\n",
        "print(\"A:\")\n",
        "print(a)\n",
        "b=a[np.logical_and(a > 5, a < 9)]\n",
        "print(\"logical_and(a > 5, a < 9):\")\n",
        "print(b)"
      ],
      "metadata": {
        "colab": {
          "base_uri": "https://localhost:8080/"
        },
        "id": "2qtKWszRt1gc",
        "outputId": "7ee130cc-c57d-440e-95ac-8d08a362a5d0"
      },
      "execution_count": null,
      "outputs": [
        {
          "output_type": "stream",
          "name": "stdout",
          "text": [
            "A:\n",
            "[[6. 4.]\n",
            " [5. 9.]]\n",
            "logical_and(a > 5, a < 9):\n",
            "[6.]\n"
          ]
        }
      ]
    },
    {
      "cell_type": "code",
      "source": [
        "a= np.array([2, 4, 6, 8], float)\n",
        "b = np.array([0, 0, 1, 3, 2, 1],\n",
        "int)\n",
        "print(\"A:\")\n",
        "print(a)\n",
        "print(\"B:\")\n",
        "print(b)\n",
        "c=a[b]\n",
        "\n",
        "print(\"a[b]:\")\n",
        "print(c)"
      ],
      "metadata": {
        "colab": {
          "base_uri": "https://localhost:8080/"
        },
        "id": "8sxtrQhIt828",
        "outputId": "743aea09-8abc-46ab-e088-900dea3a3b83"
      },
      "execution_count": null,
      "outputs": [
        {
          "output_type": "stream",
          "name": "stdout",
          "text": [
            "A:\n",
            "[2. 4. 6. 8.]\n",
            "B:\n",
            "[0 0 1 3 2 1]\n",
            "a[b]:\n",
            "[2. 2. 4. 8. 6. 4.]\n"
          ]
        }
      ]
    },
    {
      "cell_type": "code",
      "source": [
        "a= np.array([2, 4, 6, 8],\n",
        "float)\n",
        "print(\"A:\")\n",
        "print(a)\n",
        "c=a[[0, 0, 1, 3, 2, 1]]\n",
        "print(\"a[[0, 0, 1, 3, 2, 1]]:\")\n",
        "print(c)"
      ],
      "metadata": {
        "colab": {
          "base_uri": "https://localhost:8080/"
        },
        "id": "18PJ9qdHuGJf",
        "outputId": "334559b2-6abb-4b98-9cb6-42661c5ea27b"
      },
      "execution_count": null,
      "outputs": [
        {
          "output_type": "stream",
          "name": "stdout",
          "text": [
            "A:\n",
            "[2. 4. 6. 8.]\n",
            "a[[0, 0, 1, 3, 2, 1]]:\n",
            "[2. 2. 4. 8. 6. 4.]\n"
          ]
        }
      ]
    },
    {
      "cell_type": "code",
      "source": [
        "a = np.array([[1, 4], [9, 16]],\n",
        "float)\n",
        "b = np.array([0, 0, 1, 1, 0], int)\n",
        "c = np.array([0, 1, 1, 1, 1], int)\n",
        "print(\"A:\")\n",
        "print(a)\n",
        "print(\"B:\")\n",
        "\n",
        "print(b)\n",
        "print(\"C:\")\n",
        "print(c)\n",
        "d=a[b,c]\n",
        "print(\"a[b,c]:\")\n",
        "print(d)"
      ],
      "metadata": {
        "colab": {
          "base_uri": "https://localhost:8080/"
        },
        "id": "jHFNfkS6uKrs",
        "outputId": "439409f7-efab-4342-a559-f158c3c2b83f"
      },
      "execution_count": null,
      "outputs": [
        {
          "output_type": "stream",
          "name": "stdout",
          "text": [
            "A:\n",
            "[[ 1.  4.]\n",
            " [ 9. 16.]]\n",
            "B:\n",
            "[0 0 1 1 0]\n",
            "C:\n",
            "[0 1 1 1 1]\n",
            "a[b,c]:\n",
            "[ 1.  4. 16. 16.  4.]\n"
          ]
        }
      ]
    },
    {
      "cell_type": "code",
      "source": [
        "a = np.array([2, 4, 6, 8], float)\n",
        "b = np.array([0, 0, 1, 3, 2, 1],\n",
        "int)\n",
        "print(\"A:\")\n",
        "print(a)\n",
        "print(\"B:\")\n",
        "print(b)\n",
        "c= a.take(b)\n",
        "print(\"a.take(b):\")\n",
        "print(c)"
      ],
      "metadata": {
        "colab": {
          "base_uri": "https://localhost:8080/"
        },
        "id": "QLg8UxiXuOUW",
        "outputId": "23304ac1-8460-45bb-cbc9-b8cde982af55"
      },
      "execution_count": null,
      "outputs": [
        {
          "output_type": "stream",
          "name": "stdout",
          "text": [
            "A:\n",
            "[2. 4. 6. 8.]\n",
            "B:\n",
            "[0 0 1 3 2 1]\n",
            "a.take(b):\n",
            "[2. 2. 4. 8. 6. 4.]\n"
          ]
        }
      ]
    },
    {
      "cell_type": "code",
      "source": [
        "a = np.array([[0, 1], [2, 3]],\n",
        "float)\n",
        "b = np.array([0, 0, 1], int)\n",
        "print(\"A:\")\n",
        "print(a)\n",
        "print(\"B:\")\n",
        "print(b)\n",
        "c=a.take(b, axis=0)\n",
        "print(\"a.take(b, axis=0):\")\n",
        "print(c)\n",
        "d=a.take(b, axis=1)\n",
        "print(\"a.take(b, axis=1):\")\n",
        "print(d)"
      ],
      "metadata": {
        "colab": {
          "base_uri": "https://localhost:8080/"
        },
        "id": "wB34A2RSuVjs",
        "outputId": "2dac50f6-49b0-4df4-ca8e-6953859649de"
      },
      "execution_count": null,
      "outputs": [
        {
          "output_type": "stream",
          "name": "stdout",
          "text": [
            "A:\n",
            "[[0. 1.]\n",
            " [2. 3.]]\n",
            "B:\n",
            "[0 0 1]\n",
            "a.take(b, axis=0):\n",
            "[[0. 1.]\n",
            " [0. 1.]\n",
            " [2. 3.]]\n",
            "a.take(b, axis=1):\n",
            "[[0. 0. 1.]\n",
            " [2. 2. 3.]]\n"
          ]
        }
      ]
    },
    {
      "cell_type": "code",
      "source": [
        "a = np.array([0, 1, 2, 3, 4, 5],\n",
        "float)\n",
        "b = np.array([9, 8, 7], float)\n",
        "print(\"A:\")\n",
        "print(a)\n",
        "\n",
        "print(\"B:\")\n",
        "print(b)\n",
        "a.put([0, 3], b)\n",
        "print(\"a.put([0, 3], b):\")\n",
        "print(a)"
      ],
      "metadata": {
        "colab": {
          "base_uri": "https://localhost:8080/"
        },
        "id": "MxT3fcRsuYqv",
        "outputId": "65c97d3c-4048-4eaa-af60-9c222988d921"
      },
      "execution_count": null,
      "outputs": [
        {
          "output_type": "stream",
          "name": "stdout",
          "text": [
            "A:\n",
            "[0. 1. 2. 3. 4. 5.]\n",
            "B:\n",
            "[9. 8. 7.]\n",
            "a.put([0, 3], b):\n",
            "[9. 1. 2. 8. 4. 5.]\n"
          ]
        }
      ]
    },
    {
      "cell_type": "code",
      "source": [
        "a = np.array([0, 1, 2, 3, 4, 5],\n",
        "float)\n",
        "print(\"A:\")\n",
        "print(a)\n",
        "a.put([0, 3], 5)\n",
        "print(\"a.put([0, 3], 5):\")\n",
        "print(a)"
      ],
      "metadata": {
        "colab": {
          "base_uri": "https://localhost:8080/"
        },
        "id": "VJ5oB_bPucGc",
        "outputId": "297b425c-dee7-427d-d852-8da50f741d74"
      },
      "execution_count": null,
      "outputs": [
        {
          "output_type": "stream",
          "name": "stdout",
          "text": [
            "A:\n",
            "[0. 1. 2. 3. 4. 5.]\n",
            "a.put([0, 3], 5):\n",
            "[5. 1. 2. 5. 4. 5.]\n"
          ]
        }
      ]
    },
    {
      "cell_type": "code",
      "source": [
        "a = np.array([1, 2, 3], float)\n",
        "b = np.array([0, 1, 1],\n",
        "float)\n",
        "c=np.dot(a, b)\n",
        "print(\"A:\")\n",
        "\n",
        "print(a)\n",
        "print(\"B:\")\n",
        "print(b)\n",
        "print(\"np.dot(a, b):\")\n",
        "print(c)"
      ],
      "metadata": {
        "colab": {
          "base_uri": "https://localhost:8080/"
        },
        "id": "IgfcOXbXcBwc",
        "outputId": "fe77e6a0-98db-4dce-c58b-fd403d0d065e"
      },
      "execution_count": 3,
      "outputs": [
        {
          "output_type": "stream",
          "name": "stdout",
          "text": [
            "A:\n",
            "[1. 2. 3.]\n",
            "B:\n",
            "[0. 1. 1.]\n",
            "np.dot(a, b):\n",
            "5.0\n"
          ]
        }
      ]
    },
    {
      "cell_type": "code",
      "source": [
        "a = np.array([[0, 1], [2, 3]],\n",
        "float)\n",
        "b = np.array([2, 3], float)\n",
        "c = np.array([[1, 1], [4, 0]],\n",
        "float)\n",
        "d=np.dot(b, a)\n",
        "e=np.dot(a, b)\n",
        "x= np.dot(a, c)\n",
        "y= np.dot(c, a)\n",
        "print(\"A:\")\n",
        "print(a)\n",
        "print(\"\\n B:\")\n",
        "print(b)\n",
        "print(\"\\n np.dot(b, a):\")\n",
        "print(d)\n",
        "print(\"\\n np.dot(a, b):\")\n",
        "print(e)\n",
        "print(\"\\n np.dot(a, c):\")\n",
        "print(x)\n",
        "print(\"\\n np.dot(c, a):\")\n",
        "print(y)"
      ],
      "metadata": {
        "colab": {
          "base_uri": "https://localhost:8080/"
        },
        "id": "yjO-tNN7cOey",
        "outputId": "c4232148-1f55-46a2-c8fb-400856d3a15f"
      },
      "execution_count": 4,
      "outputs": [
        {
          "output_type": "stream",
          "name": "stdout",
          "text": [
            "A:\n",
            "[[0. 1.]\n",
            " [2. 3.]]\n",
            "\n",
            " B:\n",
            "[2. 3.]\n",
            "\n",
            " np.dot(b, a):\n",
            "[ 6. 11.]\n",
            "\n",
            " np.dot(a, b):\n",
            "[ 3. 13.]\n",
            "\n",
            " np.dot(a, c):\n",
            "[[ 4.  0.]\n",
            " [14.  2.]]\n",
            "\n",
            " np.dot(c, a):\n",
            "[[2. 4.]\n",
            " [0. 4.]]\n"
          ]
        }
      ]
    },
    {
      "cell_type": "code",
      "source": [
        "a = np.array([1, 4, 0], float)\n",
        "b = np.array([2, 2, 1],\n",
        "float)\n",
        "c=np.outer(a, b)\n",
        "d=np.inner(a, b)\n",
        "e= np.cross(a, b)\n",
        "print(\"A:\")\n",
        "print(a)\n",
        "print(\"\\n B:\")\n",
        "print(b)\n",
        "print(\"\\n np.outer(a, b):\")\n",
        "print(c)\n",
        "print(\"\\n np.inner(a, b):\")\n",
        "\n",
        "print(d)\n",
        "print(\"\\n np.cross(a, b):\")\n",
        "print(e)"
      ],
      "metadata": {
        "colab": {
          "base_uri": "https://localhost:8080/"
        },
        "id": "w0ouP-IVdxP7",
        "outputId": "a9c713de-d24a-4d09-b8bc-50d725add94f"
      },
      "execution_count": 5,
      "outputs": [
        {
          "output_type": "stream",
          "name": "stdout",
          "text": [
            "A:\n",
            "[1. 4. 0.]\n",
            "\n",
            " B:\n",
            "[2. 2. 1.]\n",
            "\n",
            " np.outer(a, b):\n",
            "[[2. 2. 1.]\n",
            " [8. 8. 4.]\n",
            " [0. 0. 0.]]\n",
            "\n",
            " np.inner(a, b):\n",
            "10.0\n",
            "\n",
            " np.cross(a, b):\n",
            "[ 4. -1. -6.]\n"
          ]
        }
      ]
    },
    {
      "cell_type": "code",
      "source": [
        "a = np.array([[4, 2, 0], [9, 3, 7], [1, 2, 1]],\n",
        "float)\n",
        "d=np.linalg.det(a)\n",
        "print(\"A:\")\n",
        "print(a)\n",
        "print(\"\\n np.linalg.det(a):\")\n",
        "print(d)"
      ],
      "metadata": {
        "colab": {
          "base_uri": "https://localhost:8080/"
        },
        "id": "mOD_FTvOd4Nk",
        "outputId": "426f465a-561c-4fb4-c276-8d8353f79e7b"
      },
      "execution_count": 6,
      "outputs": [
        {
          "output_type": "stream",
          "name": "stdout",
          "text": [
            "A:\n",
            "[[4. 2. 0.]\n",
            " [9. 3. 7.]\n",
            " [1. 2. 1.]]\n",
            "\n",
            " np.linalg.det(a):\n",
            "-48.00000000000003\n"
          ]
        }
      ]
    },
    {
      "cell_type": "code",
      "source": [
        "a = np.array([[4, 2, 0], [9, 3, 7], [1, 2, 1]],\n",
        "float)\n",
        "vals, vecs = np.linalg.eig(a)\n",
        "print(\"A:\")\n",
        "print(a)\n",
        "print(\"\\n vals:\")\n",
        "print(vals)\n",
        "\n",
        "print(\"\\n vecs:\")\n",
        "print(vecs)"
      ],
      "metadata": {
        "colab": {
          "base_uri": "https://localhost:8080/"
        },
        "id": "KQdBsgQ4d7pM",
        "outputId": "9f8c7765-0f25-423d-e9c3-669cfc460d13"
      },
      "execution_count": 7,
      "outputs": [
        {
          "output_type": "stream",
          "name": "stdout",
          "text": [
            "A:\n",
            "[[4. 2. 0.]\n",
            " [9. 3. 7.]\n",
            " [1. 2. 1.]]\n",
            "\n",
            " vals:\n",
            "[ 8.85591316  1.9391628  -2.79507597]\n",
            "\n",
            " vecs:\n",
            "[[-0.3663565  -0.54736745  0.25928158]\n",
            " [-0.88949768  0.5640176  -0.88091903]\n",
            " [-0.27308752  0.61828231  0.39592263]]\n"
          ]
        }
      ]
    },
    {
      "cell_type": "code",
      "source": [
        "a = np.array([[4, 2, 0], [9, 3, 7], [1, 2, 1]],\n",
        "float)\n",
        "b = np.linalg.inv(a)\n",
        "c=np.dot(a, b)\n",
        "print(\"A:\")\n",
        "print(a)\n",
        "print(\"\\n np.linalg.inv(a):\")\n",
        "print(b)\n",
        "\n",
        "print(\"\\n np.dot(a, b):\")\n",
        "print(c)"
      ],
      "metadata": {
        "colab": {
          "base_uri": "https://localhost:8080/"
        },
        "id": "UNvWJuG9eA2G",
        "outputId": "20f2d4b8-2ee5-4cbe-b3f1-ca7f593a6ff0"
      },
      "execution_count": 8,
      "outputs": [
        {
          "output_type": "stream",
          "name": "stdout",
          "text": [
            "A:\n",
            "[[4. 2. 0.]\n",
            " [9. 3. 7.]\n",
            " [1. 2. 1.]]\n",
            "\n",
            " np.linalg.inv(a):\n",
            "[[ 0.22916667  0.04166667 -0.29166667]\n",
            " [ 0.04166667 -0.08333333  0.58333333]\n",
            " [-0.3125      0.125       0.125     ]]\n",
            "\n",
            " np.dot(a, b):\n",
            "[[1.00000000e+00 5.55111512e-17 0.00000000e+00]\n",
            " [0.00000000e+00 1.00000000e+00 2.22044605e-16]\n",
            " [0.00000000e+00 1.38777878e-17 1.00000000e+00]]\n"
          ]
        }
      ]
    },
    {
      "cell_type": "code",
      "source": [
        "a = np.array([[1, 3,-1], [5, 2,0], [0,5,1]],\n",
        "float)\n",
        "b=np.linalg.matrix_power(a, 2)\n",
        "print(\"A:\")\n",
        "print(a)\n",
        "print(\"\\n np.matrix_power(a, 2) :\")\n",
        "print(b)"
      ],
      "metadata": {
        "colab": {
          "base_uri": "https://localhost:8080/"
        },
        "id": "Tj-YFzD9eHUc",
        "outputId": "ab77d92e-2318-4bac-f1dc-bb69c1e70250"
      },
      "execution_count": 9,
      "outputs": [
        {
          "output_type": "stream",
          "name": "stdout",
          "text": [
            "A:\n",
            "[[ 1.  3. -1.]\n",
            " [ 5.  2.  0.]\n",
            " [ 0.  5.  1.]]\n",
            "\n",
            " np.matrix_power(a, 2) :\n",
            "[[16.  4. -2.]\n",
            " [15. 19. -5.]\n",
            " [25. 15.  1.]]\n"
          ]
        }
      ]
    },
    {
      "cell_type": "code",
      "source": [
        "a = np.array([[1, 3,-1], [5, 2,0], [0,5,1]],\n",
        "float)\n",
        "\n",
        "b=np.linalg.matrix_rank(a)\n",
        "print(\"A:\")\n",
        "print(a)\n",
        "print(\"\\n np.linalg.matrix_rank(a) :\")\n",
        "print(b)"
      ],
      "metadata": {
        "colab": {
          "base_uri": "https://localhost:8080/"
        },
        "id": "sAE7BbC5eVA0",
        "outputId": "0a927318-267d-48a8-82ec-eadf34fc9a79"
      },
      "execution_count": 10,
      "outputs": [
        {
          "output_type": "stream",
          "name": "stdout",
          "text": [
            "A:\n",
            "[[ 1.  3. -1.]\n",
            " [ 5.  2.  0.]\n",
            " [ 0.  5.  1.]]\n",
            "\n",
            " np.linalg.matrix_rank(a) :\n",
            "3\n"
          ]
        }
      ]
    },
    {
      "cell_type": "code",
      "source": [
        "a = np.array([[1, 3,-1], [5, 2,0], [0,5,1]],\n",
        "float)\n",
        "b=a.T\n",
        "print(\"A:\")\n",
        "print(a)\n",
        "print(\"\\n a.T :\")\n",
        "print(b)"
      ],
      "metadata": {
        "colab": {
          "base_uri": "https://localhost:8080/"
        },
        "id": "U8GCEJIneZiE",
        "outputId": "6d8d8c54-c230-4531-b2ef-e2dcb23ad6f6"
      },
      "execution_count": 11,
      "outputs": [
        {
          "output_type": "stream",
          "name": "stdout",
          "text": [
            "A:\n",
            "[[ 1.  3. -1.]\n",
            " [ 5.  2.  0.]\n",
            " [ 0.  5.  1.]]\n",
            "\n",
            " a.T :\n",
            "[[ 1.  5.  0.]\n",
            " [ 3.  2.  5.]\n",
            " [-1.  0.  1.]]\n"
          ]
        }
      ]
    },
    {
      "cell_type": "code",
      "source": [
        "a = np.array([[0, 1], [2, 3]])\n",
        "b = np.array([[4, 5, 6], [7, 8, 9]])\n",
        "c = np.array([[4, 5], [6, 7], [8,\n",
        "9]])\n",
        "print(\"A:\")\n",
        "print(a)\n",
        "print(\"B:\")\n",
        "print(b)\n",
        "print(\"C:\")\n",
        "print(c)\n",
        "\n",
        "print(\"np.hstack((a, b)):\")\n",
        "d=np.hstack((a, b))\n",
        "print(d)\n",
        "print(\"np.vstack((a, c)):\")\n",
        "e=np.vstack((a, c))\n",
        "print(e)"
      ],
      "metadata": {
        "colab": {
          "base_uri": "https://localhost:8080/"
        },
        "id": "_0KABiKyeel0",
        "outputId": "3666bc47-5c84-4575-f59e-4946b5f53f8d"
      },
      "execution_count": 12,
      "outputs": [
        {
          "output_type": "stream",
          "name": "stdout",
          "text": [
            "A:\n",
            "[[0 1]\n",
            " [2 3]]\n",
            "B:\n",
            "[[4 5 6]\n",
            " [7 8 9]]\n",
            "C:\n",
            "[[4 5]\n",
            " [6 7]\n",
            " [8 9]]\n",
            "np.hstack((a, b)):\n",
            "[[0 1 4 5 6]\n",
            " [2 3 7 8 9]]\n",
            "np.vstack((a, c)):\n",
            "[[0 1]\n",
            " [2 3]\n",
            " [4 5]\n",
            " [6 7]\n",
            " [8 9]]\n"
          ]
        }
      ]
    },
    {
      "cell_type": "code",
      "source": [
        "a = np.array([[4, 5, 6], [7, 8,\n",
        "9]])\n",
        "print(\"A:\")\n",
        "print(a)\n",
        "print(\"a.sum():\")\n",
        "b=a.sum()\n",
        "print(b)\n",
        "print(\"a.sum(axis=0):\")\n",
        "c=a.sum(axis=0)\n",
        "print(c)\n",
        "\n",
        "print(\"a.sum(axis=1):\")\n",
        "d=a.sum(axis=1)\n",
        "print(d)"
      ],
      "metadata": {
        "colab": {
          "base_uri": "https://localhost:8080/"
        },
        "id": "jbhOfDs3ewN0",
        "outputId": "a7b1f070-c8f6-46fa-a972-b464c65c761e"
      },
      "execution_count": 13,
      "outputs": [
        {
          "output_type": "stream",
          "name": "stdout",
          "text": [
            "A:\n",
            "[[4 5 6]\n",
            " [7 8 9]]\n",
            "a.sum():\n",
            "39\n",
            "a.sum(axis=0):\n",
            "[11 13 15]\n",
            "a.sum(axis=1):\n",
            "[15 24]\n"
          ]
        }
      ]
    },
    {
      "cell_type": "code",
      "source": [
        "a = np.array([[0, 1], [2,\n",
        "3]])\n",
        "print(\"A:\")\n",
        "print(a)\n",
        "print(\"np.trace(a):\")\n",
        "b=np.trace(a)\n",
        "print(b)"
      ],
      "metadata": {
        "colab": {
          "base_uri": "https://localhost:8080/"
        },
        "id": "AtdoM7PAe2Bs",
        "outputId": "1c6c6a0c-9465-4f45-9b80-b17044616617"
      },
      "execution_count": 14,
      "outputs": [
        {
          "output_type": "stream",
          "name": "stdout",
          "text": [
            "A:\n",
            "[[0 1]\n",
            " [2 3]]\n",
            "np.trace(a):\n",
            "3\n"
          ]
        }
      ]
    },
    {
      "cell_type": "markdown",
      "source": [
        "![image.png](data:image/png;base64,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)"
      ],
      "metadata": {
        "id": "JeLejiv8e7PX"
      }
    },
    {
      "cell_type": "code",
      "source": [
        "y = np.arange(1, 6)\n",
        "a = np.arange(3, -2, -1)\n",
        "\n",
        "print(\"y:\")\n",
        "print(y)\n",
        "print(\"a:\")\n",
        "print(a)\n",
        "rss = np.sum((y -\n",
        "a)**2)\n",
        "print(\"RSS=\")\n",
        "print(rss)"
      ],
      "metadata": {
        "colab": {
          "base_uri": "https://localhost:8080/"
        },
        "id": "OkTsoyMqfCE3",
        "outputId": "3ec07b3b-6452-45b4-e596-d49ac48036c5"
      },
      "execution_count": 15,
      "outputs": [
        {
          "output_type": "stream",
          "name": "stdout",
          "text": [
            "y:\n",
            "[1 2 3 4 5]\n",
            "a:\n",
            "[ 3  2  1  0 -1]\n",
            "RSS=\n",
            "60\n"
          ]
        }
      ]
    },
    {
      "cell_type": "code",
      "source": [
        "a = np.array([[1, 3,4], [5, 2, 3]],\n",
        "float)\n",
        "U, s, Vh = np.linalg.svd(a)\n",
        "print(\"A:\")\n",
        "print(a)\n",
        "print(\"\\n U:\")\n",
        "print(U)\n",
        "print(\"\\n s:\")\n",
        "print(s)\n",
        "print(\"\\n Vh:\")\n",
        "print(Vh)"
      ],
      "metadata": {
        "colab": {
          "base_uri": "https://localhost:8080/"
        },
        "id": "ZhnNlVGCfTZs",
        "outputId": "930caa1e-cc8f-4123-8ccb-e9184ae6a259"
      },
      "execution_count": 18,
      "outputs": [
        {
          "output_type": "stream",
          "name": "stdout",
          "text": [
            "A:\n",
            "[[1. 3. 4.]\n",
            " [5. 2. 3.]]\n",
            "\n",
            " U:\n",
            "[[-0.6113829  -0.79133492]\n",
            " [-0.79133492  0.6113829 ]]\n",
            "\n",
            " s:\n",
            "[7.46791327 2.86884495]\n",
            "\n",
            " Vh:\n",
            "[[-0.61169129 -0.45753324 -0.64536587]\n",
            " [ 0.78971838 -0.40129005 -0.46401635]\n",
            " [-0.046676   -0.79349205  0.60678804]]\n"
          ]
        }
      ]
    },
    {
      "cell_type": "markdown",
      "source": [
        "![image.png](data:image/png;base64,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)"
      ],
      "metadata": {
        "id": "0FDG9o2MfuFf"
      }
    },
    {
      "cell_type": "code",
      "source": [
        "a = np.array([1,2,5,7,9],\n",
        "float)\n",
        "b=np.linalg.norm(a)\n",
        "print(\"A:\")\n",
        "print(a)\n",
        "print(\"\\n Norm(a):\")\n",
        "print(b)"
      ],
      "metadata": {
        "colab": {
          "base_uri": "https://localhost:8080/"
        },
        "id": "sB65_VZNflKL",
        "outputId": "91345d22-581d-4611-a7d9-b4f1b8a838a8"
      },
      "execution_count": 19,
      "outputs": [
        {
          "output_type": "stream",
          "name": "stdout",
          "text": [
            "A:\n",
            "[1. 2. 5. 7. 9.]\n",
            "\n",
            " Norm(a):\n",
            "12.649110640673518\n"
          ]
        }
      ]
    },
    {
      "cell_type": "markdown",
      "source": [
        "![image.png](data:image/png;base64,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)"
      ],
      "metadata": {
        "id": "OUIgDIwRfzvT"
      }
    },
    {
      "cell_type": "code",
      "source": [
        "x = np.array([[-3, 4, 1], [4, 3, 1]])\n",
        "y = np.array([10, 12])\n",
        "I = np.eye(3)\n",
        "lambd = 0.1\n",
        "theta = np.linalg.inv(x.T @ x + lambd * I) @ x.T @ y\n",
        "print(theta)"
      ],
      "metadata": {
        "colab": {
          "base_uri": "https://localhost:8080/"
        },
        "id": "ln_UlqRufweL",
        "outputId": "3d57ac60-b1aa-48b3-b37e-4ceb0629bfb6"
      },
      "execution_count": 22,
      "outputs": [
        {
          "output_type": "stream",
          "name": "stdout",
          "text": [
            "[0.68478852 2.80148778 0.81180812]\n"
          ]
        }
      ]
    },
    {
      "cell_type": "code",
      "source": [
        "a=np.poly([-1, 1, 1, 10])\n",
        "print(\"A:\")\n",
        "print(a)"
      ],
      "metadata": {
        "colab": {
          "base_uri": "https://localhost:8080/"
        },
        "id": "dx22f0cqf-mG",
        "outputId": "58889916-bcdc-4b26-caf1-09ff9e0c5b94"
      },
      "execution_count": 26,
      "outputs": [
        {
          "output_type": "stream",
          "name": "stdout",
          "text": [
            "A:\n",
            "[  1. -11.   9.  11. -10.]\n"
          ]
        }
      ]
    },
    {
      "cell_type": "code",
      "source": [
        "a=np.roots([1, -11, 9, 11, -10])\n",
        "print(\"A:\")\n",
        "print(a)"
      ],
      "metadata": {
        "colab": {
          "base_uri": "https://localhost:8080/"
        },
        "id": "r8RTolhcgqb6",
        "outputId": "1baff1a0-3afa-4d01-c96c-b8700794b15c"
      },
      "execution_count": 28,
      "outputs": [
        {
          "output_type": "stream",
          "name": "stdout",
          "text": [
            "A:\n",
            "[10.+0.0000000e+00j -1.+0.0000000e+00j  1.+9.6357437e-09j\n",
            "  1.-9.6357437e-09j]\n"
          ]
        }
      ]
    },
    {
      "cell_type": "markdown",
      "source": [
        "![image.png](data:image/png;base64,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)"
      ],
      "metadata": {
        "id": "GUyDA72ohHGS"
      }
    },
    {
      "cell_type": "code",
      "source": [
        "a = np.array([[0, 1], [2, 3]])\n",
        "v = np.array([0, 1], dtype=np.float64)\n",
        "print(\"A:\")\n",
        "print(a)\n",
        "print(\"\\n V:\")\n",
        "\n",
        "print(v)\n",
        "a1 = np.linalg.inv(a)\n",
        "print(\"\\n a^(-1):\")\n",
        "print(a1)\n",
        "u=a1 @ v\n",
        "print(\"\\n U:\")\n",
        "print(u)"
      ],
      "metadata": {
        "colab": {
          "base_uri": "https://localhost:8080/"
        },
        "id": "Uv_QMO7KhEk5",
        "outputId": "6d186f61-42f0-4f85-8168-3654cfeef403"
      },
      "execution_count": 30,
      "outputs": [
        {
          "output_type": "stream",
          "name": "stdout",
          "text": [
            "A:\n",
            "[[0 1]\n",
            " [2 3]]\n",
            "\n",
            " V:\n",
            "[0. 1.]\n",
            "\n",
            " a^(-1):\n",
            "[[-1.5  0.5]\n",
            " [ 1.   0. ]]\n",
            "\n",
            " U:\n",
            "[0.5 0. ]\n"
          ]
        }
      ]
    },
    {
      "cell_type": "code",
      "source": [
        "a = np.array([[0, 1], [2, 3]])\n",
        "v = np.array([0, 1], dtype=np.float64)\n",
        "print(\"A:\")\n",
        "print(a)\n",
        "print(\"\\n V:\")\n",
        "print(v)\n",
        "u = np.linalg.solve(a, v)\n",
        "print(\"\\n U:\")\n",
        "print(u)\n",
        "\n",
        "print(\"a @ u - v :\")\n",
        "x=a @ u - v\n",
        "print(x)"
      ],
      "metadata": {
        "colab": {
          "base_uri": "https://localhost:8080/"
        },
        "id": "wzXabxkzhUmP",
        "outputId": "63153671-874a-4e5c-dcf1-ed6f6db3228b"
      },
      "execution_count": 32,
      "outputs": [
        {
          "output_type": "stream",
          "name": "stdout",
          "text": [
            "A:\n",
            "[[0 1]\n",
            " [2 3]]\n",
            "\n",
            " V:\n",
            "[0. 1.]\n",
            "\n",
            " U:\n",
            "[0.5 0. ]\n",
            "a @ u - v :\n",
            "[0. 0.]\n"
          ]
        }
      ]
    },
    {
      "cell_type": "code",
      "source": [
        "a = np.array([[0, 1], [2,3]])\n",
        "print(\"A:\")\n",
        "print(a)\n",
        "print(\"diag(a):\")\n",
        "L = np.diag(a)\n",
        "print(L)\n",
        "print(\"diag(L): \")\n",
        "print(np.diag(L))"
      ],
      "metadata": {
        "colab": {
          "base_uri": "https://localhost:8080/"
        },
        "id": "jgH1PZwuhjv0",
        "outputId": "77007116-e275-44b8-f411-02cebe1f4768"
      },
      "execution_count": 34,
      "outputs": [
        {
          "output_type": "stream",
          "name": "stdout",
          "text": [
            "A:\n",
            "[[0 1]\n",
            " [2 3]]\n",
            "diag(a):\n",
            "[0 3]\n",
            "diag(L): \n",
            "[[0 0]\n",
            " [0 3]]\n"
          ]
        }
      ]
    },
    {
      "cell_type": "markdown",
      "source": [
        "**Создать матрицу с 0 внутри, и 1 на границах**"
      ],
      "metadata": {
        "id": "K6o3vA02h7Mz"
      }
    },
    {
      "cell_type": "code",
      "source": [
        "Z = np.ones((10,10))\n",
        "Z[1:-1,1:-1] = 0\n",
        "print(Z)"
      ],
      "metadata": {
        "colab": {
          "base_uri": "https://localhost:8080/"
        },
        "id": "8fgN6zjrh5ac",
        "outputId": "9e8be8cf-7ba4-4107-d496-04f0be459875"
      },
      "execution_count": 36,
      "outputs": [
        {
          "output_type": "stream",
          "name": "stdout",
          "text": [
            "[[1. 1. 1. 1. 1. 1. 1. 1. 1. 1.]\n",
            " [1. 0. 0. 0. 0. 0. 0. 0. 0. 1.]\n",
            " [1. 0. 0. 0. 0. 0. 0. 0. 0. 1.]\n",
            " [1. 0. 0. 0. 0. 0. 0. 0. 0. 1.]\n",
            " [1. 0. 0. 0. 0. 0. 0. 0. 0. 1.]\n",
            " [1. 0. 0. 0. 0. 0. 0. 0. 0. 1.]\n",
            " [1. 0. 0. 0. 0. 0. 0. 0. 0. 1.]\n",
            " [1. 0. 0. 0. 0. 0. 0. 0. 0. 1.]\n",
            " [1. 0. 0. 0. 0. 0. 0. 0. 0. 1.]\n",
            " [1. 1. 1. 1. 1. 1. 1. 1. 1. 1.]]\n"
          ]
        }
      ]
    },
    {
      "cell_type": "markdown",
      "source": [
        "**Создать 8x8 матрицу и заполнить её в шахматном порядке**"
      ],
      "metadata": {
        "id": "yc_425DTiDwV"
      }
    },
    {
      "cell_type": "code",
      "source": [
        "Z = np.zeros((8,8), dtype=int)\n",
        "Z[1::2,::2] = 1\n",
        "Z[::2,1::2] = 1\n",
        "print(Z)"
      ],
      "metadata": {
        "colab": {
          "base_uri": "https://localhost:8080/"
        },
        "id": "qpY2XrG-iIQE",
        "outputId": "cd1dc9fa-f18c-41c5-d0f0-91fb0ab794b6"
      },
      "execution_count": 37,
      "outputs": [
        {
          "output_type": "stream",
          "name": "stdout",
          "text": [
            "[[0 1 0 1 0 1 0 1]\n",
            " [1 0 1 0 1 0 1 0]\n",
            " [0 1 0 1 0 1 0 1]\n",
            " [1 0 1 0 1 0 1 0]\n",
            " [0 1 0 1 0 1 0 1]\n",
            " [1 0 1 0 1 0 1 0]\n",
            " [0 1 0 1 0 1 0 1]\n",
            " [1 0 1 0 1 0 1 0]]\n"
          ]
        }
      ]
    },
    {
      "cell_type": "markdown",
      "source": [
        "**Есть генератор, сделать с его помощью массив**"
      ],
      "metadata": {
        "id": "bm0nSwaAiLQT"
      }
    },
    {
      "cell_type": "code",
      "source": [
        "def generate():\n",
        "  for x in x.range(10):\n",
        "    yield x\n",
        "  Z = np.fromiter(generate(),dtype=float,count=-1)\n",
        "  print(Z)\n",
        "\n",
        "generate()"
      ],
      "metadata": {
        "colab": {
          "base_uri": "https://localhost:8080/"
        },
        "id": "0xwtYLhViKec",
        "outputId": "322fafa2-1db0-4fd5-aad9-265da627469b"
      },
      "execution_count": 47,
      "outputs": [
        {
          "output_type": "execute_result",
          "data": {
            "text/plain": [
              "<generator object generate at 0x7f00e3a17750>"
            ]
          },
          "metadata": {},
          "execution_count": 47
        }
      ]
    },
    {
      "cell_type": "markdown",
      "source": [
        "**Дан массив 10x2 (точки в декартовой системе координат), преобразовать в\n",
        "полярную**"
      ],
      "metadata": {
        "id": "v7N3ueiqiK5c"
      }
    },
    {
      "cell_type": "code",
      "source": [
        "Z = np.random.random((10,2))\n",
        "X,Y = Z[:,0], Z[:,1]\n",
        "R = np.hypot(X, Y)\n",
        "T = np.arctan2(Y,X)\n",
        "print(R)\n",
        "print(T)"
      ],
      "metadata": {
        "colab": {
          "base_uri": "https://localhost:8080/"
        },
        "id": "yHt8ZuiRjAtV",
        "outputId": "b4d3630a-7505-40ed-df2f-96f5a607571a"
      },
      "execution_count": 48,
      "outputs": [
        {
          "output_type": "stream",
          "name": "stdout",
          "text": [
            "[0.91029827 0.08262878 0.50414047 0.20865505 1.02442843 0.72638405\n",
            " 0.23745972 0.99003428 0.92030159 0.27417049]\n",
            "[0.67538887 0.05100881 1.55227628 0.30807907 0.77519368 0.09669266\n",
            " 1.08049104 0.96955428 1.54338034 0.67510281]\n"
          ]
        }
      ]
    },
    {
      "cell_type": "markdown",
      "source": [
        "**Дан массив (100,2) координат, найти расстояние от каждой точки до\n",
        "каждой**"
      ],
      "metadata": {
        "id": "ocGPNJVxjE0A"
      }
    },
    {
      "cell_type": "code",
      "source": [
        "import scipy.spatial\n",
        "Z = np.random.random((10,2))\n",
        "D = scipy.spatial.distance.cdist(Z,Z)\n",
        "print(D)"
      ],
      "metadata": {
        "colab": {
          "base_uri": "https://localhost:8080/"
        },
        "id": "XG1DI4Npjawl",
        "outputId": "bee928fa-4422-4f05-bdf6-19cade4122a8"
      },
      "execution_count": 49,
      "outputs": [
        {
          "output_type": "stream",
          "name": "stdout",
          "text": [
            "[[0.         0.48217945 0.51478275 0.715805   0.73032775 0.56735433\n",
            "  0.37221831 0.30530637 0.47292928 0.49005572]\n",
            " [0.48217945 0.         0.033158   0.52438933 0.36251623 0.38067369\n",
            "  0.50228908 0.25475626 0.25517577 0.71438045]\n",
            " [0.51478275 0.033158   0.         0.53131673 0.34222046 0.38087408\n",
            "  0.52191425 0.27932486 0.26109568 0.74262093]\n",
            " [0.715805   0.52438933 0.53131673 0.         0.85857239 0.90283612\n",
            "  0.94831455 0.70043389 0.77208713 0.52755751]\n",
            " [0.73032775 0.36251623 0.34222046 0.85857239 0.         0.24069541\n",
            "  0.53585955 0.42531439 0.26294792 1.06524063]\n",
            " [0.56735433 0.38067369 0.38087408 0.90283612 0.24069541 0.\n",
            "  0.30250882 0.28074024 0.13428104 0.9812595 ]\n",
            " [0.37221831 0.50228908 0.52191425 0.94831455 0.53585955 0.30250882\n",
            "  0.         0.25617998 0.30226532 0.85527953]\n",
            " [0.30530637 0.25475626 0.27932486 0.70043389 0.42531439 0.28074024\n",
            "  0.25617998 0.         0.16906702 0.7020789 ]\n",
            " [0.47292928 0.25517577 0.26109568 0.77208713 0.26294792 0.13428104\n",
            "  0.30226532 0.16906702 0.         0.85632467]\n",
            " [0.49005572 0.71438045 0.74262093 0.52755751 1.06524063 0.9812595\n",
            "  0.85527953 0.7020789  0.85632467 0.        ]]\n"
          ]
        }
      ]
    },
    {
      "cell_type": "markdown",
      "source": [
        "**Сформировать 2D массив с распределением Гаусса**"
      ],
      "metadata": {
        "id": "sC5eKjF1jkek"
      }
    },
    {
      "cell_type": "code",
      "source": [
        "X, Y = np.meshgrid(np.linspace(-1,1,10), np.linspace(-1,1,10))\n",
        "D = np.hypot(X, Y)\n",
        "sigma, mu = 1.0, 0.0\n",
        "G = np.exp(-((D - mu) ** 2 / (2.0 * sigma ** 2)))\n",
        "print(G)"
      ],
      "metadata": {
        "colab": {
          "base_uri": "https://localhost:8080/"
        },
        "id": "S2LFRrmojmd3",
        "outputId": "5b65328d-96a8-4356-caf1-4651535ec79d"
      },
      "execution_count": 50,
      "outputs": [
        {
          "output_type": "stream",
          "name": "stdout",
          "text": [
            "[[0.36787944 0.44822088 0.51979489 0.57375342 0.60279818 0.60279818\n",
            "  0.57375342 0.51979489 0.44822088 0.36787944]\n",
            " [0.44822088 0.54610814 0.63331324 0.69905581 0.73444367 0.73444367\n",
            "  0.69905581 0.63331324 0.54610814 0.44822088]\n",
            " [0.51979489 0.63331324 0.73444367 0.81068432 0.85172308 0.85172308\n",
            "  0.81068432 0.73444367 0.63331324 0.51979489]\n",
            " [0.57375342 0.69905581 0.81068432 0.89483932 0.9401382  0.9401382\n",
            "  0.89483932 0.81068432 0.69905581 0.57375342]\n",
            " [0.60279818 0.73444367 0.85172308 0.9401382  0.98773022 0.98773022\n",
            "  0.9401382  0.85172308 0.73444367 0.60279818]\n",
            " [0.60279818 0.73444367 0.85172308 0.9401382  0.98773022 0.98773022\n",
            "  0.9401382  0.85172308 0.73444367 0.60279818]\n",
            " [0.57375342 0.69905581 0.81068432 0.89483932 0.9401382  0.9401382\n",
            "  0.89483932 0.81068432 0.69905581 0.57375342]\n",
            " [0.51979489 0.63331324 0.73444367 0.81068432 0.85172308 0.85172308\n",
            "  0.81068432 0.73444367 0.63331324 0.51979489]\n",
            " [0.44822088 0.54610814 0.63331324 0.69905581 0.73444367 0.73444367\n",
            "  0.69905581 0.63331324 0.54610814 0.44822088]\n",
            " [0.36787944 0.44822088 0.51979489 0.57375342 0.60279818 0.60279818\n",
            "  0.57375342 0.51979489 0.44822088 0.36787944]]\n"
          ]
        }
      ]
    },
    {
      "cell_type": "markdown",
      "source": [
        "**Дан массив (w,h,3) (картинка) dtype=ubyte, посчитать количество\n",
        "различных цветов**"
      ],
      "metadata": {
        "id": "E1zenOuXjwt9"
      }
    },
    {
      "cell_type": "code",
      "source": [
        "w,h = 16,16\n",
        "I = np.random.randint(0, 2, (h,w,3)).astype(np.ubyte)\n",
        "F = I[...,0] * 256 * 256 + I[...,1] * 256 + I[...,2]\n",
        "n = len(np.unique(F))\n",
        "print(np.unique(I))"
      ],
      "metadata": {
        "colab": {
          "base_uri": "https://localhost:8080/"
        },
        "id": "1r5pCFPhj3Z-",
        "outputId": "dd23c4dc-bb14-45df-b4a1-20b27d3b36fe"
      },
      "execution_count": 51,
      "outputs": [
        {
          "output_type": "stream",
          "name": "stdout",
          "text": [
            "[0 1]\n"
          ]
        }
      ]
    },
    {
      "cell_type": "markdown",
      "source": [
        "**Дан вектор Z, построить матрицу, первая строка которой\n",
        "(Z[0],Z[1],Z[2]), каждая последующая сдвинута на 1 (последняя (Z[-3],Z[-\n",
        "2],Z[-1]))**"
      ],
      "metadata": {
        "id": "sOphAmGdj_w0"
      }
    },
    {
      "cell_type": "code",
      "source": [
        "from numpy.lib import stride_tricks\n",
        "def rolling(a, window):\n",
        "  shape = (a.size - window + 1, window)\n",
        "  strides = (a.itemsize, a.itemsize)\n",
        "  return stride_tricks.as_strided(a, shape=shape, strides=strides)\n",
        "Z = rolling(np.arange(10), 3)\n",
        "print(Z)"
      ],
      "metadata": {
        "colab": {
          "base_uri": "https://localhost:8080/"
        },
        "id": "0mI-pxxwkE6k",
        "outputId": "d4f35b61-a202-4c89-869e-60922bb928dc"
      },
      "execution_count": 52,
      "outputs": [
        {
          "output_type": "stream",
          "name": "stdout",
          "text": [
            "[[0 1 2]\n",
            " [1 2 3]\n",
            " [2 3 4]\n",
            " [3 4 5]\n",
            " [4 5 6]\n",
            " [5 6 7]\n",
            " [6 7 8]\n",
            " [7 8 9]]\n"
          ]
        }
      ]
    },
    {
      "cell_type": "markdown",
      "source": [
        "**Дан массив. Написать функцию, выделяющую часть массива\n",
        "фиксированного размера с центром в данном элементе (дополненное\n",
        "значением fill если необходимо)**"
      ],
      "metadata": {
        "id": "2jqG33BgkTdt"
      }
    },
    {
      "cell_type": "code",
      "source": [
        "Z = np.random.randint(0,10, (10,10))\n",
        "shape = (5,5)\n",
        "fill = 0\n",
        "position = (1,1)\n",
        "R = np.ones(shape, dtype=Z.dtype)*fill\n",
        "P = np.array(list(position)).astype(int)\n",
        "Rs = np.array(list(R.shape)).astype(int)\n",
        "Zs = np.array(list(Z.shape)).astype(int)\n",
        "R_start = np.zeros((len(shape),)).astype(int)\n",
        "R_stop = np.array(list(shape)).astype(int)\n",
        "Z_start = (P - Rs//2)\n",
        "Z_stop = (P + Rs//2)+Rs%2\n",
        "R_start = (R_start - np.minimum(Z_start, 0)).tolist()\n",
        "Z_start = (np.maximum(Z_start, 0)).tolist()\n",
        "R_stop = np.maximum(R_start, (R_stop - np.maximum(Z_stop-\n",
        "Zs,0))).tolist()\n",
        "\n",
        "Z_stop = (np.minimum(Z_stop,Zs)).tolist()\n",
        "r = [slice(start,stop) for start,stop in zip(R_start,R_stop)]\n",
        "z = [slice(start,stop) for start,stop in zip(Z_start,Z_stop)]\n",
        "R[r] = Z[z]\n",
        "print(Z)\n",
        "print(R)"
      ],
      "metadata": {
        "colab": {
          "base_uri": "https://localhost:8080/"
        },
        "id": "4uDstiZRkV8M",
        "outputId": "ce4b56ec-92cb-4938-8885-e83261d13e58"
      },
      "execution_count": 53,
      "outputs": [
        {
          "output_type": "stream",
          "name": "stdout",
          "text": [
            "[[8 0 5 6 5 7 7 1 2 3]\n",
            " [5 6 1 7 9 9 8 8 5 8]\n",
            " [6 6 4 7 3 6 5 2 8 1]\n",
            " [7 2 3 3 4 8 5 3 3 1]\n",
            " [7 1 0 7 8 4 6 6 2 4]\n",
            " [2 0 5 0 4 9 6 8 1 7]\n",
            " [1 3 0 8 2 2 7 1 6 5]\n",
            " [2 5 1 9 9 9 5 8 0 8]\n",
            " [6 5 9 3 8 6 4 2 9 2]\n",
            " [5 5 4 3 4 8 4 6 9 3]]\n",
            "[[0 0 0 0 0]\n",
            " [0 8 0 5 6]\n",
            " [0 5 6 1 7]\n",
            " [0 6 6 4 7]\n",
            " [0 7 2 3 3]]\n"
          ]
        },
        {
          "output_type": "stream",
          "name": "stderr",
          "text": [
            "/usr/local/lib/python3.7/dist-packages/ipykernel_launcher.py:21: FutureWarning: Using a non-tuple sequence for multidimensional indexing is deprecated; use `arr[tuple(seq)]` instead of `arr[seq]`. In the future this will be interpreted as an array index, `arr[np.array(seq)]`, which will result either in an error or a different result.\n"
          ]
        }
      ]
    },
    {
      "cell_type": "markdown",
      "source": [
        "**Написать игру \"жизнь\"**"
      ],
      "metadata": {
        "id": "90RAnWG4kjA7"
      }
    },
    {
      "cell_type": "code",
      "source": [
        "def iterate(Z):\n",
        "  # Count neighbours\n",
        "  N = (Z[0:-2,0:-2] + Z[0:-2,1:-1] + Z[0:-2,2:] + Z[1:-1,0:-2] + Z[1:-1,2:] + Z[2: ,0:-2] + Z[2: ,1:-1] + Z[2: ,2:])\n",
        "\n",
        " # Apply rules\n",
        "  birth = (N == 3) & (Z[1:-1,1:-1]==0)\n",
        "  survive = ((N == 2) | (N == 3)) & (Z[1:-1,1:-1] == 1)\n",
        "  Z[...] = 0\n",
        "  Z[1:-1,1:-1][birth | survive] = 1\n",
        "  return Z\n",
        "\n",
        "Z = np.random.randint(0,2,(50,50))\n",
        "for i in range(100):\n",
        "  print(Z)\n",
        "Z = iterate(Z)"
      ],
      "metadata": {
        "colab": {
          "base_uri": "https://localhost:8080/"
        },
        "id": "DRzTvKbHlLNK",
        "outputId": "f4abaf26-107a-4d01-8470-6251aa998a93"
      },
      "execution_count": 57,
      "outputs": [
        {
          "output_type": "stream",
          "name": "stdout",
          "text": [
            "[[1 0 0 ... 1 0 1]\n",
            " [0 0 0 ... 0 0 1]\n",
            " [1 0 0 ... 1 0 0]\n",
            " ...\n",
            " [1 0 1 ... 1 1 0]\n",
            " [0 0 0 ... 0 1 1]\n",
            " [0 0 1 ... 1 0 0]]\n",
            "[[1 0 0 ... 1 0 1]\n",
            " [0 0 0 ... 0 0 1]\n",
            " [1 0 0 ... 1 0 0]\n",
            " ...\n",
            " [1 0 1 ... 1 1 0]\n",
            " [0 0 0 ... 0 1 1]\n",
            " [0 0 1 ... 1 0 0]]\n",
            "[[1 0 0 ... 1 0 1]\n",
            " [0 0 0 ... 0 0 1]\n",
            " [1 0 0 ... 1 0 0]\n",
            " ...\n",
            " [1 0 1 ... 1 1 0]\n",
            " [0 0 0 ... 0 1 1]\n",
            " [0 0 1 ... 1 0 0]]\n",
            "[[1 0 0 ... 1 0 1]\n",
            " [0 0 0 ... 0 0 1]\n",
            " [1 0 0 ... 1 0 0]\n",
            " ...\n",
            " [1 0 1 ... 1 1 0]\n",
            " [0 0 0 ... 0 1 1]\n",
            " [0 0 1 ... 1 0 0]]\n",
            "[[1 0 0 ... 1 0 1]\n",
            " [0 0 0 ... 0 0 1]\n",
            " [1 0 0 ... 1 0 0]\n",
            " ...\n",
            " [1 0 1 ... 1 1 0]\n",
            " [0 0 0 ... 0 1 1]\n",
            " [0 0 1 ... 1 0 0]]\n",
            "[[1 0 0 ... 1 0 1]\n",
            " [0 0 0 ... 0 0 1]\n",
            " [1 0 0 ... 1 0 0]\n",
            " ...\n",
            " [1 0 1 ... 1 1 0]\n",
            " [0 0 0 ... 0 1 1]\n",
            " [0 0 1 ... 1 0 0]]\n",
            "[[1 0 0 ... 1 0 1]\n",
            " [0 0 0 ... 0 0 1]\n",
            " [1 0 0 ... 1 0 0]\n",
            " ...\n",
            " [1 0 1 ... 1 1 0]\n",
            " [0 0 0 ... 0 1 1]\n",
            " [0 0 1 ... 1 0 0]]\n",
            "[[1 0 0 ... 1 0 1]\n",
            " [0 0 0 ... 0 0 1]\n",
            " [1 0 0 ... 1 0 0]\n",
            " ...\n",
            " [1 0 1 ... 1 1 0]\n",
            " [0 0 0 ... 0 1 1]\n",
            " [0 0 1 ... 1 0 0]]\n",
            "[[1 0 0 ... 1 0 1]\n",
            " [0 0 0 ... 0 0 1]\n",
            " [1 0 0 ... 1 0 0]\n",
            " ...\n",
            " [1 0 1 ... 1 1 0]\n",
            " [0 0 0 ... 0 1 1]\n",
            " [0 0 1 ... 1 0 0]]\n",
            "[[1 0 0 ... 1 0 1]\n",
            " [0 0 0 ... 0 0 1]\n",
            " [1 0 0 ... 1 0 0]\n",
            " ...\n",
            " [1 0 1 ... 1 1 0]\n",
            " [0 0 0 ... 0 1 1]\n",
            " [0 0 1 ... 1 0 0]]\n",
            "[[1 0 0 ... 1 0 1]\n",
            " [0 0 0 ... 0 0 1]\n",
            " [1 0 0 ... 1 0 0]\n",
            " ...\n",
            " [1 0 1 ... 1 1 0]\n",
            " [0 0 0 ... 0 1 1]\n",
            " [0 0 1 ... 1 0 0]]\n",
            "[[1 0 0 ... 1 0 1]\n",
            " [0 0 0 ... 0 0 1]\n",
            " [1 0 0 ... 1 0 0]\n",
            " ...\n",
            " [1 0 1 ... 1 1 0]\n",
            " [0 0 0 ... 0 1 1]\n",
            " [0 0 1 ... 1 0 0]]\n",
            "[[1 0 0 ... 1 0 1]\n",
            " [0 0 0 ... 0 0 1]\n",
            " [1 0 0 ... 1 0 0]\n",
            " ...\n",
            " [1 0 1 ... 1 1 0]\n",
            " [0 0 0 ... 0 1 1]\n",
            " [0 0 1 ... 1 0 0]]\n",
            "[[1 0 0 ... 1 0 1]\n",
            " [0 0 0 ... 0 0 1]\n",
            " [1 0 0 ... 1 0 0]\n",
            " ...\n",
            " [1 0 1 ... 1 1 0]\n",
            " [0 0 0 ... 0 1 1]\n",
            " [0 0 1 ... 1 0 0]]\n",
            "[[1 0 0 ... 1 0 1]\n",
            " [0 0 0 ... 0 0 1]\n",
            " [1 0 0 ... 1 0 0]\n",
            " ...\n",
            " [1 0 1 ... 1 1 0]\n",
            " [0 0 0 ... 0 1 1]\n",
            " [0 0 1 ... 1 0 0]]\n",
            "[[1 0 0 ... 1 0 1]\n",
            " [0 0 0 ... 0 0 1]\n",
            " [1 0 0 ... 1 0 0]\n",
            " ...\n",
            " [1 0 1 ... 1 1 0]\n",
            " [0 0 0 ... 0 1 1]\n",
            " [0 0 1 ... 1 0 0]]\n",
            "[[1 0 0 ... 1 0 1]\n",
            " [0 0 0 ... 0 0 1]\n",
            " [1 0 0 ... 1 0 0]\n",
            " ...\n",
            " [1 0 1 ... 1 1 0]\n",
            " [0 0 0 ... 0 1 1]\n",
            " [0 0 1 ... 1 0 0]]\n",
            "[[1 0 0 ... 1 0 1]\n",
            " [0 0 0 ... 0 0 1]\n",
            " [1 0 0 ... 1 0 0]\n",
            " ...\n",
            " [1 0 1 ... 1 1 0]\n",
            " [0 0 0 ... 0 1 1]\n",
            " [0 0 1 ... 1 0 0]]\n",
            "[[1 0 0 ... 1 0 1]\n",
            " [0 0 0 ... 0 0 1]\n",
            " [1 0 0 ... 1 0 0]\n",
            " ...\n",
            " [1 0 1 ... 1 1 0]\n",
            " [0 0 0 ... 0 1 1]\n",
            " [0 0 1 ... 1 0 0]]\n",
            "[[1 0 0 ... 1 0 1]\n",
            " [0 0 0 ... 0 0 1]\n",
            " [1 0 0 ... 1 0 0]\n",
            " ...\n",
            " [1 0 1 ... 1 1 0]\n",
            " [0 0 0 ... 0 1 1]\n",
            " [0 0 1 ... 1 0 0]]\n",
            "[[1 0 0 ... 1 0 1]\n",
            " [0 0 0 ... 0 0 1]\n",
            " [1 0 0 ... 1 0 0]\n",
            " ...\n",
            " [1 0 1 ... 1 1 0]\n",
            " [0 0 0 ... 0 1 1]\n",
            " [0 0 1 ... 1 0 0]]\n",
            "[[1 0 0 ... 1 0 1]\n",
            " [0 0 0 ... 0 0 1]\n",
            " [1 0 0 ... 1 0 0]\n",
            " ...\n",
            " [1 0 1 ... 1 1 0]\n",
            " [0 0 0 ... 0 1 1]\n",
            " [0 0 1 ... 1 0 0]]\n",
            "[[1 0 0 ... 1 0 1]\n",
            " [0 0 0 ... 0 0 1]\n",
            " [1 0 0 ... 1 0 0]\n",
            " ...\n",
            " [1 0 1 ... 1 1 0]\n",
            " [0 0 0 ... 0 1 1]\n",
            " [0 0 1 ... 1 0 0]]\n",
            "[[1 0 0 ... 1 0 1]\n",
            " [0 0 0 ... 0 0 1]\n",
            " [1 0 0 ... 1 0 0]\n",
            " ...\n",
            " [1 0 1 ... 1 1 0]\n",
            " [0 0 0 ... 0 1 1]\n",
            " [0 0 1 ... 1 0 0]]\n",
            "[[1 0 0 ... 1 0 1]\n",
            " [0 0 0 ... 0 0 1]\n",
            " [1 0 0 ... 1 0 0]\n",
            " ...\n",
            " [1 0 1 ... 1 1 0]\n",
            " [0 0 0 ... 0 1 1]\n",
            " [0 0 1 ... 1 0 0]]\n",
            "[[1 0 0 ... 1 0 1]\n",
            " [0 0 0 ... 0 0 1]\n",
            " [1 0 0 ... 1 0 0]\n",
            " ...\n",
            " [1 0 1 ... 1 1 0]\n",
            " [0 0 0 ... 0 1 1]\n",
            " [0 0 1 ... 1 0 0]]\n",
            "[[1 0 0 ... 1 0 1]\n",
            " [0 0 0 ... 0 0 1]\n",
            " [1 0 0 ... 1 0 0]\n",
            " ...\n",
            " [1 0 1 ... 1 1 0]\n",
            " [0 0 0 ... 0 1 1]\n",
            " [0 0 1 ... 1 0 0]]\n",
            "[[1 0 0 ... 1 0 1]\n",
            " [0 0 0 ... 0 0 1]\n",
            " [1 0 0 ... 1 0 0]\n",
            " ...\n",
            " [1 0 1 ... 1 1 0]\n",
            " [0 0 0 ... 0 1 1]\n",
            " [0 0 1 ... 1 0 0]]\n",
            "[[1 0 0 ... 1 0 1]\n",
            " [0 0 0 ... 0 0 1]\n",
            " [1 0 0 ... 1 0 0]\n",
            " ...\n",
            " [1 0 1 ... 1 1 0]\n",
            " [0 0 0 ... 0 1 1]\n",
            " [0 0 1 ... 1 0 0]]\n",
            "[[1 0 0 ... 1 0 1]\n",
            " [0 0 0 ... 0 0 1]\n",
            " [1 0 0 ... 1 0 0]\n",
            " ...\n",
            " [1 0 1 ... 1 1 0]\n",
            " [0 0 0 ... 0 1 1]\n",
            " [0 0 1 ... 1 0 0]]\n",
            "[[1 0 0 ... 1 0 1]\n",
            " [0 0 0 ... 0 0 1]\n",
            " [1 0 0 ... 1 0 0]\n",
            " ...\n",
            " [1 0 1 ... 1 1 0]\n",
            " [0 0 0 ... 0 1 1]\n",
            " [0 0 1 ... 1 0 0]]\n",
            "[[1 0 0 ... 1 0 1]\n",
            " [0 0 0 ... 0 0 1]\n",
            " [1 0 0 ... 1 0 0]\n",
            " ...\n",
            " [1 0 1 ... 1 1 0]\n",
            " [0 0 0 ... 0 1 1]\n",
            " [0 0 1 ... 1 0 0]]\n",
            "[[1 0 0 ... 1 0 1]\n",
            " [0 0 0 ... 0 0 1]\n",
            " [1 0 0 ... 1 0 0]\n",
            " ...\n",
            " [1 0 1 ... 1 1 0]\n",
            " [0 0 0 ... 0 1 1]\n",
            " [0 0 1 ... 1 0 0]]\n",
            "[[1 0 0 ... 1 0 1]\n",
            " [0 0 0 ... 0 0 1]\n",
            " [1 0 0 ... 1 0 0]\n",
            " ...\n",
            " [1 0 1 ... 1 1 0]\n",
            " [0 0 0 ... 0 1 1]\n",
            " [0 0 1 ... 1 0 0]]\n",
            "[[1 0 0 ... 1 0 1]\n",
            " [0 0 0 ... 0 0 1]\n",
            " [1 0 0 ... 1 0 0]\n",
            " ...\n",
            " [1 0 1 ... 1 1 0]\n",
            " [0 0 0 ... 0 1 1]\n",
            " [0 0 1 ... 1 0 0]]\n",
            "[[1 0 0 ... 1 0 1]\n",
            " [0 0 0 ... 0 0 1]\n",
            " [1 0 0 ... 1 0 0]\n",
            " ...\n",
            " [1 0 1 ... 1 1 0]\n",
            " [0 0 0 ... 0 1 1]\n",
            " [0 0 1 ... 1 0 0]]\n",
            "[[1 0 0 ... 1 0 1]\n",
            " [0 0 0 ... 0 0 1]\n",
            " [1 0 0 ... 1 0 0]\n",
            " ...\n",
            " [1 0 1 ... 1 1 0]\n",
            " [0 0 0 ... 0 1 1]\n",
            " [0 0 1 ... 1 0 0]]\n",
            "[[1 0 0 ... 1 0 1]\n",
            " [0 0 0 ... 0 0 1]\n",
            " [1 0 0 ... 1 0 0]\n",
            " ...\n",
            " [1 0 1 ... 1 1 0]\n",
            " [0 0 0 ... 0 1 1]\n",
            " [0 0 1 ... 1 0 0]]\n",
            "[[1 0 0 ... 1 0 1]\n",
            " [0 0 0 ... 0 0 1]\n",
            " [1 0 0 ... 1 0 0]\n",
            " ...\n",
            " [1 0 1 ... 1 1 0]\n",
            " [0 0 0 ... 0 1 1]\n",
            " [0 0 1 ... 1 0 0]]\n",
            "[[1 0 0 ... 1 0 1]\n",
            " [0 0 0 ... 0 0 1]\n",
            " [1 0 0 ... 1 0 0]\n",
            " ...\n",
            " [1 0 1 ... 1 1 0]\n",
            " [0 0 0 ... 0 1 1]\n",
            " [0 0 1 ... 1 0 0]]\n",
            "[[1 0 0 ... 1 0 1]\n",
            " [0 0 0 ... 0 0 1]\n",
            " [1 0 0 ... 1 0 0]\n",
            " ...\n",
            " [1 0 1 ... 1 1 0]\n",
            " [0 0 0 ... 0 1 1]\n",
            " [0 0 1 ... 1 0 0]]\n",
            "[[1 0 0 ... 1 0 1]\n",
            " [0 0 0 ... 0 0 1]\n",
            " [1 0 0 ... 1 0 0]\n",
            " ...\n",
            " [1 0 1 ... 1 1 0]\n",
            " [0 0 0 ... 0 1 1]\n",
            " [0 0 1 ... 1 0 0]]\n",
            "[[1 0 0 ... 1 0 1]\n",
            " [0 0 0 ... 0 0 1]\n",
            " [1 0 0 ... 1 0 0]\n",
            " ...\n",
            " [1 0 1 ... 1 1 0]\n",
            " [0 0 0 ... 0 1 1]\n",
            " [0 0 1 ... 1 0 0]]\n",
            "[[1 0 0 ... 1 0 1]\n",
            " [0 0 0 ... 0 0 1]\n",
            " [1 0 0 ... 1 0 0]\n",
            " ...\n",
            " [1 0 1 ... 1 1 0]\n",
            " [0 0 0 ... 0 1 1]\n",
            " [0 0 1 ... 1 0 0]]\n",
            "[[1 0 0 ... 1 0 1]\n",
            " [0 0 0 ... 0 0 1]\n",
            " [1 0 0 ... 1 0 0]\n",
            " ...\n",
            " [1 0 1 ... 1 1 0]\n",
            " [0 0 0 ... 0 1 1]\n",
            " [0 0 1 ... 1 0 0]]\n",
            "[[1 0 0 ... 1 0 1]\n",
            " [0 0 0 ... 0 0 1]\n",
            " [1 0 0 ... 1 0 0]\n",
            " ...\n",
            " [1 0 1 ... 1 1 0]\n",
            " [0 0 0 ... 0 1 1]\n",
            " [0 0 1 ... 1 0 0]]\n",
            "[[1 0 0 ... 1 0 1]\n",
            " [0 0 0 ... 0 0 1]\n",
            " [1 0 0 ... 1 0 0]\n",
            " ...\n",
            " [1 0 1 ... 1 1 0]\n",
            " [0 0 0 ... 0 1 1]\n",
            " [0 0 1 ... 1 0 0]]\n",
            "[[1 0 0 ... 1 0 1]\n",
            " [0 0 0 ... 0 0 1]\n",
            " [1 0 0 ... 1 0 0]\n",
            " ...\n",
            " [1 0 1 ... 1 1 0]\n",
            " [0 0 0 ... 0 1 1]\n",
            " [0 0 1 ... 1 0 0]]\n",
            "[[1 0 0 ... 1 0 1]\n",
            " [0 0 0 ... 0 0 1]\n",
            " [1 0 0 ... 1 0 0]\n",
            " ...\n",
            " [1 0 1 ... 1 1 0]\n",
            " [0 0 0 ... 0 1 1]\n",
            " [0 0 1 ... 1 0 0]]\n",
            "[[1 0 0 ... 1 0 1]\n",
            " [0 0 0 ... 0 0 1]\n",
            " [1 0 0 ... 1 0 0]\n",
            " ...\n",
            " [1 0 1 ... 1 1 0]\n",
            " [0 0 0 ... 0 1 1]\n",
            " [0 0 1 ... 1 0 0]]\n",
            "[[1 0 0 ... 1 0 1]\n",
            " [0 0 0 ... 0 0 1]\n",
            " [1 0 0 ... 1 0 0]\n",
            " ...\n",
            " [1 0 1 ... 1 1 0]\n",
            " [0 0 0 ... 0 1 1]\n",
            " [0 0 1 ... 1 0 0]]\n",
            "[[1 0 0 ... 1 0 1]\n",
            " [0 0 0 ... 0 0 1]\n",
            " [1 0 0 ... 1 0 0]\n",
            " ...\n",
            " [1 0 1 ... 1 1 0]\n",
            " [0 0 0 ... 0 1 1]\n",
            " [0 0 1 ... 1 0 0]]\n",
            "[[1 0 0 ... 1 0 1]\n",
            " [0 0 0 ... 0 0 1]\n",
            " [1 0 0 ... 1 0 0]\n",
            " ...\n",
            " [1 0 1 ... 1 1 0]\n",
            " [0 0 0 ... 0 1 1]\n",
            " [0 0 1 ... 1 0 0]]\n",
            "[[1 0 0 ... 1 0 1]\n",
            " [0 0 0 ... 0 0 1]\n",
            " [1 0 0 ... 1 0 0]\n",
            " ...\n",
            " [1 0 1 ... 1 1 0]\n",
            " [0 0 0 ... 0 1 1]\n",
            " [0 0 1 ... 1 0 0]]\n",
            "[[1 0 0 ... 1 0 1]\n",
            " [0 0 0 ... 0 0 1]\n",
            " [1 0 0 ... 1 0 0]\n",
            " ...\n",
            " [1 0 1 ... 1 1 0]\n",
            " [0 0 0 ... 0 1 1]\n",
            " [0 0 1 ... 1 0 0]]\n",
            "[[1 0 0 ... 1 0 1]\n",
            " [0 0 0 ... 0 0 1]\n",
            " [1 0 0 ... 1 0 0]\n",
            " ...\n",
            " [1 0 1 ... 1 1 0]\n",
            " [0 0 0 ... 0 1 1]\n",
            " [0 0 1 ... 1 0 0]]\n",
            "[[1 0 0 ... 1 0 1]\n",
            " [0 0 0 ... 0 0 1]\n",
            " [1 0 0 ... 1 0 0]\n",
            " ...\n",
            " [1 0 1 ... 1 1 0]\n",
            " [0 0 0 ... 0 1 1]\n",
            " [0 0 1 ... 1 0 0]]\n",
            "[[1 0 0 ... 1 0 1]\n",
            " [0 0 0 ... 0 0 1]\n",
            " [1 0 0 ... 1 0 0]\n",
            " ...\n",
            " [1 0 1 ... 1 1 0]\n",
            " [0 0 0 ... 0 1 1]\n",
            " [0 0 1 ... 1 0 0]]\n",
            "[[1 0 0 ... 1 0 1]\n",
            " [0 0 0 ... 0 0 1]\n",
            " [1 0 0 ... 1 0 0]\n",
            " ...\n",
            " [1 0 1 ... 1 1 0]\n",
            " [0 0 0 ... 0 1 1]\n",
            " [0 0 1 ... 1 0 0]]\n",
            "[[1 0 0 ... 1 0 1]\n",
            " [0 0 0 ... 0 0 1]\n",
            " [1 0 0 ... 1 0 0]\n",
            " ...\n",
            " [1 0 1 ... 1 1 0]\n",
            " [0 0 0 ... 0 1 1]\n",
            " [0 0 1 ... 1 0 0]]\n",
            "[[1 0 0 ... 1 0 1]\n",
            " [0 0 0 ... 0 0 1]\n",
            " [1 0 0 ... 1 0 0]\n",
            " ...\n",
            " [1 0 1 ... 1 1 0]\n",
            " [0 0 0 ... 0 1 1]\n",
            " [0 0 1 ... 1 0 0]]\n",
            "[[1 0 0 ... 1 0 1]\n",
            " [0 0 0 ... 0 0 1]\n",
            " [1 0 0 ... 1 0 0]\n",
            " ...\n",
            " [1 0 1 ... 1 1 0]\n",
            " [0 0 0 ... 0 1 1]\n",
            " [0 0 1 ... 1 0 0]]\n",
            "[[1 0 0 ... 1 0 1]\n",
            " [0 0 0 ... 0 0 1]\n",
            " [1 0 0 ... 1 0 0]\n",
            " ...\n",
            " [1 0 1 ... 1 1 0]\n",
            " [0 0 0 ... 0 1 1]\n",
            " [0 0 1 ... 1 0 0]]\n",
            "[[1 0 0 ... 1 0 1]\n",
            " [0 0 0 ... 0 0 1]\n",
            " [1 0 0 ... 1 0 0]\n",
            " ...\n",
            " [1 0 1 ... 1 1 0]\n",
            " [0 0 0 ... 0 1 1]\n",
            " [0 0 1 ... 1 0 0]]\n",
            "[[1 0 0 ... 1 0 1]\n",
            " [0 0 0 ... 0 0 1]\n",
            " [1 0 0 ... 1 0 0]\n",
            " ...\n",
            " [1 0 1 ... 1 1 0]\n",
            " [0 0 0 ... 0 1 1]\n",
            " [0 0 1 ... 1 0 0]]\n",
            "[[1 0 0 ... 1 0 1]\n",
            " [0 0 0 ... 0 0 1]\n",
            " [1 0 0 ... 1 0 0]\n",
            " ...\n",
            " [1 0 1 ... 1 1 0]\n",
            " [0 0 0 ... 0 1 1]\n",
            " [0 0 1 ... 1 0 0]]\n",
            "[[1 0 0 ... 1 0 1]\n",
            " [0 0 0 ... 0 0 1]\n",
            " [1 0 0 ... 1 0 0]\n",
            " ...\n",
            " [1 0 1 ... 1 1 0]\n",
            " [0 0 0 ... 0 1 1]\n",
            " [0 0 1 ... 1 0 0]]\n",
            "[[1 0 0 ... 1 0 1]\n",
            " [0 0 0 ... 0 0 1]\n",
            " [1 0 0 ... 1 0 0]\n",
            " ...\n",
            " [1 0 1 ... 1 1 0]\n",
            " [0 0 0 ... 0 1 1]\n",
            " [0 0 1 ... 1 0 0]]\n",
            "[[1 0 0 ... 1 0 1]\n",
            " [0 0 0 ... 0 0 1]\n",
            " [1 0 0 ... 1 0 0]\n",
            " ...\n",
            " [1 0 1 ... 1 1 0]\n",
            " [0 0 0 ... 0 1 1]\n",
            " [0 0 1 ... 1 0 0]]\n",
            "[[1 0 0 ... 1 0 1]\n",
            " [0 0 0 ... 0 0 1]\n",
            " [1 0 0 ... 1 0 0]\n",
            " ...\n",
            " [1 0 1 ... 1 1 0]\n",
            " [0 0 0 ... 0 1 1]\n",
            " [0 0 1 ... 1 0 0]]\n",
            "[[1 0 0 ... 1 0 1]\n",
            " [0 0 0 ... 0 0 1]\n",
            " [1 0 0 ... 1 0 0]\n",
            " ...\n",
            " [1 0 1 ... 1 1 0]\n",
            " [0 0 0 ... 0 1 1]\n",
            " [0 0 1 ... 1 0 0]]\n",
            "[[1 0 0 ... 1 0 1]\n",
            " [0 0 0 ... 0 0 1]\n",
            " [1 0 0 ... 1 0 0]\n",
            " ...\n",
            " [1 0 1 ... 1 1 0]\n",
            " [0 0 0 ... 0 1 1]\n",
            " [0 0 1 ... 1 0 0]]\n",
            "[[1 0 0 ... 1 0 1]\n",
            " [0 0 0 ... 0 0 1]\n",
            " [1 0 0 ... 1 0 0]\n",
            " ...\n",
            " [1 0 1 ... 1 1 0]\n",
            " [0 0 0 ... 0 1 1]\n",
            " [0 0 1 ... 1 0 0]]\n",
            "[[1 0 0 ... 1 0 1]\n",
            " [0 0 0 ... 0 0 1]\n",
            " [1 0 0 ... 1 0 0]\n",
            " ...\n",
            " [1 0 1 ... 1 1 0]\n",
            " [0 0 0 ... 0 1 1]\n",
            " [0 0 1 ... 1 0 0]]\n",
            "[[1 0 0 ... 1 0 1]\n",
            " [0 0 0 ... 0 0 1]\n",
            " [1 0 0 ... 1 0 0]\n",
            " ...\n",
            " [1 0 1 ... 1 1 0]\n",
            " [0 0 0 ... 0 1 1]\n",
            " [0 0 1 ... 1 0 0]]\n",
            "[[1 0 0 ... 1 0 1]\n",
            " [0 0 0 ... 0 0 1]\n",
            " [1 0 0 ... 1 0 0]\n",
            " ...\n",
            " [1 0 1 ... 1 1 0]\n",
            " [0 0 0 ... 0 1 1]\n",
            " [0 0 1 ... 1 0 0]]\n",
            "[[1 0 0 ... 1 0 1]\n",
            " [0 0 0 ... 0 0 1]\n",
            " [1 0 0 ... 1 0 0]\n",
            " ...\n",
            " [1 0 1 ... 1 1 0]\n",
            " [0 0 0 ... 0 1 1]\n",
            " [0 0 1 ... 1 0 0]]\n",
            "[[1 0 0 ... 1 0 1]\n",
            " [0 0 0 ... 0 0 1]\n",
            " [1 0 0 ... 1 0 0]\n",
            " ...\n",
            " [1 0 1 ... 1 1 0]\n",
            " [0 0 0 ... 0 1 1]\n",
            " [0 0 1 ... 1 0 0]]\n",
            "[[1 0 0 ... 1 0 1]\n",
            " [0 0 0 ... 0 0 1]\n",
            " [1 0 0 ... 1 0 0]\n",
            " ...\n",
            " [1 0 1 ... 1 1 0]\n",
            " [0 0 0 ... 0 1 1]\n",
            " [0 0 1 ... 1 0 0]]\n",
            "[[1 0 0 ... 1 0 1]\n",
            " [0 0 0 ... 0 0 1]\n",
            " [1 0 0 ... 1 0 0]\n",
            " ...\n",
            " [1 0 1 ... 1 1 0]\n",
            " [0 0 0 ... 0 1 1]\n",
            " [0 0 1 ... 1 0 0]]\n",
            "[[1 0 0 ... 1 0 1]\n",
            " [0 0 0 ... 0 0 1]\n",
            " [1 0 0 ... 1 0 0]\n",
            " ...\n",
            " [1 0 1 ... 1 1 0]\n",
            " [0 0 0 ... 0 1 1]\n",
            " [0 0 1 ... 1 0 0]]\n",
            "[[1 0 0 ... 1 0 1]\n",
            " [0 0 0 ... 0 0 1]\n",
            " [1 0 0 ... 1 0 0]\n",
            " ...\n",
            " [1 0 1 ... 1 1 0]\n",
            " [0 0 0 ... 0 1 1]\n",
            " [0 0 1 ... 1 0 0]]\n",
            "[[1 0 0 ... 1 0 1]\n",
            " [0 0 0 ... 0 0 1]\n",
            " [1 0 0 ... 1 0 0]\n",
            " ...\n",
            " [1 0 1 ... 1 1 0]\n",
            " [0 0 0 ... 0 1 1]\n",
            " [0 0 1 ... 1 0 0]]\n",
            "[[1 0 0 ... 1 0 1]\n",
            " [0 0 0 ... 0 0 1]\n",
            " [1 0 0 ... 1 0 0]\n",
            " ...\n",
            " [1 0 1 ... 1 1 0]\n",
            " [0 0 0 ... 0 1 1]\n",
            " [0 0 1 ... 1 0 0]]\n",
            "[[1 0 0 ... 1 0 1]\n",
            " [0 0 0 ... 0 0 1]\n",
            " [1 0 0 ... 1 0 0]\n",
            " ...\n",
            " [1 0 1 ... 1 1 0]\n",
            " [0 0 0 ... 0 1 1]\n",
            " [0 0 1 ... 1 0 0]]\n",
            "[[1 0 0 ... 1 0 1]\n",
            " [0 0 0 ... 0 0 1]\n",
            " [1 0 0 ... 1 0 0]\n",
            " ...\n",
            " [1 0 1 ... 1 1 0]\n",
            " [0 0 0 ... 0 1 1]\n",
            " [0 0 1 ... 1 0 0]]\n",
            "[[1 0 0 ... 1 0 1]\n",
            " [0 0 0 ... 0 0 1]\n",
            " [1 0 0 ... 1 0 0]\n",
            " ...\n",
            " [1 0 1 ... 1 1 0]\n",
            " [0 0 0 ... 0 1 1]\n",
            " [0 0 1 ... 1 0 0]]\n",
            "[[1 0 0 ... 1 0 1]\n",
            " [0 0 0 ... 0 0 1]\n",
            " [1 0 0 ... 1 0 0]\n",
            " ...\n",
            " [1 0 1 ... 1 1 0]\n",
            " [0 0 0 ... 0 1 1]\n",
            " [0 0 1 ... 1 0 0]]\n",
            "[[1 0 0 ... 1 0 1]\n",
            " [0 0 0 ... 0 0 1]\n",
            " [1 0 0 ... 1 0 0]\n",
            " ...\n",
            " [1 0 1 ... 1 1 0]\n",
            " [0 0 0 ... 0 1 1]\n",
            " [0 0 1 ... 1 0 0]]\n",
            "[[1 0 0 ... 1 0 1]\n",
            " [0 0 0 ... 0 0 1]\n",
            " [1 0 0 ... 1 0 0]\n",
            " ...\n",
            " [1 0 1 ... 1 1 0]\n",
            " [0 0 0 ... 0 1 1]\n",
            " [0 0 1 ... 1 0 0]]\n",
            "[[1 0 0 ... 1 0 1]\n",
            " [0 0 0 ... 0 0 1]\n",
            " [1 0 0 ... 1 0 0]\n",
            " ...\n",
            " [1 0 1 ... 1 1 0]\n",
            " [0 0 0 ... 0 1 1]\n",
            " [0 0 1 ... 1 0 0]]\n",
            "[[1 0 0 ... 1 0 1]\n",
            " [0 0 0 ... 0 0 1]\n",
            " [1 0 0 ... 1 0 0]\n",
            " ...\n",
            " [1 0 1 ... 1 1 0]\n",
            " [0 0 0 ... 0 1 1]\n",
            " [0 0 1 ... 1 0 0]]\n",
            "[[1 0 0 ... 1 0 1]\n",
            " [0 0 0 ... 0 0 1]\n",
            " [1 0 0 ... 1 0 0]\n",
            " ...\n",
            " [1 0 1 ... 1 1 0]\n",
            " [0 0 0 ... 0 1 1]\n",
            " [0 0 1 ... 1 0 0]]\n",
            "[[1 0 0 ... 1 0 1]\n",
            " [0 0 0 ... 0 0 1]\n",
            " [1 0 0 ... 1 0 0]\n",
            " ...\n",
            " [1 0 1 ... 1 1 0]\n",
            " [0 0 0 ... 0 1 1]\n",
            " [0 0 1 ... 1 0 0]]\n",
            "[[1 0 0 ... 1 0 1]\n",
            " [0 0 0 ... 0 0 1]\n",
            " [1 0 0 ... 1 0 0]\n",
            " ...\n",
            " [1 0 1 ... 1 1 0]\n",
            " [0 0 0 ... 0 1 1]\n",
            " [0 0 1 ... 1 0 0]]\n",
            "[[1 0 0 ... 1 0 1]\n",
            " [0 0 0 ... 0 0 1]\n",
            " [1 0 0 ... 1 0 0]\n",
            " ...\n",
            " [1 0 1 ... 1 1 0]\n",
            " [0 0 0 ... 0 1 1]\n",
            " [0 0 1 ... 1 0 0]]\n",
            "[[1 0 0 ... 1 0 1]\n",
            " [0 0 0 ... 0 0 1]\n",
            " [1 0 0 ... 1 0 0]\n",
            " ...\n",
            " [1 0 1 ... 1 1 0]\n",
            " [0 0 0 ... 0 1 1]\n",
            " [0 0 1 ... 1 0 0]]\n",
            "[[1 0 0 ... 1 0 1]\n",
            " [0 0 0 ... 0 0 1]\n",
            " [1 0 0 ... 1 0 0]\n",
            " ...\n",
            " [1 0 1 ... 1 1 0]\n",
            " [0 0 0 ... 0 1 1]\n",
            " [0 0 1 ... 1 0 0]]\n",
            "[[1 0 0 ... 1 0 1]\n",
            " [0 0 0 ... 0 0 1]\n",
            " [1 0 0 ... 1 0 0]\n",
            " ...\n",
            " [1 0 1 ... 1 1 0]\n",
            " [0 0 0 ... 0 1 1]\n",
            " [0 0 1 ... 1 0 0]]\n",
            "[[1 0 0 ... 1 0 1]\n",
            " [0 0 0 ... 0 0 1]\n",
            " [1 0 0 ... 1 0 0]\n",
            " ...\n",
            " [1 0 1 ... 1 1 0]\n",
            " [0 0 0 ... 0 1 1]\n",
            " [0 0 1 ... 1 0 0]]\n"
          ]
        }
      ]
    },
    {
      "cell_type": "markdown",
      "source": [
        "**Дан двумерный массив. Найти все различные строки**"
      ],
      "metadata": {
        "id": "4bNs_fmdl7A5"
      }
    },
    {
      "cell_type": "code",
      "source": [
        "Z = np.random.randint(0, 2, (6,3))\n",
        "T = np.ascontiguousarray(Z).view(np.dtype((np.void, Z.dtype.itemsize *\n",
        "Z.shape[1])))\n",
        "_, idx = np.unique(T, return_index=True)\n",
        "uZ = Z[idx]\n",
        "print(uZ)"
      ],
      "metadata": {
        "colab": {
          "base_uri": "https://localhost:8080/"
        },
        "id": "GyAMBSKxklw1",
        "outputId": "f93705f6-6734-4441-c006-03ea9d35203a"
      },
      "execution_count": 58,
      "outputs": [
        {
          "output_type": "stream",
          "name": "stdout",
          "text": [
            "[[0 1 0]\n",
            " [1 0 0]\n",
            " [1 1 0]\n",
            " [1 1 1]]\n"
          ]
        }
      ]
    }
  ]
}