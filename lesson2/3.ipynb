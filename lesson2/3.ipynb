{
  "nbformat": 4,
  "nbformat_minor": 0,
  "metadata": {
    "colab": {
      "provenance": []
    },
    "kernelspec": {
      "name": "python3",
      "display_name": "Python 3"
    },
    "language_info": {
      "name": "python"
    }
  },
  "cells": [
    {
      "cell_type": "code",
      "source": [
        "import numpy as np"
      ],
      "metadata": {
        "id": "vW4IEd93to-9"
      },
      "execution_count": 1,
      "outputs": []
    },
    {
      "cell_type": "markdown",
      "source": [
        "Напишите программу NumPy для преобразования заданного массива в байты и загрузите его как массив.  "
      ],
      "metadata": {
        "id": "u9rBVRzgtnSr"
      }
    },
    {
      "cell_type": "code",
      "execution_count": 2,
      "metadata": {
        "colab": {
          "base_uri": "https://localhost:8080/"
        },
        "id": "LKkFeDYntZce",
        "outputId": "ff4e53b8-1f06-419d-f6e7-43196303cb66"
      },
      "outputs": [
        {
          "output_type": "stream",
          "name": "stdout",
          "text": [
            "[1 2 3 4 5 6]\n",
            "b'\\x01\\x00\\x00\\x00\\x00\\x00\\x00\\x00\\x02\\x00\\x00\\x00\\x00\\x00\\x00\\x00\\x03\\x00\\x00\\x00\\x00\\x00\\x00\\x00\\x04\\x00\\x00\\x00\\x00\\x00\\x00\\x00\\x05\\x00\\x00\\x00\\x00\\x00\\x00\\x00\\x06\\x00\\x00\\x00\\x00\\x00\\x00\\x00'\n",
            "[1 2 3 4 5 6]\n"
          ]
        }
      ],
      "source": [
        "a = np.a([1, 2, 3, 4, 5, 6])\n",
        "print(a)\n",
        "a_bytes = a.tobytes()\n",
        "print(a_bytes)\n",
        "a2 = np.frombuffer(a_bytes, dtype=a.dtype)\n",
        "print(a2)"
      ]
    },
    {
      "cell_type": "markdown",
      "source": [
        "Напишите программу NumPy для создания массива из 10 нулей, 10 единиц, 10 пятерок."
      ],
      "metadata": {
        "id": "nUiPl5cMuZM5"
      }
    },
    {
      "cell_type": "code",
      "source": [
        "a=np.zeros(10)\n",
        "print(a)\n",
        "a=np.ones(10)\n",
        "print(a)\n",
        "a=np.ones(10)*5\n",
        "print(a)"
      ],
      "metadata": {
        "colab": {
          "base_uri": "https://localhost:8080/"
        },
        "id": "Nv5f80Ghuu59",
        "outputId": "11b11133-6dff-4ba3-9bc7-cbf26a498855"
      },
      "execution_count": 3,
      "outputs": [
        {
          "output_type": "stream",
          "name": "stdout",
          "text": [
            "[0. 0. 0. 0. 0. 0. 0. 0. 0. 0.]\n",
            "[1. 1. 1. 1. 1. 1. 1. 1. 1. 1.]\n",
            "[5. 5. 5. 5. 5. 5. 5. 5. 5. 5.]\n"
          ]
        }
      ]
    },
    {
      "cell_type": "markdown",
      "source": [
        "Напишите программу NumPy для создания вектора длиной 5, заполненного произвольными целыми числами от 0 до 10"
      ],
      "metadata": {
        "id": "IUWW-lu8vDep"
      }
    },
    {
      "cell_type": "code",
      "source": [
        "a = np.random.randint(0, 11, 5)\n",
        "print(a)"
      ],
      "metadata": {
        "colab": {
          "base_uri": "https://localhost:8080/"
        },
        "id": "DxKnkyfbvED3",
        "outputId": "371d4ec5-0b66-48e5-d9f5-1241e5d88b82"
      },
      "execution_count": 4,
      "outputs": [
        {
          "output_type": "stream",
          "name": "stdout",
          "text": [
            "[1 1 2 3 2]\n"
          ]
        }
      ]
    },
    {
      "cell_type": "markdown",
      "source": [
        "Напишите программу NumPy для вычисления внутреннего произведения двух заданных векторов. "
      ],
      "metadata": {
        "id": "YK2wf4ywvMQo"
      }
    },
    {
      "cell_type": "code",
      "source": [
        "x = np.array([4, 5])\n",
        "y = np.array([7, 10])\n",
        "print(x)\n",
        "print(y)\n",
        "print(np.dot(x, y))"
      ],
      "metadata": {
        "colab": {
          "base_uri": "https://localhost:8080/"
        },
        "id": "FE0aSbjNvPVN",
        "outputId": "7ec79032-69df-45a5-a85f-069f7e3c13de"
      },
      "execution_count": 5,
      "outputs": [
        {
          "output_type": "stream",
          "name": "stdout",
          "text": [
            "[4 5]\n",
            "[ 7 10]\n",
            "78\n"
          ]
        }
      ]
    },
    {
      "cell_type": "markdown",
      "source": [
        "Напишите программу NumPy для создания матрицы 3х3 со значениями от 2 до 10."
      ],
      "metadata": {
        "id": "avzB9K1pvwnl"
      }
    },
    {
      "cell_type": "code",
      "source": [
        "x =  np.arange(2, 11).reshape(3,3)\n",
        "print(x)"
      ],
      "metadata": {
        "colab": {
          "base_uri": "https://localhost:8080/"
        },
        "id": "YAnYUrRkvxhU",
        "outputId": "75160dc2-c1b2-4d56-9d24-3a29435ce771"
      },
      "execution_count": 6,
      "outputs": [
        {
          "output_type": "stream",
          "name": "stdout",
          "text": [
            "[[ 2  3  4]\n",
            " [ 5  6  7]\n",
            " [ 8  9 10]]\n"
          ]
        }
      ]
    },
    {
      "cell_type": "markdown",
      "source": [
        "Напишите программу NumPy для создания пустого и полного массива."
      ],
      "metadata": {
        "id": "oGyCxrG7v1sS"
      }
    },
    {
      "cell_type": "code",
      "source": [
        "x = np.empty((3,4))\n",
        "print(x)\n",
        "y = np.full((3,3),6)\n",
        "print(y)"
      ],
      "metadata": {
        "colab": {
          "base_uri": "https://localhost:8080/"
        },
        "id": "ALLfNAlyv2DX",
        "outputId": "5f8f1d51-7500-4fdf-a3bb-b4c0c7ecd418"
      },
      "execution_count": 7,
      "outputs": [
        {
          "output_type": "stream",
          "name": "stdout",
          "text": [
            "[[0. 0. 0. 0.]\n",
            " [0. 0. 0. 0.]\n",
            " [0. 0. 0. 0.]]\n",
            "[[6 6 6]\n",
            " [6 6 6]\n",
            " [6 6 6]]\n"
          ]
        }
      ]
    },
    {
      "cell_type": "markdown",
      "source": [
        "Напишите программу NumPy, чтобы найти объединение двух массивов. Union вернет уникальный отсортированный массив значений, которые находятся в любом из двух входных массивов."
      ],
      "metadata": {
        "id": "ca04LBZcwB0R"
      }
    },
    {
      "cell_type": "code",
      "source": [
        "array1 = np.array([0, 10, 20, 40, 60, 80])\n",
        "print(array1)\n",
        "array2 = [10, 30, 40, 50, 70]\n",
        "print(array2)\n",
        "print(np.union1d(array1, array2))"
      ],
      "metadata": {
        "colab": {
          "base_uri": "https://localhost:8080/"
        },
        "id": "2476sEz3wCV7",
        "outputId": "1d936bee-93fc-46a7-bb4e-409cadbb3ba1"
      },
      "execution_count": 8,
      "outputs": [
        {
          "output_type": "stream",
          "name": "stdout",
          "text": [
            "[ 0 10 20 40 60 80]\n",
            "[10, 30, 40, 50, 70]\n",
            "[ 0 10 20 30 40 50 60 70 80]\n"
          ]
        }
      ]
    },
    {
      "cell_type": "markdown",
      "source": [
        " Напишите программу NumPy, чтобы найти объем памяти массива NumPy."
      ],
      "metadata": {
        "id": "IaqIMcUtwcMp"
      }
    },
    {
      "cell_type": "code",
      "source": [
        "n = np.zeros((4,4))\n",
        "print(\"%d bytes\" % (n.size * n.itemsize))"
      ],
      "metadata": {
        "colab": {
          "base_uri": "https://localhost:8080/"
        },
        "id": "U_Fo3-dSwcqf",
        "outputId": "199df4ea-5c01-44c4-8139-e70e77410a94"
      },
      "execution_count": 9,
      "outputs": [
        {
          "output_type": "stream",
          "name": "stdout",
          "text": [
            "128 bytes\n"
          ]
        }
      ]
    },
    {
      "cell_type": "markdown",
      "source": [
        "Напишите программу NumPy для создания двумерного массива, диагональ которого равна [4, 5, 6, 8] и 0 где-либо еще."
      ],
      "metadata": {
        "id": "cV9kU7UTwsvL"
      }
    },
    {
      "cell_type": "code",
      "source": [
        "x =  np.diagflat([4, 5, 6, 8])\n",
        "print(x)"
      ],
      "metadata": {
        "colab": {
          "base_uri": "https://localhost:8080/"
        },
        "id": "3dgBxshxwt5s",
        "outputId": "141f7173-5a05-4d34-df6d-af2f1553c92c"
      },
      "execution_count": 10,
      "outputs": [
        {
          "output_type": "stream",
          "name": "stdout",
          "text": [
            "[[4 0 0 0]\n",
            " [0 5 0 0]\n",
            " [0 0 6 0]\n",
            " [0 0 0 8]]\n"
          ]
        }
      ]
    },
    {
      "cell_type": "markdown",
      "source": [
        "Напишите программу NumPy для перемещения указанной оси назад, пока она не окажется в заданной позиции."
      ],
      "metadata": {
        "id": "Z5oTnUuYwzL8"
      }
    },
    {
      "cell_type": "code",
      "source": [
        "x = np.ones((2,3,4,5))\n",
        "print(np.rollaxis(x, 2, 0).shape)"
      ],
      "metadata": {
        "colab": {
          "base_uri": "https://localhost:8080/"
        },
        "id": "Q3d5n8Bqw2e_",
        "outputId": "d81bef09-677f-4cf4-cca2-b5d54ebb16f7"
      },
      "execution_count": 16,
      "outputs": [
        {
          "output_type": "stream",
          "name": "stdout",
          "text": [
            "(4, 2, 3, 5)\n"
          ]
        }
      ]
    },
    {
      "cell_type": "markdown",
      "source": [
        "Напишите программу NumPy, чтобы получить количество ненулевых элементов в массиве."
      ],
      "metadata": {
        "id": "fn4eSimHxLtY"
      }
    },
    {
      "cell_type": "code",
      "source": [
        "x = np.array([[0, 10, 20], [20, 30, 40]])\n",
        "print(x)\n",
        "print(np.count_nonzero(x))"
      ],
      "metadata": {
        "colab": {
          "base_uri": "https://localhost:8080/"
        },
        "id": "OB2TUEf0xGAO",
        "outputId": "6bfb0787-4f39-4157-c9de-9209f8d7928d"
      },
      "execution_count": 17,
      "outputs": [
        {
          "output_type": "stream",
          "name": "stdout",
          "text": [
            "[[ 0 10 20]\n",
            " [20 30 40]]\n",
            "5\n"
          ]
        }
      ]
    },
    {
      "cell_type": "markdown",
      "source": [
        "Напишите программу NumPy для создания массива (3, 4) формы, умножьте значение каждого элемента на 3 и отобразите новый массив."
      ],
      "metadata": {
        "id": "dEjh8deaxSex"
      }
    },
    {
      "cell_type": "code",
      "source": [
        "x= np.arange(12).reshape(3, 4)\n",
        "print(x)\n",
        "for a in np.nditer(x, op_flags=['readwrite']):\n",
        "    a[...] = 3 * a\n",
        "print(x)"
      ],
      "metadata": {
        "colab": {
          "base_uri": "https://localhost:8080/"
        },
        "id": "UpsYW030xTBv",
        "outputId": "57b2051f-1282-42e2-df08-6c523adbad61"
      },
      "execution_count": 18,
      "outputs": [
        {
          "output_type": "stream",
          "name": "stdout",
          "text": [
            "[[ 0  1  2  3]\n",
            " [ 4  5  6  7]\n",
            " [ 8  9 10 11]]\n",
            "[[ 0  3  6  9]\n",
            " [12 15 18 21]\n",
            " [24 27 30 33]]\n"
          ]
        }
      ]
    },
    {
      "cell_type": "markdown",
      "source": [
        "Напишите программу NumPy для преобразования массива чисел с плавающей точкой в массив целых чисел"
      ],
      "metadata": {
        "id": "PtTIVwkxxjO_"
      }
    },
    {
      "cell_type": "code",
      "source": [
        "x= np.array([[12.0, 12.51], [2.34, 7.98], [25.23, 36.50]])\n",
        "print(x)\n",
        "print(x.astype(int))"
      ],
      "metadata": {
        "colab": {
          "base_uri": "https://localhost:8080/"
        },
        "id": "L8G8UNmIxkRp",
        "outputId": "057df92a-121c-4cde-b745-6a9fa4d94b9e"
      },
      "execution_count": 19,
      "outputs": [
        {
          "output_type": "stream",
          "name": "stdout",
          "text": [
            "[[12.   12.51]\n",
            " [ 2.34  7.98]\n",
            " [25.23 36.5 ]]\n",
            "[[12 12]\n",
            " [ 2  7]\n",
            " [25 36]]\n"
          ]
        }
      ]
    },
    {
      "cell_type": "markdown",
      "source": [
        "Напишите программу NumPy, чтобы получить величину вектора в numpy."
      ],
      "metadata": {
        "id": "3kmfuGEJxvEw"
      }
    },
    {
      "cell_type": "code",
      "source": [
        "x = np.array([1,2,3,4,5])\n",
        "print(x)\n",
        "print(np.linalg.norm(x))"
      ],
      "metadata": {
        "colab": {
          "base_uri": "https://localhost:8080/"
        },
        "id": "sugXCYEXxvYT",
        "outputId": "a8838588-0921-4cc9-c8b2-66075727a567"
      },
      "execution_count": 20,
      "outputs": [
        {
          "output_type": "stream",
          "name": "stdout",
          "text": [
            "[1 2 3 4 5]\n",
            "7.416198487095663\n"
          ]
        }
      ]
    },
    {
      "cell_type": "markdown",
      "source": [
        "Напишите программу NumPy для расчета евклидова расстояния."
      ],
      "metadata": {
        "id": "NMdfavIwyGSY"
      }
    },
    {
      "cell_type": "code",
      "source": [
        "from scipy.spatial import distance\n",
        "p1 = (1, 2, 3)\n",
        "p2 = (4, 5, 6)\n",
        "d = distance.euclidean(p1, p2)\n",
        "print(d)"
      ],
      "metadata": {
        "colab": {
          "base_uri": "https://localhost:8080/"
        },
        "id": "S4_NFUnxyGmk",
        "outputId": "413ebffc-ef8d-426e-8da0-4f8c6322fca4"
      },
      "execution_count": 21,
      "outputs": [
        {
          "output_type": "stream",
          "name": "stdout",
          "text": [
            "5.196152422706632\n"
          ]
        }
      ]
    },
    {
      "cell_type": "markdown",
      "source": [
        "Напишите программу NumPy для построения массива всех комбинаций из трех числовых массивов."
      ],
      "metadata": {
        "id": "C_cdalK8yNtf"
      }
    },
    {
      "cell_type": "code",
      "source": [
        "x = [1, 2, 3]\n",
        "y = [4, 5]\n",
        "z = [6, 7]\n",
        "print(x)\n",
        "print(y)\n",
        "print(z)\n",
        "new_array = np.array(np.meshgrid(x, y, z)).T.reshape(-1,3)\n",
        "print(new_array)"
      ],
      "metadata": {
        "colab": {
          "base_uri": "https://localhost:8080/"
        },
        "id": "gmUSPLIGyR1S",
        "outputId": "5b349ae4-19bb-4037-f256-98e8b17bef61"
      },
      "execution_count": 22,
      "outputs": [
        {
          "output_type": "stream",
          "name": "stdout",
          "text": [
            "[1, 2, 3]\n",
            "[4, 5]\n",
            "[6, 7]\n",
            "[[1 4 6]\n",
            " [1 5 6]\n",
            " [2 4 6]\n",
            " [2 5 6]\n",
            " [3 4 6]\n",
            " [3 5 6]\n",
            " [1 4 7]\n",
            " [1 5 7]\n",
            " [2 4 7]\n",
            " [2 5 7]\n",
            " [3 4 7]\n",
            " [3 5 7]]\n"
          ]
        }
      ]
    },
    {
      "cell_type": "markdown",
      "source": [
        "Напишите программу NumPy для создания двух массивов, когда размер больше или меньше заданного массива."
      ],
      "metadata": {
        "id": "wJuy4dfGyZCI"
      }
    },
    {
      "cell_type": "code",
      "source": [
        "x = np.arange(16).reshape(4,4)\n",
        "print(x)\n",
        "new_array1 = np.resize(x,(2,2))\n",
        "print(new_array1)\n",
        "new_array2 = np.resize(x,(6,6))\n",
        "print(new_array2)"
      ],
      "metadata": {
        "colab": {
          "base_uri": "https://localhost:8080/"
        },
        "id": "sxys_8iRyZn5",
        "outputId": "0e86b009-fed2-4d90-9b72-5522b2c7c776"
      },
      "execution_count": 23,
      "outputs": [
        {
          "output_type": "stream",
          "name": "stdout",
          "text": [
            "[[ 0  1  2  3]\n",
            " [ 4  5  6  7]\n",
            " [ 8  9 10 11]\n",
            " [12 13 14 15]]\n",
            "[[0 1]\n",
            " [2 3]]\n",
            "[[ 0  1  2  3  4  5]\n",
            " [ 6  7  8  9 10 11]\n",
            " [12 13 14 15  0  1]\n",
            " [ 2  3  4  5  6  7]\n",
            " [ 8  9 10 11 12 13]\n",
            " [14 15  0  1  2  3]]\n"
          ]
        }
      ]
    },
    {
      "cell_type": "markdown",
      "source": [
        "Напишите программу NumPy для подсчета количества измерений, количества элементов и количества байтов для каждого элемента в данном массиве. "
      ],
      "metadata": {
        "id": "fZWO8igbyq5b"
      }
    },
    {
      "cell_type": "code",
      "source": [
        "x = np.array([[ 0,  1,  2,  3,  4,  5,  6,  7,  8,  9, 10, 11],\n",
        "       [12, 13, 14, 15, 16, 17, 18, 19, 20, 21, 22, 23]])\n",
        "print(x)\n",
        "print(x.ndim)\n",
        "print(x.size)\n",
        "print(x.itemsize)"
      ],
      "metadata": {
        "colab": {
          "base_uri": "https://localhost:8080/"
        },
        "id": "F-xpgk93yraD",
        "outputId": "cb84ef47-3030-4610-9feb-322c3a22045d"
      },
      "execution_count": 24,
      "outputs": [
        {
          "output_type": "stream",
          "name": "stdout",
          "text": [
            "[[ 0  1  2  3  4  5  6  7  8  9 10 11]\n",
            " [12 13 14 15 16 17 18 19 20 21 22 23]]\n",
            "2\n",
            "24\n",
            "8\n"
          ]
        }
      ]
    },
    {
      "cell_type": "markdown",
      "source": [
        "Напишите программу NumPy для извлечения первого элемента второй строки и четвертого элемента четвертой строки из заданного (4x4) массива."
      ],
      "metadata": {
        "id": "PCDLbSPwy92q"
      }
    },
    {
      "cell_type": "code",
      "source": [
        "arra_data = np.arange(0,16).reshape((4, 4))\n",
        "print(arra_data)\n",
        "print(arra_data[[1,3], [0,3]])"
      ],
      "metadata": {
        "colab": {
          "base_uri": "https://localhost:8080/"
        },
        "id": "_bRPS3Dhy-Hp",
        "outputId": "9368a982-7338-4528-b28a-367b3ef1df00"
      },
      "execution_count": 25,
      "outputs": [
        {
          "output_type": "stream",
          "name": "stdout",
          "text": [
            "[[ 0  1  2  3]\n",
            " [ 4  5  6  7]\n",
            " [ 8  9 10 11]\n",
            " [12 13 14 15]]\n",
            "[ 4 15]\n"
          ]
        }
      ]
    },
    {
      "cell_type": "markdown",
      "source": [
        "Напишите программу NumPy для извлечения верхней треугольной части матрицы NumPy."
      ],
      "metadata": {
        "id": "5dITVHaTzGLl"
      }
    },
    {
      "cell_type": "code",
      "source": [
        "num = np.arange(18)\n",
        "arr1 = np.reshape(num, [6, 3])\n",
        "print(arr1)\n",
        "result  = arr1[np.triu_indices(3)]\n",
        "print(result)\n",
        "result  = arr1[np.triu_indices(2)]\n",
        "print(result)"
      ],
      "metadata": {
        "colab": {
          "base_uri": "https://localhost:8080/"
        },
        "id": "JZVWAZDezGgU",
        "outputId": "f4cf8649-7d44-4b24-dedb-ca81d2bf39ee"
      },
      "execution_count": 26,
      "outputs": [
        {
          "output_type": "stream",
          "name": "stdout",
          "text": [
            "[[ 0  1  2]\n",
            " [ 3  4  5]\n",
            " [ 6  7  8]\n",
            " [ 9 10 11]\n",
            " [12 13 14]\n",
            " [15 16 17]]\n",
            "[0 1 2 4 5 8]\n",
            "[0 1 4]\n"
          ]
        }
      ]
    },
    {
      "cell_type": "markdown",
      "source": [
        "Напишите программу NumPy для вычисления перекрестного произведения двух заданных векторов."
      ],
      "metadata": {
        "id": "o3rBIkHy1oDQ"
      }
    },
    {
      "cell_type": "code",
      "source": [
        "p = [[1, 0], [0, 1]]\n",
        "q = [[1, 2], [3, 4]]\n",
        "print(p)\n",
        "print(q)\n",
        "result1 = np.cross(p, q)\n",
        "result2 = np.cross(q, p)\n",
        "print(result1)\n",
        "print(result2)"
      ],
      "metadata": {
        "colab": {
          "base_uri": "https://localhost:8080/"
        },
        "id": "ERleSA_q1ojp",
        "outputId": "3f400fce-02ac-4c9f-b5fd-8696f726f4c7"
      },
      "execution_count": 27,
      "outputs": [
        {
          "output_type": "stream",
          "name": "stdout",
          "text": [
            "[[1, 0], [0, 1]]\n",
            "[[1, 2], [3, 4]]\n",
            "[ 2 -3]\n",
            "[-2  3]\n"
          ]
        }
      ]
    },
    {
      "cell_type": "markdown",
      "source": [
        "Напишите программу NumPy для расчета QR-разложения данной матрицы"
      ],
      "metadata": {
        "id": "ATngHpPz14Pv"
      }
    },
    {
      "cell_type": "code",
      "source": [
        "m = np.array([[1,2],[3,4]])\n",
        "print(m)\n",
        "result =  np.linalg.qr(m)\n",
        "print(result)"
      ],
      "metadata": {
        "colab": {
          "base_uri": "https://localhost:8080/"
        },
        "id": "CYHpGitJ148m",
        "outputId": "efadbf92-2575-4a48-b7a3-79f854be2a1a"
      },
      "execution_count": 28,
      "outputs": [
        {
          "output_type": "stream",
          "name": "stdout",
          "text": [
            "[[1 2]\n",
            " [3 4]]\n",
            "(array([[-0.31622777, -0.9486833 ],\n",
            "       [-0.9486833 ,  0.31622777]]), array([[-3.16227766, -4.42718872],\n",
            "       [ 0.        , -0.63245553]]))\n"
          ]
        }
      ]
    },
    {
      "cell_type": "markdown",
      "source": [
        "Напишите программу NumPy для создания массива 3x3x3 со случайными значениями."
      ],
      "metadata": {
        "id": "M5ciGb-v2KK9"
      }
    },
    {
      "cell_type": "code",
      "source": [
        "x = np.random.random((3,3,3))\n",
        "print(x)"
      ],
      "metadata": {
        "colab": {
          "base_uri": "https://localhost:8080/"
        },
        "id": "JlKybVmO2K5A",
        "outputId": "f229403b-b206-46e6-bdfd-cfab2d6181b4"
      },
      "execution_count": 29,
      "outputs": [
        {
          "output_type": "stream",
          "name": "stdout",
          "text": [
            "[[[0.97011078 0.75555853 0.26259649]\n",
            "  [0.80704668 0.6436173  0.85663431]\n",
            "  [0.24546322 0.59805397 0.67637942]]\n",
            "\n",
            " [[0.08530689 0.76906985 0.84578665]\n",
            "  [0.59446133 0.64209853 0.26983545]\n",
            "  [0.81285597 0.9885349  0.41683281]]\n",
            "\n",
            " [[0.6236616  0.88750694 0.30335082]\n",
            "  [0.05199659 0.67024858 0.22772363]\n",
            "  [0.32921129 0.63670736 0.09075902]]]\n"
          ]
        }
      ]
    },
    {
      "cell_type": "markdown",
      "source": [
        "Напишите программу NumPy, чтобы найти наиболее частое значение в массиве."
      ],
      "metadata": {
        "id": "bnq5ofTD2O6R"
      }
    },
    {
      "cell_type": "code",
      "source": [
        "x = np.random.randint(0, 10, 40)\n",
        "print(x)\n",
        "print(np.bincount(x).argmax())"
      ],
      "metadata": {
        "colab": {
          "base_uri": "https://localhost:8080/"
        },
        "id": "ew1ToO8f2POX",
        "outputId": "1bc5bc85-fd9c-4d7f-e981-45b8e3bc247f"
      },
      "execution_count": 31,
      "outputs": [
        {
          "output_type": "stream",
          "name": "stdout",
          "text": [
            "[2 6 6 8 8 3 8 3 8 7 9 0 7 5 5 4 2 1 8 5 9 5 9 8 5 7 4 2 1 1 4 6 6 2 0 1 9\n",
            " 1 1 6]\n",
            "1\n"
          ]
        }
      ]
    },
    {
      "cell_type": "markdown",
      "source": [
        "Напишите программу NumPy для создания структурированного массива из заданного имени ученика, роста, класса и их типов данных. Теперь сортируйте по классу, затем по высоте, если класс равен"
      ],
      "metadata": {
        "id": "vbhCLY3D2vUw"
      }
    },
    {
      "cell_type": "code",
      "source": [
        "data_type = [('name', 'S15'), ('class', int), ('height', float)]\n",
        "students_details = [('James', 5, 48.5), ('Nail', 6, 52.5),('Paul', 5, 42.10), ('Pit', 5, 40.11)]\n",
        "students = np.array(students_details, dtype=data_type)   \n",
        "print(students)\n",
        "print(np.sort(students, order=['class', 'height']))"
      ],
      "metadata": {
        "colab": {
          "base_uri": "https://localhost:8080/"
        },
        "id": "NIiYFk9Y2voB",
        "outputId": "07fd6752-461e-44f2-caf5-b8b992d0d624"
      },
      "execution_count": 32,
      "outputs": [
        {
          "output_type": "stream",
          "name": "stdout",
          "text": [
            "[(b'James', 5, 48.5 ) (b'Nail', 6, 52.5 ) (b'Paul', 5, 42.1 )\n",
            " (b'Pit', 5, 40.11)]\n",
            "[(b'Pit', 5, 40.11) (b'Paul', 5, 42.1 ) (b'James', 5, 48.5 )\n",
            " (b'Nail', 6, 52.5 )]\n"
          ]
        }
      ]
    },
    {
      "cell_type": "markdown",
      "source": [
        "Напишите программу NumPy, чтобы получить истинное деление входов массива элементов."
      ],
      "metadata": {
        "id": "hxB7Dozj3LF9"
      }
    },
    {
      "cell_type": "code",
      "source": [
        "x = np.arange(10)\n",
        "print(x)\n",
        "print(np.true_divide(x, 3))"
      ],
      "metadata": {
        "colab": {
          "base_uri": "https://localhost:8080/"
        },
        "id": "W9FMS3_i3Lg0",
        "outputId": "96e168a6-feca-4306-99d9-624e78579e39"
      },
      "execution_count": 33,
      "outputs": [
        {
          "output_type": "stream",
          "name": "stdout",
          "text": [
            "[0 1 2 3 4 5 6 7 8 9]\n",
            "[0.         0.33333333 0.66666667 1.         1.33333333 1.66666667\n",
            " 2.         2.33333333 2.66666667 3.        ]\n"
          ]
        }
      ]
    },
    {
      "cell_type": "markdown",
      "source": [
        "Напишите программу NumPy для создания внутреннего продукта из двух массивов."
      ],
      "metadata": {
        "id": "iA5IPiwQ3Tvs"
      }
    },
    {
      "cell_type": "code",
      "source": [
        "x = np.arange(24).reshape((2,3,4))\n",
        "print(x)\n",
        "y = np.arange(4)\n",
        "print(y)\n",
        "print(np.inner(x, y))"
      ],
      "metadata": {
        "colab": {
          "base_uri": "https://localhost:8080/"
        },
        "id": "Cq2TaJG23UJA",
        "outputId": "6baa0466-e082-49f6-8b7b-b2dd94f64593"
      },
      "execution_count": 34,
      "outputs": [
        {
          "output_type": "stream",
          "name": "stdout",
          "text": [
            "[[[ 0  1  2  3]\n",
            "  [ 4  5  6  7]\n",
            "  [ 8  9 10 11]]\n",
            "\n",
            " [[12 13 14 15]\n",
            "  [16 17 18 19]\n",
            "  [20 21 22 23]]]\n",
            "[0 1 2 3]\n",
            "[[ 14  38  62]\n",
            " [ 86 110 134]]\n"
          ]
        }
      ]
    },
    {
      "cell_type": "markdown",
      "source": [
        "Напишите программу NumPy для преобразования углов из радианов в градусы для всех элементов в данном массиве.  \n",
        "Входные данные: [-np.pi, -np.pi / 2, np.pi / 2, np.pi]\n",
        "Образец вывода:\n",
        "[-180. -90. 90. 180.]\n"
      ],
      "metadata": {
        "id": "0fY7semo3iUb"
      }
    },
    {
      "cell_type": "code",
      "source": [
        "x = np.array([-np.pi, -np.pi/2, np.pi/2, np.pi])\n",
        "r1 = np.degrees(x)\n",
        "r2 = np.rad2deg(x)\n",
        "assert np.array_equiv(r1, r2)\n",
        "print(r1)"
      ],
      "metadata": {
        "colab": {
          "base_uri": "https://localhost:8080/"
        },
        "id": "pNEK8NSv3i8y",
        "outputId": "f7c82543-bd86-472d-91a6-3a21f40d9d0d"
      },
      "execution_count": 35,
      "outputs": [
        {
          "output_type": "stream",
          "name": "stdout",
          "text": [
            "[-180.  -90.   90.  180.]\n"
          ]
        }
      ]
    },
    {
      "cell_type": "markdown",
      "source": [
        " Напишите программу NumPy для вычисления 2p для всех элементов в данном массиве.  \n",
        "Образец вывода:\n",
        "Исходный массив:\n",
        "[1. 2. 3. 4.]\n",
        "2 ^ p для всех элементов указанного массива:\n",
        "[2. 4. 8. 16.]\n"
      ],
      "metadata": {
        "id": "eXtGBxMB3n1i"
      }
    },
    {
      "cell_type": "code",
      "source": [
        "x = np.array([1., 2., 3., 4.], np.float32)\n",
        "print(x)\n",
        "r1 = np.exp2(x)\n",
        "r2 = 2 ** x\n",
        "assert np.allclose(r1, r2)\n",
        "print(r1)"
      ],
      "metadata": {
        "colab": {
          "base_uri": "https://localhost:8080/"
        },
        "id": "4zUn_Ews3oLx",
        "outputId": "0f873830-e751-404a-eb3b-b514f112454a"
      },
      "execution_count": 36,
      "outputs": [
        {
          "output_type": "stream",
          "name": "stdout",
          "text": [
            "[1. 2. 3. 4.]\n",
            "[ 2.  4.  8. 16.]\n"
          ]
        }
      ]
    },
    {
      "cell_type": "markdown",
      "source": [
        "Напишите программу NumPy, чтобы вычислить разницу между максимальным и минимальным значениями данного массива вдоль второй оси.  \n",
        "Ожидаемый результат:\n",
        "Исходный массив:\n",
        "[[0 1 2 3 4 5]\n",
        "[6 7 8 9 10 11]]\n",
        "Разница между максимальным и минимальным значениями указанного массива:\n",
        "[5 5]\n"
      ],
      "metadata": {
        "id": "Q-g3sPK93-2H"
      }
    },
    {
      "cell_type": "code",
      "source": [
        "x = np.arange(12).reshape((2, 6))\n",
        "print(x)\n",
        "r1 = np.ptp(x, 1)\n",
        "r2 = np.amax(x, 1) - np.amin(x, 1)\n",
        "assert np.allclose(r1, r2)\n",
        "print(r1)"
      ],
      "metadata": {
        "colab": {
          "base_uri": "https://localhost:8080/"
        },
        "id": "i11uGXl43_Mz",
        "outputId": "7ccd8124-d8d5-4055-d91f-2fa674122648"
      },
      "execution_count": 37,
      "outputs": [
        {
          "output_type": "stream",
          "name": "stdout",
          "text": [
            "[[ 0  1  2  3  4  5]\n",
            " [ 6  7  8  9 10 11]]\n",
            "[5 5]\n"
          ]
        }
      ]
    },
    {
      "cell_type": "markdown",
      "source": [
        "Напишите программу на Python для подсчета количества вхождений каждого значения в данный массив неотрицательных целых чисел. Перейти к редактору\n",
        "Примечание: функция bincount () считает количество вхождений каждого значения в массив неотрицательных целых чисел в диапазоне массива между минимальным и максимальным значениями, включая значения, которые не встречались.\n",
        "Пример вывода:\n",
        "Исходный массив:\n",
        "[0, 1, 6, 1, 4, 1, 2, 2, 7]\n",
        "Количество вхождений каждого значения в массиве:\n",
        "[1 3 2 0 1 0 1 1]"
      ],
      "metadata": {
        "id": "7rHltRG34MMX"
      }
    },
    {
      "cell_type": "code",
      "source": [
        "array1 = [0, 1, 6, 1, 4, 1, 2, 2, 7] \n",
        "print(array1)\n",
        "print(np.bincount(array1))"
      ],
      "metadata": {
        "colab": {
          "base_uri": "https://localhost:8080/"
        },
        "id": "jueK2Jo74Mgp",
        "outputId": "42a4c196-b5e9-4345-ea0a-77544655249a"
      },
      "execution_count": 38,
      "outputs": [
        {
          "output_type": "stream",
          "name": "stdout",
          "text": [
            "[0, 1, 6, 1, 4, 1, 2, 2, 7]\n",
            "[1 3 2 0 1 0 1 1]\n"
          ]
        }
      ]
    },
    {
      "cell_type": "markdown",
      "source": [
        "Напишите программу NumPy для подсчета количества дней определенного месяца.  \n",
        "Ожидаемый результат:\n",
        "\n",
        "Количество дней, февраль 2016 года:\n",
        "29 дней\n",
        "\n",
        "Количество дней, февраль 2017 года:\n",
        "28 дней\n",
        "\n",
        "Количество дней, февраль 2018 года:\n",
        "28 дней\n"
      ],
      "metadata": {
        "id": "mrie87184YIa"
      }
    },
    {
      "cell_type": "code",
      "source": [
        "print(\"Number of days, February, 2016: \")\n",
        "print(np.datetime64('2016-03-01') - np.datetime64('2016-02-01'))\n",
        "print(\"Number of days, February, 2017: \")\n",
        "print(np.datetime64('2017-03-01') - np.datetime64('2017-02-01'))\n",
        "print(\"Number of days, February, 2018: \")\n",
        "print(np.datetime64('2018-03-01') - np.datetime64('2018-02-01'))"
      ],
      "metadata": {
        "colab": {
          "base_uri": "https://localhost:8080/"
        },
        "id": "mukawDUa4YgX",
        "outputId": "6f0920bd-ca40-4b2e-b071-7a5b1febee5e"
      },
      "execution_count": 39,
      "outputs": [
        {
          "output_type": "stream",
          "name": "stdout",
          "text": [
            "Number of days, February, 2016: \n",
            "29 days\n",
            "Number of days, February, 2017: \n",
            "28 days\n",
            "Number of days, February, 2018: \n",
            "28 days\n"
          ]
        }
      ]
    },
    {
      "cell_type": "markdown",
      "source": [
        "Напишите программу NumPy, в которой прописными буквами будут прописные буквы, строчные буквы, прописные буквы, прописные буквы, заглавные буквы всех элементов данного массива.  \n",
        "Ожидаемый результат:\n",
        "\n",
        "Оригинальный массив:\n",
        "['python' 'PHP' 'java' 'C ++']\n",
        "\n",
        "С большой буквы: ['Python' 'Php' 'Java' 'C ++']\n",
        "\n",
        "Понижено: ['python' 'php' 'java' 'c ++']\n",
        "\n",
        "Uppered: ['PYTHON' 'PHP' 'JAVA' 'C ++']\n",
        "\n",
        "Swapcased: ['PYTHON' 'php' 'JAVA' 'c ++']\n",
        "\n",
        "Titlecased: ['Python' 'Php' 'Java' 'C ++']\n"
      ],
      "metadata": {
        "id": "xtpKmRUh4tEG"
      }
    },
    {
      "cell_type": "code",
      "source": [
        "x = np.array(['python', 'PHP', 'java', 'C++'], dtype=str)\n",
        "print(x)\n",
        "capitalized_case = np.char.capitalize(x)\n",
        "lowered_case = np.char.lower(x)\n",
        "uppered_case = np.char.upper(x)\n",
        "swapcased_case = np.char.swapcase(x)\n",
        "titlecased_case = np.char.title(x)\n",
        "print(\"\\nCapitalized: \", capitalized_case)\n",
        "print(\"Lowered: \", lowered_case)\n",
        "print(\"Uppered: \", uppered_case)\n",
        "print(\"Swapcased: \", swapcased_case)\n",
        "print(\"Titlecased: \", titlecased_case)"
      ],
      "metadata": {
        "colab": {
          "base_uri": "https://localhost:8080/"
        },
        "id": "qhrdjnaP4tsT",
        "outputId": "caa98e3e-8b5c-48be-839d-9ffdc02dc903"
      },
      "execution_count": 41,
      "outputs": [
        {
          "output_type": "stream",
          "name": "stdout",
          "text": [
            "['python' 'PHP' 'java' 'C++']\n",
            "\n",
            "Capitalized:  ['Python' 'Php' 'Java' 'C++']\n",
            "Lowered:  ['python' 'php' 'java' 'c++']\n",
            "Uppered:  ['PYTHON' 'PHP' 'JAVA' 'C++']\n",
            "Swapcased:  ['PYTHON' 'php' 'JAVA' 'c++']\n",
            "Titlecased:  ['Python' 'Php' 'Java' 'C++']\n"
          ]
        }
      ]
    },
    {
      "cell_type": "markdown",
      "source": [
        "Напишите программу NumPy, чтобы заменить «PHP» на «Python» в элементе данного массива.  \n",
        "Пример вывода:\n",
        "\n",
        "Оригинальный массив:\n",
        "['PHP Упражнения, Практика, Решение']\n",
        "\n",
        "Новый массив:\n",
        "['Упражнения на Python, практика, решение']\n"
      ],
      "metadata": {
        "id": "mZFzcVOC5DPB"
      }
    },
    {
      "cell_type": "code",
      "source": [
        "x = np.array(['PHP Упражнения, Практика, Решение'], dtype=str)\n",
        "print(x)\n",
        "r = np.char.replace(x, \"PHP\", \"Python\")\n",
        "print(r)"
      ],
      "metadata": {
        "colab": {
          "base_uri": "https://localhost:8080/"
        },
        "id": "laiscLhQ5DhJ",
        "outputId": "ec53cb53-1090-48c3-d643-25a73f5e5a6b"
      },
      "execution_count": 44,
      "outputs": [
        {
          "output_type": "stream",
          "name": "stdout",
          "text": [
            "['PHP Упражнения, Практика, Решение']\n",
            "['Python Упражнения, Практика, Решение']\n"
          ]
        }
      ]
    }
  ]
}