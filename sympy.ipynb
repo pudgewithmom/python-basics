{
  "cells": [
    {
      "cell_type": "markdown",
      "metadata": {
        "id": "view-in-github",
        "colab_type": "text"
      },
      "source": [
        "<a href=\"https://colab.research.google.com/github/pudgewithmom/python-basics/blob/main/sympy.ipynb\" target=\"_parent\"><img src=\"https://colab.research.google.com/assets/colab-badge.svg\" alt=\"Open In Colab\"/></a>"
      ]
    },
    {
      "cell_type": "markdown",
      "metadata": {
        "deletable": true,
        "editable": true,
        "id": "2oogu2bjvZzw"
      },
      "source": [
        "# SymPy\n",
        "\n",
        "`SymPy` - это пакет для символьных вычислений на питоне, подобный системе *Mathematica*. Он работает с выражениями, содержащими символы."
      ]
    },
    {
      "cell_type": "code",
      "execution_count": 3,
      "metadata": {
        "collapsed": true,
        "deletable": true,
        "editable": true,
        "id": "Y9dH0dtZvZz1"
      },
      "outputs": [],
      "source": [
        "from sympy import *\n",
        "init_printing()"
      ]
    },
    {
      "cell_type": "markdown",
      "metadata": {
        "deletable": true,
        "editable": true,
        "id": "hq8PDG1-vZz2"
      },
      "source": [
        "Основными кирпичиками, из которых строятся выражения, являются символы. Символ имеет имя, которое используется при печати выражений. Объекты класса `Symbol` нужно создавать и присваивать переменным питона, чтобы их можно было использовать. В принципе, имя символа и имя переменной, которой мы присваиваем этот символ - две независимые вещи, и можно написать `abc=Symbol('xyz')`. Но тогда при вводе программы Вы будете использовать `abc`, а при печати результатов `SymPy` будет использовать `xyz`, что приведёт к ненужной путанице. Поэтому лучше, чтобы имя символа совпадало с именем переменной питона, которой он присваивается.\n",
        "\n",
        "В языках, специально предназначенных для символьных вычислений, таких, как *Mathematica*, если Вы используете переменную, которой ничего не было присвоено, то она автоматически воспринимается как символ с тем же именем. Питон не был изначально предназначен для символьных вычислений. Если Вы используете переменную, которой ничего не было присвоено, Вы получите сообщение об ошибке. Объекты типа `Symbol` нужно создавать явно."
      ]
    },
    {
      "cell_type": "code",
      "execution_count": 4,
      "metadata": {
        "deletable": true,
        "editable": true,
        "id": "oIQ_-WpbvZz3"
      },
      "outputs": [],
      "source": [
        "x=Symbol('x')"
      ]
    },
    {
      "cell_type": "code",
      "execution_count": 5,
      "metadata": {
        "deletable": true,
        "editable": true,
        "colab": {
          "base_uri": "https://localhost:8080/",
          "height": 39
        },
        "id": "4b31zcpHvZz4",
        "outputId": "6612c530-dfcf-4760-a030-b62aab62d7a6"
      },
      "outputs": [
        {
          "output_type": "execute_result",
          "data": {
            "text/plain": [
              " 2    \n",
              "x  - 1"
            ],
            "image/png": "[encoded data removed]",
            "text/latex": "$\\displaystyle x^{2} - 1$"
          },
          "metadata": {},
          "execution_count": 5
        }
      ],
      "source": [
        "a=x**2-1\n",
        "a"
      ]
    },
    {
      "cell_type": "code",
      "execution_count": 6,
      "metadata": {
        "deletable": true,
        "editable": true,
        "colab": {
          "base_uri": "https://localhost:8080/"
        },
        "id": "ci40xiKFvZz5",
        "outputId": "8676fd4d-de70-43a0-8931-40c30a06802b"
      },
      "outputs": [
        {
          "output_type": "execute_result",
          "data": {
            "text/plain": [
              "sympy.core.add.Add"
            ]
          },
          "metadata": {},
          "execution_count": 6
        }
      ],
      "source": [
        "type(a)"
      ]
    },
    {
      "cell_type": "markdown",
      "metadata": {
        "deletable": true,
        "editable": true,
        "id": "8QFErvjbvZz5"
      },
      "source": [
        "Можно определить несколько символов одновременно. Строка разбивается на имена по пробелам."
      ]
    },
    {
      "cell_type": "code",
      "execution_count": 7,
      "metadata": {
        "collapsed": true,
        "deletable": true,
        "editable": true,
        "id": "nZdpx_Q9vZz6"
      },
      "outputs": [],
      "source": [
        "y,z=symbols('y z')"
      ]
    },
    {
      "cell_type": "markdown",
      "metadata": {
        "deletable": true,
        "editable": true,
        "id": "7Lyo3UtCvZz6"
      },
      "source": [
        "Подставим вместо $x$ выражение $y+1$."
      ]
    },
    {
      "cell_type": "code",
      "execution_count": 8,
      "metadata": {
        "deletable": true,
        "editable": true,
        "colab": {
          "base_uri": "https://localhost:8080/",
          "height": 40
        },
        "id": "BQsSUERhvZz7",
        "outputId": "08672dce-dbb2-4e29-b04e-2854b8f41a45"
      },
      "outputs": [
        {
          "output_type": "execute_result",
          "data": {
            "text/plain": [
              "       2    \n",
              "(y + 1)  - 1"
            ],
            "image/png": "[encoded data removed]",
            "text/latex": "$\\displaystyle \\left(y + 1\\right)^{2} - 1$"
          },
          "metadata": {},
          "execution_count": 8
        }
      ],
      "source": [
        "a.subs(x,y+1)"
      ]
    },
    {
      "cell_type": "markdown",
      "metadata": {
        "deletable": true,
        "editable": true,
        "id": "7LVFW-5ivZz7"
      },
      "source": [
        "## Многочлены и рациональные функции\n",
        "\n",
        "`SymPy` не раскрывает скобки автоматически. Для этого используется функция `expand`."
      ]
    },
    {
      "cell_type": "code",
      "execution_count": 9,
      "metadata": {
        "deletable": true,
        "editable": true,
        "colab": {
          "base_uri": "https://localhost:8080/",
          "height": 40
        },
        "id": "N86a7arqvZz8",
        "outputId": "8f3e74d6-73b6-4f91-e87e-0f8504981b9d"
      },
      "outputs": [
        {
          "output_type": "execute_result",
          "data": {
            "text/plain": [
              "           6\n",
              "(x + y - z) "
            ],
            "image/png": "[encoded data removed]",
            "text/latex": "$\\displaystyle \\left(x + y - z\\right)^{6}$"
          },
          "metadata": {},
          "execution_count": 9
        }
      ],
      "source": [
        "a=(x+y-z)**6\n",
        "a"
      ]
    },
    {
      "cell_type": "code",
      "execution_count": 10,
      "metadata": {
        "deletable": true,
        "editable": true,
        "colab": {
          "base_uri": "https://localhost:8080/",
          "height": 61
        },
        "id": "r45UUByuvZz8",
        "outputId": "5721a0fe-42a1-4709-a107-fed1b143a6ee"
      },
      "outputs": [
        {
          "output_type": "execute_result",
          "data": {
            "text/plain": [
              " 6      5        5         4  2       4           4  2       3  3       3  2  \n",
              "x  + 6⋅x ⋅y - 6⋅x ⋅z + 15⋅x ⋅y  - 30⋅x ⋅y⋅z + 15⋅x ⋅z  + 20⋅x ⋅y  - 60⋅x ⋅y ⋅z\n",
              "\n",
              "       3    2       3  3       2  4       2  3         2  2  2       2    3   \n",
              " + 60⋅x ⋅y⋅z  - 20⋅x ⋅z  + 15⋅x ⋅y  - 60⋅x ⋅y ⋅z + 90⋅x ⋅y ⋅z  - 60⋅x ⋅y⋅z  + \n",
              "\n",
              "    2  4        5         4           3  2         2  3           4        5  \n",
              "15⋅x ⋅z  + 6⋅x⋅y  - 30⋅x⋅y ⋅z + 60⋅x⋅y ⋅z  - 60⋅x⋅y ⋅z  + 30⋅x⋅y⋅z  - 6⋅x⋅z  +\n",
              "\n",
              "  6      5         4  2       3  3       2  4        5    6\n",
              " y  - 6⋅y ⋅z + 15⋅y ⋅z  - 20⋅y ⋅z  + 15⋅y ⋅z  - 6⋅y⋅z  + z "
            ],
            "image/png": "[encoded data removed]",
            "text/latex": "$\\displaystyle x^{6} + 6 x^{5} y - 6 x^{5} z + 15 x^{4} y^{2} - 30 x^{4} y z + 15 x^{4} z^{2} + 20 x^{3} y^{3} - 60 x^{3} y^{2} z + 60 x^{3} y z^{2} - 20 x^{3} z^{3} + 15 x^{2} y^{4} - 60 x^{2} y^{3} z + 90 x^{2} y^{2} z^{2} - 60 x^{2} y z^{3} + 15 x^{2} z^{4} + 6 x y^{5} - 30 x y^{4} z + 60 x y^{3} z^{2} - 60 x y^{2} z^{3} + 30 x y z^{4} - 6 x z^{5} + y^{6} - 6 y^{5} z + 15 y^{4} z^{2} - 20 y^{3} z^{3} + 15 y^{2} z^{4} - 6 y z^{5} + z^{6}$"
          },
          "metadata": {},
          "execution_count": 10
        }
      ],
      "source": [
        "a=expand(a)\n",
        "a"
      ]
    },
    {
      "cell_type": "markdown",
      "metadata": {
        "deletable": true,
        "editable": true,
        "id": "_Olvk3ZjvZz8"
      },
      "source": [
        "Степень многочлена $a$ по $x$."
      ]
    },
    {
      "cell_type": "code",
      "execution_count": 11,
      "metadata": {
        "deletable": true,
        "editable": true,
        "colab": {
          "base_uri": "https://localhost:8080/",
          "height": 37
        },
        "id": "GVNwXIGvvZz9",
        "outputId": "6b997288-b41c-4ea6-c5b5-6ef730eb4708"
      },
      "outputs": [
        {
          "output_type": "execute_result",
          "data": {
            "text/plain": [
              "6"
            ],
            "image/png": "[encoded data removed]",
            "text/latex": "$\\displaystyle 6$"
          },
          "metadata": {},
          "execution_count": 11
        }
      ],
      "source": [
        "degree(a,x)"
      ]
    },
    {
      "cell_type": "markdown",
      "metadata": {
        "deletable": true,
        "editable": true,
        "id": "hjmkVMTVvZz9"
      },
      "source": [
        "Соберём вместе члены с определёнными степенями $x$."
      ]
    },
    {
      "cell_type": "code",
      "execution_count": 12,
      "metadata": {
        "deletable": true,
        "editable": true,
        "colab": {
          "base_uri": "https://localhost:8080/",
          "height": 61
        },
        "id": "fx_pTvDRvZz9",
        "outputId": "60e40546-021f-404e-d33a-7cb98524ca1d"
      },
      "outputs": [
        {
          "output_type": "execute_result",
          "data": {
            "text/plain": [
              " 6    5                4 ⎛    2                2⎞    3 ⎛    3       2         \n",
              "x  + x ⋅(6⋅y - 6⋅z) + x ⋅⎝15⋅y  - 30⋅y⋅z + 15⋅z ⎠ + x ⋅⎝20⋅y  - 60⋅y ⋅z + 60⋅y\n",
              "\n",
              "  2       3⎞    2 ⎛    4       3         2  2         3       4⎞     ⎛   5    \n",
              "⋅z  - 20⋅z ⎠ + x ⋅⎝15⋅y  - 60⋅y ⋅z + 90⋅y ⋅z  - 60⋅y⋅z  + 15⋅z ⎠ + x⋅⎝6⋅y  - 3\n",
              "\n",
              "   4         3  2       2  3         4      5⎞    6      5         4  2       \n",
              "0⋅y ⋅z + 60⋅y ⋅z  - 60⋅y ⋅z  + 30⋅y⋅z  - 6⋅z ⎠ + y  - 6⋅y ⋅z + 15⋅y ⋅z  - 20⋅y\n",
              "\n",
              "3  3       2  4        5    6\n",
              " ⋅z  + 15⋅y ⋅z  - 6⋅y⋅z  + z "
            ],
            "image/png": "[encoded data removed]",
            "text/latex": "$\\displaystyle x^{6} + x^{5} \\left(6 y - 6 z\\right) + x^{4} \\left(15 y^{2} - 30 y z + 15 z^{2}\\right) + x^{3} \\left(20 y^{3} - 60 y^{2} z + 60 y z^{2} - 20 z^{3}\\right) + x^{2} \\left(15 y^{4} - 60 y^{3} z + 90 y^{2} z^{2} - 60 y z^{3} + 15 z^{4}\\right) + x \\left(6 y^{5} - 30 y^{4} z + 60 y^{3} z^{2} - 60 y^{2} z^{3} + 30 y z^{4} - 6 z^{5}\\right) + y^{6} - 6 y^{5} z + 15 y^{4} z^{2} - 20 y^{3} z^{3} + 15 y^{2} z^{4} - 6 y z^{5} + z^{6}$"
          },
          "metadata": {},
          "execution_count": 12
        }
      ],
      "source": [
        "collect(a,x)"
      ]
    },
    {
      "cell_type": "markdown",
      "metadata": {
        "deletable": true,
        "editable": true,
        "id": "7foQBh5nvZz-"
      },
      "source": [
        "Многочлен с целыми коэффициентами можно записать в виде произведения таких многочленов (причём каждый сомножитель уже невозможно расфакторизовать дальше, оставаясь в рамках многочленов с целыми коэффициентами). Существуют эффективные алгоритмы для решения этой задачи."
      ]
    },
    {
      "cell_type": "code",
      "execution_count": 13,
      "metadata": {
        "deletable": true,
        "editable": true,
        "colab": {
          "base_uri": "https://localhost:8080/",
          "height": 40
        },
        "id": "frAdKQVdvZz-",
        "outputId": "2b63fd46-9e6a-4665-c189-b7188ac28742"
      },
      "outputs": [
        {
          "output_type": "execute_result",
          "data": {
            "text/plain": [
              "           6\n",
              "(x + y - z) "
            ],
            "image/png": "[encoded data removed]",
            "text/latex": "$\\displaystyle \\left(x + y - z\\right)^{6}$"
          },
          "metadata": {},
          "execution_count": 13
        }
      ],
      "source": [
        "a=factor(a)\n",
        "a"
      ]
    },
    {
      "cell_type": "markdown",
      "metadata": {
        "deletable": true,
        "editable": true,
        "id": "ta7huB9vvZz-"
      },
      "source": [
        "`SymPy` не сокращает отношения многочленов на их наибольший общий делитель автоматически. Для этого используется функция `cancel`."
      ]
    },
    {
      "cell_type": "code",
      "execution_count": 14,
      "metadata": {
        "deletable": true,
        "editable": true,
        "colab": {
          "base_uri": "https://localhost:8080/",
          "height": 57
        },
        "id": "HbCovasYvZz-",
        "outputId": "9925d035-99af-4bde-9040-0ae5d8e53775"
      },
      "outputs": [
        {
          "output_type": "execute_result",
          "data": {
            "text/plain": [
              " 3    3\n",
              "x  - y \n",
              "───────\n",
              " 2    2\n",
              "x  - y "
            ],
            "image/png": "[encoded data removed]",
            "text/latex": "$\\displaystyle \\frac{x^{3} - y^{3}}{x^{2} - y^{2}}$"
          },
          "metadata": {},
          "execution_count": 14
        }
      ],
      "source": [
        "a=(x**3-y**3)/(x**2-y**2)\n",
        "a"
      ]
    },
    {
      "cell_type": "code",
      "execution_count": 15,
      "metadata": {
        "deletable": true,
        "editable": true,
        "colab": {
          "base_uri": "https://localhost:8080/",
          "height": 57
        },
        "id": "OAeRGNjbvZz_",
        "outputId": "5e280f35-10d6-48e8-832c-f8e8da98339d"
      },
      "outputs": [
        {
          "output_type": "execute_result",
          "data": {
            "text/plain": [
              " 2          2\n",
              "x  + x⋅y + y \n",
              "─────────────\n",
              "    x + y    "
            ],
            "image/png": "[encoded data removed]",
            "text/latex": "$\\displaystyle \\frac{x^{2} + x y + y^{2}}{x + y}$"
          },
          "metadata": {},
          "execution_count": 15
        }
      ],
      "source": [
        "cancel(a)"
      ]
    },
    {
      "cell_type": "markdown",
      "metadata": {
        "deletable": true,
        "editable": true,
        "id": "c6a-ImJ2vZz_"
      },
      "source": [
        "`SymPy` не приводит суммы рациональных выражений к общему знаменателю автоматически. Для этого используется функция `together`."
      ]
    },
    {
      "cell_type": "code",
      "execution_count": 16,
      "metadata": {
        "deletable": true,
        "editable": true,
        "colab": {
          "base_uri": "https://localhost:8080/",
          "height": 51
        },
        "id": "Usmhw8T4vZz_",
        "outputId": "45d5c5f3-c22c-4729-b903-77c6f3dee767"
      },
      "outputs": [
        {
          "output_type": "execute_result",
          "data": {
            "text/plain": [
              "  x       y  \n",
              "───── + ─────\n",
              "x + y   x - y"
            ],
            "image/png": "[encoded data removed]",
            "text/latex": "$\\displaystyle \\frac{x}{x + y} + \\frac{y}{x - y}$"
          },
          "metadata": {},
          "execution_count": 16
        }
      ],
      "source": [
        "a=y/(x-y)+x/(x+y)\n",
        "a"
      ]
    },
    {
      "cell_type": "code",
      "execution_count": 17,
      "metadata": {
        "deletable": true,
        "editable": true,
        "colab": {
          "base_uri": "https://localhost:8080/",
          "height": 57
        },
        "id": "92m-5YmxvZz_",
        "outputId": "cdcd9fd5-31b7-4dee-dbbe-689d78cc27d7"
      },
      "outputs": [
        {
          "output_type": "execute_result",
          "data": {
            "text/plain": [
              "x⋅(x - y) + y⋅(x + y)\n",
              "─────────────────────\n",
              "   (x - y)⋅(x + y)   "
            ],
            "image/png": "[encoded data removed]",
            "text/latex": "$\\displaystyle \\frac{x \\left(x - y\\right) + y \\left(x + y\\right)}{\\left(x - y\\right) \\left(x + y\\right)}$"
          },
          "metadata": {},
          "execution_count": 17
        }
      ],
      "source": [
        "together(a)"
      ]
    },
    {
      "cell_type": "markdown",
      "metadata": {
        "deletable": true,
        "editable": true,
        "id": "0f1apNH7vZ0A"
      },
      "source": [
        "Функция `simplify` пытается переписать выражение *в наиболее простом виде*. Это понятие не имеет чёткого определения (в разных ситуациях *наиболее простыми* могут считаться разные формы выражения), и не существует алгоритма такого упрощения. Функция `symplify` работает эвристически, и невозможно заранее предугадать, какие упрощения она попытается сделать. Поэтому её удобно использовать в интерактивных сессиях, чтобы посмотреть, удастся ли ей записать выражение в каком-нибудь разумном виде, но нежелательно использовать в программах. В них лучше применять более специализированные функции, которые выполняют одно определённое преобразование выражения."
      ]
    },
    {
      "cell_type": "code",
      "execution_count": 18,
      "metadata": {
        "deletable": true,
        "editable": true,
        "colab": {
          "base_uri": "https://localhost:8080/",
          "height": 57
        },
        "id": "3bAB8myivZ0A",
        "outputId": "3110eba9-e0c3-41a0-dc7c-9918f05b170e"
      },
      "outputs": [
        {
          "output_type": "execute_result",
          "data": {
            "text/plain": [
              " 2    2\n",
              "x  + y \n",
              "───────\n",
              " 2    2\n",
              "x  - y "
            ],
            "image/png": "[encoded data removed]",
            "text/latex": "$\\displaystyle \\frac{x^{2} + y^{2}}{x^{2} - y^{2}}$"
          },
          "metadata": {},
          "execution_count": 18
        }
      ],
      "source": [
        "simplify(a)"
      ]
    },
    {
      "cell_type": "markdown",
      "metadata": {
        "deletable": true,
        "editable": true,
        "id": "axuWKy80vZ0A"
      },
      "source": [
        "Разложение на элементарные дроби по отношению к $x$ и $y$."
      ]
    },
    {
      "cell_type": "code",
      "execution_count": 19,
      "metadata": {
        "deletable": true,
        "editable": true,
        "colab": {
          "base_uri": "https://localhost:8080/",
          "height": 51
        },
        "id": "f5lmcQwLvZ0A",
        "outputId": "082284ee-906f-4706-fa1b-0eb28db0cfbf"
      },
      "outputs": [
        {
          "output_type": "execute_result",
          "data": {
            "text/plain": [
              "    y       y      \n",
              "- ───── + ───── + 1\n",
              "  x + y   x - y    "
            ],
            "image/png": "[encoded data removed]",
            "text/latex": "$\\displaystyle - \\frac{y}{x + y} + \\frac{y}{x - y} + 1$"
          },
          "metadata": {},
          "execution_count": 19
        }
      ],
      "source": [
        "apart(a,x)"
      ]
    },
    {
      "cell_type": "code",
      "execution_count": 20,
      "metadata": {
        "deletable": true,
        "editable": true,
        "colab": {
          "base_uri": "https://localhost:8080/",
          "height": 51
        },
        "id": "FSP2xQvvvZ0B",
        "outputId": "01137208-b64c-42a2-81e2-42ed6cad613a"
      },
      "outputs": [
        {
          "output_type": "execute_result",
          "data": {
            "text/plain": [
              "  x       x      \n",
              "───── + ───── - 1\n",
              "x + y   x - y    "
            ],
            "image/png": "[encoded data removed]",
            "text/latex": "$\\displaystyle \\frac{x}{x + y} + \\frac{x}{x - y} - 1$"
          },
          "metadata": {},
          "execution_count": 20
        }
      ],
      "source": [
        "apart(a,y)"
      ]
    },
    {
      "cell_type": "markdown",
      "metadata": {
        "deletable": true,
        "editable": true,
        "id": "DBePpYRjvZ0B"
      },
      "source": [
        "Подставим конкретные численные значения вместо переменных $x$ и $y$."
      ]
    },
    {
      "cell_type": "code",
      "execution_count": 21,
      "metadata": {
        "deletable": true,
        "editable": true,
        "colab": {
          "base_uri": "https://localhost:8080/",
          "height": 51
        },
        "id": "jJvJ7xSxvZ0B",
        "outputId": "d1097a10-a523-4521-f6e6-449e659d36df"
      },
      "outputs": [
        {
          "output_type": "execute_result",
          "data": {
            "text/plain": [
              "-5/3"
            ],
            "image/png": "[encoded data removed]",
            "text/latex": "$\\displaystyle - \\frac{5}{3}$"
          },
          "metadata": {},
          "execution_count": 21
        }
      ],
      "source": [
        "a=a.subs({x:1,y:2})\n",
        "a"
      ]
    },
    {
      "cell_type": "markdown",
      "metadata": {
        "deletable": true,
        "editable": true,
        "id": "zGGfHNZivZ0B"
      },
      "source": [
        "А сколько это будет численно?"
      ]
    },
    {
      "cell_type": "code",
      "execution_count": 22,
      "metadata": {
        "deletable": true,
        "editable": true,
        "colab": {
          "base_uri": "https://localhost:8080/",
          "height": 37
        },
        "id": "E51Ze9l6vZ0C",
        "outputId": "02f056e7-5a0c-4636-f02b-30465eaf0fdf"
      },
      "outputs": [
        {
          "output_type": "execute_result",
          "data": {
            "text/plain": [
              "-1.66666666666667"
            ],
            "image/png": "[encoded data removed]",
            "text/latex": "$\\displaystyle -1.66666666666667$"
          },
          "metadata": {},
          "execution_count": 22
        }
      ],
      "source": [
        "a.n()"
      ]
    },
    {
      "cell_type": "markdown",
      "metadata": {
        "deletable": true,
        "editable": true,
        "id": "DVqDokvNvZ0C"
      },
      "source": [
        "## Элементарные функции\n",
        "\n",
        "`SymPy` автоматически применяет упрощения элементарных функция (которые справедливы во всех случаях)."
      ]
    },
    {
      "cell_type": "code",
      "execution_count": 23,
      "metadata": {
        "deletable": true,
        "editable": true,
        "colab": {
          "base_uri": "https://localhost:8080/",
          "height": 0
        },
        "id": "XWAKZ9g3vZ0C",
        "outputId": "184862fb-0424-455e-bbc9-f3b6524c3c91"
      },
      "outputs": [
        {
          "output_type": "execute_result",
          "data": {
            "text/plain": [
              "-sin(x)"
            ],
            "image/png": "[encoded data removed]",
            "text/latex": "$\\displaystyle - \\sin{\\left(x \\right)}$"
          },
          "metadata": {},
          "execution_count": 23
        }
      ],
      "source": [
        "sin(-x)"
      ]
    },
    {
      "cell_type": "code",
      "execution_count": 24,
      "metadata": {
        "deletable": true,
        "editable": true,
        "colab": {
          "base_uri": "https://localhost:8080/",
          "height": 0
        },
        "id": "cITJv6sLvZ0C",
        "outputId": "3298c05e-5387-4f95-8345-3963dd372329"
      },
      "outputs": [
        {
          "output_type": "execute_result",
          "data": {
            "text/plain": [
              "⎛√2  -√3 ⎞\n",
              "⎜──, ────⎟\n",
              "⎝2    3  ⎠"
            ],
            "image/png": "[encoded data removed]",
            "text/latex": "$\\displaystyle \\left( \\frac{\\sqrt{2}}{2}, \\  - \\frac{\\sqrt{3}}{3}\\right)$"
          },
          "metadata": {},
          "execution_count": 24
        }
      ],
      "source": [
        "cos(pi/4),tan(5*pi/6)"
      ]
    },
    {
      "cell_type": "markdown",
      "metadata": {
        "deletable": true,
        "editable": true,
        "id": "_fK87hIUvZ0C"
      },
      "source": [
        "`SymPy` может работать с числами с плавающей точкой, имеющими сколь угодно большую точность. Вот $\\pi$ с 100 значащими цифрами."
      ]
    },
    {
      "cell_type": "code",
      "execution_count": 25,
      "metadata": {
        "deletable": true,
        "editable": true,
        "colab": {
          "base_uri": "https://localhost:8080/",
          "height": 0
        },
        "id": "K2tX35jKvZ0D",
        "outputId": "aa219122-156e-47d4-eeaf-aab5a1c521b5"
      },
      "outputs": [
        {
          "output_type": "execute_result",
          "data": {
            "text/plain": [
              "3.1415926535897932384626433832795028841971693993751058209749445923078164062862\n",
              "08998628034825342117068"
            ],
            "image/png": "[encoded data removed]",
            "text/latex": "$\\displaystyle 3.141592653589793238462643383279502884197169399375105820974944592307816406286208998628034825342117068$"
          },
          "metadata": {},
          "execution_count": 25
        }
      ],
      "source": [
        "pi.n(100)"
      ]
    },
    {
      "cell_type": "markdown",
      "metadata": {
        "collapsed": false,
        "deletable": true,
        "editable": true,
        "id": "rFHJgszFvZ0D"
      },
      "source": [
        "`E` - это основание натуральных логарифмов."
      ]
    },
    {
      "cell_type": "code",
      "execution_count": 26,
      "metadata": {
        "deletable": true,
        "editable": true,
        "colab": {
          "base_uri": "https://localhost:8080/",
          "height": 0
        },
        "id": "b4C38kvEvZ0D",
        "outputId": "88bdeac6-a192-451b-ab8f-d2d2d480ffd3"
      },
      "outputs": [
        {
          "output_type": "execute_result",
          "data": {
            "text/plain": [
              "(0, 1)"
            ],
            "image/png": "[encoded data removed]",
            "text/latex": "$\\displaystyle \\left( 0, \\  1\\right)$"
          },
          "metadata": {},
          "execution_count": 26
        }
      ],
      "source": [
        "log(1),log(E)"
      ]
    },
    {
      "cell_type": "code",
      "execution_count": 27,
      "metadata": {
        "deletable": true,
        "editable": true,
        "colab": {
          "base_uri": "https://localhost:8080/",
          "height": 0
        },
        "id": "fmRCkpgBvZ0D",
        "outputId": "426928b3-4a10-48d7-911f-ceea63eb3c86"
      },
      "outputs": [
        {
          "output_type": "execute_result",
          "data": {
            "text/plain": [
              "⎛      ⎛ x⎞⎞\n",
              "⎝x, log⎝ℯ ⎠⎠"
            ],
            "image/png": "[encoded data removed]",
            "text/latex": "$\\displaystyle \\left( x, \\  \\log{\\left(e^{x} \\right)}\\right)$"
          },
          "metadata": {},
          "execution_count": 27
        }
      ],
      "source": [
        "exp(log(x)),log(exp(x))"
      ]
    },
    {
      "cell_type": "markdown",
      "metadata": {
        "deletable": true,
        "editable": true,
        "id": "T0txuvExvZ0D"
      },
      "source": [
        "А почему не $x$? Попробуйте подставить $x=2\\pi i$."
      ]
    },
    {
      "cell_type": "code",
      "execution_count": 28,
      "metadata": {
        "deletable": true,
        "editable": true,
        "colab": {
          "base_uri": "https://localhost:8080/",
          "height": 0
        },
        "id": "3OKWAnvavZ0E",
        "outputId": "906a2821-af7c-42ad-d652-c43fce06ec78"
      },
      "outputs": [
        {
          "output_type": "execute_result",
          "data": {
            "text/plain": [
              "0"
            ],
            "image/png": "[encoded data removed]",
            "text/latex": "$\\displaystyle 0$"
          },
          "metadata": {},
          "execution_count": 28
        }
      ],
      "source": [
        "sqrt(0)"
      ]
    },
    {
      "cell_type": "code",
      "execution_count": 29,
      "metadata": {
        "deletable": true,
        "editable": true,
        "colab": {
          "base_uri": "https://localhost:8080/",
          "height": 0
        },
        "id": "aIV_HivYvZ0E",
        "outputId": "0f19e006-3f7f-439d-ffbd-58a4f23a7477"
      },
      "outputs": [
        {
          "output_type": "execute_result",
          "data": {
            "text/plain": [
              "⎛       ____⎞\n",
              "⎜ 2    ╱  4 ⎟\n",
              "⎝x , ╲╱  x  ⎠"
            ],
            "image/png": "[encoded data removed]",
            "text/latex": "$\\displaystyle \\left( x^{2}, \\  \\sqrt{x^{4}}\\right)$"
          },
          "metadata": {},
          "execution_count": 29
        }
      ],
      "source": [
        "sqrt(x)**4,sqrt(x**4)"
      ]
    },
    {
      "cell_type": "markdown",
      "metadata": {
        "deletable": true,
        "editable": true,
        "id": "kKoMomt2vZ0F"
      },
      "source": [
        "А почему не $x^2$? Попробуйте подставить $x=i$.\n",
        "\n",
        "Символы могут иметь некоторые свойства. Например, они могут быть положительными. Тогда `SymPy` может сильнее упростить квадратные корни."
      ]
    },
    {
      "cell_type": "code",
      "execution_count": 30,
      "metadata": {
        "deletable": true,
        "editable": true,
        "colab": {
          "base_uri": "https://localhost:8080/",
          "height": 0
        },
        "id": "J2eCpoxhvZ0F",
        "outputId": "273daf4e-d4c0-4905-8296-84944fd71023"
      },
      "outputs": [
        {
          "output_type": "execute_result",
          "data": {
            "text/plain": [
              "p"
            ],
            "image/png": "[encoded data removed]",
            "text/latex": "$\\displaystyle p$"
          },
          "metadata": {},
          "execution_count": 30
        }
      ],
      "source": [
        "p,q=symbols('p q',positive=True)\n",
        "sqrt(p**2)"
      ]
    },
    {
      "cell_type": "code",
      "execution_count": 31,
      "metadata": {
        "deletable": true,
        "editable": true,
        "colab": {
          "base_uri": "https://localhost:8080/",
          "height": 0
        },
        "id": "h45zehyIvZ0F",
        "outputId": "872b0fa8-50f0-4f5d-c70e-60d08ea0fd24"
      },
      "outputs": [
        {
          "output_type": "execute_result",
          "data": {
            "text/plain": [
              "⎛        ______           ⎞\n",
              "⎜       ╱  2              ⎟\n",
              "⎝2⋅√3⋅╲╱  x ⋅y , 2⋅√3⋅p⋅√y⎠"
            ],
            "image/png": "[encoded data removed]",
            "text/latex": "$\\displaystyle \\left( 2 \\sqrt{3} \\sqrt{x^{2} y}, \\  2 \\sqrt{3} p \\sqrt{y}\\right)$"
          },
          "metadata": {},
          "execution_count": 31
        }
      ],
      "source": [
        "sqrt(12*x**2*y),sqrt(12*p**2*y)"
      ]
    },
    {
      "cell_type": "markdown",
      "metadata": {
        "deletable": true,
        "editable": true,
        "id": "-PrYsT0WvZ0G"
      },
      "source": [
        "Пусть символ $n$ будет целым (`I` - это мнимая единица)."
      ]
    },
    {
      "cell_type": "code",
      "execution_count": 32,
      "metadata": {
        "deletable": true,
        "editable": true,
        "colab": {
          "base_uri": "https://localhost:8080/",
          "height": 0
        },
        "id": "cWPtDcymvZ0G",
        "outputId": "42c19fe4-bdd7-4a0d-b7b2-ba03a92a9510"
      },
      "outputs": [
        {
          "output_type": "execute_result",
          "data": {
            "text/plain": [
              "1"
            ],
            "image/png": "[encoded data removed]",
            "text/latex": "$\\displaystyle 1$"
          },
          "metadata": {},
          "execution_count": 32
        }
      ],
      "source": [
        "n=Symbol('n',integer=True)\n",
        "simplify(exp(2*pi*I*n))"
      ]
    },
    {
      "cell_type": "code",
      "execution_count": 33,
      "metadata": {
        "deletable": true,
        "editable": true,
        "colab": {
          "base_uri": "https://localhost:8080/",
          "height": 0
        },
        "id": "q4zvCXnivZ0G",
        "outputId": "45789f1d-36d0-4a24-bf23-f717010386c3"
      },
      "outputs": [
        {
          "output_type": "execute_result",
          "data": {
            "text/plain": [
              "0"
            ],
            "image/png": "[encoded data removed]",
            "text/latex": "$\\displaystyle 0$"
          },
          "metadata": {},
          "execution_count": 33
        }
      ],
      "source": [
        "sin(pi*n)"
      ]
    },
    {
      "cell_type": "markdown",
      "metadata": {
        "deletable": true,
        "editable": true,
        "id": "i887IR9BvZ0G"
      },
      "source": [
        "Метод `rewrite` пытается переписать выражение в терминах заданной функции."
      ]
    },
    {
      "cell_type": "code",
      "execution_count": 34,
      "metadata": {
        "deletable": true,
        "editable": true,
        "colab": {
          "base_uri": "https://localhost:8080/",
          "height": 0
        },
        "id": "MkvdYhPfvZ0G",
        "outputId": "97d5ddd7-b91c-4021-cd1d-2c1ce4a5114a"
      },
      "outputs": [
        {
          "output_type": "execute_result",
          "data": {
            "text/plain": [
              "⎛ ⅈ⋅x    -ⅈ⋅x                   ⎞\n",
              "⎜ℯ      ℯ                       ⎟\n",
              "⎜──── + ─────, ⅈ⋅sin(x) + cos(x)⎟\n",
              "⎝ 2       2                     ⎠"
            ],
            "image/png": "[encoded data removed]",
            "text/latex": "$\\displaystyle \\left( \\frac{e^{i x}}{2} + \\frac{e^{- i x}}{2}, \\  i \\sin{\\left(x \\right)} + \\cos{\\left(x \\right)}\\right)$"
          },
          "metadata": {},
          "execution_count": 34
        }
      ],
      "source": [
        "cos(x).rewrite(exp),exp(I*x).rewrite(cos)"
      ]
    },
    {
      "cell_type": "code",
      "execution_count": 35,
      "metadata": {
        "deletable": true,
        "editable": true,
        "colab": {
          "base_uri": "https://localhost:8080/",
          "height": 0
        },
        "id": "qkaZuyIbvZ0G",
        "outputId": "4f09c210-283f-40da-bbe8-b8160aa65a79"
      },
      "outputs": [
        {
          "output_type": "execute_result",
          "data": {
            "text/plain": [
              "      ⎛         ________⎞\n",
              "      ⎜        ╱      2 ⎟\n",
              "-ⅈ⋅log⎝ⅈ⋅x + ╲╱  1 - x  ⎠"
            ],
            "image/png": "[encoded data removed]",
            "text/latex": "$\\displaystyle - i \\log{\\left(i x + \\sqrt{1 - x^{2}} \\right)}$"
          },
          "metadata": {},
          "execution_count": 35
        }
      ],
      "source": [
        "asin(x).rewrite(log)"
      ]
    },
    {
      "cell_type": "markdown",
      "metadata": {
        "deletable": true,
        "editable": true,
        "id": "oBT85N2jvZ0H"
      },
      "source": [
        "Функция `trigsimp` пытается переписать тригонометрическое выражение в *наиболее простом виде*. В программах лучше использовать более специализированные функции."
      ]
    },
    {
      "cell_type": "code",
      "execution_count": 36,
      "metadata": {
        "deletable": true,
        "editable": true,
        "colab": {
          "base_uri": "https://localhost:8080/",
          "height": 0
        },
        "id": "F3O6csdDvZ0H",
        "outputId": "7a603233-b4ac-4fd3-be06-2f78474ad037"
      },
      "outputs": [
        {
          "output_type": "execute_result",
          "data": {
            "text/plain": [
              "   2       \n",
              "cos (x) + 2"
            ],
            "image/png": "[encoded data removed]",
            "text/latex": "$\\displaystyle \\cos^{2}{\\left(x \\right)} + 2$"
          },
          "metadata": {},
          "execution_count": 36
        }
      ],
      "source": [
        "trigsimp(2*sin(x)**2+3*cos(x)**2)"
      ]
    },
    {
      "cell_type": "markdown",
      "metadata": {
        "deletable": true,
        "editable": true,
        "id": "H1dpUbPkvZ0H"
      },
      "source": [
        "Функция `expand_trig` разлагает синусы и косинусы сумм и кратных углов."
      ]
    },
    {
      "cell_type": "code",
      "execution_count": 37,
      "metadata": {
        "deletable": true,
        "editable": true,
        "colab": {
          "base_uri": "https://localhost:8080/",
          "height": 0
        },
        "id": "jUu3aH8QvZ0H",
        "outputId": "804d2bb9-93ab-4cc1-aa3f-f0eb14e1b52c"
      },
      "outputs": [
        {
          "output_type": "execute_result",
          "data": {
            "text/plain": [
              "(sin(x)⋅cos(y) - sin(y)⋅cos(x), 2⋅sin(x)⋅cos(x))"
            ],
            "image/png": "[encoded data removed]",
            "text/latex": "$\\displaystyle \\left( \\sin{\\left(x \\right)} \\cos{\\left(y \\right)} - \\sin{\\left(y \\right)} \\cos{\\left(x \\right)}, \\  2 \\sin{\\left(x \\right)} \\cos{\\left(x \\right)}\\right)$"
          },
          "metadata": {},
          "execution_count": 37
        }
      ],
      "source": [
        "expand_trig(sin(x-y)),expand_trig(sin(2*x))"
      ]
    },
    {
      "cell_type": "markdown",
      "metadata": {
        "deletable": true,
        "editable": true,
        "id": "g3vbEYxQvZ0H"
      },
      "source": [
        "Чаще нужно обратное преобразование - произведений и степеней синусов и косинусов в выражения, линейные по этим функциям. Например, пусть мы работаем с отрезком ряда Фурье."
      ]
    },
    {
      "cell_type": "code",
      "execution_count": 38,
      "metadata": {
        "deletable": true,
        "editable": true,
        "colab": {
          "base_uri": "https://localhost:8080/",
          "height": 0
        },
        "id": "J5QUXTayvZ0I",
        "outputId": "621956f9-76c1-4d0d-abd3-16c7eb5fb2c2"
      },
      "outputs": [
        {
          "output_type": "execute_result",
          "data": {
            "text/plain": [
              "a₁⋅cos(x) + a₂⋅cos(2⋅x) + b₁⋅sin(x) + b₂⋅sin(2⋅x)"
            ],
            "image/png": "[encoded data removed]",
            "text/latex": "$\\displaystyle a_{1} \\cos{\\left(x \\right)} + a_{2} \\cos{\\left(2 x \\right)} + b_{1} \\sin{\\left(x \\right)} + b_{2} \\sin{\\left(2 x \\right)}$"
          },
          "metadata": {},
          "execution_count": 38
        }
      ],
      "source": [
        "a1,a2,b1,b2=symbols('a1 a2 b1 b2')\n",
        "a=a1*cos(x)+a2*cos(2*x)+b1*sin(x)+b2*sin(2*x)\n",
        "a"
      ]
    },
    {
      "cell_type": "markdown",
      "metadata": {
        "deletable": true,
        "editable": true,
        "id": "x-n30gk5vZ0I"
      },
      "source": [
        "Мы хотим возвести его в квадрат и опять получить отрезок ряда Фурье."
      ]
    },
    {
      "cell_type": "code",
      "execution_count": 39,
      "metadata": {
        "deletable": true,
        "editable": true,
        "colab": {
          "base_uri": "https://localhost:8080/",
          "height": 0
        },
        "id": "dpqAR8xdvZ0I",
        "outputId": "15bebe4c-123e-4a65-9ed0-1d441172e687"
      },
      "outputs": [
        {
          "output_type": "execute_result",
          "data": {
            "text/plain": [
              "  2              2                                                            \n",
              "a₁ ⋅cos(2⋅x)   a₁                                                             \n",
              "──────────── + ─── + a₁⋅a₂⋅cos(x) + a₁⋅a₂⋅cos(3⋅x) + a₁⋅b₁⋅sin(2⋅x) + a₁⋅b₂⋅si\n",
              "     2          2                                                             \n",
              "\n",
              "                          2              2                                    \n",
              "                        a₂ ⋅cos(4⋅x)   a₂                                     \n",
              "n(x) + a₁⋅b₂⋅sin(3⋅x) + ──────────── + ─── - a₂⋅b₁⋅sin(x) + a₂⋅b₁⋅sin(3⋅x) + a\n",
              "                             2          2                                     \n",
              "\n",
              "                  2              2                                     2      \n",
              "                b₁ ⋅cos(2⋅x)   b₁                                    b₂ ⋅cos(4\n",
              "₂⋅b₂⋅sin(4⋅x) - ──────────── + ─── + b₁⋅b₂⋅cos(x) - b₁⋅b₂⋅cos(3⋅x) - ─────────\n",
              "                     2          2                                         2   \n",
              "\n",
              "        2\n",
              "⋅x)   b₂ \n",
              "─── + ───\n",
              "       2 "
            ],
            "image/png": "[encoded data removed]",
            "text/latex": "$\\displaystyle \\frac{a_{1}^{2} \\cos{\\left(2 x \\right)}}{2} + \\frac{a_{1}^{2}}{2} + a_{1} a_{2} \\cos{\\left(x \\right)} + a_{1} a_{2} \\cos{\\left(3 x \\right)} + a_{1} b_{1} \\sin{\\left(2 x \\right)} + a_{1} b_{2} \\sin{\\left(x \\right)} + a_{1} b_{2} \\sin{\\left(3 x \\right)} + \\frac{a_{2}^{2} \\cos{\\left(4 x \\right)}}{2} + \\frac{a_{2}^{2}}{2} - a_{2} b_{1} \\sin{\\left(x \\right)} + a_{2} b_{1} \\sin{\\left(3 x \\right)} + a_{2} b_{2} \\sin{\\left(4 x \\right)} - \\frac{b_{1}^{2} \\cos{\\left(2 x \\right)}}{2} + \\frac{b_{1}^{2}}{2} + b_{1} b_{2} \\cos{\\left(x \\right)} - b_{1} b_{2} \\cos{\\left(3 x \\right)} - \\frac{b_{2}^{2} \\cos{\\left(4 x \\right)}}{2} + \\frac{b_{2}^{2}}{2}$"
          },
          "metadata": {},
          "execution_count": 39
        }
      ],
      "source": [
        "a=(a**2).rewrite(exp).expand().rewrite(cos).expand()\n",
        "a"
      ]
    },
    {
      "cell_type": "code",
      "execution_count": 40,
      "metadata": {
        "deletable": true,
        "editable": true,
        "colab": {
          "base_uri": "https://localhost:8080/",
          "height": 0
        },
        "id": "gGRXmzTJvZ0I",
        "outputId": "b17c3c9d-ad1b-4f1e-ffdf-6974731005fa"
      },
      "outputs": [
        {
          "output_type": "execute_result",
          "data": {
            "text/plain": [
              "  2                      2              2                      2     2        \n",
              "a₁                     a₂ ⋅cos(4⋅x)   a₂                     b₁    b₂ ⋅cos(4⋅x\n",
              "─── + a₁⋅b₁⋅sin(2⋅x) + ──────────── + ─── + a₂⋅b₂⋅sin(4⋅x) + ─── - ───────────\n",
              " 2                          2          2                      2         2     \n",
              "\n",
              "      2   ⎛  2     2⎞                                                         \n",
              ")   b₂    ⎜a₁    b₁ ⎟                                                         \n",
              "─ + ─── + ⎜─── - ───⎟⋅cos(2⋅x) + (a₁⋅a₂ - b₁⋅b₂)⋅cos(3⋅x) + (a₁⋅a₂ + b₁⋅b₂)⋅co\n",
              "     2    ⎝ 2     2 ⎠                                                         \n",
              "\n",
              "                                                        \n",
              "                                                        \n",
              "s(x) + (a₁⋅b₂ - a₂⋅b₁)⋅sin(x) + (a₁⋅b₂ + a₂⋅b₁)⋅sin(3⋅x)\n",
              "                                                        "
            ],
            "image/png": "[encoded data removed]",
            "text/latex": "$\\displaystyle \\frac{a_{1}^{2}}{2} + a_{1} b_{1} \\sin{\\left(2 x \\right)} + \\frac{a_{2}^{2} \\cos{\\left(4 x \\right)}}{2} + \\frac{a_{2}^{2}}{2} + a_{2} b_{2} \\sin{\\left(4 x \\right)} + \\frac{b_{1}^{2}}{2} - \\frac{b_{2}^{2} \\cos{\\left(4 x \\right)}}{2} + \\frac{b_{2}^{2}}{2} + \\left(\\frac{a_{1}^{2}}{2} - \\frac{b_{1}^{2}}{2}\\right) \\cos{\\left(2 x \\right)} + \\left(a_{1} a_{2} - b_{1} b_{2}\\right) \\cos{\\left(3 x \\right)} + \\left(a_{1} a_{2} + b_{1} b_{2}\\right) \\cos{\\left(x \\right)} + \\left(a_{1} b_{2} - a_{2} b_{1}\\right) \\sin{\\left(x \\right)} + \\left(a_{1} b_{2} + a_{2} b_{1}\\right) \\sin{\\left(3 x \\right)}$"
          },
          "metadata": {},
          "execution_count": 40
        }
      ],
      "source": [
        "a.collect([cos(x),cos(2*x),cos(3*x),sin(x),sin(2*x),sin(3*x)])"
      ]
    },
    {
      "cell_type": "markdown",
      "metadata": {
        "deletable": true,
        "editable": true,
        "id": "0H-UoYHRvZ0I"
      },
      "source": [
        "Функция `expand_log` преобразует логарифмы произведений и степеней в суммы логарифмов (только для положительных величин); `logcombine` производит обратное преобразование."
      ]
    },
    {
      "cell_type": "code",
      "execution_count": 41,
      "metadata": {
        "deletable": true,
        "editable": true,
        "colab": {
          "base_uri": "https://localhost:8080/",
          "height": 0
        },
        "id": "QzZ67rwAvZ0J",
        "outputId": "acbf2437-2cc8-45ed-dd13-2bf15b4f7ac6"
      },
      "outputs": [
        {
          "output_type": "execute_result",
          "data": {
            "text/plain": [
              "log(p) + 2⋅log(q)"
            ],
            "image/png": "[encoded data removed]",
            "text/latex": "$\\displaystyle \\log{\\left(p \\right)} + 2 \\log{\\left(q \\right)}$"
          },
          "metadata": {},
          "execution_count": 41
        }
      ],
      "source": [
        "a=expand_log(log(p*q**2))\n",
        "a"
      ]
    },
    {
      "cell_type": "code",
      "execution_count": 42,
      "metadata": {
        "deletable": true,
        "editable": true,
        "colab": {
          "base_uri": "https://localhost:8080/",
          "height": 0
        },
        "id": "JVnHMyUpvZ0J",
        "outputId": "1f78cbf6-a8ec-4b80-8d92-3dfdc1b7d4b1"
      },
      "outputs": [
        {
          "output_type": "execute_result",
          "data": {
            "text/plain": [
              "   ⎛   2⎞\n",
              "log⎝p⋅q ⎠"
            ],
            "image/png": "[encoded data removed]",
            "text/latex": "$\\displaystyle \\log{\\left(p q^{2} \\right)}$"
          },
          "metadata": {},
          "execution_count": 42
        }
      ],
      "source": [
        "logcombine(a)"
      ]
    },
    {
      "cell_type": "markdown",
      "metadata": {
        "collapsed": false,
        "deletable": true,
        "editable": true,
        "id": "g6RkkygKvZ0J"
      },
      "source": [
        "Функция `expand_power_exp` переписывает степени, показатели которых - суммы, через произведения степеней."
      ]
    },
    {
      "cell_type": "code",
      "execution_count": 43,
      "metadata": {
        "deletable": true,
        "editable": true,
        "colab": {
          "base_uri": "https://localhost:8080/",
          "height": 0
        },
        "id": "uDZ4hrazvZ0J",
        "outputId": "2df3e163-2909-4a09-a738-0c3ad83dbcfb"
      },
      "outputs": [
        {
          "output_type": "execute_result",
          "data": {
            "text/plain": [
              " p  q\n",
              "x ⋅x "
            ],
            "image/png": "[encoded data removed]",
            "text/latex": "$\\displaystyle x^{p} x^{q}$"
          },
          "metadata": {},
          "execution_count": 43
        }
      ],
      "source": [
        "expand_power_exp(x**(p+q))"
      ]
    },
    {
      "cell_type": "markdown",
      "metadata": {
        "deletable": true,
        "editable": true,
        "id": "hZmUrC0gvZ0J"
      },
      "source": [
        "Функция `expand_power_base` переписывает степени, основания которых - произведения, через произведения степеней."
      ]
    },
    {
      "cell_type": "code",
      "execution_count": 44,
      "metadata": {
        "deletable": true,
        "editable": true,
        "colab": {
          "base_uri": "https://localhost:8080/",
          "height": 0
        },
        "id": "qfszxnJDvZ0K",
        "outputId": "3fb1f7b9-faa4-49d7-c88d-c9c77be63b04"
      },
      "outputs": [
        {
          "output_type": "execute_result",
          "data": {
            "text/plain": [
              " n  n\n",
              "x ⋅y "
            ],
            "image/png": "[encoded data removed]",
            "text/latex": "$\\displaystyle x^{n} y^{n}$"
          },
          "metadata": {},
          "execution_count": 44
        }
      ],
      "source": [
        "expand_power_base((x*y)**n)"
      ]
    },
    {
      "cell_type": "markdown",
      "metadata": {
        "deletable": true,
        "editable": true,
        "id": "azBNQlduvZ0K"
      },
      "source": [
        "Функция `powsimp` выполняет обратные преобразования."
      ]
    },
    {
      "cell_type": "code",
      "execution_count": 45,
      "metadata": {
        "deletable": true,
        "editable": true,
        "colab": {
          "base_uri": "https://localhost:8080/",
          "height": 0
        },
        "id": "hqu23xQ0vZ0K",
        "outputId": "c4933ab2-cfb8-4552-b4ef-ca6eddc13e56"
      },
      "outputs": [
        {
          "output_type": "execute_result",
          "data": {
            "text/plain": [
              "⎛ x + 2⋅y       n⎞\n",
              "⎝ℯ       , (x⋅y) ⎠"
            ],
            "image/png": "[encoded data removed]",
            "text/latex": "$\\displaystyle \\left( e^{x + 2 y}, \\  \\left(x y\\right)^{n}\\right)$"
          },
          "metadata": {},
          "execution_count": 45
        }
      ],
      "source": [
        "powsimp(exp(x)*exp(2*y)),powsimp(x**n*y**n)"
      ]
    },
    {
      "cell_type": "markdown",
      "metadata": {
        "deletable": true,
        "editable": true,
        "id": "XYok8DkjvZ0K"
      },
      "source": [
        "Можно вводить функции пользователя. Они могут иметь произвольное число аргументов."
      ]
    },
    {
      "cell_type": "code",
      "execution_count": 46,
      "metadata": {
        "deletable": true,
        "editable": true,
        "colab": {
          "base_uri": "https://localhost:8080/",
          "height": 0
        },
        "id": "2evjfGwIvZ0K",
        "outputId": "d4a1f504-22d5-4275-86ad-3db6a1c62c34"
      },
      "outputs": [
        {
          "output_type": "execute_result",
          "data": {
            "text/plain": [
              "f(x) + f(x, y)"
            ],
            "image/png": "[encoded data removed]",
            "text/latex": "$\\displaystyle f{\\left(x \\right)} + f{\\left(x,y \\right)}$"
          },
          "metadata": {},
          "execution_count": 46
        }
      ],
      "source": [
        "f=Function('f')\n",
        "f(x)+f(x,y)"
      ]
    },
    {
      "cell_type": "markdown",
      "metadata": {
        "deletable": true,
        "editable": true,
        "id": "__uJrBPRvZ0L"
      },
      "source": [
        "## Структура выражений\n",
        "\n",
        "Внутреннее представление выражения - это дерево. Функция `srepr` возвращает строку, представляющую его."
      ]
    },
    {
      "cell_type": "code",
      "execution_count": 47,
      "metadata": {
        "deletable": true,
        "editable": true,
        "colab": {
          "base_uri": "https://localhost:8080/",
          "height": 0
        },
        "id": "ljn7DJJWvZ0L",
        "outputId": "572757db-918d-4af1-b7dc-cf16bc250923"
      },
      "outputs": [
        {
          "output_type": "execute_result",
          "data": {
            "text/plain": [
              "\"Add(Symbol('x'), Integer(1))\""
            ],
            "application/vnd.google.colaboratory.intrinsic+json": {
              "type": "string"
            }
          },
          "metadata": {},
          "execution_count": 47
        }
      ],
      "source": [
        "srepr(x+1)"
      ]
    },
    {
      "cell_type": "code",
      "execution_count": 48,
      "metadata": {
        "deletable": true,
        "editable": true,
        "colab": {
          "base_uri": "https://localhost:8080/",
          "height": 0
        },
        "id": "DV5JoLIavZ0L",
        "outputId": "9cdd699b-202b-496d-a6dd-5abf862eb8b9"
      },
      "outputs": [
        {
          "output_type": "execute_result",
          "data": {
            "text/plain": [
              "\"Add(Symbol('x'), Integer(-1))\""
            ],
            "application/vnd.google.colaboratory.intrinsic+json": {
              "type": "string"
            }
          },
          "metadata": {},
          "execution_count": 48
        }
      ],
      "source": [
        "srepr(x-1)"
      ]
    },
    {
      "cell_type": "code",
      "execution_count": 49,
      "metadata": {
        "deletable": true,
        "editable": true,
        "colab": {
          "base_uri": "https://localhost:8080/",
          "height": 0
        },
        "id": "D3cub7lyvZ0L",
        "outputId": "5dc3c839-5dc2-487e-d113-72ad2baac84f"
      },
      "outputs": [
        {
          "output_type": "execute_result",
          "data": {
            "text/plain": [
              "\"Add(Symbol('x'), Mul(Integer(-1), Symbol('y')))\""
            ],
            "application/vnd.google.colaboratory.intrinsic+json": {
              "type": "string"
            }
          },
          "metadata": {},
          "execution_count": 49
        }
      ],
      "source": [
        "srepr(x-y)"
      ]
    },
    {
      "cell_type": "code",
      "execution_count": 50,
      "metadata": {
        "deletable": true,
        "editable": true,
        "colab": {
          "base_uri": "https://localhost:8080/",
          "height": 0
        },
        "id": "VXtFHsSAvZ0L",
        "outputId": "6ac172c1-a28c-4484-989c-736bbfbe0b45"
      },
      "outputs": [
        {
          "output_type": "execute_result",
          "data": {
            "text/plain": [
              "\"Mul(Rational(2, 3), Symbol('x'), Symbol('y'))\""
            ],
            "application/vnd.google.colaboratory.intrinsic+json": {
              "type": "string"
            }
          },
          "metadata": {},
          "execution_count": 50
        }
      ],
      "source": [
        "srepr(2*x*y/3)"
      ]
    },
    {
      "cell_type": "code",
      "execution_count": 51,
      "metadata": {
        "deletable": true,
        "editable": true,
        "colab": {
          "base_uri": "https://localhost:8080/",
          "height": 0
        },
        "id": "-_k6C0ClvZ0M",
        "outputId": "74f48bcb-205f-4396-ea3c-104a286f6c0f"
      },
      "outputs": [
        {
          "output_type": "execute_result",
          "data": {
            "text/plain": [
              "\"Mul(Symbol('x'), Pow(Symbol('y'), Integer(-1)))\""
            ],
            "application/vnd.google.colaboratory.intrinsic+json": {
              "type": "string"
            }
          },
          "metadata": {},
          "execution_count": 51
        }
      ],
      "source": [
        "srepr(x/y)"
      ]
    },
    {
      "cell_type": "markdown",
      "metadata": {
        "deletable": true,
        "editable": true,
        "id": "pVkgff9yvZ0M"
      },
      "source": [
        "Вместо бинарных операций `+`, `*`, `**` и т.д. можно использовать функции `Add`, `Mul`, `Pow` и т.д."
      ]
    },
    {
      "cell_type": "code",
      "execution_count": 52,
      "metadata": {
        "deletable": true,
        "editable": true,
        "colab": {
          "base_uri": "https://localhost:8080/"
        },
        "id": "yljXU7rdvZ0M",
        "outputId": "a9acbd49-69ee-4780-b980-dc6bbc1c2581"
      },
      "outputs": [
        {
          "output_type": "execute_result",
          "data": {
            "text/plain": [
              "True"
            ]
          },
          "metadata": {},
          "execution_count": 52
        }
      ],
      "source": [
        "Mul(x,Pow(y,-1))==x/y"
      ]
    },
    {
      "cell_type": "code",
      "execution_count": 53,
      "metadata": {
        "deletable": true,
        "editable": true,
        "colab": {
          "base_uri": "https://localhost:8080/",
          "height": 0
        },
        "id": "GMltqioWvZ0M",
        "outputId": "15053ed9-709b-4e07-eb77-b7a1dd969b6d"
      },
      "outputs": [
        {
          "output_type": "execute_result",
          "data": {
            "text/plain": [
              "\"Function('f')(Symbol('x'), Symbol('y'))\""
            ],
            "application/vnd.google.colaboratory.intrinsic+json": {
              "type": "string"
            }
          },
          "metadata": {},
          "execution_count": 53
        }
      ],
      "source": [
        "srepr(f(x,y))"
      ]
    },
    {
      "cell_type": "markdown",
      "metadata": {
        "deletable": true,
        "editable": true,
        "id": "AUqxWg2-vZ0M"
      },
      "source": [
        "Атрибут `func` - это функция верхнего уровня в выражении, а `args` - список её аргументов."
      ]
    },
    {
      "cell_type": "code",
      "execution_count": 54,
      "metadata": {
        "deletable": true,
        "editable": true,
        "colab": {
          "base_uri": "https://localhost:8080/"
        },
        "id": "V4GYnMapvZ0N",
        "outputId": "5b3b39a8-823e-44c2-b4ba-6a8b555e179a"
      },
      "outputs": [
        {
          "output_type": "execute_result",
          "data": {
            "text/plain": [
              "sympy.core.mul.Mul"
            ]
          },
          "metadata": {},
          "execution_count": 54
        }
      ],
      "source": [
        "a=2*x*y**2\n",
        "a.func"
      ]
    },
    {
      "cell_type": "code",
      "execution_count": 55,
      "metadata": {
        "deletable": true,
        "editable": true,
        "colab": {
          "base_uri": "https://localhost:8080/",
          "height": 0
        },
        "id": "AUJfwWqJvZ0N",
        "outputId": "553b6dcc-b808-4dad-fd3c-d6f53f48bf2d"
      },
      "outputs": [
        {
          "output_type": "execute_result",
          "data": {
            "text/plain": [
              "⎛       2⎞\n",
              "⎝2, x, y ⎠"
            ],
            "image/png": "[encoded data removed]",
            "text/latex": "$\\displaystyle \\left( 2, \\  x, \\  y^{2}\\right)$"
          },
          "metadata": {},
          "execution_count": 55
        }
      ],
      "source": [
        "a.args"
      ]
    },
    {
      "cell_type": "code",
      "execution_count": 56,
      "metadata": {
        "deletable": true,
        "editable": true,
        "colab": {
          "base_uri": "https://localhost:8080/",
          "height": 0
        },
        "id": "fUn0ET3wvZ0N",
        "outputId": "62bfd836-08de-4d99-daa5-03b03f4dab83"
      },
      "outputs": [
        {
          "output_type": "execute_result",
          "data": {
            "text/plain": [
              "2"
            ],
            "image/png": "[encoded data removed]",
            "text/latex": "$\\displaystyle 2$"
          },
          "metadata": {},
          "execution_count": 56
        }
      ],
      "source": [
        "a.args[0]"
      ]
    },
    {
      "cell_type": "code",
      "execution_count": 57,
      "metadata": {
        "deletable": true,
        "editable": true,
        "colab": {
          "base_uri": "https://localhost:8080/"
        },
        "id": "eZCtJmwavZ0N",
        "outputId": "ce60720b-4509-412a-c4f2-33a1786c286e"
      },
      "outputs": [
        {
          "output_type": "stream",
          "name": "stdout",
          "text": [
            "2\n",
            "x\n",
            "y**2\n"
          ]
        }
      ],
      "source": [
        "for i in a.args:\n",
        "    print(i)"
      ]
    },
    {
      "cell_type": "markdown",
      "metadata": {
        "deletable": true,
        "editable": true,
        "id": "BCsMTy2evZ0N"
      },
      "source": [
        "Функция `subs` заменяет переменную на выражение."
      ]
    },
    {
      "cell_type": "code",
      "execution_count": 58,
      "metadata": {
        "deletable": true,
        "editable": true,
        "colab": {
          "base_uri": "https://localhost:8080/",
          "height": 0
        },
        "id": "Qau7V7I6vZ0N",
        "outputId": "df3c64d8-e5ff-4439-a710-ab42bc8a1035"
      },
      "outputs": [
        {
          "output_type": "execute_result",
          "data": {
            "text/plain": [
              "8⋅x"
            ],
            "image/png": "[encoded data removed]",
            "text/latex": "$\\displaystyle 8 x$"
          },
          "metadata": {},
          "execution_count": 58
        }
      ],
      "source": [
        "a.subs(y,2)"
      ]
    },
    {
      "cell_type": "markdown",
      "metadata": {
        "deletable": true,
        "editable": true,
        "id": "ZkAQ8RLBvZ0O"
      },
      "source": [
        "Она можнет заменить несколько переменных. Для этого ей передаётся список кортежей или словарь."
      ]
    },
    {
      "cell_type": "code",
      "execution_count": 59,
      "metadata": {
        "deletable": true,
        "editable": true,
        "colab": {
          "base_uri": "https://localhost:8080/",
          "height": 0
        },
        "id": "slsfs00fvZ0O",
        "outputId": "96ab890b-332b-4a6b-fb01-7bcbdc6b3a49"
      },
      "outputs": [
        {
          "output_type": "execute_result",
          "data": {
            "text/plain": [
              "8⋅π"
            ],
            "image/png": "[encoded data removed]",
            "text/latex": "$\\displaystyle 8 \\pi$"
          },
          "metadata": {},
          "execution_count": 59
        }
      ],
      "source": [
        "a.subs([(x,pi),(y,2)])"
      ]
    },
    {
      "cell_type": "code",
      "execution_count": 60,
      "metadata": {
        "deletable": true,
        "editable": true,
        "colab": {
          "base_uri": "https://localhost:8080/",
          "height": 0
        },
        "id": "KXcTJUc9vZ0O",
        "outputId": "feba3ad8-6d2e-4694-b527-809c0fc3a2f7"
      },
      "outputs": [
        {
          "output_type": "execute_result",
          "data": {
            "text/plain": [
              "8⋅π"
            ],
            "image/png": "[encoded data removed]",
            "text/latex": "$\\displaystyle 8 \\pi$"
          },
          "metadata": {},
          "execution_count": 60
        }
      ],
      "source": [
        "a.subs({x:pi,y:2})"
      ]
    },
    {
      "cell_type": "markdown",
      "metadata": {
        "deletable": true,
        "editable": true,
        "id": "qxufCM5AvZ0O"
      },
      "source": [
        "Она может заменить не переменную, а подвыражение - функцию с аргументами."
      ]
    },
    {
      "cell_type": "code",
      "execution_count": 61,
      "metadata": {
        "deletable": true,
        "editable": true,
        "colab": {
          "base_uri": "https://localhost:8080/",
          "height": 0
        },
        "id": "ds2x1EuFvZ0O",
        "outputId": "82cec31f-945b-4284-ff48-06ec5a86da22"
      },
      "outputs": [
        {
          "output_type": "execute_result",
          "data": {
            "text/plain": [
              "f(x) + 1"
            ],
            "image/png": "[encoded data removed]",
            "text/latex": "$\\displaystyle f{\\left(x \\right)} + 1$"
          },
          "metadata": {},
          "execution_count": 61
        }
      ],
      "source": [
        "a=f(x)+f(y)\n",
        "a.subs(f(y),1)"
      ]
    },
    {
      "cell_type": "code",
      "execution_count": 62,
      "metadata": {
        "deletable": true,
        "editable": true,
        "colab": {
          "base_uri": "https://localhost:8080/",
          "height": 0
        },
        "id": "DF9Hbfq1vZ0O",
        "outputId": "276ef055-1f72-4926-cc34-8449363ee881"
      },
      "outputs": [
        {
          "output_type": "execute_result",
          "data": {
            "text/plain": [
              "   2\n",
              "2⋅z "
            ],
            "image/png": "[encoded data removed]",
            "text/latex": "$\\displaystyle 2 z^{2}$"
          },
          "metadata": {},
          "execution_count": 62
        }
      ],
      "source": [
        "(2*x*y*z).subs(x*y,z)"
      ]
    },
    {
      "cell_type": "code",
      "execution_count": 63,
      "metadata": {
        "deletable": true,
        "editable": true,
        "colab": {
          "base_uri": "https://localhost:8080/",
          "height": 0
        },
        "id": "cDiLmvnHvZ0P",
        "outputId": "777da873-3929-4942-96fb-557de92db1da"
      },
      "outputs": [
        {
          "output_type": "execute_result",
          "data": {
            "text/plain": [
              " 3        2    \n",
              "x  + x + y  + y"
            ],
            "image/png": "[encoded data removed]",
            "text/latex": "$\\displaystyle x^{3} + x + y^{2} + y$"
          },
          "metadata": {},
          "execution_count": 63
        }
      ],
      "source": [
        "(x+x**2+x**3+x**4).subs(x**2,y)"
      ]
    },
    {
      "cell_type": "markdown",
      "metadata": {
        "deletable": true,
        "editable": true,
        "id": "LfSoqzAAvZ0P"
      },
      "source": [
        "Подстановки производятся последовательно. В данном случае сначала $x$ заменился на $y$, получилось $y^3+y^2$; потом в этом результате $y$ заменилось на $x$."
      ]
    },
    {
      "cell_type": "code",
      "execution_count": 64,
      "metadata": {
        "deletable": true,
        "editable": true,
        "colab": {
          "base_uri": "https://localhost:8080/",
          "height": 0
        },
        "id": "ckotRcnhvZ0P",
        "outputId": "c8fb0c78-5791-4bcd-eaae-916e8741e571"
      },
      "outputs": [
        {
          "output_type": "execute_result",
          "data": {
            "text/plain": [
              " 3    2\n",
              "x  + x "
            ],
            "image/png": "[encoded data removed]",
            "text/latex": "$\\displaystyle x^{3} + x^{2}$"
          },
          "metadata": {},
          "execution_count": 64
        }
      ],
      "source": [
        "a=x**2+y**3\n",
        "a.subs([(x,y),(y,x)])"
      ]
    },
    {
      "cell_type": "markdown",
      "metadata": {
        "deletable": true,
        "editable": true,
        "id": "PsqFvkZXvZ0P"
      },
      "source": [
        "Если написать эти подстановки в другом порядке, результат будет другим."
      ]
    },
    {
      "cell_type": "code",
      "execution_count": 65,
      "metadata": {
        "deletable": true,
        "editable": true,
        "colab": {
          "base_uri": "https://localhost:8080/",
          "height": 0
        },
        "id": "taIwSBFwvZ0P",
        "outputId": "8725ddf9-9bc9-475e-8642-074b46650b57"
      },
      "outputs": [
        {
          "output_type": "execute_result",
          "data": {
            "text/plain": [
              " 3    2\n",
              "y  + y "
            ],
            "image/png": "[encoded data removed]",
            "text/latex": "$\\displaystyle y^{3} + y^{2}$"
          },
          "metadata": {},
          "execution_count": 65
        }
      ],
      "source": [
        "a.subs([(y,x),(x,y)])"
      ]
    },
    {
      "cell_type": "markdown",
      "metadata": {
        "deletable": true,
        "editable": true,
        "id": "YihlHbMrvZ0Q"
      },
      "source": [
        "Но можно передать функции `subs` ключевой параметр `simultaneous=True`, тогда подстановки будут производиться одновременно. Таким образом можно, например, поменять местами $x$ и $y$."
      ]
    },
    {
      "cell_type": "code",
      "execution_count": 66,
      "metadata": {
        "deletable": true,
        "editable": true,
        "colab": {
          "base_uri": "https://localhost:8080/",
          "height": 0
        },
        "id": "BLoyCS2PvZ0Q",
        "outputId": "997cd1aa-089e-4534-a389-7d010c069e97"
      },
      "outputs": [
        {
          "output_type": "execute_result",
          "data": {
            "text/plain": [
              " 3    2\n",
              "x  + y "
            ],
            "image/png": "[encoded data removed]",
            "text/latex": "$\\displaystyle x^{3} + y^{2}$"
          },
          "metadata": {},
          "execution_count": 66
        }
      ],
      "source": [
        "a.subs([(x,y),(y,x)],simultaneous=True)"
      ]
    },
    {
      "cell_type": "markdown",
      "metadata": {
        "deletable": true,
        "editable": true,
        "id": "wdMx3LJCvZ0Q"
      },
      "source": [
        "Можно заменить функцию на другую функцию."
      ]
    },
    {
      "cell_type": "code",
      "execution_count": 67,
      "metadata": {
        "deletable": true,
        "editable": true,
        "colab": {
          "base_uri": "https://localhost:8080/",
          "height": 0
        },
        "id": "aeSDfc3WvZ0Q",
        "outputId": "e062f299-b00b-4cc5-b161-628dba729741"
      },
      "outputs": [
        {
          "output_type": "execute_result",
          "data": {
            "text/plain": [
              "g(x) + g(y)"
            ],
            "image/png": "[encoded data removed]",
            "text/latex": "$\\displaystyle g{\\left(x \\right)} + g{\\left(y \\right)}$"
          },
          "metadata": {},
          "execution_count": 67
        }
      ],
      "source": [
        "g=Function('g')\n",
        "a=f(x)+f(y)\n",
        "a.subs(f,g)"
      ]
    },
    {
      "cell_type": "markdown",
      "metadata": {
        "deletable": true,
        "editable": true,
        "id": "tIjmdsQuvZ0R"
      },
      "source": [
        "Метод `replace` ищет подвыражения, соответствующие образцу (содержащему произвольные переменные), и заменяет их на заданное выражение (оно может содержать те же произвольные переменные)."
      ]
    },
    {
      "cell_type": "code",
      "execution_count": 68,
      "metadata": {
        "deletable": true,
        "editable": true,
        "colab": {
          "base_uri": "https://localhost:8080/",
          "height": 0
        },
        "id": "8rBQ4JjBvZ0R",
        "outputId": "3691e6a8-a2f2-4690-809e-96f5583f7d2c"
      },
      "outputs": [
        {
          "output_type": "execute_result",
          "data": {
            "text/plain": [
              " 2          2\n",
              "x  + (x + y) "
            ],
            "image/png": "[encoded data removed]",
            "text/latex": "$\\displaystyle x^{2} + \\left(x + y\\right)^{2}$"
          },
          "metadata": {},
          "execution_count": 68
        }
      ],
      "source": [
        "a=Wild('a')\n",
        "(f(x)+f(x+y)).replace(f(a),a**2)"
      ]
    },
    {
      "cell_type": "code",
      "execution_count": 69,
      "metadata": {
        "deletable": true,
        "editable": true,
        "colab": {
          "base_uri": "https://localhost:8080/",
          "height": 0
        },
        "id": "mSIY5VeDvZ0R",
        "outputId": "b7e1d74d-8be5-4155-c266-0511cad2161b"
      },
      "outputs": [
        {
          "output_type": "execute_result",
          "data": {
            "text/plain": [
              " 2          \n",
              "x  + f(x, y)"
            ],
            "image/png": "[encoded data removed]",
            "text/latex": "$\\displaystyle x^{2} + f{\\left(x,y \\right)}$"
          },
          "metadata": {},
          "execution_count": 69
        }
      ],
      "source": [
        "(f(x,x)+f(x,y)).replace(f(a,a),a**2)"
      ]
    },
    {
      "cell_type": "code",
      "execution_count": 70,
      "metadata": {
        "deletable": true,
        "editable": true,
        "colab": {
          "base_uri": "https://localhost:8080/",
          "height": 0
        },
        "id": "hDgQRcfpvZ0R",
        "outputId": "96c4e503-a39b-4c0d-a9bf-47a8a51de56e"
      },
      "outputs": [
        {
          "output_type": "execute_result",
          "data": {
            "text/plain": [
              " 2          2\n",
              "y  + (x + 1) "
            ],
            "image/png": "[encoded data removed]",
            "text/latex": "$\\displaystyle y^{2} + \\left(x + 1\\right)^{2}$"
          },
          "metadata": {},
          "execution_count": 70
        }
      ],
      "source": [
        "a=x**2+y**2\n",
        "a.replace(x,x+1)"
      ]
    },
    {
      "cell_type": "markdown",
      "metadata": {
        "deletable": true,
        "editable": true,
        "id": "BIckomS5vZ0R"
      },
      "source": [
        "Соответствовать образцу должно целое подвыражение, это не может быть часть сомножителей в произведении или меньшая степеть в большей."
      ]
    },
    {
      "cell_type": "code",
      "execution_count": 71,
      "metadata": {
        "deletable": true,
        "editable": true,
        "colab": {
          "base_uri": "https://localhost:8080/",
          "height": 0
        },
        "id": "AUYX31awvZ0S",
        "outputId": "5e1496a9-3da5-47cf-c8cc-7741a273f97a"
      },
      "outputs": [
        {
          "output_type": "execute_result",
          "data": {
            "text/plain": [
              "2⋅x⋅y⋅z"
            ],
            "image/png": "[encoded data removed]",
            "text/latex": "$\\displaystyle 2 x y z$"
          },
          "metadata": {},
          "execution_count": 71
        }
      ],
      "source": [
        "a=2*x*y*z\n",
        "a.replace(x*y,z)"
      ]
    },
    {
      "cell_type": "code",
      "execution_count": 72,
      "metadata": {
        "deletable": true,
        "editable": true,
        "colab": {
          "base_uri": "https://localhost:8080/",
          "height": 0
        },
        "id": "oVXP2C_9vZ0S",
        "outputId": "a8c96732-5648-4205-eaa7-f61ab7871f9d"
      },
      "outputs": [
        {
          "output_type": "execute_result",
          "data": {
            "text/plain": [
              " 4    3        \n",
              "x  + x  + x + y"
            ],
            "image/png": "[encoded data removed]",
            "text/latex": "$\\displaystyle x^{4} + x^{3} + x + y$"
          },
          "metadata": {},
          "execution_count": 72
        }
      ],
      "source": [
        "(x+x**2+x**3+x**4).replace(x**2,y)"
      ]
    },
    {
      "cell_type": "markdown",
      "metadata": {
        "deletable": true,
        "editable": true,
        "id": "7BkNVY4svZ0S"
      },
      "source": [
        "## Решение уравнений"
      ]
    },
    {
      "cell_type": "code",
      "execution_count": 73,
      "metadata": {
        "collapsed": true,
        "deletable": true,
        "editable": true,
        "id": "oFYk0KGSvZ0S"
      },
      "outputs": [],
      "source": [
        "a,b,c,d,e,f=symbols('a b c d e f')"
      ]
    },
    {
      "cell_type": "markdown",
      "metadata": {
        "deletable": true,
        "editable": true,
        "id": "aYf3RdwhvZ0S"
      },
      "source": [
        "Уравнение записывается как функция `Eq` с двумя параметрами. Функция `solve` возврящает список решений."
      ]
    },
    {
      "cell_type": "code",
      "execution_count": 74,
      "metadata": {
        "deletable": true,
        "editable": true,
        "colab": {
          "base_uri": "https://localhost:8080/",
          "height": 0
        },
        "id": "LdylVEeRvZ0T",
        "outputId": "f01d154e-e0ed-40f0-956f-83676b103d31"
      },
      "outputs": [
        {
          "output_type": "execute_result",
          "data": {
            "text/plain": [
              "⎡b⎤\n",
              "⎢─⎥\n",
              "⎣a⎦"
            ],
            "image/png": "[encoded data removed]",
            "text/latex": "$\\displaystyle \\left[ \\frac{b}{a}\\right]$"
          },
          "metadata": {},
          "execution_count": 74
        }
      ],
      "source": [
        "solve(Eq(a*x,b),x)"
      ]
    },
    {
      "cell_type": "markdown",
      "metadata": {
        "deletable": true,
        "editable": true,
        "id": "fNrpq-xPvZ0T"
      },
      "source": [
        "Впрочем, можно передать функции `solve` просто выражение. Подразумевается уравнение, что это выражение равно 0."
      ]
    },
    {
      "cell_type": "code",
      "execution_count": 75,
      "metadata": {
        "deletable": true,
        "editable": true,
        "colab": {
          "base_uri": "https://localhost:8080/",
          "height": 0
        },
        "id": "sSVyu9LavZ0T",
        "outputId": "77b4f1df-9317-48c9-8163-2321c6e4cce9"
      },
      "outputs": [
        {
          "output_type": "execute_result",
          "data": {
            "text/plain": [
              "⎡-b ⎤\n",
              "⎢───⎥\n",
              "⎣ a ⎦"
            ],
            "image/png": "[encoded data removed]",
            "text/latex": "$\\displaystyle \\left[ - \\frac{b}{a}\\right]$"
          },
          "metadata": {},
          "execution_count": 75
        }
      ],
      "source": [
        "solve(a*x+b,x)"
      ]
    },
    {
      "cell_type": "markdown",
      "metadata": {
        "deletable": true,
        "editable": true,
        "id": "NvU3ajaBvZ0T"
      },
      "source": [
        "Квадратное уравнение имеет 2 решения."
      ]
    },
    {
      "cell_type": "code",
      "execution_count": 76,
      "metadata": {
        "deletable": true,
        "editable": true,
        "colab": {
          "base_uri": "https://localhost:8080/",
          "height": 0
        },
        "id": "V60YfcxjvZ0T",
        "outputId": "379080de-ef3d-40e9-8c19-fb1cb1287b54"
      },
      "outputs": [
        {
          "output_type": "execute_result",
          "data": {
            "text/plain": [
              "⎡        _____________   ⎛       _____________⎞ ⎤\n",
              "⎢       ╱           2    ⎜      ╱           2 ⎟ ⎥\n",
              "⎢-b + ╲╱  -4⋅a⋅c + b    -⎝b + ╲╱  -4⋅a⋅c + b  ⎠ ⎥\n",
              "⎢─────────────────────, ────────────────────────⎥\n",
              "⎣         2⋅a                     2⋅a           ⎦"
            ],
            "image/png": "[encoded data removed]",
            "text/latex": "$\\displaystyle \\left[ \\frac{- b + \\sqrt{- 4 a c + b^{2}}}{2 a}, \\  - \\frac{b + \\sqrt{- 4 a c + b^{2}}}{2 a}\\right]$"
          },
          "metadata": {},
          "execution_count": 76
        }
      ],
      "source": [
        "solve(a*x**2+b*x+c,x)"
      ]
    },
    {
      "cell_type": "markdown",
      "metadata": {
        "deletable": true,
        "editable": true,
        "id": "YujWXv6lvZ0T"
      },
      "source": [
        "Система линейных уравнений."
      ]
    },
    {
      "cell_type": "code",
      "execution_count": 77,
      "metadata": {
        "deletable": true,
        "editable": true,
        "colab": {
          "base_uri": "https://localhost:8080/",
          "height": 0
        },
        "id": "tpTwyf0AvZ0U",
        "outputId": "4aac7a66-ca2c-4982-a478-cb07914def0d"
      },
      "outputs": [
        {
          "output_type": "execute_result",
          "data": {
            "text/plain": [
              "⎧   -b⋅f + d⋅e     a⋅f - c⋅e⎫\n",
              "⎨x: ──────────, y: ─────────⎬\n",
              "⎩   a⋅d - b⋅c      a⋅d - b⋅c⎭"
            ],
            "image/png": "[encoded data removed]",
            "text/latex": "$\\displaystyle \\left\\{ x : \\frac{- b f + d e}{a d - b c}, \\  y : \\frac{a f - c e}{a d - b c}\\right\\}$"
          },
          "metadata": {},
          "execution_count": 77
        }
      ],
      "source": [
        "solve([a*x+b*y-e,c*x+d*y-f],[x,y])"
      ]
    },
    {
      "cell_type": "markdown",
      "metadata": {
        "deletable": true,
        "editable": true,
        "id": "PIZe1uMDvZ0U"
      },
      "source": [
        "Функция `roots` возвращает корни многочлена с их множественностями."
      ]
    },
    {
      "cell_type": "code",
      "execution_count": 78,
      "metadata": {
        "deletable": true,
        "editable": true,
        "colab": {
          "base_uri": "https://localhost:8080/",
          "height": 0
        },
        "id": "9kMdfV3svZ0U",
        "outputId": "49292145-2663-4f61-f795-c9117bd2982a"
      },
      "outputs": [
        {
          "output_type": "execute_result",
          "data": {
            "text/plain": [
              "{-2: 1, 1: 2}"
            ],
            "image/png": "[encoded data removed]",
            "text/latex": "$\\displaystyle \\left\\{ -2 : 1, \\  1 : 2\\right\\}$"
          },
          "metadata": {},
          "execution_count": 78
        }
      ],
      "source": [
        "roots(x**3-3*x+2,x)"
      ]
    },
    {
      "cell_type": "markdown",
      "metadata": {
        "collapsed": false,
        "deletable": true,
        "editable": true,
        "id": "sVnWqCw4vZ0W"
      },
      "source": [
        "Функция `solve_poly_system` решает систему полиномиальных уравнений, строя их базис Грёбнера."
      ]
    },
    {
      "cell_type": "code",
      "execution_count": 79,
      "metadata": {
        "deletable": true,
        "editable": true,
        "colab": {
          "base_uri": "https://localhost:8080/",
          "height": 0
        },
        "id": "wMCANN-qvZ0W",
        "outputId": "f9249f4e-4d27-491f-d8cc-a96c8a2f88a1"
      },
      "outputs": [
        {
          "output_type": "execute_result",
          "data": {
            "text/plain": [
              "⎡⎛  ⎛         ________⎞     ________ ⎛        ________⎞       ________⎞  ⎛   ⎛\n",
              "⎢⎜  ⎜        ╱ 1   √3 ⎟    ╱ 1   √3  ⎜       ╱ 1   √3 ⎟      ╱ 1   √3 ⎟  ⎜   ⎜\n",
              "⎢⎜4⋅⎜-1 -   ╱  ─ - ── ⎟⋅  ╱  ─ - ── ⋅⎜1 -   ╱  ─ - ── ⎟, -  ╱  ─ - ── ⎟, ⎜-4⋅⎜\n",
              "⎣⎝  ⎝     ╲╱   2   4  ⎠ ╲╱   2   4   ⎝    ╲╱   2   4  ⎠   ╲╱   2   4  ⎠  ⎝   ⎝\n",
              "\n",
              "         ________⎞     ________ ⎛    ________    ⎞      ________⎞  ⎛  ⎛       \n",
              "        ╱ 1   √3 ⎟    ╱ 1   √3  ⎜   ╱ 1   √3     ⎟     ╱ 1   √3 ⎟  ⎜  ⎜       \n",
              "-1 +   ╱  ─ - ── ⎟⋅  ╱  ─ - ── ⋅⎜  ╱  ─ - ──  + 1⎟,   ╱  ─ - ── ⎟, ⎜4⋅⎜-1 -   \n",
              "     ╲╱   2   4  ⎠ ╲╱   2   4   ⎝╲╱   2   4      ⎠  ╲╱   2   4  ⎠  ⎝  ⎝     ╲╱\n",
              "\n",
              "  ________⎞ ⎛        ________⎞     ________       ________⎞  ⎛   ⎛         ___\n",
              " ╱ √3   1 ⎟ ⎜       ╱ √3   1 ⎟    ╱ √3   1       ╱ √3   1 ⎟  ⎜   ⎜        ╱ √3\n",
              "╱  ── + ─ ⎟⋅⎜1 -   ╱  ── + ─ ⎟⋅  ╱  ── + ─ , -  ╱  ── + ─ ⎟, ⎜-4⋅⎜-1 +   ╱  ──\n",
              "   4    2 ⎠ ⎝    ╲╱   4    2 ⎠ ╲╱   4    2    ╲╱   4    2 ⎠  ⎝   ⎝     ╲╱   4 \n",
              "\n",
              "_____⎞     ________ ⎛    ________    ⎞      ________⎞⎤\n",
              "   1 ⎟    ╱ √3   1  ⎜   ╱ √3   1     ⎟     ╱ √3   1 ⎟⎥\n",
              " + ─ ⎟⋅  ╱  ── + ─ ⋅⎜  ╱  ── + ─  + 1⎟,   ╱  ── + ─ ⎟⎥\n",
              "   2 ⎠ ╲╱   4    2  ⎝╲╱   4    2     ⎠  ╲╱   4    2 ⎠⎦"
            ],
            "image/png": "[encoded data removed]",
            "text/latex": "$\\displaystyle \\left[ \\left( 4 \\left(-1 - \\sqrt{\\frac{1}{2} - \\frac{\\sqrt{3}}{4}}\\right) \\sqrt{\\frac{1}{2} - \\frac{\\sqrt{3}}{4}} \\left(1 - \\sqrt{\\frac{1}{2} - \\frac{\\sqrt{3}}{4}}\\right), \\  - \\sqrt{\\frac{1}{2} - \\frac{\\sqrt{3}}{4}}\\right), \\  \\left( - 4 \\left(-1 + \\sqrt{\\frac{1}{2} - \\frac{\\sqrt{3}}{4}}\\right) \\sqrt{\\frac{1}{2} - \\frac{\\sqrt{3}}{4}} \\left(\\sqrt{\\frac{1}{2} - \\frac{\\sqrt{3}}{4}} + 1\\right), \\  \\sqrt{\\frac{1}{2} - \\frac{\\sqrt{3}}{4}}\\right), \\  \\left( 4 \\left(-1 - \\sqrt{\\frac{\\sqrt{3}}{4} + \\frac{1}{2}}\\right) \\left(1 - \\sqrt{\\frac{\\sqrt{3}}{4} + \\frac{1}{2}}\\right) \\sqrt{\\frac{\\sqrt{3}}{4} + \\frac{1}{2}}, \\  - \\sqrt{\\frac{\\sqrt{3}}{4} + \\frac{1}{2}}\\right), \\  \\left( - 4 \\left(-1 + \\sqrt{\\frac{\\sqrt{3}}{4} + \\frac{1}{2}}\\right) \\sqrt{\\frac{\\sqrt{3}}{4} + \\frac{1}{2}} \\left(\\sqrt{\\frac{\\sqrt{3}}{4} + \\frac{1}{2}} + 1\\right), \\  \\sqrt{\\frac{\\sqrt{3}}{4} + \\frac{1}{2}}\\right)\\right]$"
          },
          "metadata": {},
          "execution_count": 79
        }
      ],
      "source": [
        "p1=x**2+y**2-1\n",
        "p2=4*x*y-1\n",
        "solve_poly_system([p1,p2],x,y)"
      ]
    },
    {
      "cell_type": "markdown",
      "metadata": {
        "deletable": true,
        "editable": true,
        "id": "olVh4pUMvZ0W"
      },
      "source": [
        "## Ряды"
      ]
    },
    {
      "cell_type": "code",
      "execution_count": 80,
      "metadata": {
        "deletable": true,
        "editable": true,
        "colab": {
          "base_uri": "https://localhost:8080/",
          "height": 0
        },
        "id": "J7yeZnJuvZ0X",
        "outputId": "5d9ea3ba-d316-4ad7-effa-540e44e2303e"
      },
      "outputs": [
        {
          "output_type": "execute_result",
          "data": {
            "text/plain": [
              "         2    3    4        \n",
              "        x    x    x     ⎛ 5⎞\n",
              "1 + x + ── + ── + ── + O⎝x ⎠\n",
              "        2    6    24        "
            ],
            "image/png": "[encoded data removed]",
            "text/latex": "$\\displaystyle 1 + x + \\frac{x^{2}}{2} + \\frac{x^{3}}{6} + \\frac{x^{4}}{24} + O\\left(x^{5}\\right)$"
          },
          "metadata": {},
          "execution_count": 80
        }
      ],
      "source": [
        "exp(x).series(x,0,5)"
      ]
    },
    {
      "cell_type": "markdown",
      "metadata": {
        "deletable": true,
        "editable": true,
        "id": "LJ59tqUqvZ0X"
      },
      "source": [
        "Ряд может начинаться с отрицательной степени."
      ]
    },
    {
      "cell_type": "code",
      "execution_count": 81,
      "metadata": {
        "deletable": true,
        "editable": true,
        "colab": {
          "base_uri": "https://localhost:8080/",
          "height": 0
        },
        "id": "I_qVERDwvZ0X",
        "outputId": "8d34aa6a-88cc-43e0-9688-d1ba1bb4567a"
      },
      "outputs": [
        {
          "output_type": "execute_result",
          "data": {
            "text/plain": [
              "         3        \n",
              "1   x   x     ⎛ 5⎞\n",
              "─ - ─ - ── + O⎝x ⎠\n",
              "x   3   45        "
            ],
            "image/png": "[encoded data removed]",
            "text/latex": "$\\displaystyle \\frac{1}{x} - \\frac{x}{3} - \\frac{x^{3}}{45} + O\\left(x^{5}\\right)$"
          },
          "metadata": {},
          "execution_count": 81
        }
      ],
      "source": [
        "cot(x).series(x,n=5)"
      ]
    },
    {
      "cell_type": "markdown",
      "metadata": {
        "deletable": true,
        "editable": true,
        "id": "8eA-3pBjvZ0X"
      },
      "source": [
        "И даже идти по полуцелым степеням."
      ]
    },
    {
      "cell_type": "code",
      "execution_count": 82,
      "metadata": {
        "deletable": true,
        "editable": true,
        "colab": {
          "base_uri": "https://localhost:8080/",
          "height": 0
        },
        "id": "i1wxcgzwvZ0X",
        "outputId": "782b1911-9946-40d8-a937-a1551faeaf7e"
      },
      "outputs": [
        {
          "output_type": "execute_result",
          "data": {
            "text/plain": [
              "      3/2    5/2    7/2      9/2        \n",
              "     x      x      x      5⋅x       ⎛ 5⎞\n",
              "√x - ──── - ──── - ──── - ────── + O⎝x ⎠\n",
              "      2      8      16     128          "
            ],
            "image/png": "[encoded data removed]",
            "text/latex": "$\\displaystyle \\sqrt{x} - \\frac{x^{\\frac{3}{2}}}{2} - \\frac{x^{\\frac{5}{2}}}{8} - \\frac{x^{\\frac{7}{2}}}{16} - \\frac{5 x^{\\frac{9}{2}}}{128} + O\\left(x^{5}\\right)$"
          },
          "metadata": {},
          "execution_count": 82
        }
      ],
      "source": [
        "sqrt(x*(1-x)).series(x,n=5)"
      ]
    },
    {
      "cell_type": "code",
      "execution_count": 83,
      "metadata": {
        "deletable": true,
        "editable": true,
        "colab": {
          "base_uri": "https://localhost:8080/",
          "height": 0
        },
        "id": "8gPKzsehvZ0X",
        "outputId": "32b22d2a-4975-4043-c156-6abb9e924716"
      },
      "outputs": [
        {
          "output_type": "execute_result",
          "data": {
            "text/plain": [
              "                                                          ⎛                   \n",
              "                                                          ⎜                   \n",
              "                                                          ⎜                   \n",
              "        2  2      ⎛     2           3     ⎛ 2    2⎞⎞      ⎜  ⎛     2          \n",
              "       π ⋅x     3 ⎜  γ⋅π    ζ(3)   γ      ⎜γ    π ⎟⎟    4 ⎜  ⎜  γ⋅π    ζ(3)   \n",
              "-γ⋅x + ───── + x ⋅⎜- ──── - ──── - ── + γ⋅⎜── + ──⎟⎟ + x ⋅⎜γ⋅⎜- ──── - ──── - \n",
              "         12       ⎝   12     3     2      ⎝2    12⎠⎠      ⎝  ⎝   12     3     \n",
              "\n",
              "               2                                             ⎞      ⎛    ⎛    \n",
              "      ⎛ 2    2⎞                                              ⎟      ⎜    ⎜⎛ 2 \n",
              "      ⎜γ    π ⎟                                              ⎟      ⎜    ⎜⎜γ  \n",
              " 3⎞   ⎜── + ──⎟       4    2  2               ⎛ 2    2⎞     4⎟      ⎜  γ⋅⎜⎜── \n",
              "γ ⎟   ⎝2    12⎠    5⋅γ    γ ⋅π    γ⋅ζ(3)    2 ⎜γ    π ⎟    π ⎟    5 ⎜    ⎝⎝2  \n",
              "──⎟ - ────────── - ──── + ───── + ────── + γ ⋅⎜── + ──⎟ + ───⎟ + x ⋅⎜- ───────\n",
              "6 ⎠       2         24      24      3         ⎝2    12⎠   160⎠      ⎝         \n",
              "\n",
              "     2                           ⎞                2                           \n",
              "   2⎞        ⎛     2           3⎞⎟       ⎛ 2    2⎞                            \n",
              "  π ⎟        ⎜  γ⋅π    ζ(3)   γ ⎟⎟       ⎜γ    π ⎟                            \n",
              "+ ──⎟  - 2⋅γ⋅⎜- ──── - ──── - ──⎟⎟   2⋅γ⋅⎜── + ──⎟       4    2               \n",
              "  12⎠        ⎝   12     3     6 ⎠⎠       ⎝2    12⎠    γ⋅π    π ⋅ζ(3)   ζ(5)   \n",
              "────────────────────────────────── - ────────────── - ──── - ─────── - ──── + \n",
              "             3                             3          160       36      5     \n",
              "\n",
              "                                                                              \n",
              "   ⎛     2           3⎞                                                       \n",
              " 2 ⎜  γ⋅π    ζ(3)   γ ⎟                                                       \n",
              "γ ⋅⎜- ──── - ──── - ──⎟    2         3  2      5      ⎛ 2    2⎞     ⎛ 4    2  \n",
              "   ⎝   12     3     6 ⎠   γ ⋅ζ(3)   γ ⋅π    5⋅γ     3 ⎜γ    π ⎟     ⎜γ    γ ⋅π\n",
              "─────────────────────── - ─────── - ───── - ──── + γ ⋅⎜── + ──⎟ + γ⋅⎜── + ────\n",
              "           3                 6        72     24       ⎝2    12⎠     ⎝24     24\n",
              "\n",
              "                                                  ⎞        \n",
              "                                                  ⎟        \n",
              "                                                  ⎟        \n",
              "2              4⎞   ⎛ 2    2⎞ ⎛     2           3⎞⎟        \n",
              "    γ⋅ζ(3)    π ⎟   ⎜γ    π ⎟ ⎜  γ⋅π    ζ(3)   γ ⎟⎟    ⎛ 6⎞\n",
              "─ + ────── + ───⎟ - ⎜── + ──⎟⋅⎜- ──── - ──── - ──⎟⎟ + O⎝x ⎠\n",
              "      3      160⎠   ⎝2    12⎠ ⎝   12     3     6 ⎠⎠        "
            ],
            "image/png": "[encoded data removed]",
            "text/latex": "$\\displaystyle - \\gamma x + \\frac{\\pi^{2} x^{2}}{12} + x^{3} \\left(- \\frac{\\gamma \\pi^{2}}{12} - \\frac{\\zeta\\left(3\\right)}{3} - \\frac{\\gamma^{3}}{2} + \\gamma \\left(\\frac{\\gamma^{2}}{2} + \\frac{\\pi^{2}}{12}\\right)\\right) + x^{4} \\left(\\gamma \\left(- \\frac{\\gamma \\pi^{2}}{12} - \\frac{\\zeta\\left(3\\right)}{3} - \\frac{\\gamma^{3}}{6}\\right) - \\frac{\\left(\\frac{\\gamma^{2}}{2} + \\frac{\\pi^{2}}{12}\\right)^{2}}{2} - \\frac{5 \\gamma^{4}}{24} + \\frac{\\gamma^{2} \\pi^{2}}{24} + \\frac{\\gamma \\zeta\\left(3\\right)}{3} + \\gamma^{2} \\left(\\frac{\\gamma^{2}}{2} + \\frac{\\pi^{2}}{12}\\right) + \\frac{\\pi^{4}}{160}\\right) + x^{5} \\left(- \\frac{\\gamma \\left(\\left(\\frac{\\gamma^{2}}{2} + \\frac{\\pi^{2}}{12}\\right)^{2} - 2 \\gamma \\left(- \\frac{\\gamma \\pi^{2}}{12} - \\frac{\\zeta\\left(3\\right)}{3} - \\frac{\\gamma^{3}}{6}\\right)\\right)}{3} - \\frac{2 \\gamma \\left(\\frac{\\gamma^{2}}{2} + \\frac{\\pi^{2}}{12}\\right)^{2}}{3} - \\frac{\\gamma \\pi^{4}}{160} - \\frac{\\pi^{2} \\zeta\\left(3\\right)}{36} - \\frac{\\zeta\\left(5\\right)}{5} + \\frac{\\gamma^{2} \\left(- \\frac{\\gamma \\pi^{2}}{12} - \\frac{\\zeta\\left(3\\right)}{3} - \\frac{\\gamma^{3}}{6}\\right)}{3} - \\frac{\\gamma^{2} \\zeta\\left(3\\right)}{6} - \\frac{\\gamma^{3} \\pi^{2}}{72} - \\frac{5 \\gamma^{5}}{24} + \\gamma^{3} \\left(\\frac{\\gamma^{2}}{2} + \\frac{\\pi^{2}}{12}\\right) + \\gamma \\left(\\frac{\\gamma^{4}}{24} + \\frac{\\gamma^{2} \\pi^{2}}{24} + \\frac{\\gamma \\zeta\\left(3\\right)}{3} + \\frac{\\pi^{4}}{160}\\right) - \\left(\\frac{\\gamma^{2}}{2} + \\frac{\\pi^{2}}{12}\\right) \\left(- \\frac{\\gamma \\pi^{2}}{12} - \\frac{\\zeta\\left(3\\right)}{3} - \\frac{\\gamma^{3}}{6}\\right)\\right) + O\\left(x^{6}\\right)$"
          },
          "metadata": {},
          "execution_count": 83
        }
      ],
      "source": [
        "log(gamma(1+x)).series(x,n=6).rewrite(zeta)"
      ]
    },
    {
      "cell_type": "markdown",
      "metadata": {
        "deletable": true,
        "editable": true,
        "id": "47hw3dGevZ0X"
      },
      "source": [
        "Подготовим 3 ряда."
      ]
    },
    {
      "cell_type": "code",
      "execution_count": 84,
      "metadata": {
        "deletable": true,
        "editable": true,
        "colab": {
          "base_uri": "https://localhost:8080/",
          "height": 0
        },
        "id": "wmXmPY39vZ0Y",
        "outputId": "01ef51f0-21bc-4b5b-c3ce-0be592c92820"
      },
      "outputs": [
        {
          "output_type": "execute_result",
          "data": {
            "text/plain": [
              "     3     5     7         \n",
              "    x     x     x      ⎛ 8⎞\n",
              "x - ── + ─── - ──── + O⎝x ⎠\n",
              "    6    120   5040        "
            ],
            "image/png": "[encoded data removed]",
            "text/latex": "$\\displaystyle x - \\frac{x^{3}}{6} + \\frac{x^{5}}{120} - \\frac{x^{7}}{5040} + O\\left(x^{8}\\right)$"
          },
          "metadata": {},
          "execution_count": 84
        }
      ],
      "source": [
        "sinx=series(sin(x),x,0,8)\n",
        "sinx"
      ]
    },
    {
      "cell_type": "code",
      "execution_count": 85,
      "metadata": {
        "deletable": true,
        "editable": true,
        "colab": {
          "base_uri": "https://localhost:8080/",
          "height": 0
        },
        "id": "pTfHkKi7vZ0Y",
        "outputId": "d896c20a-a034-4623-aecb-db502ed652fc"
      },
      "outputs": [
        {
          "output_type": "execute_result",
          "data": {
            "text/plain": [
              "     2    4     6        \n",
              "    x    x     x     ⎛ 8⎞\n",
              "1 - ── + ── - ─── + O⎝x ⎠\n",
              "    2    24   720        "
            ],
            "image/png": "[encoded data removed]",
            "text/latex": "$\\displaystyle 1 - \\frac{x^{2}}{2} + \\frac{x^{4}}{24} - \\frac{x^{6}}{720} + O\\left(x^{8}\\right)$"
          },
          "metadata": {},
          "execution_count": 85
        }
      ],
      "source": [
        "cosx=series(cos(x),x,n=8)\n",
        "cosx"
      ]
    },
    {
      "cell_type": "code",
      "execution_count": 86,
      "metadata": {
        "deletable": true,
        "editable": true,
        "colab": {
          "base_uri": "https://localhost:8080/",
          "height": 0
        },
        "id": "maKgiPH2vZ0Y",
        "outputId": "6cd7ec21-8c34-4ce9-b36d-9289bbabb9c2"
      },
      "outputs": [
        {
          "output_type": "execute_result",
          "data": {
            "text/plain": [
              "     3      5       7        \n",
              "    x    2⋅x    17⋅x     ⎛ 8⎞\n",
              "x + ── + ──── + ───── + O⎝x ⎠\n",
              "    3     15     315         "
            ],
            "image/png": "[encoded data removed]",
            "text/latex": "$\\displaystyle x + \\frac{x^{3}}{3} + \\frac{2 x^{5}}{15} + \\frac{17 x^{7}}{315} + O\\left(x^{8}\\right)$"
          },
          "metadata": {},
          "execution_count": 86
        }
      ],
      "source": [
        "tanx=series(tan(x),x,n=8)\n",
        "tanx"
      ]
    },
    {
      "cell_type": "markdown",
      "metadata": {
        "deletable": true,
        "editable": true,
        "id": "O_vaqRdnvZ0Y"
      },
      "source": [
        "Произведения и частные рядов не вычисляются автоматически, к ним надо применить функцию `series`."
      ]
    },
    {
      "cell_type": "code",
      "execution_count": 87,
      "metadata": {
        "deletable": true,
        "editable": true,
        "colab": {
          "base_uri": "https://localhost:8080/",
          "height": 0
        },
        "id": "WsrBiEmxvZ0Z",
        "outputId": "b3decd71-fd24-4db1-fa6a-bad70442d18e"
      },
      "outputs": [
        {
          "output_type": "execute_result",
          "data": {
            "text/plain": [
              "     3     5     7         \n",
              "    x     x     x      ⎛ 8⎞\n",
              "x - ── + ─── - ──── + O⎝x ⎠\n",
              "    6    120   5040        "
            ],
            "image/png": "[encoded data removed]",
            "text/latex": "$\\displaystyle x - \\frac{x^{3}}{6} + \\frac{x^{5}}{120} - \\frac{x^{7}}{5040} + O\\left(x^{8}\\right)$"
          },
          "metadata": {},
          "execution_count": 87
        }
      ],
      "source": [
        "series(tanx*cosx,n=8)"
      ]
    },
    {
      "cell_type": "code",
      "execution_count": 88,
      "metadata": {
        "deletable": true,
        "editable": true,
        "colab": {
          "base_uri": "https://localhost:8080/",
          "height": 0
        },
        "id": "8h1pAvaHvZ0Z",
        "outputId": "e40d5ef7-f4db-420e-eae9-e9b247630496"
      },
      "outputs": [
        {
          "output_type": "execute_result",
          "data": {
            "text/plain": [
              "     3      5       7        \n",
              "    x    2⋅x    17⋅x     ⎛ 8⎞\n",
              "x + ── + ──── + ───── + O⎝x ⎠\n",
              "    3     15     315         "
            ],
            "image/png": "[encoded data removed]",
            "text/latex": "$\\displaystyle x + \\frac{x^{3}}{3} + \\frac{2 x^{5}}{15} + \\frac{17 x^{7}}{315} + O\\left(x^{8}\\right)$"
          },
          "metadata": {},
          "execution_count": 88
        }
      ],
      "source": [
        "series(sinx/cosx,n=8)"
      ]
    },
    {
      "cell_type": "markdown",
      "metadata": {
        "deletable": true,
        "editable": true,
        "id": "rNxtzZLavZ0Z"
      },
      "source": [
        "А этот ряд должен быть равен 1. Но поскольку `sinx` и `cosx` известны лишь с ограниченной точностью, мы получаем 1 с той же точностью."
      ]
    },
    {
      "cell_type": "code",
      "execution_count": 89,
      "metadata": {
        "deletable": true,
        "editable": true,
        "colab": {
          "base_uri": "https://localhost:8080/",
          "height": 0
        },
        "id": "QMRAqywpvZ0Z",
        "outputId": "af7623c3-df9c-4cd0-b69f-203c54c6beb0"
      },
      "outputs": [
        {
          "output_type": "execute_result",
          "data": {
            "text/plain": [
              "     ⎛ 8⎞\n",
              "1 + O⎝x ⎠"
            ],
            "image/png": "[encoded data removed]",
            "text/latex": "$\\displaystyle 1 + O\\left(x^{8}\\right)$"
          },
          "metadata": {},
          "execution_count": 89
        }
      ],
      "source": [
        "series(sinx**2+cosx**2,n=8)"
      ]
    },
    {
      "cell_type": "markdown",
      "metadata": {
        "deletable": true,
        "editable": true,
        "id": "LOWFi0P8vZ0Z"
      },
      "source": [
        "Здесь первые члены сократились, и ответ можно получить лишь с меньшей точностью."
      ]
    },
    {
      "cell_type": "code",
      "execution_count": 90,
      "metadata": {
        "deletable": true,
        "editable": true,
        "colab": {
          "base_uri": "https://localhost:8080/",
          "height": 0
        },
        "id": "0oq5UGbXvZ0Z",
        "outputId": "6bc8e56b-7d83-4645-c306-2382b088d10a"
      },
      "outputs": [
        {
          "output_type": "execute_result",
          "data": {
            "text/plain": [
              "     2     4        \n",
              "1   x     x     ⎛ 6⎞\n",
              "─ - ── + ─── + O⎝x ⎠\n",
              "2   24   720        "
            ],
            "image/png": "[encoded data removed]",
            "text/latex": "$\\displaystyle \\frac{1}{2} - \\frac{x^{2}}{24} + \\frac{x^{4}}{720} + O\\left(x^{6}\\right)$"
          },
          "metadata": {},
          "execution_count": 90
        }
      ],
      "source": [
        "series((1-cosx)/x**2,n=6)"
      ]
    },
    {
      "cell_type": "markdown",
      "metadata": {
        "deletable": true,
        "editable": true,
        "id": "sfYfa379vZ0a"
      },
      "source": [
        "Ряды можно дифференцировать и интегрировать."
      ]
    },
    {
      "cell_type": "code",
      "execution_count": 91,
      "metadata": {
        "deletable": true,
        "editable": true,
        "colab": {
          "base_uri": "https://localhost:8080/",
          "height": 0
        },
        "id": "JmABQhgZvZ0a",
        "outputId": "2f8ba54e-ba83-436b-ee4d-61662b5d8f22"
      },
      "outputs": [
        {
          "output_type": "execute_result",
          "data": {
            "text/plain": [
              "     2    4     6        \n",
              "    x    x     x     ⎛ 7⎞\n",
              "1 - ── + ── - ─── + O⎝x ⎠\n",
              "    2    24   720        "
            ],
            "image/png": "[encoded data removed]",
            "text/latex": "$\\displaystyle 1 - \\frac{x^{2}}{2} + \\frac{x^{4}}{24} - \\frac{x^{6}}{720} + O\\left(x^{7}\\right)$"
          },
          "metadata": {},
          "execution_count": 91
        }
      ],
      "source": [
        "diff(sinx,x)"
      ]
    },
    {
      "cell_type": "code",
      "execution_count": 92,
      "metadata": {
        "deletable": true,
        "editable": true,
        "colab": {
          "base_uri": "https://localhost:8080/",
          "height": 0
        },
        "id": "qh5dBnQDvZ0a",
        "outputId": "b3c67ccf-c2ef-4fa4-8652-ce21aef81eb7"
      },
      "outputs": [
        {
          "output_type": "execute_result",
          "data": {
            "text/plain": [
              "     3     5     7         \n",
              "    x     x     x      ⎛ 9⎞\n",
              "x - ── + ─── - ──── + O⎝x ⎠\n",
              "    6    120   5040        "
            ],
            "image/png": "[encoded data removed]",
            "text/latex": "$\\displaystyle x - \\frac{x^{3}}{6} + \\frac{x^{5}}{120} - \\frac{x^{7}}{5040} + O\\left(x^{9}\\right)$"
          },
          "metadata": {},
          "execution_count": 92
        }
      ],
      "source": [
        "integrate(cosx,x)"
      ]
    },
    {
      "cell_type": "markdown",
      "metadata": {
        "deletable": true,
        "editable": true,
        "id": "8gMNNY6SvZ0b"
      },
      "source": [
        "В ряд нельзя подставлять численное значение переменной разложения (а значит, нельзя и строить график). Для этого нужно сначала убрать $\\mathcal{O}$ член, превратив отрезок ряда в многочлен."
      ]
    },
    {
      "cell_type": "code",
      "execution_count": 93,
      "metadata": {
        "deletable": true,
        "editable": true,
        "id": "jcLQdFvBvZ0b"
      },
      "outputs": [],
      "source": [
        "a=sinx.removeO()"
      ]
    },
    {
      "cell_type": "code",
      "execution_count": 94,
      "metadata": {
        "deletable": true,
        "editable": true,
        "colab": {
          "base_uri": "https://localhost:8080/",
          "height": 0
        },
        "id": "9aZ1bot0vZ0b",
        "outputId": "9b939f91-48fa-44e5-9bf0-6336e5249dc9"
      },
      "outputs": [
        {
          "output_type": "execute_result",
          "data": {
            "text/plain": [
              "0.0998334166468254"
            ],
            "image/png": "[encoded data removed]",
            "text/latex": "$\\displaystyle 0.0998334166468254$"
          },
          "metadata": {},
          "execution_count": 94
        }
      ],
      "source": [
        "a.subs(x,0.1)"
      ]
    },
    {
      "cell_type": "markdown",
      "metadata": {
        "deletable": true,
        "editable": true,
        "id": "BYzg_giXvZ0b"
      },
      "source": [
        "## Производные"
      ]
    },
    {
      "cell_type": "code",
      "execution_count": 95,
      "metadata": {
        "deletable": true,
        "editable": true,
        "colab": {
          "base_uri": "https://localhost:8080/",
          "height": 0
        },
        "id": "S-KWWwebvZ0b",
        "outputId": "82fb0c99-ab20-4de9-b0c6-7e07218032f6"
      },
      "outputs": [
        {
          "output_type": "execute_result",
          "data": {
            "text/plain": [
              "x⋅cos(x + y) + sin(x + y)"
            ],
            "image/png": "[encoded data removed]",
            "text/latex": "$\\displaystyle x \\cos{\\left(x + y \\right)} + \\sin{\\left(x + y \\right)}$"
          },
          "metadata": {},
          "execution_count": 95
        }
      ],
      "source": [
        "a=x*sin(x+y)\n",
        "diff(a,x)"
      ]
    },
    {
      "cell_type": "code",
      "execution_count": 96,
      "metadata": {
        "deletable": true,
        "editable": true,
        "colab": {
          "base_uri": "https://localhost:8080/",
          "height": 0
        },
        "id": "FKidDZxCvZ0c",
        "outputId": "968e1244-f48c-4f92-adb2-8dba833c3cef"
      },
      "outputs": [
        {
          "output_type": "execute_result",
          "data": {
            "text/plain": [
              "x⋅cos(x + y)"
            ],
            "image/png": "[encoded data removed]",
            "text/latex": "$\\displaystyle x \\cos{\\left(x + y \\right)}$"
          },
          "metadata": {},
          "execution_count": 96
        }
      ],
      "source": [
        "diff(a,y)"
      ]
    },
    {
      "cell_type": "markdown",
      "metadata": {
        "deletable": true,
        "editable": true,
        "id": "y8n8HKWUvZ0c"
      },
      "source": [
        "Вторая производная по $x$ и первая по $y$."
      ]
    },
    {
      "cell_type": "code",
      "execution_count": 97,
      "metadata": {
        "deletable": true,
        "editable": true,
        "colab": {
          "base_uri": "https://localhost:8080/",
          "height": 0
        },
        "id": "2A7XQWnMvZ0c",
        "outputId": "059bd750-3225-4947-ae99-3fdea51f68ef"
      },
      "outputs": [
        {
          "output_type": "execute_result",
          "data": {
            "text/plain": [
              "-(x⋅cos(x + y) + 2⋅sin(x + y))"
            ],
            "image/png": "[encoded data removed]",
            "text/latex": "$\\displaystyle - (x \\cos{\\left(x + y \\right)} + 2 \\sin{\\left(x + y \\right)})$"
          },
          "metadata": {},
          "execution_count": 97
        }
      ],
      "source": [
        "diff(a,x,2,y)"
      ]
    },
    {
      "cell_type": "markdown",
      "metadata": {
        "deletable": true,
        "editable": true,
        "id": "AJuoW_VdvZ0d"
      },
      "source": [
        "Функция `Derivative` представляет невычисленную производную. Её можно вычислить методом `doit`."
      ]
    },
    {
      "cell_type": "code",
      "execution_count": 98,
      "metadata": {
        "deletable": true,
        "editable": true,
        "colab": {
          "base_uri": "https://localhost:8080/",
          "height": 0
        },
        "id": "9tZJfMPLvZ0d",
        "outputId": "3ba98026-ca86-4733-e143-1654663be476"
      },
      "outputs": [
        {
          "output_type": "execute_result",
          "data": {
            "text/plain": [
              "d                  \n",
              "──(sin(x)) = cos(x)\n",
              "dx                 "
            ],
            "image/png": "[encoded data removed]",
            "text/latex": "$\\displaystyle \\frac{d}{d x} \\sin{\\left(x \\right)} = \\cos{\\left(x \\right)}$"
          },
          "metadata": {},
          "execution_count": 98
        }
      ],
      "source": [
        "a=Derivative(sin(x),x)\n",
        "Eq(a,a.doit())"
      ]
    },
    {
      "cell_type": "markdown",
      "metadata": {
        "deletable": true,
        "editable": true,
        "id": "t4qKH9B3vZ0d"
      },
      "source": [
        "## Интегралы"
      ]
    },
    {
      "cell_type": "code",
      "execution_count": 99,
      "metadata": {
        "deletable": true,
        "editable": true,
        "colab": {
          "base_uri": "https://localhost:8080/",
          "height": 0
        },
        "id": "PBp5HetyvZ0d",
        "outputId": "60d7bbbd-9b70-43fd-c735-816c852ba786"
      },
      "outputs": [
        {
          "output_type": "execute_result",
          "data": {
            "text/plain": [
              "            ⎛ 2    ⎞           \n",
              "log(x)   log⎝x  - 2⎠      1    \n",
              "────── - ─────────── - ────────\n",
              "  4           8           2    \n",
              "                       4⋅x  - 8"
            ],
            "image/png": "[encoded data removed]",
            "text/latex": "$\\displaystyle \\frac{\\log{\\left(x \\right)}}{4} - \\frac{\\log{\\left(x^{2} - 2 \\right)}}{8} - \\frac{1}{4 x^{2} - 8}$"
          },
          "metadata": {},
          "execution_count": 99
        }
      ],
      "source": [
        "integrate(1/(x*(x**2-2)**2),x)"
      ]
    },
    {
      "cell_type": "code",
      "execution_count": 100,
      "metadata": {
        "deletable": true,
        "editable": true,
        "colab": {
          "base_uri": "https://localhost:8080/",
          "height": 0
        },
        "id": "Hn9L8MLdvZ0d",
        "outputId": "0edef87e-8206-4cb9-e95e-0de6a8bc7263"
      },
      "outputs": [
        {
          "output_type": "execute_result",
          "data": {
            "text/plain": [
              "       ⎛ x    ⎞\n",
              "x - log⎝ℯ  + 1⎠"
            ],
            "image/png": "[encoded data removed]",
            "text/latex": "$\\displaystyle x - \\log{\\left(e^{x} + 1 \\right)}$"
          },
          "metadata": {},
          "execution_count": 100
        }
      ],
      "source": [
        "integrate(1/(exp(x)+1),x)"
      ]
    },
    {
      "cell_type": "code",
      "execution_count": 101,
      "metadata": {
        "deletable": true,
        "editable": true,
        "colab": {
          "base_uri": "https://localhost:8080/",
          "height": 0
        },
        "id": "_vzhiv1pvZ0d",
        "outputId": "4911675e-002a-420a-db3e-6203547da2c0"
      },
      "outputs": [
        {
          "output_type": "execute_result",
          "data": {
            "text/plain": [
              "x⋅log(x) - x"
            ],
            "image/png": "[encoded data removed]",
            "text/latex": "$\\displaystyle x \\log{\\left(x \\right)} - x$"
          },
          "metadata": {},
          "execution_count": 101
        }
      ],
      "source": [
        "integrate(log(x),x)"
      ]
    },
    {
      "cell_type": "code",
      "execution_count": 102,
      "metadata": {
        "deletable": true,
        "editable": true,
        "colab": {
          "base_uri": "https://localhost:8080/",
          "height": 0
        },
        "id": "Rr6ysgG9vZ0e",
        "outputId": "5114d776-2970-4656-8b17-f94dfad14f59"
      },
      "outputs": [
        {
          "output_type": "execute_result",
          "data": {
            "text/plain": [
              "-x⋅cos(x) + sin(x)"
            ],
            "image/png": "[encoded data removed]",
            "text/latex": "$\\displaystyle - x \\cos{\\left(x \\right)} + \\sin{\\left(x \\right)}$"
          },
          "metadata": {},
          "execution_count": 102
        }
      ],
      "source": [
        "integrate(x*sin(x),x)"
      ]
    },
    {
      "cell_type": "code",
      "execution_count": 103,
      "metadata": {
        "deletable": true,
        "editable": true,
        "colab": {
          "base_uri": "https://localhost:8080/",
          "height": 0
        },
        "id": "Ky-86X0-vZ0e",
        "outputId": "cc8bb467-d28d-424a-8ed2-9490c8865d9e"
      },
      "outputs": [
        {
          "output_type": "execute_result",
          "data": {
            "text/plain": [
              "    2 \n",
              "  -x  \n",
              "-ℯ    \n",
              "──────\n",
              "  2   "
            ],
            "image/png": "[encoded data removed]",
            "text/latex": "$\\displaystyle - \\frac{e^{- x^{2}}}{2}$"
          },
          "metadata": {},
          "execution_count": 103
        }
      ],
      "source": [
        "integrate(x*exp(-x**2),x)"
      ]
    },
    {
      "cell_type": "code",
      "execution_count": 104,
      "metadata": {
        "deletable": true,
        "editable": true,
        "colab": {
          "base_uri": "https://localhost:8080/",
          "height": 0
        },
        "id": "tnNpZciwvZ0e",
        "outputId": "6bfb21c7-bd97-41e7-9ad9-97ad758c8b52"
      },
      "outputs": [
        {
          "output_type": "execute_result",
          "data": {
            "text/plain": [
              "⌠      \n",
              "⎮  x   \n",
              "⎮ x  dx\n",
              "⌡      "
            ],
            "image/png": "[encoded data removed]",
            "text/latex": "$\\displaystyle \\int x^{x}\\, dx$"
          },
          "metadata": {},
          "execution_count": 104
        }
      ],
      "source": [
        "a=integrate(x**x,x)\n",
        "a"
      ]
    },
    {
      "cell_type": "markdown",
      "metadata": {
        "deletable": true,
        "editable": true,
        "id": "fwPysl_bvZ0e"
      },
      "source": [
        "Получился невычисленный интеграл."
      ]
    },
    {
      "cell_type": "code",
      "execution_count": 105,
      "metadata": {
        "deletable": true,
        "editable": true,
        "colab": {
          "base_uri": "https://localhost:8080/"
        },
        "id": "eTXVSYROvZ0e",
        "outputId": "851e2d1c-bf7f-4d36-b64f-e38f6708eb2a"
      },
      "outputs": [
        {
          "output_type": "stream",
          "name": "stdout",
          "text": [
            "Integral(x**x, x)\n"
          ]
        }
      ],
      "source": [
        "print(a)"
      ]
    },
    {
      "cell_type": "code",
      "execution_count": 106,
      "metadata": {
        "deletable": true,
        "editable": true,
        "colab": {
          "base_uri": "https://localhost:8080/",
          "height": 0
        },
        "id": "h3PeRjcivZ0e",
        "outputId": "2d8164d2-f497-475c-a19e-3fdafbbf86b4"
      },
      "outputs": [
        {
          "output_type": "execute_result",
          "data": {
            "text/plain": [
              "⌠                    \n",
              "⎮ sin(x) dx = -cos(x)\n",
              "⌡                    "
            ],
            "image/png": "[encoded data removed]",
            "text/latex": "$\\displaystyle \\int \\sin{\\left(x \\right)}\\, dx = - \\cos{\\left(x \\right)}$"
          },
          "metadata": {},
          "execution_count": 106
        }
      ],
      "source": [
        "a=Integral(sin(x),x)\n",
        "Eq(a,a.doit())"
      ]
    },
    {
      "cell_type": "markdown",
      "metadata": {
        "deletable": true,
        "editable": true,
        "id": "vQ_7SghdvZ0f"
      },
      "source": [
        "Определённые интегралы."
      ]
    },
    {
      "cell_type": "code",
      "execution_count": 107,
      "metadata": {
        "deletable": true,
        "editable": true,
        "colab": {
          "base_uri": "https://localhost:8080/",
          "height": 0
        },
        "id": "9-JAGSvBvZ0f",
        "outputId": "3c58d534-adac-4346-a8b2-cd721aa2b9dd"
      },
      "outputs": [
        {
          "output_type": "execute_result",
          "data": {
            "text/plain": [
              "2"
            ],
            "image/png": "[encoded data removed]",
            "text/latex": "$\\displaystyle 2$"
          },
          "metadata": {},
          "execution_count": 107
        }
      ],
      "source": [
        "integrate(sin(x),(x,0,pi))"
      ]
    },
    {
      "cell_type": "markdown",
      "metadata": {
        "deletable": true,
        "editable": true,
        "id": "1sqXTvIvvZ0f"
      },
      "source": [
        "`oo` - это $\\infty$."
      ]
    },
    {
      "cell_type": "code",
      "execution_count": 108,
      "metadata": {
        "deletable": true,
        "editable": true,
        "colab": {
          "base_uri": "https://localhost:8080/",
          "height": 0
        },
        "id": "KRLelEHkvZ0f",
        "outputId": "388aaf77-2cd0-4b19-a390-55f44184b08e"
      },
      "outputs": [
        {
          "output_type": "execute_result",
          "data": {
            "text/plain": [
              "√π\n",
              "──\n",
              "2 "
            ],
            "image/png": "[encoded data removed]",
            "text/latex": "$\\displaystyle \\frac{\\sqrt{\\pi}}{2}$"
          },
          "metadata": {},
          "execution_count": 108
        }
      ],
      "source": [
        "integrate(exp(-x**2),(x,0,oo))"
      ]
    },
    {
      "cell_type": "code",
      "execution_count": 109,
      "metadata": {
        "deletable": true,
        "editable": true,
        "colab": {
          "base_uri": "https://localhost:8080/",
          "height": 0
        },
        "id": "yrKIoQdRvZ0f",
        "outputId": "f2cabee3-4d35-4d65-f2f4-cb2dc8df5f68"
      },
      "outputs": [
        {
          "output_type": "execute_result",
          "data": {
            "text/plain": [
              "  2 \n",
              "-π  \n",
              "────\n",
              " 6  "
            ],
            "image/png": "[encoded data removed]",
            "text/latex": "$\\displaystyle - \\frac{\\pi^{2}}{6}$"
          },
          "metadata": {},
          "execution_count": 109
        }
      ],
      "source": [
        "integrate(log(x)/(1-x),(x,0,1))"
      ]
    },
    {
      "cell_type": "markdown",
      "metadata": {
        "deletable": true,
        "editable": true,
        "id": "0SVXnREmvZ0f"
      },
      "source": [
        "## Суммирование рядов"
      ]
    },
    {
      "cell_type": "code",
      "execution_count": 110,
      "metadata": {
        "deletable": true,
        "editable": true,
        "colab": {
          "base_uri": "https://localhost:8080/",
          "height": 0
        },
        "id": "yhPySsxUvZ0f",
        "outputId": "5fd8309a-a947-4555-b715-364d58d58d9c"
      },
      "outputs": [
        {
          "output_type": "execute_result",
          "data": {
            "text/plain": [
              " 2\n",
              "π \n",
              "──\n",
              "6 "
            ],
            "image/png": "[encoded data removed]",
            "text/latex": "$\\displaystyle \\frac{\\pi^{2}}{6}$"
          },
          "metadata": {},
          "execution_count": 110
        }
      ],
      "source": [
        "summation(1/n**2,(n,1,oo))"
      ]
    },
    {
      "cell_type": "code",
      "execution_count": 111,
      "metadata": {
        "deletable": true,
        "editable": true,
        "colab": {
          "base_uri": "https://localhost:8080/",
          "height": 0
        },
        "id": "MDIZw9cUvZ0g",
        "outputId": "d7e3ff98-f78f-4d66-8141-e20e3a2c7742"
      },
      "outputs": [
        {
          "output_type": "execute_result",
          "data": {
            "text/plain": [
              "  2 \n",
              "-π  \n",
              "────\n",
              " 12 "
            ],
            "image/png": "[encoded data removed]",
            "text/latex": "$\\displaystyle - \\frac{\\pi^{2}}{12}$"
          },
          "metadata": {},
          "execution_count": 111
        }
      ],
      "source": [
        "summation((-1)**n/n**2,(n,1,oo))"
      ]
    },
    {
      "cell_type": "code",
      "execution_count": 112,
      "metadata": {
        "deletable": true,
        "editable": true,
        "colab": {
          "base_uri": "https://localhost:8080/",
          "height": 0
        },
        "id": "sK7hasWOvZ0g",
        "outputId": "69fccf62-798d-4f9a-e960-9e6e8e749218"
      },
      "outputs": [
        {
          "output_type": "execute_result",
          "data": {
            "text/plain": [
              " 4\n",
              "π \n",
              "──\n",
              "90"
            ],
            "image/png": "[encoded data removed]",
            "text/latex": "$\\displaystyle \\frac{\\pi^{4}}{90}$"
          },
          "metadata": {},
          "execution_count": 112
        }
      ],
      "source": [
        "summation(1/n**4,(n,1,oo))"
      ]
    },
    {
      "cell_type": "markdown",
      "metadata": {
        "deletable": true,
        "editable": true,
        "id": "IXuYqA52vZ0g"
      },
      "source": [
        "Невычисленная сумма обозначается `Sum`."
      ]
    },
    {
      "cell_type": "code",
      "execution_count": 113,
      "metadata": {
        "deletable": true,
        "editable": true,
        "colab": {
          "base_uri": "https://localhost:8080/",
          "height": 0
        },
        "id": "_wJr15-svZ0g",
        "outputId": "4b3977ac-f6cd-4850-8b41-61be53fc10bc"
      },
      "outputs": [
        {
          "output_type": "execute_result",
          "data": {
            "text/plain": [
              "  ∞          \n",
              " ____        \n",
              " ╲           \n",
              "  ╲    n     \n",
              "   ╲  x     x\n",
              "   ╱  ── = ℯ \n",
              "  ╱   n!     \n",
              " ╱           \n",
              " ‾‾‾‾        \n",
              "n = 0        "
            ],
            "image/png": "[encoded data removed]",
            "text/latex": "$\\displaystyle \\sum_{n=0}^{\\infty} \\frac{x^{n}}{n!} = e^{x}$"
          },
          "metadata": {},
          "execution_count": 113
        }
      ],
      "source": [
        "a=Sum(x**n/factorial(n),(n,0,oo))\n",
        "Eq(a,a.doit())"
      ]
    },
    {
      "cell_type": "markdown",
      "metadata": {
        "deletable": true,
        "editable": true,
        "id": "QAl36duNvZ0g"
      },
      "source": [
        "## Пределы"
      ]
    },
    {
      "cell_type": "code",
      "execution_count": 114,
      "metadata": {
        "deletable": true,
        "editable": true,
        "colab": {
          "base_uri": "https://localhost:8080/",
          "height": 0
        },
        "id": "0AV-nZ74vZ0g",
        "outputId": "12b261e3-5b95-4637-8a3a-3db808bafaf3"
      },
      "outputs": [
        {
          "output_type": "execute_result",
          "data": {
            "text/plain": [
              "1/30"
            ],
            "image/png": "[encoded data removed]",
            "text/latex": "$\\displaystyle \\frac{1}{30}$"
          },
          "metadata": {},
          "execution_count": 114
        }
      ],
      "source": [
        "limit((tan(sin(x))-sin(tan(x)))/x**7,x,0)"
      ]
    },
    {
      "cell_type": "markdown",
      "metadata": {
        "deletable": true,
        "editable": true,
        "id": "t-yOF17LvZ0g"
      },
      "source": [
        "Ну это простой предел, считается разложением числителя и знаменателя в ряды. А вот если в $x=0$ существенно особая точка, дело сложнее. Посчитаем односторонние пределы."
      ]
    },
    {
      "cell_type": "code",
      "execution_count": 115,
      "metadata": {
        "deletable": true,
        "editable": true,
        "colab": {
          "base_uri": "https://localhost:8080/",
          "height": 0
        },
        "id": "C8Jy5MU-vZ0h",
        "outputId": "76b25581-bf3a-41df-bc92-df35c1d34551"
      },
      "outputs": [
        {
          "output_type": "execute_result",
          "data": {
            "text/plain": [
              "1/30"
            ],
            "image/png": "[encoded data removed]",
            "text/latex": "$\\displaystyle \\frac{1}{30}$"
          },
          "metadata": {},
          "execution_count": 115
        }
      ],
      "source": [
        "limit((tan(sin(x))-sin(tan(x)))/(x**7+exp(-1/x)),x,0,'+')"
      ]
    },
    {
      "cell_type": "code",
      "execution_count": 116,
      "metadata": {
        "deletable": true,
        "editable": true,
        "colab": {
          "base_uri": "https://localhost:8080/",
          "height": 0
        },
        "id": "w_mIuxAMvZ0h",
        "outputId": "7b8c943c-cba8-4998-cdae-793c6e903fcc"
      },
      "outputs": [
        {
          "output_type": "execute_result",
          "data": {
            "text/plain": [
              "0"
            ],
            "image/png": "[encoded data removed]",
            "text/latex": "$\\displaystyle 0$"
          },
          "metadata": {},
          "execution_count": 116
        }
      ],
      "source": [
        "limit((tan(sin(x))-sin(tan(x)))/(x**7+exp(-1/x)),x,0,'-')"
      ]
    },
    {
      "cell_type": "markdown",
      "metadata": {
        "deletable": true,
        "editable": true,
        "id": "hXPaBjOYvZ0h"
      },
      "source": [
        "## Дифференциальные уравнения"
      ]
    },
    {
      "cell_type": "code",
      "execution_count": 117,
      "metadata": {
        "deletable": true,
        "editable": true,
        "id": "LECKuSy_vZ0h"
      },
      "outputs": [],
      "source": [
        "t=Symbol('t')\n",
        "x=Function('x')\n",
        "p=Function('p')"
      ]
    },
    {
      "cell_type": "markdown",
      "metadata": {
        "deletable": true,
        "editable": true,
        "id": "2xZhlqKivZ0h"
      },
      "source": [
        "Первого порядка."
      ]
    },
    {
      "cell_type": "code",
      "execution_count": 118,
      "metadata": {
        "deletable": true,
        "editable": true,
        "colab": {
          "base_uri": "https://localhost:8080/",
          "height": 39
        },
        "id": "p9b0xsDXvZ0h",
        "outputId": "d019dfe0-80b1-416b-b683-22021f1d6441"
      },
      "outputs": [
        {
          "output_type": "execute_result",
          "data": {
            "text/plain": [
              "           -t\n",
              "x(t) = C₁⋅ℯ  "
            ],
            "image/png": "[encoded data removed]",
            "text/latex": "$\\displaystyle x{\\left(t \\right)} = C_{1} e^{- t}$"
          },
          "metadata": {},
          "execution_count": 118
        }
      ],
      "source": [
        "dsolve(diff(x(t),t)+x(t),x(t))"
      ]
    },
    {
      "cell_type": "markdown",
      "metadata": {
        "deletable": true,
        "editable": true,
        "id": "ziDvW9tLvZ0h"
      },
      "source": [
        "Второго порядка."
      ]
    },
    {
      "cell_type": "code",
      "execution_count": 119,
      "metadata": {
        "deletable": true,
        "editable": true,
        "colab": {
          "base_uri": "https://localhost:8080/",
          "height": 39
        },
        "id": "754Lhd5kvZ0i",
        "outputId": "b5aa6e94-bfac-457c-c319-3798f11bd83e"
      },
      "outputs": [
        {
          "output_type": "execute_result",
          "data": {
            "text/plain": [
              "x(t) = C₁⋅sin(t) + C₂⋅cos(t)"
            ],
            "image/png": "[encoded data removed]",
            "text/latex": "$\\displaystyle x{\\left(t \\right)} = C_{1} \\sin{\\left(t \\right)} + C_{2} \\cos{\\left(t \\right)}$"
          },
          "metadata": {},
          "execution_count": 119
        }
      ],
      "source": [
        "dsolve(diff(x(t),t,2)+x(t),x(t))"
      ]
    },
    {
      "cell_type": "markdown",
      "metadata": {
        "deletable": true,
        "editable": true,
        "id": "XHNvO0UCvZ0j"
      },
      "source": [
        "Система уравнений первого порядка."
      ]
    },
    {
      "cell_type": "code",
      "execution_count": 120,
      "metadata": {
        "deletable": true,
        "editable": true,
        "colab": {
          "base_uri": "https://localhost:8080/",
          "height": 39
        },
        "id": "zIvAa6GuvZ0j",
        "outputId": "dfc5061c-5026-44ff-ed25-6e8df0c7994d"
      },
      "outputs": [
        {
          "output_type": "execute_result",
          "data": {
            "text/plain": [
              "[x(t) = C₁⋅sin(t) + C₂⋅cos(t), p(t) = C₁⋅cos(t) - C₂⋅sin(t)]"
            ],
            "image/png": "[encoded data removed]",
            "text/latex": "$\\displaystyle \\left[ x{\\left(t \\right)} = C_{1} \\sin{\\left(t \\right)} + C_{2} \\cos{\\left(t \\right)}, \\  p{\\left(t \\right)} = C_{1} \\cos{\\left(t \\right)} - C_{2} \\sin{\\left(t \\right)}\\right]$"
          },
          "metadata": {},
          "execution_count": 120
        }
      ],
      "source": [
        "dsolve((diff(x(t),t)-p(t),diff(p(t),t)+x(t)))"
      ]
    },
    {
      "cell_type": "markdown",
      "metadata": {
        "deletable": true,
        "editable": true,
        "id": "X2HseuCfvZ0j"
      },
      "source": [
        "## Линейная алгебра"
      ]
    },
    {
      "cell_type": "code",
      "execution_count": 121,
      "metadata": {
        "collapsed": true,
        "deletable": true,
        "editable": true,
        "id": "aFz9mAcCvZ0j"
      },
      "outputs": [],
      "source": [
        "a,b,c,d,e,f=symbols('a b c d e f')"
      ]
    },
    {
      "cell_type": "markdown",
      "metadata": {
        "deletable": true,
        "editable": true,
        "id": "zxZYXYDKvZ0j"
      },
      "source": [
        "Матрицу можно построить из списка списков."
      ]
    },
    {
      "cell_type": "code",
      "execution_count": 122,
      "metadata": {
        "deletable": true,
        "editable": true,
        "colab": {
          "base_uri": "https://localhost:8080/",
          "height": 0
        },
        "id": "Q6nSnlRnvZ0k",
        "outputId": "b9c63101-ff5b-437e-c2f6-57411c1a010b"
      },
      "outputs": [
        {
          "output_type": "execute_result",
          "data": {
            "text/plain": [
              "⎡a  b  c⎤\n",
              "⎢       ⎥\n",
              "⎣d  e  f⎦"
            ],
            "text/latex": "$\\displaystyle \\left[\\begin{matrix}a & b & c\\\\d & e & f\\end{matrix}\\right]$"
          },
          "metadata": {},
          "execution_count": 122
        }
      ],
      "source": [
        "M=Matrix([[a,b,c],[d,e,f]])\n",
        "M"
      ]
    },
    {
      "cell_type": "code",
      "execution_count": 123,
      "metadata": {
        "deletable": true,
        "editable": true,
        "colab": {
          "base_uri": "https://localhost:8080/",
          "height": 0
        },
        "id": "up5MGIP_vZ0k",
        "outputId": "1f5afeb9-b683-4c7c-d3c2-32effffef188"
      },
      "outputs": [
        {
          "output_type": "execute_result",
          "data": {
            "text/plain": [
              "(2, 3)"
            ],
            "image/png": "[encoded data removed]",
            "text/latex": "$\\displaystyle \\left( 2, \\  3\\right)$"
          },
          "metadata": {},
          "execution_count": 123
        }
      ],
      "source": [
        "M.shape"
      ]
    },
    {
      "cell_type": "markdown",
      "metadata": {
        "deletable": true,
        "editable": true,
        "id": "eOW5hdsYvZ0k"
      },
      "source": [
        "Матрица-строка."
      ]
    },
    {
      "cell_type": "code",
      "execution_count": 124,
      "metadata": {
        "deletable": true,
        "editable": true,
        "colab": {
          "base_uri": "https://localhost:8080/",
          "height": 0
        },
        "id": "CaSYG0_CvZ0k",
        "outputId": "76f0c90b-b367-4294-871d-31e9cb2f0cc5"
      },
      "outputs": [
        {
          "output_type": "execute_result",
          "data": {
            "text/plain": [
              "[1  2  3]"
            ],
            "text/latex": "$\\displaystyle \\left[\\begin{matrix}1 & 2 & 3\\end{matrix}\\right]$"
          },
          "metadata": {},
          "execution_count": 124
        }
      ],
      "source": [
        "Matrix([[1,2,3]])"
      ]
    },
    {
      "cell_type": "markdown",
      "metadata": {
        "deletable": true,
        "editable": true,
        "id": "ojlQM9LavZ0k"
      },
      "source": [
        "Матрица-столбец."
      ]
    },
    {
      "cell_type": "code",
      "execution_count": 125,
      "metadata": {
        "deletable": true,
        "editable": true,
        "colab": {
          "base_uri": "https://localhost:8080/",
          "height": 0
        },
        "id": "2COLl62YvZ0k",
        "outputId": "da50d12a-f517-4e15-f6b7-537c188afec0"
      },
      "outputs": [
        {
          "output_type": "execute_result",
          "data": {
            "text/plain": [
              "⎡1⎤\n",
              "⎢ ⎥\n",
              "⎢2⎥\n",
              "⎢ ⎥\n",
              "⎣3⎦"
            ],
            "text/latex": "$\\displaystyle \\left[\\begin{matrix}1\\\\2\\\\3\\end{matrix}\\right]$"
          },
          "metadata": {},
          "execution_count": 125
        }
      ],
      "source": [
        "Matrix([1,2,3])"
      ]
    },
    {
      "cell_type": "markdown",
      "metadata": {
        "deletable": true,
        "editable": true,
        "id": "xNn73gAavZ0k"
      },
      "source": [
        "Можно построить матрицу из функции."
      ]
    },
    {
      "cell_type": "code",
      "execution_count": 126,
      "metadata": {
        "deletable": true,
        "editable": true,
        "colab": {
          "base_uri": "https://localhost:8080/",
          "height": 0
        },
        "id": "6IY-jzjCvZ0l",
        "outputId": "4012cbfe-190c-467f-80d5-2995fb0a8118"
      },
      "outputs": [
        {
          "output_type": "execute_result",
          "data": {
            "text/plain": [
              "⎡ 1   1/2  1/3⎤\n",
              "⎢             ⎥\n",
              "⎢1/2  1/3  1/4⎥\n",
              "⎢             ⎥\n",
              "⎣1/3  1/4  1/5⎦"
            ],
            "text/latex": "$\\displaystyle \\left[\\begin{matrix}1 & \\frac{1}{2} & \\frac{1}{3}\\\\\\frac{1}{2} & \\frac{1}{3} & \\frac{1}{4}\\\\\\frac{1}{3} & \\frac{1}{4} & \\frac{1}{5}\\end{matrix}\\right]$"
          },
          "metadata": {},
          "execution_count": 126
        }
      ],
      "source": [
        "def g(i,j):\n",
        "    return Rational(1,i+j+1)\n",
        "Matrix(3,3,g)"
      ]
    },
    {
      "cell_type": "markdown",
      "metadata": {
        "collapsed": false,
        "deletable": true,
        "editable": true,
        "id": "lYYhwu51vZ0l"
      },
      "source": [
        "Или из неопределённой функции."
      ]
    },
    {
      "cell_type": "code",
      "execution_count": 127,
      "metadata": {
        "deletable": true,
        "editable": true,
        "colab": {
          "base_uri": "https://localhost:8080/",
          "height": 0
        },
        "id": "5OplEh0QvZ0l",
        "outputId": "fcc39b3c-bd86-4b4a-d4cd-efd4876aae7f"
      },
      "outputs": [
        {
          "output_type": "execute_result",
          "data": {
            "text/plain": [
              "⎡g(0, 0)  g(0, 1)  g(0, 2)⎤\n",
              "⎢                         ⎥\n",
              "⎢g(1, 0)  g(1, 1)  g(1, 2)⎥\n",
              "⎢                         ⎥\n",
              "⎣g(2, 0)  g(2, 1)  g(2, 2)⎦"
            ],
            "text/latex": "$\\displaystyle \\left[\\begin{matrix}g{\\left(0,0 \\right)} & g{\\left(0,1 \\right)} & g{\\left(0,2 \\right)}\\\\g{\\left(1,0 \\right)} & g{\\left(1,1 \\right)} & g{\\left(1,2 \\right)}\\\\g{\\left(2,0 \\right)} & g{\\left(2,1 \\right)} & g{\\left(2,2 \\right)}\\end{matrix}\\right]$"
          },
          "metadata": {},
          "execution_count": 127
        }
      ],
      "source": [
        "g=Function('g')\n",
        "M=Matrix(3,3,g)\n",
        "M"
      ]
    },
    {
      "cell_type": "code",
      "execution_count": 128,
      "metadata": {
        "deletable": true,
        "editable": true,
        "colab": {
          "base_uri": "https://localhost:8080/",
          "height": 0
        },
        "id": "1ZP7MB6DvZ0l",
        "outputId": "93252fde-02b3-4a3d-919e-e4de269d935a"
      },
      "outputs": [
        {
          "output_type": "execute_result",
          "data": {
            "text/plain": [
              "g(1, 2)"
            ],
            "image/png": "[encoded data removed]",
            "text/latex": "$\\displaystyle g{\\left(1,2 \\right)}$"
          },
          "metadata": {},
          "execution_count": 128
        }
      ],
      "source": [
        "M[1,2]"
      ]
    },
    {
      "cell_type": "code",
      "execution_count": 129,
      "metadata": {
        "deletable": true,
        "editable": true,
        "colab": {
          "base_uri": "https://localhost:8080/",
          "height": 0
        },
        "id": "cn9UfeC8vZ0l",
        "outputId": "ec17a24a-b0df-4364-c342-aa246db16561"
      },
      "outputs": [
        {
          "output_type": "execute_result",
          "data": {
            "text/plain": [
              "⎡g(0, 0)  g(0, 1)  g(0, 2)⎤\n",
              "⎢                         ⎥\n",
              "⎢g(1, 0)  g(1, 1)     0   ⎥\n",
              "⎢                         ⎥\n",
              "⎣g(2, 0)  g(2, 1)  g(2, 2)⎦"
            ],
            "text/latex": "$\\displaystyle \\left[\\begin{matrix}g{\\left(0,0 \\right)} & g{\\left(0,1 \\right)} & g{\\left(0,2 \\right)}\\\\g{\\left(1,0 \\right)} & g{\\left(1,1 \\right)} & 0\\\\g{\\left(2,0 \\right)} & g{\\left(2,1 \\right)} & g{\\left(2,2 \\right)}\\end{matrix}\\right]$"
          },
          "metadata": {},
          "execution_count": 129
        }
      ],
      "source": [
        "M[1,2]=0\n",
        "M"
      ]
    },
    {
      "cell_type": "code",
      "execution_count": 130,
      "metadata": {
        "deletable": true,
        "editable": true,
        "colab": {
          "base_uri": "https://localhost:8080/",
          "height": 0
        },
        "id": "M3x2f0euvZ0l",
        "outputId": "8685fa4d-1760-4f69-8fc8-27912ac38a4c"
      },
      "outputs": [
        {
          "output_type": "execute_result",
          "data": {
            "text/plain": [
              "[g(2, 0)  g(2, 1)  g(2, 2)]"
            ],
            "text/latex": "$\\displaystyle \\left[\\begin{matrix}g{\\left(2,0 \\right)} & g{\\left(2,1 \\right)} & g{\\left(2,2 \\right)}\\end{matrix}\\right]$"
          },
          "metadata": {},
          "execution_count": 130
        }
      ],
      "source": [
        "M[2,:]"
      ]
    },
    {
      "cell_type": "code",
      "execution_count": 131,
      "metadata": {
        "deletable": true,
        "editable": true,
        "colab": {
          "base_uri": "https://localhost:8080/",
          "height": 0
        },
        "id": "K-3Akjk3vZ0l",
        "outputId": "52676b87-9f5b-4c24-dd52-36411aab0900"
      },
      "outputs": [
        {
          "output_type": "execute_result",
          "data": {
            "text/plain": [
              "⎡g(0, 1)⎤\n",
              "⎢       ⎥\n",
              "⎢g(1, 1)⎥\n",
              "⎢       ⎥\n",
              "⎣g(2, 1)⎦"
            ],
            "text/latex": "$\\displaystyle \\left[\\begin{matrix}g{\\left(0,1 \\right)}\\\\g{\\left(1,1 \\right)}\\\\g{\\left(2,1 \\right)}\\end{matrix}\\right]$"
          },
          "metadata": {},
          "execution_count": 131
        }
      ],
      "source": [
        "M[:,1]"
      ]
    },
    {
      "cell_type": "code",
      "execution_count": 132,
      "metadata": {
        "deletable": true,
        "editable": true,
        "colab": {
          "base_uri": "https://localhost:8080/",
          "height": 0
        },
        "id": "V50qGTkpvZ0m",
        "outputId": "754e9364-0301-4d89-aa2f-5fbc8b6e23ad"
      },
      "outputs": [
        {
          "output_type": "execute_result",
          "data": {
            "text/plain": [
              "⎡g(0, 1)  g(0, 2)⎤\n",
              "⎢                ⎥\n",
              "⎣g(1, 1)     0   ⎦"
            ],
            "text/latex": "$\\displaystyle \\left[\\begin{matrix}g{\\left(0,1 \\right)} & g{\\left(0,2 \\right)}\\\\g{\\left(1,1 \\right)} & 0\\end{matrix}\\right]$"
          },
          "metadata": {},
          "execution_count": 132
        }
      ],
      "source": [
        "M[0:2,1:3]"
      ]
    },
    {
      "cell_type": "markdown",
      "metadata": {
        "collapsed": false,
        "deletable": true,
        "editable": true,
        "id": "rjy_lB0EvZ0m"
      },
      "source": [
        "Единичная матрица."
      ]
    },
    {
      "cell_type": "code",
      "execution_count": 133,
      "metadata": {
        "deletable": true,
        "editable": true,
        "colab": {
          "base_uri": "https://localhost:8080/",
          "height": 0
        },
        "id": "-QvGCWmgvZ0m",
        "outputId": "3ec1acdb-8aac-4e8a-fc60-b8e66204a293"
      },
      "outputs": [
        {
          "output_type": "execute_result",
          "data": {
            "text/plain": [
              "⎡1  0  0⎤\n",
              "⎢       ⎥\n",
              "⎢0  1  0⎥\n",
              "⎢       ⎥\n",
              "⎣0  0  1⎦"
            ],
            "text/latex": "$\\displaystyle \\left[\\begin{matrix}1 & 0 & 0\\\\0 & 1 & 0\\\\0 & 0 & 1\\end{matrix}\\right]$"
          },
          "metadata": {},
          "execution_count": 133
        }
      ],
      "source": [
        "eye(3)"
      ]
    },
    {
      "cell_type": "markdown",
      "metadata": {
        "deletable": true,
        "editable": true,
        "id": "zpYbZ9aRvZ0m"
      },
      "source": [
        "Матрица из нулей."
      ]
    },
    {
      "cell_type": "code",
      "execution_count": 134,
      "metadata": {
        "deletable": true,
        "editable": true,
        "colab": {
          "base_uri": "https://localhost:8080/",
          "height": 0
        },
        "id": "9mw39_RVvZ0m",
        "outputId": "0ec59174-a66c-4bbb-de3c-4fa8f1c4613f"
      },
      "outputs": [
        {
          "output_type": "execute_result",
          "data": {
            "text/plain": [
              "⎡0  0  0⎤\n",
              "⎢       ⎥\n",
              "⎢0  0  0⎥\n",
              "⎢       ⎥\n",
              "⎣0  0  0⎦"
            ],
            "text/latex": "$\\displaystyle \\left[\\begin{matrix}0 & 0 & 0\\\\0 & 0 & 0\\\\0 & 0 & 0\\end{matrix}\\right]$"
          },
          "metadata": {},
          "execution_count": 134
        }
      ],
      "source": [
        "zeros(3)"
      ]
    },
    {
      "cell_type": "code",
      "execution_count": 135,
      "metadata": {
        "deletable": true,
        "editable": true,
        "colab": {
          "base_uri": "https://localhost:8080/",
          "height": 0
        },
        "id": "WeHMXFYAvZ0m",
        "outputId": "f5904860-a8a6-4078-f428-d4a389a5c11d"
      },
      "outputs": [
        {
          "output_type": "execute_result",
          "data": {
            "text/plain": [
              "⎡0  0  0⎤\n",
              "⎢       ⎥\n",
              "⎣0  0  0⎦"
            ],
            "text/latex": "$\\displaystyle \\left[\\begin{matrix}0 & 0 & 0\\\\0 & 0 & 0\\end{matrix}\\right]$"
          },
          "metadata": {},
          "execution_count": 135
        }
      ],
      "source": [
        "zeros(2,3)"
      ]
    },
    {
      "cell_type": "markdown",
      "metadata": {
        "deletable": true,
        "editable": true,
        "id": "oa4-_PiZvZ0m"
      },
      "source": [
        "Диагональная матрица."
      ]
    },
    {
      "cell_type": "code",
      "execution_count": 136,
      "metadata": {
        "deletable": true,
        "editable": true,
        "colab": {
          "base_uri": "https://localhost:8080/",
          "height": 0
        },
        "id": "INf-msYNvZ0m",
        "outputId": "c03d6620-9263-48b7-b0cb-a6554534135c"
      },
      "outputs": [
        {
          "output_type": "execute_result",
          "data": {
            "text/plain": [
              "⎡1  0  0⎤\n",
              "⎢       ⎥\n",
              "⎢0  2  0⎥\n",
              "⎢       ⎥\n",
              "⎣0  0  3⎦"
            ],
            "text/latex": "$\\displaystyle \\left[\\begin{matrix}1 & 0 & 0\\\\0 & 2 & 0\\\\0 & 0 & 3\\end{matrix}\\right]$"
          },
          "metadata": {},
          "execution_count": 136
        }
      ],
      "source": [
        "diag(1,2,3)"
      ]
    },
    {
      "cell_type": "code",
      "execution_count": 137,
      "metadata": {
        "deletable": true,
        "editable": true,
        "colab": {
          "base_uri": "https://localhost:8080/",
          "height": 0
        },
        "id": "f5RCpyFlvZ0n",
        "outputId": "e3ed17b0-c753-4208-e8c4-93e52719d36e"
      },
      "outputs": [
        {
          "output_type": "execute_result",
          "data": {
            "text/plain": [
              "⎡1  0  0  0⎤\n",
              "⎢          ⎥\n",
              "⎢0  a  1  0⎥\n",
              "⎢          ⎥\n",
              "⎢0  0  a  0⎥\n",
              "⎢          ⎥\n",
              "⎣0  0  0  2⎦"
            ],
            "text/latex": "$\\displaystyle \\left[\\begin{matrix}1 & 0 & 0 & 0\\\\0 & a & 1 & 0\\\\0 & 0 & a & 0\\\\0 & 0 & 0 & 2\\end{matrix}\\right]$"
          },
          "metadata": {},
          "execution_count": 137
        }
      ],
      "source": [
        "M=Matrix([[a,1],[0,a]])\n",
        "diag(1,M,2)"
      ]
    },
    {
      "cell_type": "markdown",
      "metadata": {
        "deletable": true,
        "editable": true,
        "id": "LT9Y8ZirvZ0n"
      },
      "source": [
        "Операции с матрицами."
      ]
    },
    {
      "cell_type": "code",
      "execution_count": 138,
      "metadata": {
        "deletable": true,
        "editable": true,
        "colab": {
          "base_uri": "https://localhost:8080/",
          "height": 0
        },
        "id": "AKoIDy3fvZ0n",
        "outputId": "c56f430e-fedd-4149-d4d8-aa61515270dd"
      },
      "outputs": [
        {
          "output_type": "execute_result",
          "data": {
            "text/plain": [
              "⎡a + 1  b + 2⎤\n",
              "⎢            ⎥\n",
              "⎣c + 3  d + 4⎦"
            ],
            "text/latex": "$\\displaystyle \\left[\\begin{matrix}a + 1 & b + 2\\\\c + 3 & d + 4\\end{matrix}\\right]$"
          },
          "metadata": {},
          "execution_count": 138
        }
      ],
      "source": [
        "A=Matrix([[a,b],[c,d]])\n",
        "B=Matrix([[1,2],[3,4]])\n",
        "A+B"
      ]
    },
    {
      "cell_type": "code",
      "execution_count": 139,
      "metadata": {
        "deletable": true,
        "editable": true,
        "colab": {
          "base_uri": "https://localhost:8080/",
          "height": 0
        },
        "id": "HPtlHo4uvZ0n",
        "outputId": "73b21e67-fb13-4e88-bb27-21709dc223e3"
      },
      "outputs": [
        {
          "output_type": "execute_result",
          "data": {
            "text/plain": [
              "⎛⎡a + 3⋅b  2⋅a + 4⋅b⎤  ⎡ a + 2⋅c    b + 2⋅d ⎤⎞\n",
              "⎜⎢                  ⎥, ⎢                    ⎥⎟\n",
              "⎝⎣c + 3⋅d  2⋅c + 4⋅d⎦  ⎣3⋅a + 4⋅c  3⋅b + 4⋅d⎦⎠"
            ],
            "text/latex": "$\\displaystyle \\left( \\left[\\begin{matrix}a + 3 b & 2 a + 4 b\\\\c + 3 d & 2 c + 4 d\\end{matrix}\\right], \\  \\left[\\begin{matrix}a + 2 c & b + 2 d\\\\3 a + 4 c & 3 b + 4 d\\end{matrix}\\right]\\right)$"
          },
          "metadata": {},
          "execution_count": 139
        }
      ],
      "source": [
        "A*B,B*A"
      ]
    },
    {
      "cell_type": "code",
      "execution_count": 140,
      "metadata": {
        "deletable": true,
        "editable": true,
        "colab": {
          "base_uri": "https://localhost:8080/",
          "height": 0
        },
        "id": "taefzUw6vZ0n",
        "outputId": "26745d2c-f9cd-4d4b-9d4e-c6c1850b1a94"
      },
      "outputs": [
        {
          "output_type": "execute_result",
          "data": {
            "text/plain": [
              "⎡   3⋅b - 2⋅c      2⋅a + 3⋅b - 2⋅d⎤\n",
              "⎢                                 ⎥\n",
              "⎣-3⋅a - 3⋅c + 3⋅d    -3⋅b + 2⋅c   ⎦"
            ],
            "text/latex": "$\\displaystyle \\left[\\begin{matrix}3 b - 2 c & 2 a + 3 b - 2 d\\\\- 3 a - 3 c + 3 d & - 3 b + 2 c\\end{matrix}\\right]$"
          },
          "metadata": {},
          "execution_count": 140
        }
      ],
      "source": [
        "A*B-B*A"
      ]
    },
    {
      "cell_type": "code",
      "execution_count": 141,
      "metadata": {
        "deletable": true,
        "editable": true,
        "colab": {
          "base_uri": "https://localhost:8080/",
          "height": 0
        },
        "id": "xG0mqQiAvZ0n",
        "outputId": "238d680d-b613-4795-9803-29c30a990536"
      },
      "outputs": [
        {
          "output_type": "execute_result",
          "data": {
            "text/plain": [
              "⎡    d         -b    ⎤\n",
              "⎢─────────  ─────────⎥\n",
              "⎢a⋅d - b⋅c  a⋅d - b⋅c⎥\n",
              "⎢                    ⎥\n",
              "⎢   -c          a    ⎥\n",
              "⎢─────────  ─────────⎥\n",
              "⎣a⋅d - b⋅c  a⋅d - b⋅c⎦"
            ],
            "text/latex": "$\\displaystyle \\left[\\begin{matrix}\\frac{d}{a d - b c} & - \\frac{b}{a d - b c}\\\\- \\frac{c}{a d - b c} & \\frac{a}{a d - b c}\\end{matrix}\\right]$"
          },
          "metadata": {},
          "execution_count": 141
        }
      ],
      "source": [
        "simplify(A**(-1))"
      ]
    },
    {
      "cell_type": "code",
      "execution_count": 142,
      "metadata": {
        "deletable": true,
        "editable": true,
        "colab": {
          "base_uri": "https://localhost:8080/",
          "height": 0
        },
        "id": "cE7f9v7evZ0n",
        "outputId": "c60d9f81-4440-4cb2-a480-8ba3ec6a34fe"
      },
      "outputs": [
        {
          "output_type": "execute_result",
          "data": {
            "text/plain": [
              "a⋅d - b⋅c"
            ],
            "image/png": "[encoded data removed]",
            "text/latex": "$\\displaystyle a d - b c$"
          },
          "metadata": {},
          "execution_count": 142
        }
      ],
      "source": [
        "det(A)"
      ]
    },
    {
      "cell_type": "markdown",
      "metadata": {
        "deletable": true,
        "editable": true,
        "id": "pxfU3YYFvZ0o"
      },
      "source": [
        "### Собственные значения и векторы"
      ]
    },
    {
      "cell_type": "code",
      "execution_count": 143,
      "metadata": {
        "collapsed": true,
        "deletable": true,
        "editable": true,
        "id": "7SxNHBuhvZ0o"
      },
      "outputs": [],
      "source": [
        "x=Symbol('x',real=True)"
      ]
    },
    {
      "cell_type": "code",
      "execution_count": 144,
      "metadata": {
        "deletable": true,
        "editable": true,
        "colab": {
          "base_uri": "https://localhost:8080/",
          "height": 0
        },
        "id": "4H8xApHQvZ0o",
        "outputId": "cd71888a-66ea-4df9-f17f-b2204638d76d"
      },
      "outputs": [
        {
          "output_type": "execute_result",
          "data": {
            "text/plain": [
              "⎡        3                  ⎛     2⎞             ⎛   2    ⎞⎤\n",
              "⎢ (1 - x) ⋅(x + 3)      4⋅x⋅⎝1 - x ⎠     (3 - x)⋅⎝2⋅x  - 2⎠⎥\n",
              "⎢                                                          ⎥\n",
              "⎢       ⎛     2⎞                     3   ⎛       2⎞        ⎥\n",
              "⎢   4⋅x⋅⎝1 - x ⎠     -(3 - x)⋅(x + 1)    ⎝2 - 2⋅x ⎠⋅(x + 3)⎥\n",
              "⎢                                                          ⎥\n",
              "⎢        ⎛   2    ⎞  ⎛       2⎞                            ⎥\n",
              "⎣(3 - x)⋅⎝2⋅x  - 2⎠  ⎝2 - 2⋅x ⎠⋅(x + 3)         16⋅x       ⎦"
            ],
            "text/latex": "$\\displaystyle \\left[\\begin{matrix}\\left(1 - x\\right)^{3} \\left(x + 3\\right) & 4 x \\left(1 - x^{2}\\right) & \\left(3 - x\\right) \\left(2 x^{2} - 2\\right)\\\\4 x \\left(1 - x^{2}\\right) & - \\left(3 - x\\right) \\left(x + 1\\right)^{3} & \\left(2 - 2 x^{2}\\right) \\left(x + 3\\right)\\\\\\left(3 - x\\right) \\left(2 x^{2} - 2\\right) & \\left(2 - 2 x^{2}\\right) \\left(x + 3\\right) & 16 x\\end{matrix}\\right]$"
          },
          "metadata": {},
          "execution_count": 144
        }
      ],
      "source": [
        "M=Matrix([[(1-x)**3*(3+x),4*x*(1-x**2),-2*(1-x**2)*(3-x)],\n",
        "          [4*x*(1-x**2),-(1+x)**3*(3-x),2*(1-x**2)*(3+x)],\n",
        "          [-2*(1-x**2)*(3-x),2*(1-x**2)*(3+x),16*x]])\n",
        "M"
      ]
    },
    {
      "cell_type": "code",
      "execution_count": 145,
      "metadata": {
        "deletable": true,
        "editable": true,
        "colab": {
          "base_uri": "https://localhost:8080/",
          "height": 0
        },
        "id": "o-FQD4G1vZ0o",
        "outputId": "11b912e4-8945-4e17-fdf2-b7b95baeb8eb"
      },
      "outputs": [
        {
          "output_type": "execute_result",
          "data": {
            "text/plain": [
              "0"
            ],
            "image/png": "[encoded data removed]",
            "text/latex": "$\\displaystyle 0$"
          },
          "metadata": {},
          "execution_count": 145
        }
      ],
      "source": [
        "det(M)"
      ]
    },
    {
      "cell_type": "markdown",
      "metadata": {
        "deletable": true,
        "editable": true,
        "id": "K9n1ZVV0vZ0o"
      },
      "source": [
        "Значит, у этой матрицы есть нулевое подпространство (она обращает векторы из этого подпространства в 0). Базис этого подпространства."
      ]
    },
    {
      "cell_type": "code",
      "execution_count": 146,
      "metadata": {
        "deletable": true,
        "editable": true,
        "colab": {
          "base_uri": "https://localhost:8080/",
          "height": 0
        },
        "id": "kWySv4qsvZ0o",
        "outputId": "6b0bee00-c2cd-4b3f-f8c8-efc021962ea4"
      },
      "outputs": [
        {
          "output_type": "execute_result",
          "data": {
            "text/plain": [
              "1"
            ],
            "image/png": "[encoded data removed]",
            "text/latex": "$\\displaystyle 1$"
          },
          "metadata": {},
          "execution_count": 146
        }
      ],
      "source": [
        "v=M.nullspace()\n",
        "len(v)"
      ]
    },
    {
      "cell_type": "markdown",
      "metadata": {
        "deletable": true,
        "editable": true,
        "id": "6O8G1cXlvZ0p"
      },
      "source": [
        "Оно одномерно."
      ]
    },
    {
      "cell_type": "code",
      "execution_count": 147,
      "metadata": {
        "deletable": true,
        "editable": true,
        "colab": {
          "base_uri": "https://localhost:8080/",
          "height": 0
        },
        "id": "uCH5KYgwvZ0p",
        "outputId": "395589fc-b41e-4616-84f2-4d5c0276e690"
      },
      "outputs": [
        {
          "output_type": "execute_result",
          "data": {
            "text/plain": [
              "⎡ -2  ⎤\n",
              "⎢─────⎥\n",
              "⎢x - 1⎥\n",
              "⎢     ⎥\n",
              "⎢  2  ⎥\n",
              "⎢─────⎥\n",
              "⎢x + 1⎥\n",
              "⎢     ⎥\n",
              "⎣  1  ⎦"
            ],
            "text/latex": "$\\displaystyle \\left[\\begin{matrix}- \\frac{2}{x - 1}\\\\\\frac{2}{x + 1}\\\\1\\end{matrix}\\right]$"
          },
          "metadata": {},
          "execution_count": 147
        }
      ],
      "source": [
        "v=simplify(v[0])\n",
        "v"
      ]
    },
    {
      "cell_type": "markdown",
      "metadata": {
        "deletable": true,
        "editable": true,
        "id": "x5so_QGMvZ0p"
      },
      "source": [
        "Проверим."
      ]
    },
    {
      "cell_type": "code",
      "execution_count": 148,
      "metadata": {
        "deletable": true,
        "editable": true,
        "colab": {
          "base_uri": "https://localhost:8080/",
          "height": 0
        },
        "id": "N-vMwaFkvZ0p",
        "outputId": "75869442-84a1-4604-8119-5697cf4b41cf"
      },
      "outputs": [
        {
          "output_type": "execute_result",
          "data": {
            "text/plain": [
              "⎡0⎤\n",
              "⎢ ⎥\n",
              "⎢0⎥\n",
              "⎢ ⎥\n",
              "⎣0⎦"
            ],
            "text/latex": "$\\displaystyle \\left[\\begin{matrix}0\\\\0\\\\0\\end{matrix}\\right]$"
          },
          "metadata": {},
          "execution_count": 148
        }
      ],
      "source": [
        "simplify(M*v)"
      ]
    },
    {
      "cell_type": "markdown",
      "metadata": {
        "deletable": true,
        "editable": true,
        "id": "lppbC3UbvZ0p"
      },
      "source": [
        "Собственные значения и их кратности."
      ]
    },
    {
      "cell_type": "code",
      "execution_count": 149,
      "metadata": {
        "deletable": true,
        "editable": true,
        "colab": {
          "base_uri": "https://localhost:8080/",
          "height": 0
        },
        "id": "WJbQfyZRvZ0q",
        "outputId": "b3a71d25-c262-435c-ddf6-9cc43b401e22"
      },
      "outputs": [
        {
          "output_type": "execute_result",
          "data": {
            "text/plain": [
              "⎧               2             2   ⎫\n",
              "⎨       ⎛ 2    ⎞      ⎛ 2    ⎞    ⎬\n",
              "⎩0: 1, -⎝x  + 3⎠ : 1, ⎝x  + 3⎠ : 1⎭"
            ],
            "image/png": "[encoded data removed]",
            "text/latex": "$\\displaystyle \\left\\{ 0 : 1, \\  - \\left(x^{2} + 3\\right)^{2} : 1, \\  \\left(x^{2} + 3\\right)^{2} : 1\\right\\}$"
          },
          "metadata": {},
          "execution_count": 149
        }
      ],
      "source": [
        "M.eigenvals()"
      ]
    },
    {
      "cell_type": "markdown",
      "metadata": {
        "deletable": true,
        "editable": true,
        "id": "-1Gpa64BvZ0q"
      },
      "source": [
        "Если нужны не только собственные значения, но и собственные векторы, то нужно использовать метод `eigenvects`. Он возвращает список кортежей. В каждом из них нулевой элемент - собственное значение, первый - его кратность, и последний - список собственных векторов, образующих базис (их столько, какова кратность)."
      ]
    },
    {
      "cell_type": "code",
      "execution_count": 150,
      "metadata": {
        "deletable": true,
        "editable": true,
        "colab": {
          "base_uri": "https://localhost:8080/",
          "height": 0
        },
        "id": "oDxXbQ0MvZ0q",
        "outputId": "11f07aef-41bc-453f-c0aa-51710e3a29e7"
      },
      "outputs": [
        {
          "output_type": "execute_result",
          "data": {
            "text/plain": [
              "3"
            ],
            "image/png": "[encoded data removed]",
            "text/latex": "$\\displaystyle 3$"
          },
          "metadata": {},
          "execution_count": 150
        }
      ],
      "source": [
        "v=M.eigenvects()\n",
        "len(v)"
      ]
    },
    {
      "cell_type": "code",
      "execution_count": 151,
      "metadata": {
        "deletable": true,
        "editable": true,
        "colab": {
          "base_uri": "https://localhost:8080/",
          "height": 0
        },
        "id": "MYRSGQsbvZ0q",
        "outputId": "5c4bc075-19ea-404a-abc1-3821e9f1b3cb"
      },
      "outputs": [
        {
          "output_type": "execute_result",
          "data": {
            "text/plain": [
              "⎡⎛      ⎡⎡ -2  ⎤⎤⎞  ⎛               ⎡⎡x   1⎤⎤⎞  ⎛              ⎡⎡x - 1⎤⎤⎞⎤\n",
              "⎢⎜      ⎢⎢─────⎥⎥⎟  ⎜               ⎢⎢─ + ─⎥⎥⎟  ⎜              ⎢⎢─────⎥⎥⎟⎥\n",
              "⎢⎜      ⎢⎢x - 1⎥⎥⎟  ⎜         2     ⎢⎢2   2⎥⎥⎟  ⎜        2     ⎢⎢x + 1⎥⎥⎟⎥\n",
              "⎢⎜      ⎢⎢     ⎥⎥⎟  ⎜ ⎛ 2    ⎞      ⎢⎢     ⎥⎥⎟  ⎜⎛ 2    ⎞      ⎢⎢     ⎥⎥⎟⎥\n",
              "⎢⎜0, 1, ⎢⎢  2  ⎥⎥⎟, ⎜-⎝x  + 3⎠ , 1, ⎢⎢x + 1⎥⎥⎟, ⎜⎝x  + 3⎠ , 1, ⎢⎢1   x⎥⎥⎟⎥\n",
              "⎢⎜      ⎢⎢─────⎥⎥⎟  ⎜               ⎢⎢─────⎥⎥⎟  ⎜              ⎢⎢─ - ─⎥⎥⎟⎥\n",
              "⎢⎜      ⎢⎢x + 1⎥⎥⎟  ⎜               ⎢⎢x - 1⎥⎥⎟  ⎜              ⎢⎢2   2⎥⎥⎟⎥\n",
              "⎢⎜      ⎢⎢     ⎥⎥⎟  ⎜               ⎢⎢     ⎥⎥⎟  ⎜              ⎢⎢     ⎥⎥⎟⎥\n",
              "⎣⎝      ⎣⎣  1  ⎦⎦⎠  ⎝               ⎣⎣  1  ⎦⎦⎠  ⎝              ⎣⎣  1  ⎦⎦⎠⎦"
            ],
            "text/latex": "$\\displaystyle \\left[ \\left( 0, \\  1, \\  \\left[ \\left[\\begin{matrix}- \\frac{2}{x - 1}\\\\\\frac{2}{x + 1}\\\\1\\end{matrix}\\right]\\right]\\right), \\  \\left( - \\left(x^{2} + 3\\right)^{2}, \\  1, \\  \\left[ \\left[\\begin{matrix}\\frac{x}{2} + \\frac{1}{2}\\\\\\frac{x + 1}{x - 1}\\\\1\\end{matrix}\\right]\\right]\\right), \\  \\left( \\left(x^{2} + 3\\right)^{2}, \\  1, \\  \\left[ \\left[\\begin{matrix}\\frac{x - 1}{x + 1}\\\\\\frac{1}{2} - \\frac{x}{2}\\\\1\\end{matrix}\\right]\\right]\\right)\\right]$"
          },
          "metadata": {},
          "execution_count": 151
        }
      ],
      "source": [
        "for i in range(len(v)):\n",
        "    v[i][2][0]=simplify(v[i][2][0])\n",
        "v"
      ]
    },
    {
      "cell_type": "markdown",
      "metadata": {
        "deletable": true,
        "editable": true,
        "id": "pKESXUdBvZ0q"
      },
      "source": [
        "Проверим."
      ]
    },
    {
      "cell_type": "code",
      "execution_count": 152,
      "metadata": {
        "deletable": true,
        "editable": true,
        "colab": {
          "base_uri": "https://localhost:8080/"
        },
        "id": "ECeBz2yVvZ0r",
        "outputId": "90f09c09-b594-40bb-8a52-3d030cf63700"
      },
      "outputs": [
        {
          "output_type": "stream",
          "name": "stdout",
          "text": [
            "⎡0⎤\n",
            "⎢ ⎥\n",
            "⎢0⎥\n",
            "⎢ ⎥\n",
            "⎣0⎦\n",
            "⎡0⎤\n",
            "⎢ ⎥\n",
            "⎢0⎥\n",
            "⎢ ⎥\n",
            "⎣0⎦\n",
            "⎡0⎤\n",
            "⎢ ⎥\n",
            "⎢0⎥\n",
            "⎢ ⎥\n",
            "⎣0⎦\n"
          ]
        }
      ],
      "source": [
        "for i in range(len(v)):\n",
        "    z=M*v[i][2][0]-v[i][0]*v[i][2][0]\n",
        "    pprint(simplify(z))"
      ]
    },
    {
      "cell_type": "markdown",
      "metadata": {
        "deletable": true,
        "editable": true,
        "id": "eTQ_cFURvZ0r"
      },
      "source": [
        "### Жорданова нормальная форма"
      ]
    },
    {
      "cell_type": "code",
      "execution_count": 153,
      "metadata": {
        "deletable": true,
        "editable": true,
        "colab": {
          "base_uri": "https://localhost:8080/",
          "height": 0
        },
        "id": "lAa6RtPgvZ0r",
        "outputId": "f064fb12-2673-4607-9cbc-7697b564989c"
      },
      "outputs": [
        {
          "output_type": "execute_result",
          "data": {
            "text/plain": [
              "⎡13/9   -2/9  1/3   4/9    2/3 ⎤\n",
              "⎢                              ⎥\n",
              "⎢                         -11  ⎥\n",
              "⎢-2/9   10/9  2/15  -2/9  ──── ⎥\n",
              "⎢                          15  ⎥\n",
              "⎢                              ⎥\n",
              "⎢              41          12  ⎥\n",
              "⎢ 1/5   -2/5   ──   -2/5   ──  ⎥\n",
              "⎢              25          25  ⎥\n",
              "⎢                              ⎥\n",
              "⎢              14              ⎥\n",
              "⎢ 4/9   -2/9   ──   13/9  -2/15⎥\n",
              "⎢              15              ⎥\n",
              "⎢                              ⎥\n",
              "⎢              12          34  ⎥\n",
              "⎢-4/15  8/15   ──   8/15   ──  ⎥\n",
              "⎣              25          25  ⎦"
            ],
            "text/latex": "$\\displaystyle \\left[\\begin{matrix}\\frac{13}{9} & - \\frac{2}{9} & \\frac{1}{3} & \\frac{4}{9} & \\frac{2}{3}\\\\- \\frac{2}{9} & \\frac{10}{9} & \\frac{2}{15} & - \\frac{2}{9} & - \\frac{11}{15}\\\\\\frac{1}{5} & - \\frac{2}{5} & \\frac{41}{25} & - \\frac{2}{5} & \\frac{12}{25}\\\\\\frac{4}{9} & - \\frac{2}{9} & \\frac{14}{15} & \\frac{13}{9} & - \\frac{2}{15}\\\\- \\frac{4}{15} & \\frac{8}{15} & \\frac{12}{25} & \\frac{8}{15} & \\frac{34}{25}\\end{matrix}\\right]$"
          },
          "metadata": {},
          "execution_count": 153
        }
      ],
      "source": [
        "M=Matrix([[Rational(13,9),-Rational(2,9),Rational(1,3),Rational(4,9),Rational(2,3)],\n",
        "          [-Rational(2,9),Rational(10,9),Rational(2,15),-Rational(2,9),-Rational(11,15)],\n",
        "          [Rational(1,5),-Rational(2,5),Rational(41,25),-Rational(2,5),Rational(12,25)],\n",
        "          [Rational(4,9),-Rational(2,9),Rational(14,15),Rational(13,9),-Rational(2,15)],\n",
        "          [-Rational(4,15),Rational(8,15),Rational(12,25),Rational(8,15),Rational(34,25)]])\n",
        "M"
      ]
    },
    {
      "cell_type": "markdown",
      "metadata": {
        "deletable": true,
        "editable": true,
        "id": "C18Ji3H3vZ0r"
      },
      "source": [
        "Метод `M.jordan_form()` возвращает пару матриц, матрицу преобразования $P$ и собственно жорданову форму $J$: $M = P J P^{-1}$."
      ]
    },
    {
      "cell_type": "code",
      "execution_count": 154,
      "metadata": {
        "deletable": true,
        "editable": true,
        "colab": {
          "base_uri": "https://localhost:8080/",
          "height": 0
        },
        "id": "GJX46y3WvZ0r",
        "outputId": "5568d874-15e7-4ef6-bf0d-8cbd78d379da"
      },
      "outputs": [
        {
          "output_type": "execute_result",
          "data": {
            "text/plain": [
              "⎡1  0  0    0      0  ⎤\n",
              "⎢                     ⎥\n",
              "⎢0  2  1    0      0  ⎥\n",
              "⎢                     ⎥\n",
              "⎢0  0  2    0      0  ⎥\n",
              "⎢                     ⎥\n",
              "⎢0  0  0  1 - ⅈ    0  ⎥\n",
              "⎢                     ⎥\n",
              "⎣0  0  0    0    1 + ⅈ⎦"
            ],
            "text/latex": "$\\displaystyle \\left[\\begin{matrix}1 & 0 & 0 & 0 & 0\\\\0 & 2 & 1 & 0 & 0\\\\0 & 0 & 2 & 0 & 0\\\\0 & 0 & 0 & 1 - i & 0\\\\0 & 0 & 0 & 0 & 1 + i\\end{matrix}\\right]$"
          },
          "metadata": {},
          "execution_count": 154
        }
      ],
      "source": [
        "P,J=M.jordan_form()\n",
        "J"
      ]
    },
    {
      "cell_type": "code",
      "execution_count": 155,
      "metadata": {
        "deletable": true,
        "editable": true,
        "colab": {
          "base_uri": "https://localhost:8080/",
          "height": 0
        },
        "id": "_47Zm-65vZ0r",
        "outputId": "218b9b31-b7c5-4943-bba4-ad24a2383082"
      },
      "outputs": [
        {
          "output_type": "execute_result",
          "data": {
            "text/plain": [
              "⎡                5⋅ⅈ   -5⋅ⅈ ⎤\n",
              "⎢-2  10/9   0    ───   ─────⎥\n",
              "⎢                 12     12 ⎥\n",
              "⎢                           ⎥\n",
              "⎢               -5⋅ⅈ    5⋅ⅈ ⎥\n",
              "⎢-2  -5/9   0   ─────   ─── ⎥\n",
              "⎢                 6      6  ⎥\n",
              "⎢                           ⎥\n",
              "⎢0    0    4/3  -3/4   -3/4 ⎥\n",
              "⎢                           ⎥\n",
              "⎢               -5⋅ⅈ    5⋅ⅈ ⎥\n",
              "⎢1   10/9   0   ─────   ─── ⎥\n",
              "⎢                 6      6  ⎥\n",
              "⎢                           ⎥\n",
              "⎣0    0     1     1      1  ⎦"
            ],
            "text/latex": "$\\displaystyle \\left[\\begin{matrix}-2 & \\frac{10}{9} & 0 & \\frac{5 i}{12} & - \\frac{5 i}{12}\\\\-2 & - \\frac{5}{9} & 0 & - \\frac{5 i}{6} & \\frac{5 i}{6}\\\\0 & 0 & \\frac{4}{3} & - \\frac{3}{4} & - \\frac{3}{4}\\\\1 & \\frac{10}{9} & 0 & - \\frac{5 i}{6} & \\frac{5 i}{6}\\\\0 & 0 & 1 & 1 & 1\\end{matrix}\\right]$"
          },
          "metadata": {},
          "execution_count": 155
        }
      ],
      "source": [
        "P=simplify(P)\n",
        "P"
      ]
    },
    {
      "cell_type": "markdown",
      "metadata": {
        "deletable": true,
        "editable": true,
        "id": "JYsfPhXcvZ0r"
      },
      "source": [
        "Проверим."
      ]
    },
    {
      "cell_type": "code",
      "execution_count": 156,
      "metadata": {
        "deletable": true,
        "editable": true,
        "colab": {
          "base_uri": "https://localhost:8080/",
          "height": 0
        },
        "id": "FDsLdnQ3vZ0r",
        "outputId": "48f61763-b1ee-4882-c017-a948d93a58f1"
      },
      "outputs": [
        {
          "output_type": "execute_result",
          "data": {
            "text/plain": [
              "⎡0  0  0  0  0⎤\n",
              "⎢             ⎥\n",
              "⎢0  0  0  0  0⎥\n",
              "⎢             ⎥\n",
              "⎢0  0  0  0  0⎥\n",
              "⎢             ⎥\n",
              "⎢0  0  0  0  0⎥\n",
              "⎢             ⎥\n",
              "⎣0  0  0  0  0⎦"
            ],
            "text/latex": "$\\displaystyle \\left[\\begin{matrix}0 & 0 & 0 & 0 & 0\\\\0 & 0 & 0 & 0 & 0\\\\0 & 0 & 0 & 0 & 0\\\\0 & 0 & 0 & 0 & 0\\\\0 & 0 & 0 & 0 & 0\\end{matrix}\\right]$"
          },
          "metadata": {},
          "execution_count": 156
        }
      ],
      "source": [
        "Z=P*J*P**(-1)-M\n",
        "simplify(Z)"
      ]
    },
    {
      "cell_type": "markdown",
      "metadata": {
        "deletable": true,
        "editable": true,
        "id": "6M62AHZZvZ0s"
      },
      "source": [
        "## Графики\n",
        "\n",
        "`SymPy` использует `matplotlib`. Однако он распределяет точки по $x$ адаптивно, а не равномерно."
      ]
    },
    {
      "cell_type": "code",
      "execution_count": 157,
      "metadata": {
        "collapsed": true,
        "deletable": true,
        "editable": true,
        "id": "2AxMIaYcvZ0s"
      },
      "outputs": [],
      "source": [
        "%matplotlib inline"
      ]
    },
    {
      "cell_type": "markdown",
      "metadata": {
        "deletable": true,
        "editable": true,
        "id": "X-SpFU2ivZ0s"
      },
      "source": [
        "Одна функция."
      ]
    },
    {
      "cell_type": "code",
      "execution_count": 158,
      "metadata": {
        "deletable": true,
        "editable": true,
        "colab": {
          "base_uri": "https://localhost:8080/",
          "height": 314
        },
        "id": "9Zfd5j0cvZ0s",
        "outputId": "25e7e3c6-31e8-4abf-8caf-bdab3eb3b264"
      },
      "outputs": [
        {
          "output_type": "display_data",
          "data": {
            "text/plain": [
              "<Figure size 432x288 with 1 Axes>"
            ],
            "image/png": "[encoded data removed]"
          },
          "metadata": {
            "needs_background": "light"
          }
        },
        {
          "output_type": "execute_result",
          "data": {
            "text/plain": [
              "<sympy.plotting.plot.Plot at 0x7f06cf397730>"
            ]
          },
          "metadata": {},
          "execution_count": 158
        }
      ],
      "source": [
        "plot(sin(x)/x,(x,-10,10))"
      ]
    },
    {
      "cell_type": "markdown",
      "metadata": {
        "deletable": true,
        "editable": true,
        "id": "2njyNx2cvZ0s"
      },
      "source": [
        "Несколько функций."
      ]
    },
    {
      "cell_type": "code",
      "execution_count": 159,
      "metadata": {
        "deletable": true,
        "editable": true,
        "colab": {
          "base_uri": "https://localhost:8080/",
          "height": 313
        },
        "id": "ETcy9t2evZ0s",
        "outputId": "96094f57-5ce9-4346-83fb-da7f5e94e213"
      },
      "outputs": [
        {
          "output_type": "display_data",
          "data": {
            "text/plain": [
              "<Figure size 432x288 with 1 Axes>"
            ],
            "image/png": "[encoded data removed]"
          },
          "metadata": {
            "needs_background": "light"
          }
        },
        {
          "output_type": "execute_result",
          "data": {
            "text/plain": [
              "<sympy.plotting.plot.Plot at 0x7f06cefd1700>"
            ]
          },
          "metadata": {},
          "execution_count": 159
        }
      ],
      "source": [
        "plot(x,x**2,x**3,(x,0,2))"
      ]
    },
    {
      "cell_type": "markdown",
      "metadata": {
        "deletable": true,
        "editable": true,
        "id": "G8luXguCvZ0s"
      },
      "source": [
        "Другие функции надо импортировать из пакета `sympy.plotting`."
      ]
    },
    {
      "cell_type": "code",
      "execution_count": 160,
      "metadata": {
        "collapsed": true,
        "deletable": true,
        "editable": true,
        "id": "nR1LwHSPvZ0t"
      },
      "outputs": [],
      "source": [
        "from sympy.plotting import (plot_parametric,plot_implicit,\n",
        "                            plot3d,plot3d_parametric_line,\n",
        "                            plot3d_parametric_surface)"
      ]
    },
    {
      "cell_type": "markdown",
      "metadata": {
        "deletable": true,
        "editable": true,
        "id": "hWSVrl2FvZ0t"
      },
      "source": [
        "Параметрический график - фигура Лиссажу."
      ]
    },
    {
      "cell_type": "code",
      "execution_count": 161,
      "metadata": {
        "deletable": true,
        "editable": true,
        "colab": {
          "base_uri": "https://localhost:8080/",
          "height": 314
        },
        "id": "j5U-CUblvZ0t",
        "outputId": "e6840e9a-2e0e-43b8-aa23-98b954a91485"
      },
      "outputs": [
        {
          "output_type": "display_data",
          "data": {
            "text/plain": [
              "<Figure size 432x288 with 1 Axes>"
            ],
            "image/png": "[encoded data removed]"
          },
          "metadata": {
            "needs_background": "light"
          }
        },
        {
          "output_type": "execute_result",
          "data": {
            "text/plain": [
              "<sympy.plotting.plot.Plot at 0x7f06cf0a6d60>"
            ]
          },
          "metadata": {},
          "execution_count": 161
        }
      ],
      "source": [
        "t=Symbol('t')\n",
        "plot_parametric(sin(2*t),cos(3*t),(t,0,2*pi),\n",
        "                title='Lissajous',xlabel='x',ylabel='y')"
      ]
    },
    {
      "cell_type": "markdown",
      "metadata": {
        "deletable": true,
        "editable": true,
        "id": "MZI_QKbWvZ0t"
      },
      "source": [
        "Неявный график - окружность."
      ]
    },
    {
      "cell_type": "code",
      "execution_count": 162,
      "metadata": {
        "deletable": true,
        "editable": true,
        "colab": {
          "base_uri": "https://localhost:8080/",
          "height": 314
        },
        "id": "2LHiV9U6vZ0t",
        "outputId": "bc4e7f2c-8d5c-4bcf-bd92-394d8f17c837"
      },
      "outputs": [
        {
          "output_type": "display_data",
          "data": {
            "text/plain": [
              "<Figure size 432x288 with 1 Axes>"
            ],
            "image/png": "[encoded data removed]"
          },
          "metadata": {
            "needs_background": "light"
          }
        },
        {
          "output_type": "execute_result",
          "data": {
            "text/plain": [
              "<sympy.plotting.plot.Plot at 0x7f06cce95070>"
            ]
          },
          "metadata": {},
          "execution_count": 162
        }
      ],
      "source": [
        "plot_implicit(x**2+y**2-1,(x,-1,1),(y,-1,1))"
      ]
    },
    {
      "cell_type": "markdown",
      "metadata": {
        "deletable": true,
        "editable": true,
        "id": "zBD2PP2_vZ0t"
      },
      "source": [
        "Поверхность. Если она строится не `inline`, а в отдельном окне, то её можно вертеть мышкой."
      ]
    },
    {
      "cell_type": "code",
      "execution_count": 163,
      "metadata": {
        "deletable": true,
        "editable": true,
        "colab": {
          "base_uri": "https://localhost:8080/",
          "height": 314
        },
        "id": "eXAhkGDdvZ0t",
        "outputId": "55694917-92cb-40a7-db8d-dff08937450d"
      },
      "outputs": [
        {
          "output_type": "display_data",
          "data": {
            "text/plain": [
              "<Figure size 432x288 with 1 Axes>"
            ],
            "image/png": "[encoded data removed]"
          },
          "metadata": {
            "needs_background": "light"
          }
        },
        {
          "output_type": "execute_result",
          "data": {
            "text/plain": [
              "<sympy.plotting.plot.Plot at 0x7f06cce25a90>"
            ]
          },
          "metadata": {},
          "execution_count": 163
        }
      ],
      "source": [
        "plot3d(x*y,(x,-2,2),(y,-2,2))"
      ]
    },
    {
      "cell_type": "markdown",
      "metadata": {
        "deletable": true,
        "editable": true,
        "id": "7bf3XKvdvZ0t"
      },
      "source": [
        "Несколько поверхностей."
      ]
    },
    {
      "cell_type": "code",
      "execution_count": 164,
      "metadata": {
        "deletable": true,
        "editable": true,
        "colab": {
          "base_uri": "https://localhost:8080/",
          "height": 314
        },
        "id": "X_3GdbwYvZ0u",
        "outputId": "011269a1-4608-4d25-c755-bcdd40f01469"
      },
      "outputs": [
        {
          "output_type": "display_data",
          "data": {
            "text/plain": [
              "<Figure size 432x288 with 1 Axes>"
            ],
            "image/png": "[encoded data removed]"
          },
          "metadata": {
            "needs_background": "light"
          }
        },
        {
          "output_type": "execute_result",
          "data": {
            "text/plain": [
              "<sympy.plotting.plot.Plot at 0x7f06cc99d250>"
            ]
          },
          "metadata": {},
          "execution_count": 164
        }
      ],
      "source": [
        "plot3d(x**2+y**2,x*y,(x,-2,2),(y,-2,2))"
      ]
    },
    {
      "cell_type": "markdown",
      "metadata": {
        "deletable": true,
        "editable": true,
        "id": "gcYO4mP3vZ0u"
      },
      "source": [
        "Параметрическая пространственная линия - спираль."
      ]
    },
    {
      "cell_type": "code",
      "execution_count": 165,
      "metadata": {
        "deletable": true,
        "editable": true,
        "colab": {
          "base_uri": "https://localhost:8080/",
          "height": 314
        },
        "id": "WJFnrpjtvZ0u",
        "outputId": "7b114600-3172-4688-ae88-4f91aa4a79eb"
      },
      "outputs": [
        {
          "output_type": "display_data",
          "data": {
            "text/plain": [
              "<Figure size 432x288 with 1 Axes>"
            ],
            "image/png": "[encoded data removed]"
          },
          "metadata": {
            "needs_background": "light"
          }
        },
        {
          "output_type": "execute_result",
          "data": {
            "text/plain": [
              "<sympy.plotting.plot.Plot at 0x7f06ccae63a0>"
            ]
          },
          "metadata": {},
          "execution_count": 165
        }
      ],
      "source": [
        "a=0.1\n",
        "plot3d_parametric_line(cos(t),sin(t),a*t,(t,0,4*pi))"
      ]
    },
    {
      "cell_type": "markdown",
      "metadata": {
        "deletable": true,
        "editable": true,
        "id": "zPdSw0QUvZ0u"
      },
      "source": [
        "Параметрическая поверхность - тор."
      ]
    },
    {
      "cell_type": "code",
      "execution_count": 166,
      "metadata": {
        "deletable": true,
        "editable": true,
        "colab": {
          "base_uri": "https://localhost:8080/",
          "height": 314
        },
        "id": "RNy1YYLovZ0u",
        "outputId": "f79a687c-c876-424e-f05f-dbc7590b4d70"
      },
      "outputs": [
        {
          "output_type": "display_data",
          "data": {
            "text/plain": [
              "<Figure size 432x288 with 1 Axes>"
            ],
            "image/png": "[encoded data removed]"
          },
          "metadata": {
            "needs_background": "light"
          }
        },
        {
          "output_type": "execute_result",
          "data": {
            "text/plain": [
              "<sympy.plotting.plot.Plot at 0x7f06ccae6a00>"
            ]
          },
          "metadata": {},
          "execution_count": 166
        }
      ],
      "source": [
        "u,v=symbols('u v')\n",
        "a=0.4\n",
        "plot3d_parametric_surface((1+a*cos(u))*cos(v),\n",
        "                          (1+a*cos(u))*sin(v),a*sin(u),\n",
        "                          (u,0,2*pi),(v,0,2*pi))"
      ]
    }
  ],
  "metadata": {
    "kernelspec": {
      "display_name": "Python 3",
      "language": "python",
      "name": "python3"
    },
    "language_info": {
      "codemirror_mode": {
        "name": "ipython",
        "version": 3
      },
      "file_extension": ".py",
      "mimetype": "text/x-python",
      "name": "python",
      "nbconvert_exporter": "python",
      "pygments_lexer": "ipython3",
      "version": "3.6.1"
    },
    "colab": {
      "provenance": [],
      "collapsed_sections": [
        "DVqDokvNvZ0C",
        "__uJrBPRvZ0L",
        "7BkNVY4svZ0S",
        "olVh4pUMvZ0W",
        "BYzg_giXvZ0b",
        "t4qKH9B3vZ0d",
        "0SVXnREmvZ0f",
        "QAl36duNvZ0g",
        "hXPaBjOYvZ0h",
        "X2HseuCfvZ0j",
        "pxfU3YYFvZ0o",
        "eTQ_cFURvZ0r",
        "6M62AHZZvZ0s"
      ],
      "toc_visible": true,
      "include_colab_link": true
    }
  },
  "nbformat": 4,
  "nbformat_minor": 0
}